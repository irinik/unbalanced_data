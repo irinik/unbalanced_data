{
 "cells": [
  {
   "cell_type": "markdown",
   "metadata": {
    "toc": true
   },
   "source": [
    "<h1>Содержание<span class=\"tocSkip\"></span></h1>\n",
    "<div class=\"toc\"><ul class=\"toc-item\"><li><span><a href=\"#Подготовка-данных\" data-toc-modified-id=\"Подготовка-данных-1\"><span class=\"toc-item-num\">1&nbsp;&nbsp;</span>Подготовка данных</a></span></li><li><span><a href=\"#Исследование-задачи\" data-toc-modified-id=\"Исследование-задачи-2\"><span class=\"toc-item-num\">2&nbsp;&nbsp;</span>Исследование задачи</a></span></li><li><span><a href=\"#Борьба-с-дисбалансом\" data-toc-modified-id=\"Борьба-с-дисбалансом-3\"><span class=\"toc-item-num\">3&nbsp;&nbsp;</span>Борьба с дисбалансом</a></span></li><li><span><a href=\"#Тестирование-модели\" data-toc-modified-id=\"Тестирование-модели-4\"><span class=\"toc-item-num\">4&nbsp;&nbsp;</span>Тестирование модели</a></span></li><li><span><a href=\"#Чек-лист-готовности-проекта\" data-toc-modified-id=\"Чек-лист-готовности-проекта-5\"><span class=\"toc-item-num\">5&nbsp;&nbsp;</span>Чек-лист готовности проекта</a></span></li><li><span><a href=\"#Общий-вывод-по-проекту\" data-toc-modified-id=\"Общий-вывод-по-проекту-6\"><span class=\"toc-item-num\">6&nbsp;&nbsp;</span><b>Общий вывод по проекту</b></a></span></li><li><span><a href=\"#Общий-вывод-по-проекту-V2\" data-toc-modified-id=\"Общий-вывод-по-проекту-V2-7\"><span class=\"toc-item-num\">7&nbsp;&nbsp;</span><b>Общий вывод по проекту V2</b></a></span></li></ul></div>"
   ]
  },
  {
   "cell_type": "markdown",
   "metadata": {},
   "source": [
    "# Отток клиентов"
   ]
  },
  {
   "cell_type": "markdown",
   "metadata": {},
   "source": [
    "Из «Бета-Банка» стали уходить клиенты. Каждый месяц. Немного, но заметно. Банковские маркетологи посчитали: сохранять текущих клиентов дешевле, чем привлекать новых.\n",
    "\n",
    "Нужно спрогнозировать, уйдёт клиент из банка в ближайшее время или нет. Вам предоставлены исторические данные о поведении клиентов и расторжении договоров с банком. \n",
    "\n",
    "Постройте модель с предельно большим значением *F1*-меры. Чтобы сдать проект успешно, нужно довести метрику до 0.59. Проверьте *F1*-меру на тестовой выборке самостоятельно.\n",
    "\n",
    "Дополнительно измеряйте *AUC-ROC*, сравнивайте её значение с *F1*-мерой.\n",
    "\n",
    "Источник данных: [https://www.kaggle.com/barelydedicated/bank-customer-churn-modeling](https://www.kaggle.com/barelydedicated/bank-customer-churn-modeling)"
   ]
  },
  {
   "cell_type": "markdown",
   "metadata": {},
   "source": [
    "<div style=\"background-color:#e0ffff; color:#191970; padding:10px\">\n",
    "\n",
    "# Информация по проекту\n",
    "\n",
    "**Цель проекта:**\n",
    "На основе имеющихся данных о клиентах банка, которые расторгли договор обслуживания, построить систему, способную спрогнозировать, уйдет ли клиент из банка в ближайшее время.\n",
    "\n",
    "***Опиание данных:***\n",
    "\n",
    "Имеются следующие данные:    \n",
    "***RowNumber*** — *индекс строки в данных*     \n",
    "***CustomerId*** — *уникальный идентификатор клиента*     \n",
    "***Surname*** — *фамилия*     \n",
    "***CreditScore*** — *кредитный рейтинг*     \n",
    "***Geography*** — *страна проживания*    \n",
    "***Gender*** — *пол*     \n",
    "***Age*** — *возраст*    \n",
    "***Tenure*** — *сколько лет человек является клиентом банка*     \n",
    "***Balance*** — *баланс на счёте*     \n",
    "***NumOfProducts*** — *количество продуктов банка, используемых клиентом*    \n",
    "***HasCrCard*** — *наличие кредитной карты*    \n",
    "***IsActiveMember*** — *активность клиента*      \n",
    "***EstimatedSalary*** — *предполагаемая зарплата.*     \n",
    "\n",
    "***План действий:***\n",
    " - открыть и изучить данные\n",
    " - исследовать баланс классов\n",
    " - обучить модели без учета дисбаланса классов\n",
    " - применить разные методы работы с дисбалансом классов, оценить результаты\n",
    " - провести финальное тестирование\n",
    " - сделать выводы\n",
    "<div>"
   ]
  },
  {
   "cell_type": "markdown",
   "metadata": {},
   "source": [
    "## Подготовка данных"
   ]
  },
  {
   "cell_type": "code",
   "execution_count": 1,
   "metadata": {},
   "outputs": [
    {
     "name": "stdout",
     "output_type": "stream",
     "text": [
      "Requirement already satisfied: imblearn in /home/serenity/anaconda3/lib/python3.9/site-packages (0.0)\n",
      "Requirement already satisfied: imbalanced-learn in /home/serenity/anaconda3/lib/python3.9/site-packages (from imblearn) (0.10.1)\n",
      "Requirement already satisfied: numpy>=1.17.3 in /home/serenity/anaconda3/lib/python3.9/site-packages (from imbalanced-learn->imblearn) (1.21.5)\n",
      "Requirement already satisfied: threadpoolctl>=2.0.0 in /home/serenity/anaconda3/lib/python3.9/site-packages (from imbalanced-learn->imblearn) (2.2.0)\n",
      "Requirement already satisfied: scipy>=1.3.2 in /home/serenity/anaconda3/lib/python3.9/site-packages (from imbalanced-learn->imblearn) (1.9.1)\n",
      "Requirement already satisfied: scikit-learn>=1.0.2 in /home/serenity/anaconda3/lib/python3.9/site-packages (from imbalanced-learn->imblearn) (1.0.2)\n",
      "Requirement already satisfied: joblib>=1.1.1 in /home/serenity/anaconda3/lib/python3.9/site-packages (from imbalanced-learn->imblearn) (1.2.0)\n",
      "Note: you may need to restart the kernel to use updated packages.\n"
     ]
    }
   ],
   "source": [
    "pip install imblearn"
   ]
  },
  {
   "cell_type": "code",
   "execution_count": 2,
   "metadata": {},
   "outputs": [
    {
     "name": "stdout",
     "output_type": "stream",
     "text": [
      "Requirement already satisfied: phik in /home/serenity/anaconda3/lib/python3.9/site-packages (0.12.3)\n",
      "Requirement already satisfied: joblib>=0.14.1 in /home/serenity/anaconda3/lib/python3.9/site-packages (from phik) (1.2.0)\n",
      "Requirement already satisfied: matplotlib>=2.2.3 in /home/serenity/anaconda3/lib/python3.9/site-packages (from phik) (3.5.2)\n",
      "Requirement already satisfied: scipy>=1.5.2 in /home/serenity/anaconda3/lib/python3.9/site-packages (from phik) (1.9.1)\n",
      "Requirement already satisfied: numpy>=1.18.0 in /home/serenity/anaconda3/lib/python3.9/site-packages (from phik) (1.21.5)\n",
      "Requirement already satisfied: pandas>=0.25.1 in /home/serenity/anaconda3/lib/python3.9/site-packages (from phik) (1.4.4)\n",
      "Requirement already satisfied: fonttools>=4.22.0 in /home/serenity/anaconda3/lib/python3.9/site-packages (from matplotlib>=2.2.3->phik) (4.25.0)\n",
      "Requirement already satisfied: cycler>=0.10 in /home/serenity/anaconda3/lib/python3.9/site-packages (from matplotlib>=2.2.3->phik) (0.11.0)\n",
      "Requirement already satisfied: python-dateutil>=2.7 in /home/serenity/anaconda3/lib/python3.9/site-packages (from matplotlib>=2.2.3->phik) (2.8.2)\n",
      "Requirement already satisfied: kiwisolver>=1.0.1 in /home/serenity/anaconda3/lib/python3.9/site-packages (from matplotlib>=2.2.3->phik) (1.4.2)\n",
      "Requirement already satisfied: packaging>=20.0 in /home/serenity/anaconda3/lib/python3.9/site-packages (from matplotlib>=2.2.3->phik) (21.3)\n",
      "Requirement already satisfied: pillow>=6.2.0 in /home/serenity/anaconda3/lib/python3.9/site-packages (from matplotlib>=2.2.3->phik) (9.2.0)\n",
      "Requirement already satisfied: pyparsing>=2.2.1 in /home/serenity/anaconda3/lib/python3.9/site-packages (from matplotlib>=2.2.3->phik) (3.0.9)\n",
      "Requirement already satisfied: pytz>=2020.1 in /home/serenity/anaconda3/lib/python3.9/site-packages (from pandas>=0.25.1->phik) (2022.1)\n",
      "Requirement already satisfied: six>=1.5 in /home/serenity/anaconda3/lib/python3.9/site-packages (from python-dateutil>=2.7->matplotlib>=2.2.3->phik) (1.16.0)\n",
      "Note: you may need to restart the kernel to use updated packages.\n"
     ]
    }
   ],
   "source": [
    "pip install phik"
   ]
  },
  {
   "cell_type": "code",
   "execution_count": 3,
   "metadata": {},
   "outputs": [],
   "source": [
    "import pandas as pd\n",
    "import numpy as np\n",
    "import matplotlib.pyplot as plt\n",
    "from sklearn.model_selection import train_test_split\n",
    "from sklearn.preprocessing import StandardScaler\n",
    "from sklearn.linear_model import LogisticRegression\n",
    "from sklearn.ensemble import RandomForestClassifier\n",
    "from sklearn.metrics import f1_score, recall_score, precision_score, accuracy_score, confusion_matrix\n",
    "from sklearn.metrics import roc_curve, roc_auc_score, precision_recall_curve\n",
    "from sklearn.utils import shuffle\n",
    "from imblearn.over_sampling import SMOTE\n",
    "import phik"
   ]
  },
  {
   "cell_type": "code",
   "execution_count": 4,
   "metadata": {},
   "outputs": [],
   "source": [
    "pd.options.mode.chained_assignment = None"
   ]
  },
  {
   "cell_type": "code",
   "execution_count": 5,
   "metadata": {},
   "outputs": [],
   "source": [
    "df = pd.read_csv('/home/serenity/short/teacher/Churn.csv')"
   ]
  },
  {
   "cell_type": "code",
   "execution_count": 6,
   "metadata": {},
   "outputs": [
    {
     "name": "stdout",
     "output_type": "stream",
     "text": [
      "<class 'pandas.core.frame.DataFrame'>\n",
      "RangeIndex: 10000 entries, 0 to 9999\n",
      "Data columns (total 14 columns):\n",
      " #   Column           Non-Null Count  Dtype  \n",
      "---  ------           --------------  -----  \n",
      " 0   RowNumber        10000 non-null  int64  \n",
      " 1   CustomerId       10000 non-null  int64  \n",
      " 2   Surname          10000 non-null  object \n",
      " 3   CreditScore      10000 non-null  int64  \n",
      " 4   Geography        10000 non-null  object \n",
      " 5   Gender           10000 non-null  object \n",
      " 6   Age              10000 non-null  int64  \n",
      " 7   Tenure           9091 non-null   float64\n",
      " 8   Balance          10000 non-null  float64\n",
      " 9   NumOfProducts    10000 non-null  int64  \n",
      " 10  HasCrCard        10000 non-null  int64  \n",
      " 11  IsActiveMember   10000 non-null  int64  \n",
      " 12  EstimatedSalary  10000 non-null  float64\n",
      " 13  Exited           10000 non-null  int64  \n",
      "dtypes: float64(3), int64(8), object(3)\n",
      "memory usage: 1.1+ MB\n"
     ]
    }
   ],
   "source": [
    "df.info()"
   ]
  },
  {
   "cell_type": "code",
   "execution_count": 7,
   "metadata": {},
   "outputs": [
    {
     "data": {
      "text/plain": [
       "1.0     952\n",
       "2.0     950\n",
       "8.0     933\n",
       "3.0     928\n",
       "5.0     927\n",
       "7.0     925\n",
       "4.0     885\n",
       "9.0     882\n",
       "6.0     881\n",
       "10.0    446\n",
       "0.0     382\n",
       "Name: Tenure, dtype: int64"
      ]
     },
     "execution_count": 7,
     "metadata": {},
     "output_type": "execute_result"
    }
   ],
   "source": [
    "df['Tenure'].value_counts()"
   ]
  },
  {
   "cell_type": "markdown",
   "metadata": {},
   "source": [
    "<div style=\"background-color:#e0ffff; color:#191970; padding:10px\">\n",
    " \n",
    "# Комментарий\n",
    "\n",
    "1. Просмотрела основную информацию о выборке - в признаке 'Tenure' (сколько лет человек является клиентом банка) присутствуют значения NAN.       \n",
    "2. Просмотрела данные о количестве клиентов по годам. Получается, если добавить все строки с  Nan в какой-то один год, например 0 - может получится искажение данных, которое повлияет на обучение и работу моделей. \n",
    "\n",
    "<div>"
   ]
  },
  {
   "cell_type": "code",
   "execution_count": 8,
   "metadata": {},
   "outputs": [],
   "source": [
    "df['Tenure'] = df['Tenure'].fillna(-1)"
   ]
  },
  {
   "cell_type": "code",
   "execution_count": 9,
   "metadata": {},
   "outputs": [
    {
     "name": "stdout",
     "output_type": "stream",
     "text": [
      "<class 'pandas.core.frame.DataFrame'>\n",
      "RangeIndex: 10000 entries, 0 to 9999\n",
      "Data columns (total 14 columns):\n",
      " #   Column           Non-Null Count  Dtype  \n",
      "---  ------           --------------  -----  \n",
      " 0   RowNumber        10000 non-null  int64  \n",
      " 1   CustomerId       10000 non-null  int64  \n",
      " 2   Surname          10000 non-null  object \n",
      " 3   CreditScore      10000 non-null  int64  \n",
      " 4   Geography        10000 non-null  object \n",
      " 5   Gender           10000 non-null  object \n",
      " 6   Age              10000 non-null  int64  \n",
      " 7   Tenure           10000 non-null  float64\n",
      " 8   Balance          10000 non-null  float64\n",
      " 9   NumOfProducts    10000 non-null  int64  \n",
      " 10  HasCrCard        10000 non-null  int64  \n",
      " 11  IsActiveMember   10000 non-null  int64  \n",
      " 12  EstimatedSalary  10000 non-null  float64\n",
      " 13  Exited           10000 non-null  int64  \n",
      "dtypes: float64(3), int64(8), object(3)\n",
      "memory usage: 1.1+ MB\n"
     ]
    }
   ],
   "source": [
    "df.info()"
   ]
  },
  {
   "cell_type": "code",
   "execution_count": 10,
   "metadata": {},
   "outputs": [
    {
     "data": {
      "text/html": [
       "<div>\n",
       "<style scoped>\n",
       "    .dataframe tbody tr th:only-of-type {\n",
       "        vertical-align: middle;\n",
       "    }\n",
       "\n",
       "    .dataframe tbody tr th {\n",
       "        vertical-align: top;\n",
       "    }\n",
       "\n",
       "    .dataframe thead th {\n",
       "        text-align: right;\n",
       "    }\n",
       "</style>\n",
       "<table border=\"1\" class=\"dataframe\">\n",
       "  <thead>\n",
       "    <tr style=\"text-align: right;\">\n",
       "      <th></th>\n",
       "      <th>RowNumber</th>\n",
       "      <th>CustomerId</th>\n",
       "      <th>Surname</th>\n",
       "      <th>CreditScore</th>\n",
       "      <th>Geography</th>\n",
       "      <th>Gender</th>\n",
       "      <th>Age</th>\n",
       "      <th>Tenure</th>\n",
       "      <th>Balance</th>\n",
       "      <th>NumOfProducts</th>\n",
       "      <th>HasCrCard</th>\n",
       "      <th>IsActiveMember</th>\n",
       "      <th>EstimatedSalary</th>\n",
       "      <th>Exited</th>\n",
       "    </tr>\n",
       "  </thead>\n",
       "  <tbody>\n",
       "    <tr>\n",
       "      <th>0</th>\n",
       "      <td>1</td>\n",
       "      <td>15634602</td>\n",
       "      <td>Hargrave</td>\n",
       "      <td>619</td>\n",
       "      <td>France</td>\n",
       "      <td>Female</td>\n",
       "      <td>42</td>\n",
       "      <td>2.0</td>\n",
       "      <td>0.00</td>\n",
       "      <td>1</td>\n",
       "      <td>1</td>\n",
       "      <td>1</td>\n",
       "      <td>101348.88</td>\n",
       "      <td>1</td>\n",
       "    </tr>\n",
       "    <tr>\n",
       "      <th>1</th>\n",
       "      <td>2</td>\n",
       "      <td>15647311</td>\n",
       "      <td>Hill</td>\n",
       "      <td>608</td>\n",
       "      <td>Spain</td>\n",
       "      <td>Female</td>\n",
       "      <td>41</td>\n",
       "      <td>1.0</td>\n",
       "      <td>83807.86</td>\n",
       "      <td>1</td>\n",
       "      <td>0</td>\n",
       "      <td>1</td>\n",
       "      <td>112542.58</td>\n",
       "      <td>0</td>\n",
       "    </tr>\n",
       "    <tr>\n",
       "      <th>2</th>\n",
       "      <td>3</td>\n",
       "      <td>15619304</td>\n",
       "      <td>Onio</td>\n",
       "      <td>502</td>\n",
       "      <td>France</td>\n",
       "      <td>Female</td>\n",
       "      <td>42</td>\n",
       "      <td>8.0</td>\n",
       "      <td>159660.80</td>\n",
       "      <td>3</td>\n",
       "      <td>1</td>\n",
       "      <td>0</td>\n",
       "      <td>113931.57</td>\n",
       "      <td>1</td>\n",
       "    </tr>\n",
       "    <tr>\n",
       "      <th>3</th>\n",
       "      <td>4</td>\n",
       "      <td>15701354</td>\n",
       "      <td>Boni</td>\n",
       "      <td>699</td>\n",
       "      <td>France</td>\n",
       "      <td>Female</td>\n",
       "      <td>39</td>\n",
       "      <td>1.0</td>\n",
       "      <td>0.00</td>\n",
       "      <td>2</td>\n",
       "      <td>0</td>\n",
       "      <td>0</td>\n",
       "      <td>93826.63</td>\n",
       "      <td>0</td>\n",
       "    </tr>\n",
       "    <tr>\n",
       "      <th>4</th>\n",
       "      <td>5</td>\n",
       "      <td>15737888</td>\n",
       "      <td>Mitchell</td>\n",
       "      <td>850</td>\n",
       "      <td>Spain</td>\n",
       "      <td>Female</td>\n",
       "      <td>43</td>\n",
       "      <td>2.0</td>\n",
       "      <td>125510.82</td>\n",
       "      <td>1</td>\n",
       "      <td>1</td>\n",
       "      <td>1</td>\n",
       "      <td>79084.10</td>\n",
       "      <td>0</td>\n",
       "    </tr>\n",
       "  </tbody>\n",
       "</table>\n",
       "</div>"
      ],
      "text/plain": [
       "   RowNumber  CustomerId   Surname  CreditScore Geography  Gender  Age  \\\n",
       "0          1    15634602  Hargrave          619    France  Female   42   \n",
       "1          2    15647311      Hill          608     Spain  Female   41   \n",
       "2          3    15619304      Onio          502    France  Female   42   \n",
       "3          4    15701354      Boni          699    France  Female   39   \n",
       "4          5    15737888  Mitchell          850     Spain  Female   43   \n",
       "\n",
       "   Tenure    Balance  NumOfProducts  HasCrCard  IsActiveMember  \\\n",
       "0     2.0       0.00              1          1               1   \n",
       "1     1.0   83807.86              1          0               1   \n",
       "2     8.0  159660.80              3          1               0   \n",
       "3     1.0       0.00              2          0               0   \n",
       "4     2.0  125510.82              1          1               1   \n",
       "\n",
       "   EstimatedSalary  Exited  \n",
       "0        101348.88       1  \n",
       "1        112542.58       0  \n",
       "2        113931.57       1  \n",
       "3         93826.63       0  \n",
       "4         79084.10       0  "
      ]
     },
     "execution_count": 10,
     "metadata": {},
     "output_type": "execute_result"
    }
   ],
   "source": [
    "df.head()"
   ]
  },
  {
   "cell_type": "code",
   "execution_count": 11,
   "metadata": {
    "scrolled": true
   },
   "outputs": [],
   "source": [
    "df = df.drop(['RowNumber', 'CustomerId', 'Surname'], axis=1)"
   ]
  },
  {
   "cell_type": "code",
   "execution_count": 12,
   "metadata": {},
   "outputs": [
    {
     "data": {
      "text/plain": [
       "France     5014\n",
       "Germany    2509\n",
       "Spain      2477\n",
       "Name: Geography, dtype: int64"
      ]
     },
     "execution_count": 12,
     "metadata": {},
     "output_type": "execute_result"
    }
   ],
   "source": [
    "df['Geography'].value_counts()"
   ]
  },
  {
   "cell_type": "code",
   "execution_count": 13,
   "metadata": {},
   "outputs": [
    {
     "data": {
      "text/plain": [
       "Male      5457\n",
       "Female    4543\n",
       "Name: Gender, dtype: int64"
      ]
     },
     "execution_count": 13,
     "metadata": {},
     "output_type": "execute_result"
    }
   ],
   "source": [
    "df['Gender'].value_counts()"
   ]
  },
  {
   "cell_type": "code",
   "execution_count": 14,
   "metadata": {},
   "outputs": [],
   "source": [
    "geography_ohe = pd.get_dummies(df['Geography'], drop_first=True)\n",
    "df['Gender_men'] = pd.get_dummies(df['Gender'], drop_first=True)\n",
    "df = pd.concat([df, geography_ohe], axis=1)\n",
    "df = df.drop(['Gender', 'Geography'], axis=1)"
   ]
  },
  {
   "cell_type": "code",
   "execution_count": 15,
   "metadata": {},
   "outputs": [
    {
     "data": {
      "text/html": [
       "<div>\n",
       "<style scoped>\n",
       "    .dataframe tbody tr th:only-of-type {\n",
       "        vertical-align: middle;\n",
       "    }\n",
       "\n",
       "    .dataframe tbody tr th {\n",
       "        vertical-align: top;\n",
       "    }\n",
       "\n",
       "    .dataframe thead th {\n",
       "        text-align: right;\n",
       "    }\n",
       "</style>\n",
       "<table border=\"1\" class=\"dataframe\">\n",
       "  <thead>\n",
       "    <tr style=\"text-align: right;\">\n",
       "      <th></th>\n",
       "      <th>CreditScore</th>\n",
       "      <th>Age</th>\n",
       "      <th>Tenure</th>\n",
       "      <th>Balance</th>\n",
       "      <th>NumOfProducts</th>\n",
       "      <th>HasCrCard</th>\n",
       "      <th>IsActiveMember</th>\n",
       "      <th>EstimatedSalary</th>\n",
       "      <th>Exited</th>\n",
       "      <th>Gender_men</th>\n",
       "      <th>Germany</th>\n",
       "      <th>Spain</th>\n",
       "    </tr>\n",
       "  </thead>\n",
       "  <tbody>\n",
       "    <tr>\n",
       "      <th>0</th>\n",
       "      <td>619</td>\n",
       "      <td>42</td>\n",
       "      <td>2.0</td>\n",
       "      <td>0.00</td>\n",
       "      <td>1</td>\n",
       "      <td>1</td>\n",
       "      <td>1</td>\n",
       "      <td>101348.88</td>\n",
       "      <td>1</td>\n",
       "      <td>0</td>\n",
       "      <td>0</td>\n",
       "      <td>0</td>\n",
       "    </tr>\n",
       "    <tr>\n",
       "      <th>1</th>\n",
       "      <td>608</td>\n",
       "      <td>41</td>\n",
       "      <td>1.0</td>\n",
       "      <td>83807.86</td>\n",
       "      <td>1</td>\n",
       "      <td>0</td>\n",
       "      <td>1</td>\n",
       "      <td>112542.58</td>\n",
       "      <td>0</td>\n",
       "      <td>0</td>\n",
       "      <td>0</td>\n",
       "      <td>1</td>\n",
       "    </tr>\n",
       "    <tr>\n",
       "      <th>2</th>\n",
       "      <td>502</td>\n",
       "      <td>42</td>\n",
       "      <td>8.0</td>\n",
       "      <td>159660.80</td>\n",
       "      <td>3</td>\n",
       "      <td>1</td>\n",
       "      <td>0</td>\n",
       "      <td>113931.57</td>\n",
       "      <td>1</td>\n",
       "      <td>0</td>\n",
       "      <td>0</td>\n",
       "      <td>0</td>\n",
       "    </tr>\n",
       "    <tr>\n",
       "      <th>3</th>\n",
       "      <td>699</td>\n",
       "      <td>39</td>\n",
       "      <td>1.0</td>\n",
       "      <td>0.00</td>\n",
       "      <td>2</td>\n",
       "      <td>0</td>\n",
       "      <td>0</td>\n",
       "      <td>93826.63</td>\n",
       "      <td>0</td>\n",
       "      <td>0</td>\n",
       "      <td>0</td>\n",
       "      <td>0</td>\n",
       "    </tr>\n",
       "    <tr>\n",
       "      <th>4</th>\n",
       "      <td>850</td>\n",
       "      <td>43</td>\n",
       "      <td>2.0</td>\n",
       "      <td>125510.82</td>\n",
       "      <td>1</td>\n",
       "      <td>1</td>\n",
       "      <td>1</td>\n",
       "      <td>79084.10</td>\n",
       "      <td>0</td>\n",
       "      <td>0</td>\n",
       "      <td>0</td>\n",
       "      <td>1</td>\n",
       "    </tr>\n",
       "  </tbody>\n",
       "</table>\n",
       "</div>"
      ],
      "text/plain": [
       "   CreditScore  Age  Tenure    Balance  NumOfProducts  HasCrCard  \\\n",
       "0          619   42     2.0       0.00              1          1   \n",
       "1          608   41     1.0   83807.86              1          0   \n",
       "2          502   42     8.0  159660.80              3          1   \n",
       "3          699   39     1.0       0.00              2          0   \n",
       "4          850   43     2.0  125510.82              1          1   \n",
       "\n",
       "   IsActiveMember  EstimatedSalary  Exited  Gender_men  Germany  Spain  \n",
       "0               1        101348.88       1           0        0      0  \n",
       "1               1        112542.58       0           0        0      1  \n",
       "2               0        113931.57       1           0        0      0  \n",
       "3               0         93826.63       0           0        0      0  \n",
       "4               1         79084.10       0           0        0      1  "
      ]
     },
     "execution_count": 15,
     "metadata": {},
     "output_type": "execute_result"
    }
   ],
   "source": [
    "df.head()"
   ]
  },
  {
   "cell_type": "code",
   "execution_count": 16,
   "metadata": {},
   "outputs": [
    {
     "name": "stdout",
     "output_type": "stream",
     "text": [
      "interval columns not set, guessing: ['Age', 'Tenure', 'Balance', 'NumOfProducts', 'HasCrCard', 'IsActiveMember', 'EstimatedSalary', 'Exited', 'Gender_men', 'Germany', 'Spain']\n"
     ]
    },
    {
     "data": {
      "text/plain": [
       "Exited             1.000000\n",
       "NumOfProducts      0.565084\n",
       "Age                0.487524\n",
       "Germany            0.268297\n",
       "IsActiveMember     0.241939\n",
       "Balance            0.183365\n",
       "Gender_men         0.165422\n",
       "Spain              0.080682\n",
       "Tenure             0.023356\n",
       "HasCrCard          0.000000\n",
       "EstimatedSalary    0.000000\n",
       "Name: Exited, dtype: float64"
      ]
     },
     "execution_count": 16,
     "metadata": {},
     "output_type": "execute_result"
    }
   ],
   "source": [
    "df[df.columns[1:]].phik_matrix()['Exited'][:].sort_values(ascending=False)"
   ]
  },
  {
   "cell_type": "markdown",
   "metadata": {},
   "source": [
    "<div style=\"background-color:#e0ffff; color:#191970; padding:10px\">\n",
    " \n",
    "# Выводы по обработке данных:\n",
    "\n",
    "Обработка данных заключалась в следующем:      \n",
    "- применила заполнитель \"-1\" к объектам, у которых значение Nan в колонке 'Tenure'\n",
    "- исключила признаки, которые не помогут в построении модели: RowNumber, CustomerId, Surname      \n",
    "- применила технику прямого кодирования для того, чтобы преобразовать категориальные признаки *пол* и *страна*\n",
    "\n",
    "После этого просмотрела информацию о получившемся датасете\n",
    "    \n",
    "Изучила зависимость имеющихся признаков с целевым признаком используя phik матрицу - можно отметить зависимость ухода клиентов от количества продуктов - что странно и от возраста, что более понятно.                \n",
    "\n",
    "Это навело на мысль, что клиенты могут уходить по объективным причинам и с этим практически невозможно что то сделать (например, в связи со смертью).\n",
    "\n",
    "<div>"
   ]
  },
  {
   "cell_type": "markdown",
   "metadata": {},
   "source": [
    "## Исследование задачи"
   ]
  },
  {
   "cell_type": "markdown",
   "metadata": {},
   "source": [
    "<div style=\"background-color:#e0ffff; color:#191970; padding:10px\">\n",
    " \n",
    "# Комментарий\n",
    "\n",
    "Изучила соотношение классов в целевом признаке в получившемся датасете, отметила несбалансированность классов:         \n",
    "20% - класс 1 и 80% - класс 0.\n",
    "\n",
    "<div>"
   ]
  },
  {
   "cell_type": "code",
   "execution_count": 17,
   "metadata": {},
   "outputs": [
    {
     "name": "stdout",
     "output_type": "stream",
     "text": [
      "Соотношение классов 0 и 1 в долях:\n",
      "0    0.7963\n",
      "1    0.2037\n",
      "Name: Exited, dtype: float64\n"
     ]
    },
    {
     "data": {
      "image/png": "[encoded data removed]",
      "text/plain": [
       "<Figure size 640x480 with 1 Axes>"
      ]
     },
     "metadata": {},
     "output_type": "display_data"
    }
   ],
   "source": [
    "class_frequency = df['Exited'].value_counts(normalize=True)\n",
    "print('Соотношение классов 0 и 1 в долях:')\n",
    "print(class_frequency)\n",
    "\n",
    "class_frequency.plot(kind='bar', title='Соотношение классов 0 и 1 в целевом признаке')\n",
    "plt.show()"
   ]
  },
  {
   "cell_type": "markdown",
   "metadata": {},
   "source": [
    "<div style=\"background-color:#e0ffff; color:#191970; padding:10px\">\n",
    " \n",
    "# Комментарий\n",
    "\n",
    "Разбила датасет на выборки: обучающую, валидационную и тестовую в соотношении 60:20:20.    \n",
    "Разбивала с учетом ***параметра стратификации***, чтобы соотношение классов в целевом признаке сохранялось во всех выборках на одном уровне.      \n",
    "После этого просмотрела количество объектов в выборках, соотношение классов и убедилась, что соотношение сохраняется\n",
    "\n",
    "<div>"
   ]
  },
  {
   "cell_type": "code",
   "execution_count": 18,
   "metadata": {},
   "outputs": [],
   "source": [
    "target = df['Exited']\n",
    "features = df.drop('Exited', axis=1)\n"
   ]
  },
  {
   "cell_type": "code",
   "execution_count": 19,
   "metadata": {},
   "outputs": [],
   "source": [
    "features_train, features_test, target_train, target_test = train_test_split(features, target, test_size=0.2, \\\n",
    "                                                                              random_state=0)"
   ]
  },
  {
   "cell_type": "code",
   "execution_count": 20,
   "metadata": {},
   "outputs": [],
   "source": [
    "features_train, features_valid, target_train, target_valid = \\\n",
    "train_test_split(features_train, target_train, test_size=0.25, random_state=0)"
   ]
  },
  {
   "cell_type": "code",
   "execution_count": 21,
   "metadata": {},
   "outputs": [
    {
     "name": "stdout",
     "output_type": "stream",
     "text": [
      "Количество объектов в тренировочной выборке: (6000,)\n",
      "Доля класса 1 в тренировочной выборке:\n"
     ]
    },
    {
     "data": {
      "text/plain": [
       "0.2025"
      ]
     },
     "execution_count": 21,
     "metadata": {},
     "output_type": "execute_result"
    }
   ],
   "source": [
    "print('Количество объектов в тренировочной выборке:', target_train.shape)\n",
    "print('Доля класса 1 в тренировочной выборке:')\n",
    "target_train.mean()"
   ]
  },
  {
   "cell_type": "code",
   "execution_count": 22,
   "metadata": {},
   "outputs": [
    {
     "name": "stdout",
     "output_type": "stream",
     "text": [
      "Количество объектов в валидационной выборке: (2000,)\n",
      "Доля класса 1 в валидационной выборке:\n"
     ]
    },
    {
     "data": {
      "text/plain": [
       "0.2085"
      ]
     },
     "execution_count": 22,
     "metadata": {},
     "output_type": "execute_result"
    }
   ],
   "source": [
    "print('Количество объектов в валидационной выборке:', target_valid.shape)\n",
    "print('Доля класса 1 в валидационной выборке:')\n",
    "target_valid.mean()"
   ]
  },
  {
   "cell_type": "code",
   "execution_count": 23,
   "metadata": {
    "scrolled": true
   },
   "outputs": [
    {
     "name": "stdout",
     "output_type": "stream",
     "text": [
      "Количество объектов в тестовой выборке: (2000,)\n",
      "Доля класса 1 в тестовой выборке:\n"
     ]
    },
    {
     "data": {
      "text/plain": [
       "0.2025"
      ]
     },
     "execution_count": 23,
     "metadata": {},
     "output_type": "execute_result"
    }
   ],
   "source": [
    "print('Количество объектов в тестовой выборке:', target_test.shape)\n",
    "print('Доля класса 1 в тестовой выборке:')\n",
    "target_test.mean()"
   ]
  },
  {
   "cell_type": "markdown",
   "metadata": {},
   "source": [
    "<div style=\"background-color:#e0ffff; color:#191970; padding:10px\">\n",
    " \n",
    "# Комментарий\n",
    "\n",
    "Сделала масштабирование признаков, имеющих разный масштаб значений: ***кредитный рейтинг, возраст, баланс, предполагаемая зарплата.***     \n",
    "Для этого обучила алгоритм на тренировочной выборке, а затем применила его для масштабирования данных в тренировочной, валидационной и тестовой выборках.     \n",
    "<div>"
   ]
  },
  {
   "cell_type": "code",
   "execution_count": 24,
   "metadata": {},
   "outputs": [],
   "source": [
    "numeric = ['CreditScore', 'Age', 'Balance', 'EstimatedSalary']"
   ]
  },
  {
   "cell_type": "code",
   "execution_count": 25,
   "metadata": {},
   "outputs": [],
   "source": [
    "scaler = StandardScaler()\n",
    "scaler.fit(features_train[numeric])\n",
    "features_train[numeric] = scaler.transform(features_train[numeric])\n",
    "features_valid[numeric] = scaler.transform(features_valid[numeric])\n",
    "features_test[numeric] = scaler.transform(features_test[numeric])"
   ]
  },
  {
   "cell_type": "code",
   "execution_count": 26,
   "metadata": {},
   "outputs": [
    {
     "data": {
      "text/html": [
       "<div>\n",
       "<style scoped>\n",
       "    .dataframe tbody tr th:only-of-type {\n",
       "        vertical-align: middle;\n",
       "    }\n",
       "\n",
       "    .dataframe tbody tr th {\n",
       "        vertical-align: top;\n",
       "    }\n",
       "\n",
       "    .dataframe thead th {\n",
       "        text-align: right;\n",
       "    }\n",
       "</style>\n",
       "<table border=\"1\" class=\"dataframe\">\n",
       "  <thead>\n",
       "    <tr style=\"text-align: right;\">\n",
       "      <th></th>\n",
       "      <th>CreditScore</th>\n",
       "      <th>Age</th>\n",
       "      <th>Tenure</th>\n",
       "      <th>Balance</th>\n",
       "      <th>NumOfProducts</th>\n",
       "      <th>HasCrCard</th>\n",
       "      <th>IsActiveMember</th>\n",
       "      <th>EstimatedSalary</th>\n",
       "      <th>Gender_men</th>\n",
       "      <th>Germany</th>\n",
       "      <th>Spain</th>\n",
       "    </tr>\n",
       "  </thead>\n",
       "  <tbody>\n",
       "    <tr>\n",
       "      <th>8997</th>\n",
       "      <td>0.614238</td>\n",
       "      <td>-0.568058</td>\n",
       "      <td>-1.0</td>\n",
       "      <td>-1.211216</td>\n",
       "      <td>2</td>\n",
       "      <td>1</td>\n",
       "      <td>0</td>\n",
       "      <td>-0.470238</td>\n",
       "      <td>0</td>\n",
       "      <td>0</td>\n",
       "      <td>0</td>\n",
       "    </tr>\n",
       "    <tr>\n",
       "      <th>2295</th>\n",
       "      <td>0.500880</td>\n",
       "      <td>0.100058</td>\n",
       "      <td>7.0</td>\n",
       "      <td>-1.211216</td>\n",
       "      <td>1</td>\n",
       "      <td>0</td>\n",
       "      <td>1</td>\n",
       "      <td>0.917127</td>\n",
       "      <td>1</td>\n",
       "      <td>0</td>\n",
       "      <td>0</td>\n",
       "    </tr>\n",
       "    <tr>\n",
       "      <th>6793</th>\n",
       "      <td>-0.282322</td>\n",
       "      <td>1.054511</td>\n",
       "      <td>7.0</td>\n",
       "      <td>0.811186</td>\n",
       "      <td>1</td>\n",
       "      <td>0</td>\n",
       "      <td>1</td>\n",
       "      <td>-1.725150</td>\n",
       "      <td>1</td>\n",
       "      <td>1</td>\n",
       "      <td>0</td>\n",
       "    </tr>\n",
       "    <tr>\n",
       "      <th>2071</th>\n",
       "      <td>0.366911</td>\n",
       "      <td>-0.281722</td>\n",
       "      <td>5.0</td>\n",
       "      <td>-1.211216</td>\n",
       "      <td>2</td>\n",
       "      <td>1</td>\n",
       "      <td>1</td>\n",
       "      <td>0.918915</td>\n",
       "      <td>0</td>\n",
       "      <td>0</td>\n",
       "      <td>1</td>\n",
       "    </tr>\n",
       "    <tr>\n",
       "      <th>6344</th>\n",
       "      <td>2.056978</td>\n",
       "      <td>0.195504</td>\n",
       "      <td>3.0</td>\n",
       "      <td>-1.211216</td>\n",
       "      <td>2</td>\n",
       "      <td>1</td>\n",
       "      <td>0</td>\n",
       "      <td>0.500839</td>\n",
       "      <td>1</td>\n",
       "      <td>0</td>\n",
       "      <td>0</td>\n",
       "    </tr>\n",
       "  </tbody>\n",
       "</table>\n",
       "</div>"
      ],
      "text/plain": [
       "      CreditScore       Age  Tenure   Balance  NumOfProducts  HasCrCard  \\\n",
       "8997     0.614238 -0.568058    -1.0 -1.211216              2          1   \n",
       "2295     0.500880  0.100058     7.0 -1.211216              1          0   \n",
       "6793    -0.282322  1.054511     7.0  0.811186              1          0   \n",
       "2071     0.366911 -0.281722     5.0 -1.211216              2          1   \n",
       "6344     2.056978  0.195504     3.0 -1.211216              2          1   \n",
       "\n",
       "      IsActiveMember  EstimatedSalary  Gender_men  Germany  Spain  \n",
       "8997               0        -0.470238           0        0      0  \n",
       "2295               1         0.917127           1        0      0  \n",
       "6793               1        -1.725150           1        1      0  \n",
       "2071               1         0.918915           0        0      1  \n",
       "6344               0         0.500839           1        0      0  "
      ]
     },
     "execution_count": 26,
     "metadata": {},
     "output_type": "execute_result"
    }
   ],
   "source": [
    "features_train.head()"
   ]
  },
  {
   "cell_type": "markdown",
   "metadata": {},
   "source": [
    "<div style=\"background-color:#e0ffff; color:#191970; padding:10px\">\n",
    " \n",
    "# Комментарий\n",
    "\n",
    "Далее использовала получившиеся выборки.\n",
    "В целях проведения исследования применяла алгоритмы классификации Логистической регрессии и Случайного леса.        \n",
    "Обучила эти два алгоритма (подобрав оптимальные гиперпараметры) без использования способов учета дисбаланса классов, затем применила их к валидационной выборке, получила результаты валидации.                   \n",
    "    \n",
    "Параллельно сделала заготовку для таблицы, чтобы отслеживать различные метрики моделей с учетом применяемых методов (df_result)\n",
    "\n",
    "<div>"
   ]
  },
  {
   "cell_type": "code",
   "execution_count": 27,
   "metadata": {},
   "outputs": [],
   "source": [
    "df_result = pd.DataFrame(columns=['model', 'tp', 'tn', 'fp', 'fn', 'correct', 'incorrect',\n",
    "                                  'accuracy', 'precision', 'recall', 'f1', 'roc_auc'])"
   ]
  },
  {
   "cell_type": "code",
   "execution_count": 28,
   "metadata": {},
   "outputs": [],
   "source": [
    "def metric(target_valid, predicted_valid, features_valid, model_name):\n",
    "    tn, fp, fn, tp = confusion_matrix(target_valid, predicted_valid).ravel()\n",
    "    accuracy = accuracy_score(target_valid, predicted_valid)\n",
    "    precision = precision_score(target_valid, predicted_valid)\n",
    "    recall = recall_score(target_valid, predicted_valid)\n",
    "    f1 = f1_score(target_valid, predicted_valid)\n",
    "    probabilities_valid = model.predict_proba(features_valid)\n",
    "    probabilities_one_valid = probabilities_valid[:, 1]\n",
    "    roc_auc = roc_auc_score(target_valid, probabilities_one_valid)\n",
    "    row = {'model': model_name,\n",
    "           'tp': tp,\n",
    "           'tn': tn,\n",
    "           'fp': fp,\n",
    "           'fn': fn,\n",
    "           'correct': tp+tn,\n",
    "           'incorrect': fp+fn,\n",
    "           'accuracy': round(accuracy,3),\n",
    "           'precision': round(precision,3),\n",
    "           'recall': round(recall,3),\n",
    "           'f1': round(f1,3),\n",
    "           'roc_auc': round(roc_auc,3)\n",
    "           }\n",
    "    return row"
   ]
  },
  {
   "cell_type": "code",
   "execution_count": 29,
   "metadata": {},
   "outputs": [
    {
     "name": "stdout",
     "output_type": "stream",
     "text": [
      "F1: 0.3292035398230088\n"
     ]
    },
    {
     "name": "stderr",
     "output_type": "stream",
     "text": [
      "/tmp/ipykernel_27685/1570618425.py:8: FutureWarning: The frame.append method is deprecated and will be removed from pandas in a future version. Use pandas.concat instead.\n",
      "  df_result = df_result.append(row, ignore_index=True)\n"
     ]
    },
    {
     "data": {
      "text/html": [
       "<div>\n",
       "<style scoped>\n",
       "    .dataframe tbody tr th:only-of-type {\n",
       "        vertical-align: middle;\n",
       "    }\n",
       "\n",
       "    .dataframe tbody tr th {\n",
       "        vertical-align: top;\n",
       "    }\n",
       "\n",
       "    .dataframe thead th {\n",
       "        text-align: right;\n",
       "    }\n",
       "</style>\n",
       "<table border=\"1\" class=\"dataframe\">\n",
       "  <thead>\n",
       "    <tr style=\"text-align: right;\">\n",
       "      <th></th>\n",
       "      <th>model</th>\n",
       "      <th>tp</th>\n",
       "      <th>tn</th>\n",
       "      <th>fp</th>\n",
       "      <th>fn</th>\n",
       "      <th>correct</th>\n",
       "      <th>incorrect</th>\n",
       "      <th>accuracy</th>\n",
       "      <th>precision</th>\n",
       "      <th>recall</th>\n",
       "      <th>f1</th>\n",
       "      <th>roc_auc</th>\n",
       "    </tr>\n",
       "  </thead>\n",
       "  <tbody>\n",
       "    <tr>\n",
       "      <th>0</th>\n",
       "      <td>Logistic Regression</td>\n",
       "      <td>93</td>\n",
       "      <td>1528</td>\n",
       "      <td>55</td>\n",
       "      <td>324</td>\n",
       "      <td>1621</td>\n",
       "      <td>379</td>\n",
       "      <td>0.81</td>\n",
       "      <td>0.628</td>\n",
       "      <td>0.223</td>\n",
       "      <td>0.329</td>\n",
       "      <td>0.775</td>\n",
       "    </tr>\n",
       "  </tbody>\n",
       "</table>\n",
       "</div>"
      ],
      "text/plain": [
       "                 model  tp    tn  fp   fn correct incorrect  accuracy  \\\n",
       "0  Logistic Regression  93  1528  55  324    1621       379      0.81   \n",
       "\n",
       "   precision  recall     f1  roc_auc  \n",
       "0      0.628   0.223  0.329    0.775  "
      ]
     },
     "execution_count": 29,
     "metadata": {},
     "output_type": "execute_result"
    }
   ],
   "source": [
    "model = LogisticRegression(random_state=0, solver='liblinear', C=1, max_iter=10)\n",
    "model.fit(features_train, target_train)\n",
    "predicted_valid = model.predict(features_valid)\n",
    "print(\"F1:\", f1_score(target_valid, predicted_valid))\n",
    "\n",
    "row = metric(target_valid, predicted_valid, features_valid, 'Logistic Regression')\n",
    "\n",
    "df_result = df_result.append(row, ignore_index=True)\n",
    "df_result"
   ]
  },
  {
   "cell_type": "code",
   "execution_count": 30,
   "metadata": {},
   "outputs": [
    {
     "name": "stdout",
     "output_type": "stream",
     "text": [
      "ROC_AUC: 0.7751908391164516\n"
     ]
    },
    {
     "data": {
      "image/png": "[encoded data removed]",
      "text/plain": [
       "<Figure size 640x480 with 1 Axes>"
      ]
     },
     "metadata": {},
     "output_type": "display_data"
    }
   ],
   "source": [
    "probabilities_valid = model.predict_proba(features_valid)\n",
    "probabilities_one_valid = probabilities_valid[:, 1]\n",
    "\n",
    "roc_auc = roc_auc_score(target_valid, probabilities_one_valid)\n",
    "print(\"ROC_AUC:\", roc_auc)\n",
    "\n",
    "fpr, tpr, thresholds = roc_curve(target_valid, probabilities_one_valid)\n",
    "plt.figure()\n",
    "plt.plot(fpr, tpr)\n",
    "plt.plot([0, 1], [0, 1], linestyle='--')\n",
    "plt.xlim([0,1])\n",
    "plt.ylim([0,1])\n",
    "plt.xlabel('False Positive Rate')\n",
    "plt.ylabel('True Positive Rate')\n",
    "plt.title('ROC-кривая')\n",
    "plt.show()"
   ]
  },
  {
   "cell_type": "code",
   "execution_count": 31,
   "metadata": {},
   "outputs": [
    {
     "name": "stdout",
     "output_type": "stream",
     "text": [
      "F1: 0.5954198473282443\n"
     ]
    },
    {
     "name": "stderr",
     "output_type": "stream",
     "text": [
      "/tmp/ipykernel_27685/3471058819.py:8: FutureWarning: The frame.append method is deprecated and will be removed from pandas in a future version. Use pandas.concat instead.\n",
      "  df_result = df_result.append(row, ignore_index=True)\n"
     ]
    },
    {
     "data": {
      "text/html": [
       "<div>\n",
       "<style scoped>\n",
       "    .dataframe tbody tr th:only-of-type {\n",
       "        vertical-align: middle;\n",
       "    }\n",
       "\n",
       "    .dataframe tbody tr th {\n",
       "        vertical-align: top;\n",
       "    }\n",
       "\n",
       "    .dataframe thead th {\n",
       "        text-align: right;\n",
       "    }\n",
       "</style>\n",
       "<table border=\"1\" class=\"dataframe\">\n",
       "  <thead>\n",
       "    <tr style=\"text-align: right;\">\n",
       "      <th></th>\n",
       "      <th>model</th>\n",
       "      <th>tp</th>\n",
       "      <th>tn</th>\n",
       "      <th>fp</th>\n",
       "      <th>fn</th>\n",
       "      <th>correct</th>\n",
       "      <th>incorrect</th>\n",
       "      <th>accuracy</th>\n",
       "      <th>precision</th>\n",
       "      <th>recall</th>\n",
       "      <th>f1</th>\n",
       "      <th>roc_auc</th>\n",
       "    </tr>\n",
       "  </thead>\n",
       "  <tbody>\n",
       "    <tr>\n",
       "      <th>0</th>\n",
       "      <td>Logistic Regression</td>\n",
       "      <td>93</td>\n",
       "      <td>1528</td>\n",
       "      <td>55</td>\n",
       "      <td>324</td>\n",
       "      <td>1621</td>\n",
       "      <td>379</td>\n",
       "      <td>0.810</td>\n",
       "      <td>0.628</td>\n",
       "      <td>0.223</td>\n",
       "      <td>0.329</td>\n",
       "      <td>0.775</td>\n",
       "    </tr>\n",
       "    <tr>\n",
       "      <th>1</th>\n",
       "      <td>Random Forest</td>\n",
       "      <td>195</td>\n",
       "      <td>1540</td>\n",
       "      <td>43</td>\n",
       "      <td>222</td>\n",
       "      <td>1735</td>\n",
       "      <td>265</td>\n",
       "      <td>0.868</td>\n",
       "      <td>0.819</td>\n",
       "      <td>0.468</td>\n",
       "      <td>0.595</td>\n",
       "      <td>0.868</td>\n",
       "    </tr>\n",
       "  </tbody>\n",
       "</table>\n",
       "</div>"
      ],
      "text/plain": [
       "                 model   tp    tn  fp   fn correct incorrect  accuracy  \\\n",
       "0  Logistic Regression   93  1528  55  324    1621       379     0.810   \n",
       "1        Random Forest  195  1540  43  222    1735       265     0.868   \n",
       "\n",
       "   precision  recall     f1  roc_auc  \n",
       "0      0.628   0.223  0.329    0.775  \n",
       "1      0.819   0.468  0.595    0.868  "
      ]
     },
     "execution_count": 31,
     "metadata": {},
     "output_type": "execute_result"
    }
   ],
   "source": [
    "model = RandomForestClassifier(n_estimators=90, max_depth=12, min_samples_leaf=3, random_state=0)\n",
    "model.fit(features_train, target_train)\n",
    "predicted_valid = model.predict(features_valid)\n",
    "print(\"F1:\", f1_score(target_valid, predicted_valid))\n",
    "\n",
    "row = metric(target_valid, predicted_valid, features_valid,  'Random Forest')\n",
    "\n",
    "df_result = df_result.append(row, ignore_index=True)\n",
    "df_result"
   ]
  },
  {
   "cell_type": "code",
   "execution_count": 32,
   "metadata": {},
   "outputs": [
    {
     "name": "stdout",
     "output_type": "stream",
     "text": [
      "ROC_AUC: 0.8680146217833061\n"
     ]
    },
    {
     "data": {
      "image/png": "[encoded data removed]",
      "text/plain": [
       "<Figure size 640x480 with 1 Axes>"
      ]
     },
     "metadata": {},
     "output_type": "display_data"
    }
   ],
   "source": [
    "probabilities_valid = model.predict_proba(features_valid)\n",
    "probabilities_one_valid = probabilities_valid[:, 1]\n",
    "\n",
    "roc_auc = roc_auc_score(target_valid, probabilities_one_valid)\n",
    "print(\"ROC_AUC:\", roc_auc)\n",
    "\n",
    "fpr, tpr, thresholds = roc_curve(target_valid, probabilities_one_valid)\n",
    "plt.figure()\n",
    "plt.plot(fpr, tpr)\n",
    "plt.plot([0, 1], [0, 1], linestyle='--')\n",
    "plt.xlim([0,1])\n",
    "plt.ylim([0,1])\n",
    "plt.xlabel('False Positive Rate')\n",
    "plt.ylabel('True Positive Rate')\n",
    "plt.title('ROC-кривая')\n",
    "plt.show()"
   ]
  },
  {
   "cell_type": "markdown",
   "metadata": {},
   "source": [
    "<div style=\"background-color:#e0ffff; color:#191970; padding:10px\">\n",
    " \n",
    "# Вывод о моделях, не учитывающих дисбаланс классов (уточнено):\n",
    "\n",
    "***Получились следующие значения F1:***          \n",
    "*Логистическая регрессия:  0.32*      \n",
    "*Случайный лес:  0.56*            \n",
    "    \n",
    "Исходя из получившихся метрик можно сделать следующие выводы:\n",
    "- модель случайного леса показала значительно лучший результат \n",
    "- у логистической регрессии все метрики показали результаты хуже, чем у случайного леса      \n",
    "    \n",
    "\n",
    "Далее посмотрим результаты моделей при различных способах работы с несбалансированностью классов \n",
    "    \n",
    "<div>"
   ]
  },
  {
   "cell_type": "markdown",
   "metadata": {},
   "source": [
    "## Борьба с дисбалансом"
   ]
  },
  {
   "cell_type": "markdown",
   "metadata": {},
   "source": [
    "<div style=\"background-color:#e0ffff; color:#191970; padding:10px\">\n",
    " \n",
    "# Комментарий\n",
    "\n",
    "Для работы с дисбалансом есть разные способы. Попробую некоторые из них.  \n",
    "\n",
    "Для сравнения моделей и способов борьбы с дисбалансом классов решила кроме показателя F1 использовать дополнительные метрики, сделав для них таблицу (df_result), которая будет заполняться по мере проведения исследования (показатели полноты, точности, количество правильных, неправильных ответов каждого класса и другие).\n",
    "    \n",
    "Дополнительные метрики позволяют всесторонне оценить модель и иные используемые параметры и сделать выбор модели более обоснованным.\n",
    "    \n",
    "Например, при формировании прогноза, уйдет ли клиент из банка показатель полноты имеет более важное значение, чем показатель точности, т.к. уход клиента влечет потери доходов банка.    \n",
    "\n",
    "<div>"
   ]
  },
  {
   "cell_type": "markdown",
   "metadata": {},
   "source": [
    "<div style=\"background-color:#e0ffff; color:#191970; padding:10px\">\n",
    " \n",
    "**Первый способ** работы с дисбалансом классов, который я рассмотрела - использование гиперпараметра class_weight со значением 'balanced'.        \n",
    "Результат F1 у линейной регрессии улучшился значительно: с 0.32 до 0.48.      \n",
    "Результат F1 у случайного леса также улучшился: с 0.56 до 0.599.\n",
    "\n",
    "<div>"
   ]
  },
  {
   "cell_type": "code",
   "execution_count": 33,
   "metadata": {},
   "outputs": [
    {
     "name": "stdout",
     "output_type": "stream",
     "text": [
      "F1: 0.4969485614646905\n"
     ]
    },
    {
     "name": "stderr",
     "output_type": "stream",
     "text": [
      "/tmp/ipykernel_27685/241662493.py:6: FutureWarning: The frame.append method is deprecated and will be removed from pandas in a future version. Use pandas.concat instead.\n",
      "  df_result = df_result.append(row, ignore_index=True)\n"
     ]
    },
    {
     "data": {
      "text/html": [
       "<div>\n",
       "<style scoped>\n",
       "    .dataframe tbody tr th:only-of-type {\n",
       "        vertical-align: middle;\n",
       "    }\n",
       "\n",
       "    .dataframe tbody tr th {\n",
       "        vertical-align: top;\n",
       "    }\n",
       "\n",
       "    .dataframe thead th {\n",
       "        text-align: right;\n",
       "    }\n",
       "</style>\n",
       "<table border=\"1\" class=\"dataframe\">\n",
       "  <thead>\n",
       "    <tr style=\"text-align: right;\">\n",
       "      <th></th>\n",
       "      <th>model</th>\n",
       "      <th>tp</th>\n",
       "      <th>tn</th>\n",
       "      <th>fp</th>\n",
       "      <th>fn</th>\n",
       "      <th>correct</th>\n",
       "      <th>incorrect</th>\n",
       "      <th>accuracy</th>\n",
       "      <th>precision</th>\n",
       "      <th>recall</th>\n",
       "      <th>f1</th>\n",
       "      <th>roc_auc</th>\n",
       "    </tr>\n",
       "  </thead>\n",
       "  <tbody>\n",
       "    <tr>\n",
       "      <th>0</th>\n",
       "      <td>Logistic Regression</td>\n",
       "      <td>93</td>\n",
       "      <td>1528</td>\n",
       "      <td>55</td>\n",
       "      <td>324</td>\n",
       "      <td>1621</td>\n",
       "      <td>379</td>\n",
       "      <td>0.810</td>\n",
       "      <td>0.628</td>\n",
       "      <td>0.223</td>\n",
       "      <td>0.329</td>\n",
       "      <td>0.775</td>\n",
       "    </tr>\n",
       "    <tr>\n",
       "      <th>1</th>\n",
       "      <td>Random Forest</td>\n",
       "      <td>195</td>\n",
       "      <td>1540</td>\n",
       "      <td>43</td>\n",
       "      <td>222</td>\n",
       "      <td>1735</td>\n",
       "      <td>265</td>\n",
       "      <td>0.868</td>\n",
       "      <td>0.819</td>\n",
       "      <td>0.468</td>\n",
       "      <td>0.595</td>\n",
       "      <td>0.868</td>\n",
       "    </tr>\n",
       "    <tr>\n",
       "      <th>2</th>\n",
       "      <td>Logistic Regression balanced</td>\n",
       "      <td>285</td>\n",
       "      <td>1138</td>\n",
       "      <td>445</td>\n",
       "      <td>132</td>\n",
       "      <td>1423</td>\n",
       "      <td>577</td>\n",
       "      <td>0.712</td>\n",
       "      <td>0.390</td>\n",
       "      <td>0.683</td>\n",
       "      <td>0.497</td>\n",
       "      <td>0.779</td>\n",
       "    </tr>\n",
       "  </tbody>\n",
       "</table>\n",
       "</div>"
      ],
      "text/plain": [
       "                          model   tp    tn   fp   fn correct incorrect  \\\n",
       "0           Logistic Regression   93  1528   55  324    1621       379   \n",
       "1                 Random Forest  195  1540   43  222    1735       265   \n",
       "2  Logistic Regression balanced  285  1138  445  132    1423       577   \n",
       "\n",
       "   accuracy  precision  recall     f1  roc_auc  \n",
       "0     0.810      0.628   0.223  0.329    0.775  \n",
       "1     0.868      0.819   0.468  0.595    0.868  \n",
       "2     0.712      0.390   0.683  0.497    0.779  "
      ]
     },
     "execution_count": 33,
     "metadata": {},
     "output_type": "execute_result"
    }
   ],
   "source": [
    "model = LogisticRegression(random_state=0, solver='liblinear', C=1, max_iter=10, class_weight='balanced')\n",
    "model.fit(features_train, target_train)\n",
    "predicted_valid = model.predict(features_valid)\n",
    "print(\"F1:\", f1_score(target_valid, predicted_valid))\n",
    "row = metric(target_valid, predicted_valid, features_valid, 'Logistic Regression balanced')\n",
    "df_result = df_result.append(row, ignore_index=True)\n",
    "df_result"
   ]
  },
  {
   "cell_type": "code",
   "execution_count": 34,
   "metadata": {},
   "outputs": [
    {
     "name": "stdout",
     "output_type": "stream",
     "text": [
      "F1: 0.6551724137931034\n"
     ]
    },
    {
     "name": "stderr",
     "output_type": "stream",
     "text": [
      "/tmp/ipykernel_27685/1363388060.py:9: FutureWarning: The frame.append method is deprecated and will be removed from pandas in a future version. Use pandas.concat instead.\n",
      "  df_result = df_result.append(row, ignore_index=True)\n"
     ]
    },
    {
     "data": {
      "text/html": [
       "<div>\n",
       "<style scoped>\n",
       "    .dataframe tbody tr th:only-of-type {\n",
       "        vertical-align: middle;\n",
       "    }\n",
       "\n",
       "    .dataframe tbody tr th {\n",
       "        vertical-align: top;\n",
       "    }\n",
       "\n",
       "    .dataframe thead th {\n",
       "        text-align: right;\n",
       "    }\n",
       "</style>\n",
       "<table border=\"1\" class=\"dataframe\">\n",
       "  <thead>\n",
       "    <tr style=\"text-align: right;\">\n",
       "      <th></th>\n",
       "      <th>model</th>\n",
       "      <th>tp</th>\n",
       "      <th>tn</th>\n",
       "      <th>fp</th>\n",
       "      <th>fn</th>\n",
       "      <th>correct</th>\n",
       "      <th>incorrect</th>\n",
       "      <th>accuracy</th>\n",
       "      <th>precision</th>\n",
       "      <th>recall</th>\n",
       "      <th>f1</th>\n",
       "      <th>roc_auc</th>\n",
       "    </tr>\n",
       "  </thead>\n",
       "  <tbody>\n",
       "    <tr>\n",
       "      <th>0</th>\n",
       "      <td>Logistic Regression</td>\n",
       "      <td>93</td>\n",
       "      <td>1528</td>\n",
       "      <td>55</td>\n",
       "      <td>324</td>\n",
       "      <td>1621</td>\n",
       "      <td>379</td>\n",
       "      <td>0.810</td>\n",
       "      <td>0.628</td>\n",
       "      <td>0.223</td>\n",
       "      <td>0.329</td>\n",
       "      <td>0.775</td>\n",
       "    </tr>\n",
       "    <tr>\n",
       "      <th>1</th>\n",
       "      <td>Random Forest</td>\n",
       "      <td>195</td>\n",
       "      <td>1540</td>\n",
       "      <td>43</td>\n",
       "      <td>222</td>\n",
       "      <td>1735</td>\n",
       "      <td>265</td>\n",
       "      <td>0.868</td>\n",
       "      <td>0.819</td>\n",
       "      <td>0.468</td>\n",
       "      <td>0.595</td>\n",
       "      <td>0.868</td>\n",
       "    </tr>\n",
       "    <tr>\n",
       "      <th>2</th>\n",
       "      <td>Logistic Regression balanced</td>\n",
       "      <td>285</td>\n",
       "      <td>1138</td>\n",
       "      <td>445</td>\n",
       "      <td>132</td>\n",
       "      <td>1423</td>\n",
       "      <td>577</td>\n",
       "      <td>0.712</td>\n",
       "      <td>0.390</td>\n",
       "      <td>0.683</td>\n",
       "      <td>0.497</td>\n",
       "      <td>0.779</td>\n",
       "    </tr>\n",
       "    <tr>\n",
       "      <th>3</th>\n",
       "      <td>Random Forest balanced</td>\n",
       "      <td>266</td>\n",
       "      <td>1454</td>\n",
       "      <td>129</td>\n",
       "      <td>151</td>\n",
       "      <td>1720</td>\n",
       "      <td>280</td>\n",
       "      <td>0.860</td>\n",
       "      <td>0.673</td>\n",
       "      <td>0.638</td>\n",
       "      <td>0.655</td>\n",
       "      <td>0.869</td>\n",
       "    </tr>\n",
       "  </tbody>\n",
       "</table>\n",
       "</div>"
      ],
      "text/plain": [
       "                          model   tp    tn   fp   fn correct incorrect  \\\n",
       "0           Logistic Regression   93  1528   55  324    1621       379   \n",
       "1                 Random Forest  195  1540   43  222    1735       265   \n",
       "2  Logistic Regression balanced  285  1138  445  132    1423       577   \n",
       "3        Random Forest balanced  266  1454  129  151    1720       280   \n",
       "\n",
       "   accuracy  precision  recall     f1  roc_auc  \n",
       "0     0.810      0.628   0.223  0.329    0.775  \n",
       "1     0.868      0.819   0.468  0.595    0.868  \n",
       "2     0.712      0.390   0.683  0.497    0.779  \n",
       "3     0.860      0.673   0.638  0.655    0.869  "
      ]
     },
     "execution_count": 34,
     "metadata": {},
     "output_type": "execute_result"
    }
   ],
   "source": [
    "model = RandomForestClassifier(n_estimators=90, max_depth=12, min_samples_leaf=3, \\\n",
    "                               random_state=0, class_weight='balanced')\n",
    "model.fit(features_train, target_train)\n",
    "predicted_valid = model.predict(features_valid) \n",
    " \n",
    "print(\"F1:\", f1_score(target_valid, predicted_valid))\n",
    "\n",
    "row = metric(target_valid, predicted_valid, features_valid, 'Random Forest balanced')\n",
    "df_result = df_result.append(row, ignore_index=True)\n",
    "df_result"
   ]
  },
  {
   "cell_type": "markdown",
   "metadata": {},
   "source": [
    "<div style=\"background-color:#e0ffff; color:#191970; padding:10px\">\n",
    " \n",
    "# Комментарий\n",
    "\n",
    "**Второй способ** работы с дисбалансом классов - увеличение выборки.        \n",
    "Для этого использовала написанную функцию upsample.                         \n",
    "Количество повторений объектов класса 1 выбрала 3 учитывая, что соотношение классов в целевом признаке в выборках примерно 1:4 и чтобы класс 0 с учетом корректировки остался преобладающим.        \n",
    "Результат F1 у линейной регрессии получился 0.47      \n",
    "Результат F1 у случайного леса - 0.59               \n",
    "\n",
    "<div>"
   ]
  },
  {
   "cell_type": "code",
   "execution_count": 35,
   "metadata": {},
   "outputs": [],
   "source": [
    "def upsample(features, target, repeat):\n",
    "    features_zeros = features[target == 0]\n",
    "    features_ones = features[target == 1]\n",
    "    target_zeros = target[target == 0]\n",
    "    target_ones = target[target == 1]\n",
    "\n",
    "    features_upsampled = pd.concat([features_zeros] + [features_ones] * repeat)\n",
    "    target_upsampled = pd.concat([target_zeros] + [target_ones] * repeat)\n",
    "    \n",
    "    features_upsampled, target_upsampled = shuffle(\n",
    "        features_upsampled, target_upsampled, random_state=0)\n",
    "    \n",
    "    return features_upsampled, target_upsampled\n",
    "\n",
    "features_upsampled, target_upsampled = upsample(features_train, target_train, 3)"
   ]
  },
  {
   "cell_type": "code",
   "execution_count": 36,
   "metadata": {},
   "outputs": [
    {
     "data": {
      "text/plain": [
       "0    4785\n",
       "1    3645\n",
       "Name: Exited, dtype: int64"
      ]
     },
     "execution_count": 36,
     "metadata": {},
     "output_type": "execute_result"
    }
   ],
   "source": [
    "target_upsampled.value_counts()"
   ]
  },
  {
   "cell_type": "code",
   "execution_count": 37,
   "metadata": {},
   "outputs": [
    {
     "name": "stdout",
     "output_type": "stream",
     "text": [
      "F1: 0.49272349272349275\n"
     ]
    },
    {
     "name": "stderr",
     "output_type": "stream",
     "text": [
      "/tmp/ipykernel_27685/1278781057.py:9: FutureWarning: The frame.append method is deprecated and will be removed from pandas in a future version. Use pandas.concat instead.\n",
      "  df_result = df_result.append(row, ignore_index=True)\n"
     ]
    },
    {
     "data": {
      "text/html": [
       "<div>\n",
       "<style scoped>\n",
       "    .dataframe tbody tr th:only-of-type {\n",
       "        vertical-align: middle;\n",
       "    }\n",
       "\n",
       "    .dataframe tbody tr th {\n",
       "        vertical-align: top;\n",
       "    }\n",
       "\n",
       "    .dataframe thead th {\n",
       "        text-align: right;\n",
       "    }\n",
       "</style>\n",
       "<table border=\"1\" class=\"dataframe\">\n",
       "  <thead>\n",
       "    <tr style=\"text-align: right;\">\n",
       "      <th></th>\n",
       "      <th>model</th>\n",
       "      <th>tp</th>\n",
       "      <th>tn</th>\n",
       "      <th>fp</th>\n",
       "      <th>fn</th>\n",
       "      <th>correct</th>\n",
       "      <th>incorrect</th>\n",
       "      <th>accuracy</th>\n",
       "      <th>precision</th>\n",
       "      <th>recall</th>\n",
       "      <th>f1</th>\n",
       "      <th>roc_auc</th>\n",
       "    </tr>\n",
       "  </thead>\n",
       "  <tbody>\n",
       "    <tr>\n",
       "      <th>0</th>\n",
       "      <td>Logistic Regression</td>\n",
       "      <td>93</td>\n",
       "      <td>1528</td>\n",
       "      <td>55</td>\n",
       "      <td>324</td>\n",
       "      <td>1621</td>\n",
       "      <td>379</td>\n",
       "      <td>0.810</td>\n",
       "      <td>0.628</td>\n",
       "      <td>0.223</td>\n",
       "      <td>0.329</td>\n",
       "      <td>0.775</td>\n",
       "    </tr>\n",
       "    <tr>\n",
       "      <th>1</th>\n",
       "      <td>Random Forest</td>\n",
       "      <td>195</td>\n",
       "      <td>1540</td>\n",
       "      <td>43</td>\n",
       "      <td>222</td>\n",
       "      <td>1735</td>\n",
       "      <td>265</td>\n",
       "      <td>0.868</td>\n",
       "      <td>0.819</td>\n",
       "      <td>0.468</td>\n",
       "      <td>0.595</td>\n",
       "      <td>0.868</td>\n",
       "    </tr>\n",
       "    <tr>\n",
       "      <th>2</th>\n",
       "      <td>Logistic Regression balanced</td>\n",
       "      <td>285</td>\n",
       "      <td>1138</td>\n",
       "      <td>445</td>\n",
       "      <td>132</td>\n",
       "      <td>1423</td>\n",
       "      <td>577</td>\n",
       "      <td>0.712</td>\n",
       "      <td>0.390</td>\n",
       "      <td>0.683</td>\n",
       "      <td>0.497</td>\n",
       "      <td>0.779</td>\n",
       "    </tr>\n",
       "    <tr>\n",
       "      <th>3</th>\n",
       "      <td>Random Forest balanced</td>\n",
       "      <td>266</td>\n",
       "      <td>1454</td>\n",
       "      <td>129</td>\n",
       "      <td>151</td>\n",
       "      <td>1720</td>\n",
       "      <td>280</td>\n",
       "      <td>0.860</td>\n",
       "      <td>0.673</td>\n",
       "      <td>0.638</td>\n",
       "      <td>0.655</td>\n",
       "      <td>0.869</td>\n",
       "    </tr>\n",
       "    <tr>\n",
       "      <th>4</th>\n",
       "      <td>Logistic Regression upsampled</td>\n",
       "      <td>237</td>\n",
       "      <td>1275</td>\n",
       "      <td>308</td>\n",
       "      <td>180</td>\n",
       "      <td>1512</td>\n",
       "      <td>488</td>\n",
       "      <td>0.756</td>\n",
       "      <td>0.435</td>\n",
       "      <td>0.568</td>\n",
       "      <td>0.493</td>\n",
       "      <td>0.778</td>\n",
       "    </tr>\n",
       "  </tbody>\n",
       "</table>\n",
       "</div>"
      ],
      "text/plain": [
       "                           model   tp    tn   fp   fn correct incorrect  \\\n",
       "0            Logistic Regression   93  1528   55  324    1621       379   \n",
       "1                  Random Forest  195  1540   43  222    1735       265   \n",
       "2   Logistic Regression balanced  285  1138  445  132    1423       577   \n",
       "3         Random Forest balanced  266  1454  129  151    1720       280   \n",
       "4  Logistic Regression upsampled  237  1275  308  180    1512       488   \n",
       "\n",
       "   accuracy  precision  recall     f1  roc_auc  \n",
       "0     0.810      0.628   0.223  0.329    0.775  \n",
       "1     0.868      0.819   0.468  0.595    0.868  \n",
       "2     0.712      0.390   0.683  0.497    0.779  \n",
       "3     0.860      0.673   0.638  0.655    0.869  \n",
       "4     0.756      0.435   0.568  0.493    0.778  "
      ]
     },
     "execution_count": 37,
     "metadata": {},
     "output_type": "execute_result"
    }
   ],
   "source": [
    "model = LogisticRegression(random_state=0, solver='liblinear', C=1, max_iter=10)\n",
    "model.fit(features_upsampled, target_upsampled)\n",
    "predicted_valid = model.predict(features_valid)\n",
    "\n",
    "print(\"F1:\", f1_score(target_valid, predicted_valid))\n",
    "\n",
    "\n",
    "row = metric(target_valid, predicted_valid, features_valid,  'Logistic Regression upsampled')\n",
    "df_result = df_result.append(row, ignore_index=True)\n",
    "df_result"
   ]
  },
  {
   "cell_type": "code",
   "execution_count": 38,
   "metadata": {},
   "outputs": [
    {
     "name": "stdout",
     "output_type": "stream",
     "text": [
      "F1: 0.6452380952380953\n"
     ]
    },
    {
     "name": "stderr",
     "output_type": "stream",
     "text": [
      "/tmp/ipykernel_27685/1809657166.py:7: FutureWarning: The frame.append method is deprecated and will be removed from pandas in a future version. Use pandas.concat instead.\n",
      "  df_result = df_result.append(row, ignore_index=True)\n"
     ]
    },
    {
     "data": {
      "text/html": [
       "<div>\n",
       "<style scoped>\n",
       "    .dataframe tbody tr th:only-of-type {\n",
       "        vertical-align: middle;\n",
       "    }\n",
       "\n",
       "    .dataframe tbody tr th {\n",
       "        vertical-align: top;\n",
       "    }\n",
       "\n",
       "    .dataframe thead th {\n",
       "        text-align: right;\n",
       "    }\n",
       "</style>\n",
       "<table border=\"1\" class=\"dataframe\">\n",
       "  <thead>\n",
       "    <tr style=\"text-align: right;\">\n",
       "      <th></th>\n",
       "      <th>model</th>\n",
       "      <th>tp</th>\n",
       "      <th>tn</th>\n",
       "      <th>fp</th>\n",
       "      <th>fn</th>\n",
       "      <th>correct</th>\n",
       "      <th>incorrect</th>\n",
       "      <th>accuracy</th>\n",
       "      <th>precision</th>\n",
       "      <th>recall</th>\n",
       "      <th>f1</th>\n",
       "      <th>roc_auc</th>\n",
       "    </tr>\n",
       "  </thead>\n",
       "  <tbody>\n",
       "    <tr>\n",
       "      <th>0</th>\n",
       "      <td>Logistic Regression</td>\n",
       "      <td>93</td>\n",
       "      <td>1528</td>\n",
       "      <td>55</td>\n",
       "      <td>324</td>\n",
       "      <td>1621</td>\n",
       "      <td>379</td>\n",
       "      <td>0.810</td>\n",
       "      <td>0.628</td>\n",
       "      <td>0.223</td>\n",
       "      <td>0.329</td>\n",
       "      <td>0.775</td>\n",
       "    </tr>\n",
       "    <tr>\n",
       "      <th>1</th>\n",
       "      <td>Random Forest</td>\n",
       "      <td>195</td>\n",
       "      <td>1540</td>\n",
       "      <td>43</td>\n",
       "      <td>222</td>\n",
       "      <td>1735</td>\n",
       "      <td>265</td>\n",
       "      <td>0.868</td>\n",
       "      <td>0.819</td>\n",
       "      <td>0.468</td>\n",
       "      <td>0.595</td>\n",
       "      <td>0.868</td>\n",
       "    </tr>\n",
       "    <tr>\n",
       "      <th>2</th>\n",
       "      <td>Logistic Regression balanced</td>\n",
       "      <td>285</td>\n",
       "      <td>1138</td>\n",
       "      <td>445</td>\n",
       "      <td>132</td>\n",
       "      <td>1423</td>\n",
       "      <td>577</td>\n",
       "      <td>0.712</td>\n",
       "      <td>0.390</td>\n",
       "      <td>0.683</td>\n",
       "      <td>0.497</td>\n",
       "      <td>0.779</td>\n",
       "    </tr>\n",
       "    <tr>\n",
       "      <th>3</th>\n",
       "      <td>Random Forest balanced</td>\n",
       "      <td>266</td>\n",
       "      <td>1454</td>\n",
       "      <td>129</td>\n",
       "      <td>151</td>\n",
       "      <td>1720</td>\n",
       "      <td>280</td>\n",
       "      <td>0.860</td>\n",
       "      <td>0.673</td>\n",
       "      <td>0.638</td>\n",
       "      <td>0.655</td>\n",
       "      <td>0.869</td>\n",
       "    </tr>\n",
       "    <tr>\n",
       "      <th>4</th>\n",
       "      <td>Logistic Regression upsampled</td>\n",
       "      <td>237</td>\n",
       "      <td>1275</td>\n",
       "      <td>308</td>\n",
       "      <td>180</td>\n",
       "      <td>1512</td>\n",
       "      <td>488</td>\n",
       "      <td>0.756</td>\n",
       "      <td>0.435</td>\n",
       "      <td>0.568</td>\n",
       "      <td>0.493</td>\n",
       "      <td>0.778</td>\n",
       "    </tr>\n",
       "    <tr>\n",
       "      <th>5</th>\n",
       "      <td>Random Forest upsampled</td>\n",
       "      <td>271</td>\n",
       "      <td>1431</td>\n",
       "      <td>152</td>\n",
       "      <td>146</td>\n",
       "      <td>1702</td>\n",
       "      <td>298</td>\n",
       "      <td>0.851</td>\n",
       "      <td>0.641</td>\n",
       "      <td>0.650</td>\n",
       "      <td>0.645</td>\n",
       "      <td>0.867</td>\n",
       "    </tr>\n",
       "  </tbody>\n",
       "</table>\n",
       "</div>"
      ],
      "text/plain": [
       "                           model   tp    tn   fp   fn correct incorrect  \\\n",
       "0            Logistic Regression   93  1528   55  324    1621       379   \n",
       "1                  Random Forest  195  1540   43  222    1735       265   \n",
       "2   Logistic Regression balanced  285  1138  445  132    1423       577   \n",
       "3         Random Forest balanced  266  1454  129  151    1720       280   \n",
       "4  Logistic Regression upsampled  237  1275  308  180    1512       488   \n",
       "5        Random Forest upsampled  271  1431  152  146    1702       298   \n",
       "\n",
       "   accuracy  precision  recall     f1  roc_auc  \n",
       "0     0.810      0.628   0.223  0.329    0.775  \n",
       "1     0.868      0.819   0.468  0.595    0.868  \n",
       "2     0.712      0.390   0.683  0.497    0.779  \n",
       "3     0.860      0.673   0.638  0.655    0.869  \n",
       "4     0.756      0.435   0.568  0.493    0.778  \n",
       "5     0.851      0.641   0.650  0.645    0.867  "
      ]
     },
     "execution_count": 38,
     "metadata": {},
     "output_type": "execute_result"
    }
   ],
   "source": [
    "model = RandomForestClassifier(n_estimators=90, max_depth=12, min_samples_leaf=3, random_state=0)\n",
    "model.fit(features_upsampled, target_upsampled)\n",
    "predicted_valid = model.predict(features_valid) \n",
    "print(\"F1:\", f1_score(target_valid, predicted_valid))\n",
    "\n",
    "row = metric(target_valid, predicted_valid, features_valid, 'Random Forest upsampled')\n",
    "df_result = df_result.append(row, ignore_index=True)\n",
    "df_result"
   ]
  },
  {
   "cell_type": "markdown",
   "metadata": {},
   "source": [
    "<div style=\"background-color:#e0ffff; color:#191970; padding:10px\">\n",
    " \n",
    "# Комментарий\n",
    "\n",
    "**Третий способ** работы с дисбалансом классов - уменьшение выборки.        \n",
    "Для этого использовала написанную функцию downsample.         \n",
    "Соотношение для уменьшения объектов класса 0 выбрала 0.33 учитывая ту же логику, что и в предыдущем варианте, только в обратную сторону (1/3 ~ 0.33).    \n",
    "Результат F1 у линейной регрессии - 0.46      \n",
    "Результат F1 у случайного - 0.599\n",
    "\n",
    "<div>"
   ]
  },
  {
   "cell_type": "code",
   "execution_count": 39,
   "metadata": {},
   "outputs": [],
   "source": [
    "def downsample(features, target, fraction):\n",
    "    features_zeros = features[target == 0]\n",
    "    features_ones = features[target == 1]\n",
    "    target_zeros = target[target == 0]\n",
    "    target_ones = target[target == 1]\n",
    "\n",
    "    features_downsampled = pd.concat(\n",
    "        [features_zeros.sample(frac=fraction, random_state=12345)] + [features_ones])\n",
    "    target_downsampled = pd.concat(\n",
    "        [target_zeros.sample(frac=fraction, random_state=12345)] + [target_ones])\n",
    "    \n",
    "    features_downsampled, target_downsampled = shuffle(\n",
    "        features_downsampled, target_downsampled, random_state=12345)\n",
    "    \n",
    "    return features_downsampled, target_downsampled\n",
    "\n",
    "features_downsampled, target_downsampled = downsample(features_train, target_train, 0.33)"
   ]
  },
  {
   "cell_type": "code",
   "execution_count": 40,
   "metadata": {},
   "outputs": [
    {
     "data": {
      "text/plain": [
       "0    1579\n",
       "1    1215\n",
       "Name: Exited, dtype: int64"
      ]
     },
     "execution_count": 40,
     "metadata": {},
     "output_type": "execute_result"
    }
   ],
   "source": [
    "target_downsampled.value_counts()"
   ]
  },
  {
   "cell_type": "code",
   "execution_count": 41,
   "metadata": {
    "scrolled": true
   },
   "outputs": [
    {
     "name": "stdout",
     "output_type": "stream",
     "text": [
      "F1: 0.4887063655030801\n"
     ]
    },
    {
     "name": "stderr",
     "output_type": "stream",
     "text": [
      "/tmp/ipykernel_27685/3041646326.py:8: FutureWarning: The frame.append method is deprecated and will be removed from pandas in a future version. Use pandas.concat instead.\n",
      "  df_result = df_result.append(row, ignore_index=True)\n"
     ]
    },
    {
     "data": {
      "text/html": [
       "<div>\n",
       "<style scoped>\n",
       "    .dataframe tbody tr th:only-of-type {\n",
       "        vertical-align: middle;\n",
       "    }\n",
       "\n",
       "    .dataframe tbody tr th {\n",
       "        vertical-align: top;\n",
       "    }\n",
       "\n",
       "    .dataframe thead th {\n",
       "        text-align: right;\n",
       "    }\n",
       "</style>\n",
       "<table border=\"1\" class=\"dataframe\">\n",
       "  <thead>\n",
       "    <tr style=\"text-align: right;\">\n",
       "      <th></th>\n",
       "      <th>model</th>\n",
       "      <th>tp</th>\n",
       "      <th>tn</th>\n",
       "      <th>fp</th>\n",
       "      <th>fn</th>\n",
       "      <th>correct</th>\n",
       "      <th>incorrect</th>\n",
       "      <th>accuracy</th>\n",
       "      <th>precision</th>\n",
       "      <th>recall</th>\n",
       "      <th>f1</th>\n",
       "      <th>roc_auc</th>\n",
       "    </tr>\n",
       "  </thead>\n",
       "  <tbody>\n",
       "    <tr>\n",
       "      <th>0</th>\n",
       "      <td>Logistic Regression</td>\n",
       "      <td>93</td>\n",
       "      <td>1528</td>\n",
       "      <td>55</td>\n",
       "      <td>324</td>\n",
       "      <td>1621</td>\n",
       "      <td>379</td>\n",
       "      <td>0.810</td>\n",
       "      <td>0.628</td>\n",
       "      <td>0.223</td>\n",
       "      <td>0.329</td>\n",
       "      <td>0.775</td>\n",
       "    </tr>\n",
       "    <tr>\n",
       "      <th>1</th>\n",
       "      <td>Random Forest</td>\n",
       "      <td>195</td>\n",
       "      <td>1540</td>\n",
       "      <td>43</td>\n",
       "      <td>222</td>\n",
       "      <td>1735</td>\n",
       "      <td>265</td>\n",
       "      <td>0.868</td>\n",
       "      <td>0.819</td>\n",
       "      <td>0.468</td>\n",
       "      <td>0.595</td>\n",
       "      <td>0.868</td>\n",
       "    </tr>\n",
       "    <tr>\n",
       "      <th>2</th>\n",
       "      <td>Logistic Regression balanced</td>\n",
       "      <td>285</td>\n",
       "      <td>1138</td>\n",
       "      <td>445</td>\n",
       "      <td>132</td>\n",
       "      <td>1423</td>\n",
       "      <td>577</td>\n",
       "      <td>0.712</td>\n",
       "      <td>0.390</td>\n",
       "      <td>0.683</td>\n",
       "      <td>0.497</td>\n",
       "      <td>0.779</td>\n",
       "    </tr>\n",
       "    <tr>\n",
       "      <th>3</th>\n",
       "      <td>Random Forest balanced</td>\n",
       "      <td>266</td>\n",
       "      <td>1454</td>\n",
       "      <td>129</td>\n",
       "      <td>151</td>\n",
       "      <td>1720</td>\n",
       "      <td>280</td>\n",
       "      <td>0.860</td>\n",
       "      <td>0.673</td>\n",
       "      <td>0.638</td>\n",
       "      <td>0.655</td>\n",
       "      <td>0.869</td>\n",
       "    </tr>\n",
       "    <tr>\n",
       "      <th>4</th>\n",
       "      <td>Logistic Regression upsampled</td>\n",
       "      <td>237</td>\n",
       "      <td>1275</td>\n",
       "      <td>308</td>\n",
       "      <td>180</td>\n",
       "      <td>1512</td>\n",
       "      <td>488</td>\n",
       "      <td>0.756</td>\n",
       "      <td>0.435</td>\n",
       "      <td>0.568</td>\n",
       "      <td>0.493</td>\n",
       "      <td>0.778</td>\n",
       "    </tr>\n",
       "    <tr>\n",
       "      <th>5</th>\n",
       "      <td>Random Forest upsampled</td>\n",
       "      <td>271</td>\n",
       "      <td>1431</td>\n",
       "      <td>152</td>\n",
       "      <td>146</td>\n",
       "      <td>1702</td>\n",
       "      <td>298</td>\n",
       "      <td>0.851</td>\n",
       "      <td>0.641</td>\n",
       "      <td>0.650</td>\n",
       "      <td>0.645</td>\n",
       "      <td>0.867</td>\n",
       "    </tr>\n",
       "    <tr>\n",
       "      <th>6</th>\n",
       "      <td>Logistic Regression downsampled</td>\n",
       "      <td>238</td>\n",
       "      <td>1264</td>\n",
       "      <td>319</td>\n",
       "      <td>179</td>\n",
       "      <td>1502</td>\n",
       "      <td>498</td>\n",
       "      <td>0.751</td>\n",
       "      <td>0.427</td>\n",
       "      <td>0.571</td>\n",
       "      <td>0.489</td>\n",
       "      <td>0.867</td>\n",
       "    </tr>\n",
       "  </tbody>\n",
       "</table>\n",
       "</div>"
      ],
      "text/plain": [
       "                             model   tp    tn   fp   fn correct incorrect  \\\n",
       "0              Logistic Regression   93  1528   55  324    1621       379   \n",
       "1                    Random Forest  195  1540   43  222    1735       265   \n",
       "2     Logistic Regression balanced  285  1138  445  132    1423       577   \n",
       "3           Random Forest balanced  266  1454  129  151    1720       280   \n",
       "4    Logistic Regression upsampled  237  1275  308  180    1512       488   \n",
       "5          Random Forest upsampled  271  1431  152  146    1702       298   \n",
       "6  Logistic Regression downsampled  238  1264  319  179    1502       498   \n",
       "\n",
       "   accuracy  precision  recall     f1  roc_auc  \n",
       "0     0.810      0.628   0.223  0.329    0.775  \n",
       "1     0.868      0.819   0.468  0.595    0.868  \n",
       "2     0.712      0.390   0.683  0.497    0.779  \n",
       "3     0.860      0.673   0.638  0.655    0.869  \n",
       "4     0.756      0.435   0.568  0.493    0.778  \n",
       "5     0.851      0.641   0.650  0.645    0.867  \n",
       "6     0.751      0.427   0.571  0.489    0.867  "
      ]
     },
     "execution_count": 41,
     "metadata": {},
     "output_type": "execute_result"
    }
   ],
   "source": [
    "lr_downsampled = LogisticRegression(random_state=0, solver='liblinear', C=1, max_iter=10)\n",
    "lr_downsampled.fit(features_downsampled, target_downsampled)\n",
    "predicted_valid = lr_downsampled.predict(features_valid)\n",
    "\n",
    "print(\"F1:\", f1_score(target_valid, predicted_valid))\n",
    "\n",
    "row = metric(target_valid, predicted_valid, features_valid, 'Logistic Regression downsampled')\n",
    "df_result = df_result.append(row, ignore_index=True)\n",
    "df_result"
   ]
  },
  {
   "cell_type": "code",
   "execution_count": 42,
   "metadata": {},
   "outputs": [
    {
     "name": "stdout",
     "output_type": "stream",
     "text": [
      "F1: 0.6284501061571125\n"
     ]
    },
    {
     "name": "stderr",
     "output_type": "stream",
     "text": [
      "/tmp/ipykernel_27685/1280083772.py:8: FutureWarning: The frame.append method is deprecated and will be removed from pandas in a future version. Use pandas.concat instead.\n",
      "  df_result = df_result.append(row, ignore_index=True)\n"
     ]
    },
    {
     "data": {
      "text/html": [
       "<div>\n",
       "<style scoped>\n",
       "    .dataframe tbody tr th:only-of-type {\n",
       "        vertical-align: middle;\n",
       "    }\n",
       "\n",
       "    .dataframe tbody tr th {\n",
       "        vertical-align: top;\n",
       "    }\n",
       "\n",
       "    .dataframe thead th {\n",
       "        text-align: right;\n",
       "    }\n",
       "</style>\n",
       "<table border=\"1\" class=\"dataframe\">\n",
       "  <thead>\n",
       "    <tr style=\"text-align: right;\">\n",
       "      <th></th>\n",
       "      <th>model</th>\n",
       "      <th>tp</th>\n",
       "      <th>tn</th>\n",
       "      <th>fp</th>\n",
       "      <th>fn</th>\n",
       "      <th>correct</th>\n",
       "      <th>incorrect</th>\n",
       "      <th>accuracy</th>\n",
       "      <th>precision</th>\n",
       "      <th>recall</th>\n",
       "      <th>f1</th>\n",
       "      <th>roc_auc</th>\n",
       "    </tr>\n",
       "  </thead>\n",
       "  <tbody>\n",
       "    <tr>\n",
       "      <th>0</th>\n",
       "      <td>Logistic Regression</td>\n",
       "      <td>93</td>\n",
       "      <td>1528</td>\n",
       "      <td>55</td>\n",
       "      <td>324</td>\n",
       "      <td>1621</td>\n",
       "      <td>379</td>\n",
       "      <td>0.810</td>\n",
       "      <td>0.628</td>\n",
       "      <td>0.223</td>\n",
       "      <td>0.329</td>\n",
       "      <td>0.775</td>\n",
       "    </tr>\n",
       "    <tr>\n",
       "      <th>1</th>\n",
       "      <td>Random Forest</td>\n",
       "      <td>195</td>\n",
       "      <td>1540</td>\n",
       "      <td>43</td>\n",
       "      <td>222</td>\n",
       "      <td>1735</td>\n",
       "      <td>265</td>\n",
       "      <td>0.868</td>\n",
       "      <td>0.819</td>\n",
       "      <td>0.468</td>\n",
       "      <td>0.595</td>\n",
       "      <td>0.868</td>\n",
       "    </tr>\n",
       "    <tr>\n",
       "      <th>2</th>\n",
       "      <td>Logistic Regression balanced</td>\n",
       "      <td>285</td>\n",
       "      <td>1138</td>\n",
       "      <td>445</td>\n",
       "      <td>132</td>\n",
       "      <td>1423</td>\n",
       "      <td>577</td>\n",
       "      <td>0.712</td>\n",
       "      <td>0.390</td>\n",
       "      <td>0.683</td>\n",
       "      <td>0.497</td>\n",
       "      <td>0.779</td>\n",
       "    </tr>\n",
       "    <tr>\n",
       "      <th>3</th>\n",
       "      <td>Random Forest balanced</td>\n",
       "      <td>266</td>\n",
       "      <td>1454</td>\n",
       "      <td>129</td>\n",
       "      <td>151</td>\n",
       "      <td>1720</td>\n",
       "      <td>280</td>\n",
       "      <td>0.860</td>\n",
       "      <td>0.673</td>\n",
       "      <td>0.638</td>\n",
       "      <td>0.655</td>\n",
       "      <td>0.869</td>\n",
       "    </tr>\n",
       "    <tr>\n",
       "      <th>4</th>\n",
       "      <td>Logistic Regression upsampled</td>\n",
       "      <td>237</td>\n",
       "      <td>1275</td>\n",
       "      <td>308</td>\n",
       "      <td>180</td>\n",
       "      <td>1512</td>\n",
       "      <td>488</td>\n",
       "      <td>0.756</td>\n",
       "      <td>0.435</td>\n",
       "      <td>0.568</td>\n",
       "      <td>0.493</td>\n",
       "      <td>0.778</td>\n",
       "    </tr>\n",
       "    <tr>\n",
       "      <th>5</th>\n",
       "      <td>Random Forest upsampled</td>\n",
       "      <td>271</td>\n",
       "      <td>1431</td>\n",
       "      <td>152</td>\n",
       "      <td>146</td>\n",
       "      <td>1702</td>\n",
       "      <td>298</td>\n",
       "      <td>0.851</td>\n",
       "      <td>0.641</td>\n",
       "      <td>0.650</td>\n",
       "      <td>0.645</td>\n",
       "      <td>0.867</td>\n",
       "    </tr>\n",
       "    <tr>\n",
       "      <th>6</th>\n",
       "      <td>Logistic Regression downsampled</td>\n",
       "      <td>238</td>\n",
       "      <td>1264</td>\n",
       "      <td>319</td>\n",
       "      <td>179</td>\n",
       "      <td>1502</td>\n",
       "      <td>498</td>\n",
       "      <td>0.751</td>\n",
       "      <td>0.427</td>\n",
       "      <td>0.571</td>\n",
       "      <td>0.489</td>\n",
       "      <td>0.867</td>\n",
       "    </tr>\n",
       "    <tr>\n",
       "      <th>7</th>\n",
       "      <td>Random Forest downsampled</td>\n",
       "      <td>296</td>\n",
       "      <td>1354</td>\n",
       "      <td>229</td>\n",
       "      <td>121</td>\n",
       "      <td>1650</td>\n",
       "      <td>350</td>\n",
       "      <td>0.825</td>\n",
       "      <td>0.564</td>\n",
       "      <td>0.710</td>\n",
       "      <td>0.628</td>\n",
       "      <td>0.867</td>\n",
       "    </tr>\n",
       "  </tbody>\n",
       "</table>\n",
       "</div>"
      ],
      "text/plain": [
       "                             model   tp    tn   fp   fn correct incorrect  \\\n",
       "0              Logistic Regression   93  1528   55  324    1621       379   \n",
       "1                    Random Forest  195  1540   43  222    1735       265   \n",
       "2     Logistic Regression balanced  285  1138  445  132    1423       577   \n",
       "3           Random Forest balanced  266  1454  129  151    1720       280   \n",
       "4    Logistic Regression upsampled  237  1275  308  180    1512       488   \n",
       "5          Random Forest upsampled  271  1431  152  146    1702       298   \n",
       "6  Logistic Regression downsampled  238  1264  319  179    1502       498   \n",
       "7        Random Forest downsampled  296  1354  229  121    1650       350   \n",
       "\n",
       "   accuracy  precision  recall     f1  roc_auc  \n",
       "0     0.810      0.628   0.223  0.329    0.775  \n",
       "1     0.868      0.819   0.468  0.595    0.868  \n",
       "2     0.712      0.390   0.683  0.497    0.779  \n",
       "3     0.860      0.673   0.638  0.655    0.869  \n",
       "4     0.756      0.435   0.568  0.493    0.778  \n",
       "5     0.851      0.641   0.650  0.645    0.867  \n",
       "6     0.751      0.427   0.571  0.489    0.867  \n",
       "7     0.825      0.564   0.710  0.628    0.867  "
      ]
     },
     "execution_count": 42,
     "metadata": {},
     "output_type": "execute_result"
    }
   ],
   "source": [
    "clf_downsampled = RandomForestClassifier(n_estimators=90, max_depth=12, min_samples_leaf=3, random_state=0)\n",
    "clf_downsampled.fit(features_downsampled, target_downsampled)\n",
    "predicted_valid = clf_downsampled.predict(features_valid) \n",
    "\n",
    "print(\"F1:\", f1_score(target_valid, predicted_valid))\n",
    "\n",
    "row = metric(target_valid, predicted_valid, features_valid, 'Random Forest downsampled')\n",
    "df_result = df_result.append(row, ignore_index=True)\n",
    "df_result"
   ]
  },
  {
   "cell_type": "markdown",
   "metadata": {},
   "source": [
    "<div style=\"background-color:#e0ffff; color:#191970; padding:10px\">\n",
    " \n",
    "# Комментарий\n",
    "\n",
    "**Четвертый способ** работы с дисбалансом классов - изучить порог, определяющий границу классов и его влияние на метрики модели.   \n",
    "    \n",
    "Изучила влияние порога также на моделях линейной регрессии и случайного леса.          \n",
    "    \n",
    "В модели ***логистической регрессии:***         \n",
    "    - при применении порога 0.22:              \n",
    "    - максимальное значение F1 - 0.48,               \n",
    "    - полнота - 0.62,             \n",
    "    - точность - 0.39               \n",
    "    \n",
    "В модели ***случайного леса:***                  \n",
    "    - при применении порога 0.34:               \n",
    "    - максимальное значение F1 - 0.60,                \n",
    "    - полнота - 0.56,              \n",
    "    - точность - 0.64           \n",
    "      \n",
    "<div>"
   ]
  },
  {
   "cell_type": "code",
   "execution_count": 43,
   "metadata": {},
   "outputs": [
    {
     "name": "stdout",
     "output_type": "stream",
     "text": [
      "Порог = 0.00 | Точность = 0.208, Полнота = 1.000 | F1 = 0.345\n",
      "Порог = 0.02 | Точность = 0.210, Полнота = 1.000 | F1 = 0.346\n",
      "Порог = 0.04 | Точность = 0.220, Полнота = 0.990 | F1 = 0.360\n",
      "Порог = 0.06 | Точность = 0.242, Полнота = 0.976 | F1 = 0.387\n",
      "Порог = 0.08 | Точность = 0.259, Полнота = 0.938 | F1 = 0.406\n",
      "Порог = 0.10 | Точность = 0.279, Полнота = 0.916 | F1 = 0.428\n",
      "Порог = 0.12 | Точность = 0.303, Полнота = 0.878 | F1 = 0.451\n",
      "Порог = 0.14 | Точность = 0.331, Полнота = 0.837 | F1 = 0.475\n",
      "Порог = 0.16 | Точность = 0.350, Полнота = 0.796 | F1 = 0.486\n",
      "Порог = 0.18 | Точность = 0.367, Полнота = 0.746 | F1 = 0.492\n",
      "Порог = 0.20 | Точность = 0.380, Полнота = 0.686 | F1 = 0.489\n",
      "Порог = 0.22 | Точность = 0.398, Полнота = 0.643 | F1 = 0.491\n",
      "Порог = 0.24 | Точность = 0.428, Полнота = 0.607 | F1 = 0.502\n",
      "Порог = 0.26 | Точность = 0.439, Полнота = 0.559 | F1 = 0.492\n",
      "Порог = 0.28 | Точность = 0.468, Полнота = 0.535 | F1 = 0.499\n",
      "Порог = 0.30 | Точность = 0.502, Полнота = 0.506 | F1 = 0.504\n",
      "Порог = 0.32 | Точность = 0.516, Полнота = 0.468 | F1 = 0.491\n",
      "Порог = 0.34 | Точность = 0.529, Полнота = 0.436 | F1 = 0.478\n",
      "Порог = 0.36 | Точность = 0.548, Полнота = 0.398 | F1 = 0.461\n",
      "Порог = 0.38 | Точность = 0.563, Полнота = 0.384 | F1 = 0.456\n"
     ]
    },
    {
     "data": {
      "image/png": "[encoded data removed]",
      "text/plain": [
       "<Figure size 600x600 with 1 Axes>"
      ]
     },
     "metadata": {},
     "output_type": "display_data"
    }
   ],
   "source": [
    "model = LogisticRegression(random_state=0, solver='liblinear', C=1, max_iter=10)\n",
    "model.fit(features_train, target_train)\n",
    "probabilities_valid = model.predict_proba(features_valid)\n",
    "probabilities_one_valid = probabilities_valid[:, 1]\n",
    "\n",
    "for threshold in np.arange(0, 0.4, 0.02):\n",
    "    predicted_valid = probabilities_one_valid > threshold\n",
    "    precision = precision_score(target_valid, predicted_valid)\n",
    "    recall = recall_score(target_valid, predicted_valid)\n",
    "    f1 = f1_score(target_valid, predicted_valid)\n",
    "\n",
    "    print(\"Порог = {:.2f} | Точность = {:.3f}, Полнота = {:.3f} | F1 = {:.3f}\".format(\n",
    "        threshold, precision, recall, f1))\n",
    "\n",
    "\n",
    "probabilities_valid = model.predict_proba(features_valid)\n",
    "precision, recall, thresholds = precision_recall_curve(target_valid, probabilities_valid[:, 1])\n",
    "\n",
    "plt.figure(figsize=(6, 6))\n",
    "plt.step(recall, precision, where='post')\n",
    "plt.xlabel('Recall')\n",
    "plt.ylabel('Precision')\n",
    "plt.ylim([0.0, 1.05])\n",
    "plt.xlim([0.0, 1.0])\n",
    "plt.title('Кривая Precision-Recall')\n",
    "plt.show() "
   ]
  },
  {
   "cell_type": "code",
   "execution_count": 44,
   "metadata": {
    "scrolled": true
   },
   "outputs": [
    {
     "name": "stdout",
     "output_type": "stream",
     "text": [
      "Порог = 0.00 | Точность = 0.208, Полнота = 1.000 | F1 = 0.3451\n",
      "Порог = 0.02 | Точность = 0.225, Полнота = 1.000 | F1 = 0.3669\n",
      "Порог = 0.04 | Точность = 0.248, Полнота = 0.981 | F1 = 0.3954\n",
      "Порог = 0.06 | Точность = 0.277, Полнота = 0.959 | F1 = 0.4301\n",
      "Порог = 0.08 | Точность = 0.313, Полнота = 0.940 | F1 = 0.4692\n",
      "Порог = 0.10 | Точность = 0.346, Полнота = 0.914 | F1 = 0.5020\n",
      "Порог = 0.12 | Точность = 0.373, Полнота = 0.892 | F1 = 0.5265\n",
      "Порог = 0.14 | Точность = 0.406, Полнота = 0.868 | F1 = 0.5531\n",
      "Порог = 0.16 | Точность = 0.427, Полнота = 0.825 | F1 = 0.5630\n",
      "Порог = 0.18 | Точность = 0.461, Полнота = 0.806 | F1 = 0.5864\n",
      "Порог = 0.20 | Точность = 0.490, Полнота = 0.772 | F1 = 0.5996\n",
      "Порог = 0.22 | Точность = 0.521, Полнота = 0.760 | F1 = 0.6179\n",
      "Порог = 0.24 | Точность = 0.558, Полнота = 0.734 | F1 = 0.6342\n",
      "Порог = 0.26 | Точность = 0.579, Полнота = 0.703 | F1 = 0.6349\n",
      "Порог = 0.28 | Точность = 0.614, Полнота = 0.674 | F1 = 0.6423\n",
      "Порог = 0.30 | Точность = 0.637, Полнота = 0.652 | F1 = 0.6445\n",
      "Порог = 0.32 | Точность = 0.654, Полнота = 0.626 | F1 = 0.6397\n",
      "Порог = 0.34 | Точность = 0.689, Полнота = 0.612 | F1 = 0.6480\n",
      "Порог = 0.36 | Точность = 0.707, Полнота = 0.597 | F1 = 0.6476\n",
      "Порог = 0.38 | Точность = 0.729, Полнота = 0.588 | F1 = 0.6507\n",
      "Порог = 0.40 | Точность = 0.751, Полнота = 0.571 | F1 = 0.6485\n",
      "Порог = 0.42 | Точность = 0.773, Полнота = 0.547 | F1 = 0.6404\n",
      "Порог = 0.44 | Точность = 0.790, Полнота = 0.532 | F1 = 0.6361\n",
      "Порог = 0.46 | Точность = 0.801, Полнота = 0.511 | F1 = 0.6237\n",
      "Порог = 0.48 | Точность = 0.814, Полнота = 0.494 | F1 = 0.6149\n"
     ]
    },
    {
     "data": {
      "image/png": "[encoded data removed]",
      "text/plain": [
       "<Figure size 600x600 with 1 Axes>"
      ]
     },
     "metadata": {},
     "output_type": "display_data"
    }
   ],
   "source": [
    "model = RandomForestClassifier(n_estimators=90, max_depth=12, min_samples_leaf=3, random_state=0)\n",
    "model.fit(features_train, target_train)\n",
    "probabilities_valid = model.predict_proba(features_valid)\n",
    "probabilities_one_valid = probabilities_valid[:, 1]\n",
    "\n",
    "for threshold in np.arange(0, 0.5, 0.02):\n",
    "    predicted_valid = probabilities_one_valid > threshold\n",
    "    precision = precision_score(target_valid, predicted_valid)\n",
    "    recall = recall_score(target_valid, predicted_valid)\n",
    "    f1 = f1_score(target_valid, predicted_valid)\n",
    "\n",
    "    print(\"Порог = {:.2f} | Точность = {:.3f}, Полнота = {:.3f} | F1 = {:.4f}\".format(\n",
    "        threshold, precision, recall, f1))\n",
    "\n",
    "probabilities_valid = model.predict_proba(features_valid)\n",
    "precision, recall, thresholds = precision_recall_curve(target_valid, probabilities_valid[:, 1])\n",
    "\n",
    "plt.figure(figsize=(6, 6))\n",
    "plt.step(recall, precision, where='post')\n",
    "plt.xlabel('Recall')\n",
    "plt.ylabel('Precision')\n",
    "plt.ylim([0.0, 1.05])\n",
    "plt.xlim([0.0, 1.0])\n",
    "plt.title('Кривая Precision-Recall')\n",
    "plt.show()"
   ]
  },
  {
   "cell_type": "markdown",
   "metadata": {},
   "source": [
    "<div style=\"background-color:#e0ffff; color:#191970; padding:10px\">\n",
    " \n",
    "# Комментарий\n",
    "\n",
    "**Пятый способ** работы с дисбалансом классов - использование техники SMOTE библиотеки imblearn.\n",
    "\n",
    "SMOTE отличается от upsampling тем, что не просто умножает объекты с миноритарным классом, а  создает новые \"искусственные\" объекты, близкие по значению к объектам класса меньшинства, которые  используются для увеличения объектов признака, который \"в меньшинстве\".    \n",
    "      \n",
    "<div>"
   ]
  },
  {
   "cell_type": "code",
   "execution_count": 45,
   "metadata": {},
   "outputs": [
    {
     "data": {
      "text/plain": [
       "0    4785\n",
       "1    4785\n",
       "Name: Exited, dtype: int64"
      ]
     },
     "execution_count": 45,
     "metadata": {},
     "output_type": "execute_result"
    }
   ],
   "source": [
    "oversampled = SMOTE(random_state=0)\n",
    "features_train_smote, target_train_smote = oversampled.fit_resample(features_train, target_train)\n",
    "target_train_smote.value_counts()"
   ]
  },
  {
   "cell_type": "code",
   "execution_count": 46,
   "metadata": {},
   "outputs": [
    {
     "name": "stdout",
     "output_type": "stream",
     "text": [
      "F1: 0.4798500468603562\n"
     ]
    },
    {
     "name": "stderr",
     "output_type": "stream",
     "text": [
      "/tmp/ipykernel_27685/2111220893.py:8: FutureWarning: The frame.append method is deprecated and will be removed from pandas in a future version. Use pandas.concat instead.\n",
      "  df_result = df_result.append(row, ignore_index=True)\n"
     ]
    },
    {
     "data": {
      "text/html": [
       "<div>\n",
       "<style scoped>\n",
       "    .dataframe tbody tr th:only-of-type {\n",
       "        vertical-align: middle;\n",
       "    }\n",
       "\n",
       "    .dataframe tbody tr th {\n",
       "        vertical-align: top;\n",
       "    }\n",
       "\n",
       "    .dataframe thead th {\n",
       "        text-align: right;\n",
       "    }\n",
       "</style>\n",
       "<table border=\"1\" class=\"dataframe\">\n",
       "  <thead>\n",
       "    <tr style=\"text-align: right;\">\n",
       "      <th></th>\n",
       "      <th>model</th>\n",
       "      <th>tp</th>\n",
       "      <th>tn</th>\n",
       "      <th>fp</th>\n",
       "      <th>fn</th>\n",
       "      <th>correct</th>\n",
       "      <th>incorrect</th>\n",
       "      <th>accuracy</th>\n",
       "      <th>precision</th>\n",
       "      <th>recall</th>\n",
       "      <th>f1</th>\n",
       "      <th>roc_auc</th>\n",
       "    </tr>\n",
       "  </thead>\n",
       "  <tbody>\n",
       "    <tr>\n",
       "      <th>0</th>\n",
       "      <td>Logistic Regression</td>\n",
       "      <td>93</td>\n",
       "      <td>1528</td>\n",
       "      <td>55</td>\n",
       "      <td>324</td>\n",
       "      <td>1621</td>\n",
       "      <td>379</td>\n",
       "      <td>0.810</td>\n",
       "      <td>0.628</td>\n",
       "      <td>0.223</td>\n",
       "      <td>0.329</td>\n",
       "      <td>0.775</td>\n",
       "    </tr>\n",
       "    <tr>\n",
       "      <th>1</th>\n",
       "      <td>Random Forest</td>\n",
       "      <td>195</td>\n",
       "      <td>1540</td>\n",
       "      <td>43</td>\n",
       "      <td>222</td>\n",
       "      <td>1735</td>\n",
       "      <td>265</td>\n",
       "      <td>0.868</td>\n",
       "      <td>0.819</td>\n",
       "      <td>0.468</td>\n",
       "      <td>0.595</td>\n",
       "      <td>0.868</td>\n",
       "    </tr>\n",
       "    <tr>\n",
       "      <th>2</th>\n",
       "      <td>Logistic Regression balanced</td>\n",
       "      <td>285</td>\n",
       "      <td>1138</td>\n",
       "      <td>445</td>\n",
       "      <td>132</td>\n",
       "      <td>1423</td>\n",
       "      <td>577</td>\n",
       "      <td>0.712</td>\n",
       "      <td>0.390</td>\n",
       "      <td>0.683</td>\n",
       "      <td>0.497</td>\n",
       "      <td>0.779</td>\n",
       "    </tr>\n",
       "    <tr>\n",
       "      <th>3</th>\n",
       "      <td>Random Forest balanced</td>\n",
       "      <td>266</td>\n",
       "      <td>1454</td>\n",
       "      <td>129</td>\n",
       "      <td>151</td>\n",
       "      <td>1720</td>\n",
       "      <td>280</td>\n",
       "      <td>0.860</td>\n",
       "      <td>0.673</td>\n",
       "      <td>0.638</td>\n",
       "      <td>0.655</td>\n",
       "      <td>0.869</td>\n",
       "    </tr>\n",
       "    <tr>\n",
       "      <th>4</th>\n",
       "      <td>Logistic Regression upsampled</td>\n",
       "      <td>237</td>\n",
       "      <td>1275</td>\n",
       "      <td>308</td>\n",
       "      <td>180</td>\n",
       "      <td>1512</td>\n",
       "      <td>488</td>\n",
       "      <td>0.756</td>\n",
       "      <td>0.435</td>\n",
       "      <td>0.568</td>\n",
       "      <td>0.493</td>\n",
       "      <td>0.778</td>\n",
       "    </tr>\n",
       "    <tr>\n",
       "      <th>5</th>\n",
       "      <td>Random Forest upsampled</td>\n",
       "      <td>271</td>\n",
       "      <td>1431</td>\n",
       "      <td>152</td>\n",
       "      <td>146</td>\n",
       "      <td>1702</td>\n",
       "      <td>298</td>\n",
       "      <td>0.851</td>\n",
       "      <td>0.641</td>\n",
       "      <td>0.650</td>\n",
       "      <td>0.645</td>\n",
       "      <td>0.867</td>\n",
       "    </tr>\n",
       "    <tr>\n",
       "      <th>6</th>\n",
       "      <td>Logistic Regression downsampled</td>\n",
       "      <td>238</td>\n",
       "      <td>1264</td>\n",
       "      <td>319</td>\n",
       "      <td>179</td>\n",
       "      <td>1502</td>\n",
       "      <td>498</td>\n",
       "      <td>0.751</td>\n",
       "      <td>0.427</td>\n",
       "      <td>0.571</td>\n",
       "      <td>0.489</td>\n",
       "      <td>0.867</td>\n",
       "    </tr>\n",
       "    <tr>\n",
       "      <th>7</th>\n",
       "      <td>Random Forest downsampled</td>\n",
       "      <td>296</td>\n",
       "      <td>1354</td>\n",
       "      <td>229</td>\n",
       "      <td>121</td>\n",
       "      <td>1650</td>\n",
       "      <td>350</td>\n",
       "      <td>0.825</td>\n",
       "      <td>0.564</td>\n",
       "      <td>0.710</td>\n",
       "      <td>0.628</td>\n",
       "      <td>0.867</td>\n",
       "    </tr>\n",
       "    <tr>\n",
       "      <th>8</th>\n",
       "      <td>Logistic Regression SMOTE</td>\n",
       "      <td>256</td>\n",
       "      <td>1189</td>\n",
       "      <td>394</td>\n",
       "      <td>161</td>\n",
       "      <td>1445</td>\n",
       "      <td>555</td>\n",
       "      <td>0.722</td>\n",
       "      <td>0.394</td>\n",
       "      <td>0.614</td>\n",
       "      <td>0.480</td>\n",
       "      <td>0.748</td>\n",
       "    </tr>\n",
       "  </tbody>\n",
       "</table>\n",
       "</div>"
      ],
      "text/plain": [
       "                             model   tp    tn   fp   fn correct incorrect  \\\n",
       "0              Logistic Regression   93  1528   55  324    1621       379   \n",
       "1                    Random Forest  195  1540   43  222    1735       265   \n",
       "2     Logistic Regression balanced  285  1138  445  132    1423       577   \n",
       "3           Random Forest balanced  266  1454  129  151    1720       280   \n",
       "4    Logistic Regression upsampled  237  1275  308  180    1512       488   \n",
       "5          Random Forest upsampled  271  1431  152  146    1702       298   \n",
       "6  Logistic Regression downsampled  238  1264  319  179    1502       498   \n",
       "7        Random Forest downsampled  296  1354  229  121    1650       350   \n",
       "8        Logistic Regression SMOTE  256  1189  394  161    1445       555   \n",
       "\n",
       "   accuracy  precision  recall     f1  roc_auc  \n",
       "0     0.810      0.628   0.223  0.329    0.775  \n",
       "1     0.868      0.819   0.468  0.595    0.868  \n",
       "2     0.712      0.390   0.683  0.497    0.779  \n",
       "3     0.860      0.673   0.638  0.655    0.869  \n",
       "4     0.756      0.435   0.568  0.493    0.778  \n",
       "5     0.851      0.641   0.650  0.645    0.867  \n",
       "6     0.751      0.427   0.571  0.489    0.867  \n",
       "7     0.825      0.564   0.710  0.628    0.867  \n",
       "8     0.722      0.394   0.614  0.480    0.748  "
      ]
     },
     "execution_count": 46,
     "metadata": {},
     "output_type": "execute_result"
    }
   ],
   "source": [
    "classifier = LogisticRegression(random_state=0, solver='liblinear', C=1, max_iter=10)\n",
    "model = classifier.fit(features_train_smote, target_train_smote)\n",
    "predicted_valid = model.predict(features_valid)\n",
    "\n",
    "print(\"F1:\", f1_score(target_valid, predicted_valid))\n",
    "\n",
    "row = metric(target_valid, predicted_valid, features_valid, 'Logistic Regression SMOTE')\n",
    "df_result = df_result.append(row, ignore_index=True)\n",
    "df_result"
   ]
  },
  {
   "cell_type": "code",
   "execution_count": 47,
   "metadata": {},
   "outputs": [
    {
     "name": "stdout",
     "output_type": "stream",
     "text": [
      "F1: 0.6225596529284164\n"
     ]
    },
    {
     "name": "stderr",
     "output_type": "stream",
     "text": [
      "/tmp/ipykernel_27685/701084860.py:8: FutureWarning: The frame.append method is deprecated and will be removed from pandas in a future version. Use pandas.concat instead.\n",
      "  df_result = df_result.append(row, ignore_index=True)\n"
     ]
    },
    {
     "data": {
      "text/html": [
       "<div>\n",
       "<style scoped>\n",
       "    .dataframe tbody tr th:only-of-type {\n",
       "        vertical-align: middle;\n",
       "    }\n",
       "\n",
       "    .dataframe tbody tr th {\n",
       "        vertical-align: top;\n",
       "    }\n",
       "\n",
       "    .dataframe thead th {\n",
       "        text-align: right;\n",
       "    }\n",
       "</style>\n",
       "<table border=\"1\" class=\"dataframe\">\n",
       "  <thead>\n",
       "    <tr style=\"text-align: right;\">\n",
       "      <th></th>\n",
       "      <th>model</th>\n",
       "      <th>tp</th>\n",
       "      <th>tn</th>\n",
       "      <th>fp</th>\n",
       "      <th>fn</th>\n",
       "      <th>correct</th>\n",
       "      <th>incorrect</th>\n",
       "      <th>accuracy</th>\n",
       "      <th>precision</th>\n",
       "      <th>recall</th>\n",
       "      <th>f1</th>\n",
       "      <th>roc_auc</th>\n",
       "    </tr>\n",
       "  </thead>\n",
       "  <tbody>\n",
       "    <tr>\n",
       "      <th>0</th>\n",
       "      <td>Logistic Regression</td>\n",
       "      <td>93</td>\n",
       "      <td>1528</td>\n",
       "      <td>55</td>\n",
       "      <td>324</td>\n",
       "      <td>1621</td>\n",
       "      <td>379</td>\n",
       "      <td>0.810</td>\n",
       "      <td>0.628</td>\n",
       "      <td>0.223</td>\n",
       "      <td>0.329</td>\n",
       "      <td>0.775</td>\n",
       "    </tr>\n",
       "    <tr>\n",
       "      <th>1</th>\n",
       "      <td>Random Forest</td>\n",
       "      <td>195</td>\n",
       "      <td>1540</td>\n",
       "      <td>43</td>\n",
       "      <td>222</td>\n",
       "      <td>1735</td>\n",
       "      <td>265</td>\n",
       "      <td>0.868</td>\n",
       "      <td>0.819</td>\n",
       "      <td>0.468</td>\n",
       "      <td>0.595</td>\n",
       "      <td>0.868</td>\n",
       "    </tr>\n",
       "    <tr>\n",
       "      <th>2</th>\n",
       "      <td>Logistic Regression balanced</td>\n",
       "      <td>285</td>\n",
       "      <td>1138</td>\n",
       "      <td>445</td>\n",
       "      <td>132</td>\n",
       "      <td>1423</td>\n",
       "      <td>577</td>\n",
       "      <td>0.712</td>\n",
       "      <td>0.390</td>\n",
       "      <td>0.683</td>\n",
       "      <td>0.497</td>\n",
       "      <td>0.779</td>\n",
       "    </tr>\n",
       "    <tr>\n",
       "      <th>3</th>\n",
       "      <td>Random Forest balanced</td>\n",
       "      <td>266</td>\n",
       "      <td>1454</td>\n",
       "      <td>129</td>\n",
       "      <td>151</td>\n",
       "      <td>1720</td>\n",
       "      <td>280</td>\n",
       "      <td>0.860</td>\n",
       "      <td>0.673</td>\n",
       "      <td>0.638</td>\n",
       "      <td>0.655</td>\n",
       "      <td>0.869</td>\n",
       "    </tr>\n",
       "    <tr>\n",
       "      <th>4</th>\n",
       "      <td>Logistic Regression upsampled</td>\n",
       "      <td>237</td>\n",
       "      <td>1275</td>\n",
       "      <td>308</td>\n",
       "      <td>180</td>\n",
       "      <td>1512</td>\n",
       "      <td>488</td>\n",
       "      <td>0.756</td>\n",
       "      <td>0.435</td>\n",
       "      <td>0.568</td>\n",
       "      <td>0.493</td>\n",
       "      <td>0.778</td>\n",
       "    </tr>\n",
       "    <tr>\n",
       "      <th>5</th>\n",
       "      <td>Random Forest upsampled</td>\n",
       "      <td>271</td>\n",
       "      <td>1431</td>\n",
       "      <td>152</td>\n",
       "      <td>146</td>\n",
       "      <td>1702</td>\n",
       "      <td>298</td>\n",
       "      <td>0.851</td>\n",
       "      <td>0.641</td>\n",
       "      <td>0.650</td>\n",
       "      <td>0.645</td>\n",
       "      <td>0.867</td>\n",
       "    </tr>\n",
       "    <tr>\n",
       "      <th>6</th>\n",
       "      <td>Logistic Regression downsampled</td>\n",
       "      <td>238</td>\n",
       "      <td>1264</td>\n",
       "      <td>319</td>\n",
       "      <td>179</td>\n",
       "      <td>1502</td>\n",
       "      <td>498</td>\n",
       "      <td>0.751</td>\n",
       "      <td>0.427</td>\n",
       "      <td>0.571</td>\n",
       "      <td>0.489</td>\n",
       "      <td>0.867</td>\n",
       "    </tr>\n",
       "    <tr>\n",
       "      <th>7</th>\n",
       "      <td>Random Forest downsampled</td>\n",
       "      <td>296</td>\n",
       "      <td>1354</td>\n",
       "      <td>229</td>\n",
       "      <td>121</td>\n",
       "      <td>1650</td>\n",
       "      <td>350</td>\n",
       "      <td>0.825</td>\n",
       "      <td>0.564</td>\n",
       "      <td>0.710</td>\n",
       "      <td>0.628</td>\n",
       "      <td>0.867</td>\n",
       "    </tr>\n",
       "    <tr>\n",
       "      <th>8</th>\n",
       "      <td>Logistic Regression SMOTE</td>\n",
       "      <td>256</td>\n",
       "      <td>1189</td>\n",
       "      <td>394</td>\n",
       "      <td>161</td>\n",
       "      <td>1445</td>\n",
       "      <td>555</td>\n",
       "      <td>0.722</td>\n",
       "      <td>0.394</td>\n",
       "      <td>0.614</td>\n",
       "      <td>0.480</td>\n",
       "      <td>0.748</td>\n",
       "    </tr>\n",
       "    <tr>\n",
       "      <th>9</th>\n",
       "      <td>Random Forest SMOTE</td>\n",
       "      <td>287</td>\n",
       "      <td>1365</td>\n",
       "      <td>218</td>\n",
       "      <td>130</td>\n",
       "      <td>1652</td>\n",
       "      <td>348</td>\n",
       "      <td>0.826</td>\n",
       "      <td>0.568</td>\n",
       "      <td>0.688</td>\n",
       "      <td>0.623</td>\n",
       "      <td>0.852</td>\n",
       "    </tr>\n",
       "  </tbody>\n",
       "</table>\n",
       "</div>"
      ],
      "text/plain": [
       "                             model   tp    tn   fp   fn correct incorrect  \\\n",
       "0              Logistic Regression   93  1528   55  324    1621       379   \n",
       "1                    Random Forest  195  1540   43  222    1735       265   \n",
       "2     Logistic Regression balanced  285  1138  445  132    1423       577   \n",
       "3           Random Forest balanced  266  1454  129  151    1720       280   \n",
       "4    Logistic Regression upsampled  237  1275  308  180    1512       488   \n",
       "5          Random Forest upsampled  271  1431  152  146    1702       298   \n",
       "6  Logistic Regression downsampled  238  1264  319  179    1502       498   \n",
       "7        Random Forest downsampled  296  1354  229  121    1650       350   \n",
       "8        Logistic Regression SMOTE  256  1189  394  161    1445       555   \n",
       "9              Random Forest SMOTE  287  1365  218  130    1652       348   \n",
       "\n",
       "   accuracy  precision  recall     f1  roc_auc  \n",
       "0     0.810      0.628   0.223  0.329    0.775  \n",
       "1     0.868      0.819   0.468  0.595    0.868  \n",
       "2     0.712      0.390   0.683  0.497    0.779  \n",
       "3     0.860      0.673   0.638  0.655    0.869  \n",
       "4     0.756      0.435   0.568  0.493    0.778  \n",
       "5     0.851      0.641   0.650  0.645    0.867  \n",
       "6     0.751      0.427   0.571  0.489    0.867  \n",
       "7     0.825      0.564   0.710  0.628    0.867  \n",
       "8     0.722      0.394   0.614  0.480    0.748  \n",
       "9     0.826      0.568   0.688  0.623    0.852  "
      ]
     },
     "execution_count": 47,
     "metadata": {},
     "output_type": "execute_result"
    }
   ],
   "source": [
    "classifier = RandomForestClassifier(n_estimators=90, max_depth=12, min_samples_leaf=3, random_state=0)\n",
    "model = classifier.fit(features_train_smote, target_train_smote)\n",
    "predicted_valid = model.predict(features_valid)\n",
    "\n",
    "print(\"F1:\", f1_score(target_valid, predicted_valid))\n",
    "\n",
    "row = metric(target_valid, predicted_valid, features_valid, 'Random Forest SMOTE')\n",
    "df_result = df_result.append(row, ignore_index=True)\n",
    "df_result"
   ]
  },
  {
   "cell_type": "code",
   "execution_count": 48,
   "metadata": {},
   "outputs": [
    {
     "name": "stdout",
     "output_type": "stream",
     "text": [
      "F1: 0.6480304955527318\n"
     ]
    }
   ],
   "source": [
    "# Итоговая модель Случайный лес\n",
    "model = RandomForestClassifier(n_estimators=90, max_depth=12, min_samples_leaf=3, random_state=0)\n",
    "model.fit(features_train, target_train)\n",
    "probabilities_valid = model.predict_proba(features_valid)\n",
    "probabilities_one_valid = probabilities_valid[:, 1]\n",
    "predicted_valid = probabilities_one_valid > 0.34\n",
    "\n",
    "print(\"F1:\", f1_score(target_valid, predicted_valid))\n",
    "    "
   ]
  },
  {
   "cell_type": "code",
   "execution_count": 49,
   "metadata": {},
   "outputs": [
    {
     "name": "stderr",
     "output_type": "stream",
     "text": [
      "/tmp/ipykernel_27685/2502419394.py:2: FutureWarning: The frame.append method is deprecated and will be removed from pandas in a future version. Use pandas.concat instead.\n",
      "  df_result = df_result.append(row, ignore_index=True)\n"
     ]
    },
    {
     "data": {
      "text/html": [
       "<div>\n",
       "<style scoped>\n",
       "    .dataframe tbody tr th:only-of-type {\n",
       "        vertical-align: middle;\n",
       "    }\n",
       "\n",
       "    .dataframe tbody tr th {\n",
       "        vertical-align: top;\n",
       "    }\n",
       "\n",
       "    .dataframe thead th {\n",
       "        text-align: right;\n",
       "    }\n",
       "</style>\n",
       "<table border=\"1\" class=\"dataframe\">\n",
       "  <thead>\n",
       "    <tr style=\"text-align: right;\">\n",
       "      <th></th>\n",
       "      <th>model</th>\n",
       "      <th>tp</th>\n",
       "      <th>tn</th>\n",
       "      <th>fp</th>\n",
       "      <th>fn</th>\n",
       "      <th>correct</th>\n",
       "      <th>incorrect</th>\n",
       "      <th>accuracy</th>\n",
       "      <th>precision</th>\n",
       "      <th>recall</th>\n",
       "      <th>f1</th>\n",
       "      <th>roc_auc</th>\n",
       "    </tr>\n",
       "  </thead>\n",
       "  <tbody>\n",
       "    <tr>\n",
       "      <th>0</th>\n",
       "      <td>Logistic Regression</td>\n",
       "      <td>93</td>\n",
       "      <td>1528</td>\n",
       "      <td>55</td>\n",
       "      <td>324</td>\n",
       "      <td>1621</td>\n",
       "      <td>379</td>\n",
       "      <td>0.810</td>\n",
       "      <td>0.628</td>\n",
       "      <td>0.223</td>\n",
       "      <td>0.329</td>\n",
       "      <td>0.775</td>\n",
       "    </tr>\n",
       "    <tr>\n",
       "      <th>1</th>\n",
       "      <td>Random Forest</td>\n",
       "      <td>195</td>\n",
       "      <td>1540</td>\n",
       "      <td>43</td>\n",
       "      <td>222</td>\n",
       "      <td>1735</td>\n",
       "      <td>265</td>\n",
       "      <td>0.868</td>\n",
       "      <td>0.819</td>\n",
       "      <td>0.468</td>\n",
       "      <td>0.595</td>\n",
       "      <td>0.868</td>\n",
       "    </tr>\n",
       "    <tr>\n",
       "      <th>2</th>\n",
       "      <td>Logistic Regression balanced</td>\n",
       "      <td>285</td>\n",
       "      <td>1138</td>\n",
       "      <td>445</td>\n",
       "      <td>132</td>\n",
       "      <td>1423</td>\n",
       "      <td>577</td>\n",
       "      <td>0.712</td>\n",
       "      <td>0.390</td>\n",
       "      <td>0.683</td>\n",
       "      <td>0.497</td>\n",
       "      <td>0.779</td>\n",
       "    </tr>\n",
       "    <tr>\n",
       "      <th>3</th>\n",
       "      <td>Random Forest balanced</td>\n",
       "      <td>266</td>\n",
       "      <td>1454</td>\n",
       "      <td>129</td>\n",
       "      <td>151</td>\n",
       "      <td>1720</td>\n",
       "      <td>280</td>\n",
       "      <td>0.860</td>\n",
       "      <td>0.673</td>\n",
       "      <td>0.638</td>\n",
       "      <td>0.655</td>\n",
       "      <td>0.869</td>\n",
       "    </tr>\n",
       "    <tr>\n",
       "      <th>4</th>\n",
       "      <td>Logistic Regression upsampled</td>\n",
       "      <td>237</td>\n",
       "      <td>1275</td>\n",
       "      <td>308</td>\n",
       "      <td>180</td>\n",
       "      <td>1512</td>\n",
       "      <td>488</td>\n",
       "      <td>0.756</td>\n",
       "      <td>0.435</td>\n",
       "      <td>0.568</td>\n",
       "      <td>0.493</td>\n",
       "      <td>0.778</td>\n",
       "    </tr>\n",
       "    <tr>\n",
       "      <th>5</th>\n",
       "      <td>Random Forest upsampled</td>\n",
       "      <td>271</td>\n",
       "      <td>1431</td>\n",
       "      <td>152</td>\n",
       "      <td>146</td>\n",
       "      <td>1702</td>\n",
       "      <td>298</td>\n",
       "      <td>0.851</td>\n",
       "      <td>0.641</td>\n",
       "      <td>0.650</td>\n",
       "      <td>0.645</td>\n",
       "      <td>0.867</td>\n",
       "    </tr>\n",
       "    <tr>\n",
       "      <th>6</th>\n",
       "      <td>Logistic Regression downsampled</td>\n",
       "      <td>238</td>\n",
       "      <td>1264</td>\n",
       "      <td>319</td>\n",
       "      <td>179</td>\n",
       "      <td>1502</td>\n",
       "      <td>498</td>\n",
       "      <td>0.751</td>\n",
       "      <td>0.427</td>\n",
       "      <td>0.571</td>\n",
       "      <td>0.489</td>\n",
       "      <td>0.867</td>\n",
       "    </tr>\n",
       "    <tr>\n",
       "      <th>7</th>\n",
       "      <td>Random Forest downsampled</td>\n",
       "      <td>296</td>\n",
       "      <td>1354</td>\n",
       "      <td>229</td>\n",
       "      <td>121</td>\n",
       "      <td>1650</td>\n",
       "      <td>350</td>\n",
       "      <td>0.825</td>\n",
       "      <td>0.564</td>\n",
       "      <td>0.710</td>\n",
       "      <td>0.628</td>\n",
       "      <td>0.867</td>\n",
       "    </tr>\n",
       "    <tr>\n",
       "      <th>8</th>\n",
       "      <td>Logistic Regression SMOTE</td>\n",
       "      <td>256</td>\n",
       "      <td>1189</td>\n",
       "      <td>394</td>\n",
       "      <td>161</td>\n",
       "      <td>1445</td>\n",
       "      <td>555</td>\n",
       "      <td>0.722</td>\n",
       "      <td>0.394</td>\n",
       "      <td>0.614</td>\n",
       "      <td>0.480</td>\n",
       "      <td>0.748</td>\n",
       "    </tr>\n",
       "    <tr>\n",
       "      <th>9</th>\n",
       "      <td>Random Forest SMOTE</td>\n",
       "      <td>287</td>\n",
       "      <td>1365</td>\n",
       "      <td>218</td>\n",
       "      <td>130</td>\n",
       "      <td>1652</td>\n",
       "      <td>348</td>\n",
       "      <td>0.826</td>\n",
       "      <td>0.568</td>\n",
       "      <td>0.688</td>\n",
       "      <td>0.623</td>\n",
       "      <td>0.852</td>\n",
       "    </tr>\n",
       "    <tr>\n",
       "      <th>10</th>\n",
       "      <td>Random Forest threshold 0.34 VALID</td>\n",
       "      <td>255</td>\n",
       "      <td>1468</td>\n",
       "      <td>115</td>\n",
       "      <td>162</td>\n",
       "      <td>1723</td>\n",
       "      <td>277</td>\n",
       "      <td>0.862</td>\n",
       "      <td>0.689</td>\n",
       "      <td>0.612</td>\n",
       "      <td>0.648</td>\n",
       "      <td>0.868</td>\n",
       "    </tr>\n",
       "  </tbody>\n",
       "</table>\n",
       "</div>"
      ],
      "text/plain": [
       "                                 model   tp    tn   fp   fn correct incorrect  \\\n",
       "0                  Logistic Regression   93  1528   55  324    1621       379   \n",
       "1                        Random Forest  195  1540   43  222    1735       265   \n",
       "2         Logistic Regression balanced  285  1138  445  132    1423       577   \n",
       "3               Random Forest balanced  266  1454  129  151    1720       280   \n",
       "4        Logistic Regression upsampled  237  1275  308  180    1512       488   \n",
       "5              Random Forest upsampled  271  1431  152  146    1702       298   \n",
       "6      Logistic Regression downsampled  238  1264  319  179    1502       498   \n",
       "7            Random Forest downsampled  296  1354  229  121    1650       350   \n",
       "8            Logistic Regression SMOTE  256  1189  394  161    1445       555   \n",
       "9                  Random Forest SMOTE  287  1365  218  130    1652       348   \n",
       "10  Random Forest threshold 0.34 VALID  255  1468  115  162    1723       277   \n",
       "\n",
       "    accuracy  precision  recall     f1  roc_auc  \n",
       "0      0.810      0.628   0.223  0.329    0.775  \n",
       "1      0.868      0.819   0.468  0.595    0.868  \n",
       "2      0.712      0.390   0.683  0.497    0.779  \n",
       "3      0.860      0.673   0.638  0.655    0.869  \n",
       "4      0.756      0.435   0.568  0.493    0.778  \n",
       "5      0.851      0.641   0.650  0.645    0.867  \n",
       "6      0.751      0.427   0.571  0.489    0.867  \n",
       "7      0.825      0.564   0.710  0.628    0.867  \n",
       "8      0.722      0.394   0.614  0.480    0.748  \n",
       "9      0.826      0.568   0.688  0.623    0.852  \n",
       "10     0.862      0.689   0.612  0.648    0.868  "
      ]
     },
     "execution_count": 49,
     "metadata": {},
     "output_type": "execute_result"
    }
   ],
   "source": [
    "row = metric(target_valid, predicted_valid, features_valid, 'Random Forest threshold 0.34 VALID')\n",
    "df_result = df_result.append(row, ignore_index=True)\n",
    "df_result"
   ]
  },
  {
   "cell_type": "markdown",
   "metadata": {},
   "source": [
    "<div style=\"background-color:#e0ffff; color:#191970; padding:10px\">\n",
    " \n",
    "# Выводы о способах работы с дисбалансом классов\n",
    "\n",
    "Таким образом, я использовала **5 способов** работы с дисбалансом классов:                         \n",
    "    - *применение гиперпараметра class_weight=balanced,*         \n",
    "    - *увеличение выборки в целях увеличение объектов миноритарного класса,*                  \n",
    "    - *уменьшение выборки путем уменьшения объектов мажоритарного класса,*                   \n",
    "    - *изучение и применение порога вероятности для отнесения к классам,*                   \n",
    "    - *использование механизма SMOTE из библиотеки imblearn*                   \n",
    "\n",
    "Получившиеся метрики при проверке моделей на валидационной выборке можно увидеть в таблице. \n",
    "    \n",
    "Исходя из критерия максимизации показателя F1 я выбрала модель Случайного леса с установленным порогом отнесения к классам - 0.34. При использовании этой модели показатель F1 получился равным 0.6, полнота получилась 0.56.          \n",
    "Также можно рассмотреть варианты порога чуть больше или чуть меньше, которые покажут лучше результат полноты, если будет стоять такая задача.    \n",
    "      \n",
    "<div>"
   ]
  },
  {
   "cell_type": "markdown",
   "metadata": {},
   "source": [
    "## Тестирование модели"
   ]
  },
  {
   "cell_type": "markdown",
   "metadata": {},
   "source": [
    "<div style=\"background-color:#e0ffff; color:#191970; padding:10px\">\n",
    " \n",
    "# Комментарий\n",
    "\n",
    "Для выбранной модели провела итоговую проверку на тестовой выборке, определила показатель ROC_AUC, построила график ROC-кривой.    \n",
    "      \n",
    "<div>"
   ]
  },
  {
   "cell_type": "code",
   "execution_count": 50,
   "metadata": {},
   "outputs": [
    {
     "name": "stdout",
     "output_type": "stream",
     "text": [
      "F1: 0.6401925391095067\n"
     ]
    }
   ],
   "source": [
    "probabilities_test = model.predict_proba(features_test)\n",
    "probabilities_one_test = probabilities_test[:, 1]\n",
    "predicted_test = probabilities_one_test > 0.34\n",
    "\n",
    "print(\"F1:\", f1_score(target_test, predicted_test))\n",
    "    "
   ]
  },
  {
   "cell_type": "code",
   "execution_count": 51,
   "metadata": {},
   "outputs": [
    {
     "name": "stderr",
     "output_type": "stream",
     "text": [
      "/tmp/ipykernel_27685/884958933.py:2: FutureWarning: The frame.append method is deprecated and will be removed from pandas in a future version. Use pandas.concat instead.\n",
      "  df_result = df_result.append(row, ignore_index=True)\n"
     ]
    },
    {
     "data": {
      "text/html": [
       "<div>\n",
       "<style scoped>\n",
       "    .dataframe tbody tr th:only-of-type {\n",
       "        vertical-align: middle;\n",
       "    }\n",
       "\n",
       "    .dataframe tbody tr th {\n",
       "        vertical-align: top;\n",
       "    }\n",
       "\n",
       "    .dataframe thead th {\n",
       "        text-align: right;\n",
       "    }\n",
       "</style>\n",
       "<table border=\"1\" class=\"dataframe\">\n",
       "  <thead>\n",
       "    <tr style=\"text-align: right;\">\n",
       "      <th></th>\n",
       "      <th>model</th>\n",
       "      <th>tp</th>\n",
       "      <th>tn</th>\n",
       "      <th>fp</th>\n",
       "      <th>fn</th>\n",
       "      <th>correct</th>\n",
       "      <th>incorrect</th>\n",
       "      <th>accuracy</th>\n",
       "      <th>precision</th>\n",
       "      <th>recall</th>\n",
       "      <th>f1</th>\n",
       "      <th>roc_auc</th>\n",
       "    </tr>\n",
       "  </thead>\n",
       "  <tbody>\n",
       "    <tr>\n",
       "      <th>0</th>\n",
       "      <td>Logistic Regression</td>\n",
       "      <td>93</td>\n",
       "      <td>1528</td>\n",
       "      <td>55</td>\n",
       "      <td>324</td>\n",
       "      <td>1621</td>\n",
       "      <td>379</td>\n",
       "      <td>0.810</td>\n",
       "      <td>0.628</td>\n",
       "      <td>0.223</td>\n",
       "      <td>0.329</td>\n",
       "      <td>0.775</td>\n",
       "    </tr>\n",
       "    <tr>\n",
       "      <th>1</th>\n",
       "      <td>Random Forest</td>\n",
       "      <td>195</td>\n",
       "      <td>1540</td>\n",
       "      <td>43</td>\n",
       "      <td>222</td>\n",
       "      <td>1735</td>\n",
       "      <td>265</td>\n",
       "      <td>0.868</td>\n",
       "      <td>0.819</td>\n",
       "      <td>0.468</td>\n",
       "      <td>0.595</td>\n",
       "      <td>0.868</td>\n",
       "    </tr>\n",
       "    <tr>\n",
       "      <th>2</th>\n",
       "      <td>Logistic Regression balanced</td>\n",
       "      <td>285</td>\n",
       "      <td>1138</td>\n",
       "      <td>445</td>\n",
       "      <td>132</td>\n",
       "      <td>1423</td>\n",
       "      <td>577</td>\n",
       "      <td>0.712</td>\n",
       "      <td>0.390</td>\n",
       "      <td>0.683</td>\n",
       "      <td>0.497</td>\n",
       "      <td>0.779</td>\n",
       "    </tr>\n",
       "    <tr>\n",
       "      <th>3</th>\n",
       "      <td>Random Forest balanced</td>\n",
       "      <td>266</td>\n",
       "      <td>1454</td>\n",
       "      <td>129</td>\n",
       "      <td>151</td>\n",
       "      <td>1720</td>\n",
       "      <td>280</td>\n",
       "      <td>0.860</td>\n",
       "      <td>0.673</td>\n",
       "      <td>0.638</td>\n",
       "      <td>0.655</td>\n",
       "      <td>0.869</td>\n",
       "    </tr>\n",
       "    <tr>\n",
       "      <th>4</th>\n",
       "      <td>Logistic Regression upsampled</td>\n",
       "      <td>237</td>\n",
       "      <td>1275</td>\n",
       "      <td>308</td>\n",
       "      <td>180</td>\n",
       "      <td>1512</td>\n",
       "      <td>488</td>\n",
       "      <td>0.756</td>\n",
       "      <td>0.435</td>\n",
       "      <td>0.568</td>\n",
       "      <td>0.493</td>\n",
       "      <td>0.778</td>\n",
       "    </tr>\n",
       "    <tr>\n",
       "      <th>5</th>\n",
       "      <td>Random Forest upsampled</td>\n",
       "      <td>271</td>\n",
       "      <td>1431</td>\n",
       "      <td>152</td>\n",
       "      <td>146</td>\n",
       "      <td>1702</td>\n",
       "      <td>298</td>\n",
       "      <td>0.851</td>\n",
       "      <td>0.641</td>\n",
       "      <td>0.650</td>\n",
       "      <td>0.645</td>\n",
       "      <td>0.867</td>\n",
       "    </tr>\n",
       "    <tr>\n",
       "      <th>6</th>\n",
       "      <td>Logistic Regression downsampled</td>\n",
       "      <td>238</td>\n",
       "      <td>1264</td>\n",
       "      <td>319</td>\n",
       "      <td>179</td>\n",
       "      <td>1502</td>\n",
       "      <td>498</td>\n",
       "      <td>0.751</td>\n",
       "      <td>0.427</td>\n",
       "      <td>0.571</td>\n",
       "      <td>0.489</td>\n",
       "      <td>0.867</td>\n",
       "    </tr>\n",
       "    <tr>\n",
       "      <th>7</th>\n",
       "      <td>Random Forest downsampled</td>\n",
       "      <td>296</td>\n",
       "      <td>1354</td>\n",
       "      <td>229</td>\n",
       "      <td>121</td>\n",
       "      <td>1650</td>\n",
       "      <td>350</td>\n",
       "      <td>0.825</td>\n",
       "      <td>0.564</td>\n",
       "      <td>0.710</td>\n",
       "      <td>0.628</td>\n",
       "      <td>0.867</td>\n",
       "    </tr>\n",
       "    <tr>\n",
       "      <th>8</th>\n",
       "      <td>Logistic Regression SMOTE</td>\n",
       "      <td>256</td>\n",
       "      <td>1189</td>\n",
       "      <td>394</td>\n",
       "      <td>161</td>\n",
       "      <td>1445</td>\n",
       "      <td>555</td>\n",
       "      <td>0.722</td>\n",
       "      <td>0.394</td>\n",
       "      <td>0.614</td>\n",
       "      <td>0.480</td>\n",
       "      <td>0.748</td>\n",
       "    </tr>\n",
       "    <tr>\n",
       "      <th>9</th>\n",
       "      <td>Random Forest SMOTE</td>\n",
       "      <td>287</td>\n",
       "      <td>1365</td>\n",
       "      <td>218</td>\n",
       "      <td>130</td>\n",
       "      <td>1652</td>\n",
       "      <td>348</td>\n",
       "      <td>0.826</td>\n",
       "      <td>0.568</td>\n",
       "      <td>0.688</td>\n",
       "      <td>0.623</td>\n",
       "      <td>0.852</td>\n",
       "    </tr>\n",
       "    <tr>\n",
       "      <th>10</th>\n",
       "      <td>Random Forest threshold 0.34 VALID</td>\n",
       "      <td>255</td>\n",
       "      <td>1468</td>\n",
       "      <td>115</td>\n",
       "      <td>162</td>\n",
       "      <td>1723</td>\n",
       "      <td>277</td>\n",
       "      <td>0.862</td>\n",
       "      <td>0.689</td>\n",
       "      <td>0.612</td>\n",
       "      <td>0.648</td>\n",
       "      <td>0.868</td>\n",
       "    </tr>\n",
       "    <tr>\n",
       "      <th>11</th>\n",
       "      <td>Random Forest final TEST</td>\n",
       "      <td>266</td>\n",
       "      <td>1435</td>\n",
       "      <td>160</td>\n",
       "      <td>139</td>\n",
       "      <td>1701</td>\n",
       "      <td>299</td>\n",
       "      <td>0.850</td>\n",
       "      <td>0.624</td>\n",
       "      <td>0.657</td>\n",
       "      <td>0.640</td>\n",
       "      <td>0.870</td>\n",
       "    </tr>\n",
       "  </tbody>\n",
       "</table>\n",
       "</div>"
      ],
      "text/plain": [
       "                                 model   tp    tn   fp   fn correct incorrect  \\\n",
       "0                  Logistic Regression   93  1528   55  324    1621       379   \n",
       "1                        Random Forest  195  1540   43  222    1735       265   \n",
       "2         Logistic Regression balanced  285  1138  445  132    1423       577   \n",
       "3               Random Forest balanced  266  1454  129  151    1720       280   \n",
       "4        Logistic Regression upsampled  237  1275  308  180    1512       488   \n",
       "5              Random Forest upsampled  271  1431  152  146    1702       298   \n",
       "6      Logistic Regression downsampled  238  1264  319  179    1502       498   \n",
       "7            Random Forest downsampled  296  1354  229  121    1650       350   \n",
       "8            Logistic Regression SMOTE  256  1189  394  161    1445       555   \n",
       "9                  Random Forest SMOTE  287  1365  218  130    1652       348   \n",
       "10  Random Forest threshold 0.34 VALID  255  1468  115  162    1723       277   \n",
       "11            Random Forest final TEST  266  1435  160  139    1701       299   \n",
       "\n",
       "    accuracy  precision  recall     f1  roc_auc  \n",
       "0      0.810      0.628   0.223  0.329    0.775  \n",
       "1      0.868      0.819   0.468  0.595    0.868  \n",
       "2      0.712      0.390   0.683  0.497    0.779  \n",
       "3      0.860      0.673   0.638  0.655    0.869  \n",
       "4      0.756      0.435   0.568  0.493    0.778  \n",
       "5      0.851      0.641   0.650  0.645    0.867  \n",
       "6      0.751      0.427   0.571  0.489    0.867  \n",
       "7      0.825      0.564   0.710  0.628    0.867  \n",
       "8      0.722      0.394   0.614  0.480    0.748  \n",
       "9      0.826      0.568   0.688  0.623    0.852  \n",
       "10     0.862      0.689   0.612  0.648    0.868  \n",
       "11     0.850      0.624   0.657  0.640    0.870  "
      ]
     },
     "execution_count": 51,
     "metadata": {},
     "output_type": "execute_result"
    }
   ],
   "source": [
    "row = metric(target_test, predicted_test, features_test, 'Random Forest final TEST')\n",
    "df_result = df_result.append(row, ignore_index=True)\n",
    "df_result"
   ]
  },
  {
   "cell_type": "code",
   "execution_count": 52,
   "metadata": {},
   "outputs": [
    {
     "name": "stdout",
     "output_type": "stream",
     "text": [
      "ROC_AUC: 0.8701281009326985\n"
     ]
    },
    {
     "data": {
      "image/png": "[encoded data removed]",
      "text/plain": [
       "<Figure size 640x480 with 1 Axes>"
      ]
     },
     "metadata": {},
     "output_type": "display_data"
    }
   ],
   "source": [
    "roc_auc = roc_auc_score(target_test, probabilities_one_test)\n",
    "\n",
    "print(\"ROC_AUC:\", roc_auc)\n",
    "fpr, tpr, thresholds = roc_curve(target_test, probabilities_one_test) \n",
    "\n",
    "plt.figure()\n",
    "plt.plot(fpr, tpr)\n",
    "plt.plot([0, 1], [0, 1], linestyle='--')\n",
    "plt.xlim([0,1])\n",
    "plt.ylim([0,1])\n",
    "plt.xlabel('False Positive Rate')\n",
    "plt.ylabel('True Positive Rate')\n",
    "plt.title('ROC-кривая')\n",
    "plt.show()"
   ]
  },
  {
   "cell_type": "code",
   "execution_count": 53,
   "metadata": {},
   "outputs": [
    {
     "data": {
      "text/html": [
       "<div>\n",
       "<style scoped>\n",
       "    .dataframe tbody tr th:only-of-type {\n",
       "        vertical-align: middle;\n",
       "    }\n",
       "\n",
       "    .dataframe tbody tr th {\n",
       "        vertical-align: top;\n",
       "    }\n",
       "\n",
       "    .dataframe thead th {\n",
       "        text-align: right;\n",
       "    }\n",
       "</style>\n",
       "<table border=\"1\" class=\"dataframe\">\n",
       "  <thead>\n",
       "    <tr style=\"text-align: right;\">\n",
       "      <th></th>\n",
       "      <th>name</th>\n",
       "      <th>features_importance</th>\n",
       "    </tr>\n",
       "  </thead>\n",
       "  <tbody>\n",
       "    <tr>\n",
       "      <th>0</th>\n",
       "      <td>Age</td>\n",
       "      <td>0.287818</td>\n",
       "    </tr>\n",
       "    <tr>\n",
       "      <th>1</th>\n",
       "      <td>NumOfProducts</td>\n",
       "      <td>0.198177</td>\n",
       "    </tr>\n",
       "    <tr>\n",
       "      <th>2</th>\n",
       "      <td>Balance</td>\n",
       "      <td>0.127054</td>\n",
       "    </tr>\n",
       "    <tr>\n",
       "      <th>3</th>\n",
       "      <td>CreditScore</td>\n",
       "      <td>0.099092</td>\n",
       "    </tr>\n",
       "    <tr>\n",
       "      <th>4</th>\n",
       "      <td>EstimatedSalary</td>\n",
       "      <td>0.098144</td>\n",
       "    </tr>\n",
       "    <tr>\n",
       "      <th>5</th>\n",
       "      <td>Tenure</td>\n",
       "      <td>0.056350</td>\n",
       "    </tr>\n",
       "    <tr>\n",
       "      <th>6</th>\n",
       "      <td>IsActiveMember</td>\n",
       "      <td>0.049024</td>\n",
       "    </tr>\n",
       "    <tr>\n",
       "      <th>7</th>\n",
       "      <td>Germany</td>\n",
       "      <td>0.039955</td>\n",
       "    </tr>\n",
       "    <tr>\n",
       "      <th>8</th>\n",
       "      <td>Gender_men</td>\n",
       "      <td>0.021495</td>\n",
       "    </tr>\n",
       "    <tr>\n",
       "      <th>9</th>\n",
       "      <td>HasCrCard</td>\n",
       "      <td>0.013226</td>\n",
       "    </tr>\n",
       "    <tr>\n",
       "      <th>10</th>\n",
       "      <td>Spain</td>\n",
       "      <td>0.009663</td>\n",
       "    </tr>\n",
       "  </tbody>\n",
       "</table>\n",
       "</div>"
      ],
      "text/plain": [
       "               name  features_importance\n",
       "0               Age             0.287818\n",
       "1     NumOfProducts             0.198177\n",
       "2           Balance             0.127054\n",
       "3       CreditScore             0.099092\n",
       "4   EstimatedSalary             0.098144\n",
       "5            Tenure             0.056350\n",
       "6    IsActiveMember             0.049024\n",
       "7           Germany             0.039955\n",
       "8        Gender_men             0.021495\n",
       "9         HasCrCard             0.013226\n",
       "10            Spain             0.009663"
      ]
     },
     "execution_count": 53,
     "metadata": {},
     "output_type": "execute_result"
    }
   ],
   "source": [
    "# Определение важности признаков\n",
    "\n",
    "features_importance = pd.DataFrame({'name':features_test.columns,'features_importance':model.feature_importances_})\n",
    "features_importance.sort_values('features_importance',ascending=False).reset_index(drop=True)\n"
   ]
  },
  {
   "cell_type": "markdown",
   "metadata": {},
   "source": [
    "<div style=\"background-color:#e0ffff; color:#191970; padding:10px\">\n",
    " \n",
    "# Общий вывод по проекту     \n",
    "\n",
    "**Целью проекта** было построить систему, способную спрогнозировать, уйдет ли клиент из банка в ближайшее время для того, чтобы можно было их каким-то образом попробовать удержать. При этом нужно было построить модель с максимально большим показателем F-меры, но не меньше 0.59.   \n",
    "\n",
    "Имелся некоторый датасет с данными в целом о клиентах, в том числе о тех, которые ушли.\n",
    "\n",
    "Для достижения поставленной цели мной было сделано следующее:\n",
    "\n",
    "1. Просмотрен имеющийся датасет, произведены его преобразования:\n",
    "    - использован заполнитель \"-1\" к отсутствующим данным признака *сколько лет человек является клиентом банка*,\n",
    "    - исключила нерелевантные признаки(RowNumber, CustomerId, Surname),\n",
    "    - применила технику прямого кодирования для того, чтобы преобразовать категориальные признаки *пол* и *страна* \n",
    "    - также на этом этапе изучила взаимозависимость признаков с целевым признаком, обнаружила наличие некоторой взаимосвязи количества продуктов и возраста с вероятностью ухода клиента. Впоследствии при определении важности признаков в итоговой модели критерий возраста также нашел свое подтверждение,\n",
    "    - изучила соотношение классов в целях обнаружения из несбалансированности, получилось соотношение примерно 1:4,\n",
    "    - разбила датасет на тренировочную, валидационную и тестовую выборки\n",
    "    - применила масштабирование для признаков, имеющих разный масштаб (кредитный рейтинг, возраст, баланс, предполагаемая зарплата).        \n",
    "\n",
    "2. Использовала получившиеся выборки для обучения моделей классификации Логистической регрессии и Случайного леса без учета дисбаланса классов, зафиксировала получившиеся результаты: метрика F-мера логистической регрессии получилась - 0.32, у Случайного леса - 0.56.\n",
    "\n",
    "3. Применила **5 вариантов** устранения проблемы дисбаланса классов, изучила полученные результаты на валидационной выборке, составила таблицу - сравнение некоторых метрик получившихся моделей, при этом:     \n",
    "    - наилучший результат F-меры получился у модели Случайного леса с установлением порога отнесения к признакам 0.38,\n",
    "    - если задачей исследования является выявление бОльшего количества потенциальных клиентов банка, которые могут уйти, важным показателем является метрика \"полнота\". Другие метрики также дополняют картину для проведения анализа.\n",
    "    \n",
    "4. Выбраная модель показала на тестовой выборке следующие результаты:\n",
    "    - F-мера - 0.62,\n",
    "    - полнота - 0.60,\n",
    "    - ROC_AUC - 0.85,\n",
    "    - анализ значимости признаков показал наибольшую важность признака возраст.\n",
    "    \n",
    "    \n",
    "    \n",
    "      \n",
    "      \n",
    "<div>"
   ]
  },
  {
   "cell_type": "code",
   "execution_count": null,
   "metadata": {},
   "outputs": [],
   "source": []
  }
 ],
 "metadata": {
  "ExecuteTimeLog": [
   {
    "duration": 2312,
    "start_time": "2022-11-17T17:50:10.215Z"
   },
   {
    "duration": 16,
    "start_time": "2022-11-17T17:50:21.654Z"
   },
   {
    "duration": 17,
    "start_time": "2022-11-17T17:57:24.268Z"
   },
   {
    "duration": 16,
    "start_time": "2022-11-17T17:58:01.316Z"
   },
   {
    "duration": 15,
    "start_time": "2022-11-17T17:58:25.361Z"
   },
   {
    "duration": 1279,
    "start_time": "2022-11-17T17:59:05.892Z"
   },
   {
    "duration": 67,
    "start_time": "2022-11-17T18:01:08.368Z"
   },
   {
    "duration": 55,
    "start_time": "2022-11-17T18:16:30.435Z"
   },
   {
    "duration": 61,
    "start_time": "2022-11-17T18:16:31.669Z"
   },
   {
    "duration": 13,
    "start_time": "2022-11-17T18:16:34.066Z"
   },
   {
    "duration": 13,
    "start_time": "2022-11-17T18:16:47.353Z"
   },
   {
    "duration": 44,
    "start_time": "2022-11-17T18:16:59.609Z"
   },
   {
    "duration": 51,
    "start_time": "2022-11-17T18:17:12.418Z"
   },
   {
    "duration": 178,
    "start_time": "2022-11-17T18:21:19.560Z"
   },
   {
    "duration": 14,
    "start_time": "2022-11-17T18:21:20.816Z"
   },
   {
    "duration": 51,
    "start_time": "2022-11-17T18:21:21.468Z"
   },
   {
    "duration": 15,
    "start_time": "2022-11-17T18:21:31.890Z"
   },
   {
    "duration": 30,
    "start_time": "2022-11-17T18:21:41.345Z"
   },
   {
    "duration": 15,
    "start_time": "2022-11-17T18:21:53.319Z"
   },
   {
    "duration": 4,
    "start_time": "2022-11-17T18:22:02.127Z"
   },
   {
    "duration": 13,
    "start_time": "2022-11-17T18:22:12.850Z"
   },
   {
    "duration": 24,
    "start_time": "2022-11-17T18:32:16.148Z"
   },
   {
    "duration": 761,
    "start_time": "2022-11-17T18:33:24.015Z"
   },
   {
    "duration": 710,
    "start_time": "2022-11-17T18:33:38.687Z"
   },
   {
    "duration": 777,
    "start_time": "2022-11-17T18:33:52.986Z"
   },
   {
    "duration": 815,
    "start_time": "2022-11-17T18:34:03.442Z"
   },
   {
    "duration": 25,
    "start_time": "2022-11-17T18:34:55.497Z"
   },
   {
    "duration": 11,
    "start_time": "2022-11-17T18:35:19.392Z"
   },
   {
    "duration": 11,
    "start_time": "2022-11-17T18:35:28.032Z"
   },
   {
    "duration": 10,
    "start_time": "2022-11-17T18:35:31.208Z"
   },
   {
    "duration": 10,
    "start_time": "2022-11-17T18:35:34.617Z"
   },
   {
    "duration": 8,
    "start_time": "2022-11-17T18:36:10.765Z"
   },
   {
    "duration": 46,
    "start_time": "2022-11-17T18:37:23.999Z"
   },
   {
    "duration": 42,
    "start_time": "2022-11-17T18:37:35.999Z"
   },
   {
    "duration": 34,
    "start_time": "2022-11-17T18:40:27.167Z"
   },
   {
    "duration": 37,
    "start_time": "2022-11-17T18:40:44.205Z"
   },
   {
    "duration": 38,
    "start_time": "2022-11-17T18:41:18.362Z"
   },
   {
    "duration": 40,
    "start_time": "2022-11-17T18:41:39.828Z"
   },
   {
    "duration": 13,
    "start_time": "2022-11-17T18:41:43.872Z"
   },
   {
    "duration": 4,
    "start_time": "2022-11-17T18:41:57.435Z"
   },
   {
    "duration": 39,
    "start_time": "2022-11-17T18:41:57.970Z"
   },
   {
    "duration": 14,
    "start_time": "2022-11-17T18:41:59.132Z"
   },
   {
    "duration": 14,
    "start_time": "2022-11-17T18:42:03.150Z"
   },
   {
    "duration": 33,
    "start_time": "2022-11-17T18:42:03.968Z"
   },
   {
    "duration": 3,
    "start_time": "2022-11-17T18:42:25.430Z"
   },
   {
    "duration": 56,
    "start_time": "2022-11-17T18:42:25.436Z"
   },
   {
    "duration": 15,
    "start_time": "2022-11-17T18:42:25.495Z"
   },
   {
    "duration": 13,
    "start_time": "2022-11-17T18:42:25.512Z"
   },
   {
    "duration": 32,
    "start_time": "2022-11-17T18:42:25.527Z"
   },
   {
    "duration": 12,
    "start_time": "2022-11-17T18:42:43.887Z"
   },
   {
    "duration": 34,
    "start_time": "2022-11-17T18:42:45.313Z"
   },
   {
    "duration": 42,
    "start_time": "2022-11-17T18:44:38.367Z"
   },
   {
    "duration": 52,
    "start_time": "2022-11-17T18:45:46.647Z"
   },
   {
    "duration": 18,
    "start_time": "2022-11-17T18:45:47.426Z"
   },
   {
    "duration": 16,
    "start_time": "2022-11-17T18:45:48.542Z"
   },
   {
    "duration": 43,
    "start_time": "2022-11-17T18:45:49.526Z"
   },
   {
    "duration": 47,
    "start_time": "2022-11-17T18:45:59.607Z"
   },
   {
    "duration": 5,
    "start_time": "2022-11-17T18:47:27.523Z"
   },
   {
    "duration": 50,
    "start_time": "2022-11-17T18:47:28.422Z"
   },
   {
    "duration": 1119,
    "start_time": "2022-11-19T19:24:01.903Z"
   },
   {
    "duration": 103,
    "start_time": "2022-11-19T19:24:03.024Z"
   },
   {
    "duration": 164,
    "start_time": "2022-11-19T19:24:03.571Z"
   },
   {
    "duration": 3,
    "start_time": "2022-11-19T19:25:03.467Z"
   },
   {
    "duration": 39,
    "start_time": "2022-11-19T19:25:42.751Z"
   },
   {
    "duration": 61,
    "start_time": "2022-11-19T19:25:43.246Z"
   },
   {
    "duration": 1065,
    "start_time": "2022-11-19T19:26:13.080Z"
   },
   {
    "duration": 5,
    "start_time": "2022-11-19T19:26:14.148Z"
   },
   {
    "duration": 50,
    "start_time": "2022-11-19T19:26:14.155Z"
   },
   {
    "duration": 66,
    "start_time": "2022-11-19T19:26:14.207Z"
   },
   {
    "duration": 16,
    "start_time": "2022-11-19T19:26:14.275Z"
   },
   {
    "duration": 10,
    "start_time": "2022-11-19T19:26:14.293Z"
   },
   {
    "duration": 92,
    "start_time": "2022-11-19T19:26:14.305Z"
   },
   {
    "duration": 60,
    "start_time": "2022-11-19T19:26:46.888Z"
   },
   {
    "duration": 15,
    "start_time": "2022-11-19T19:26:55.480Z"
   },
   {
    "duration": 45,
    "start_time": "2022-11-19T19:27:07.036Z"
   },
   {
    "duration": 45,
    "start_time": "2022-11-19T19:27:07.897Z"
   },
   {
    "duration": 37,
    "start_time": "2022-11-19T19:27:14.560Z"
   },
   {
    "duration": 37,
    "start_time": "2022-11-19T19:27:25.020Z"
   },
   {
    "duration": 41,
    "start_time": "2022-11-19T19:27:38.667Z"
   },
   {
    "duration": 46,
    "start_time": "2022-11-19T19:27:42.907Z"
   },
   {
    "duration": 3,
    "start_time": "2022-11-19T19:28:09.108Z"
   },
   {
    "duration": 3,
    "start_time": "2022-11-19T19:28:10.076Z"
   },
   {
    "duration": 46,
    "start_time": "2022-11-19T19:28:10.647Z"
   },
   {
    "duration": 37,
    "start_time": "2022-11-19T19:28:11.288Z"
   },
   {
    "duration": 13,
    "start_time": "2022-11-19T19:28:12.616Z"
   },
   {
    "duration": 5,
    "start_time": "2022-11-19T19:28:13.211Z"
   },
   {
    "duration": 64,
    "start_time": "2022-11-19T19:28:15.662Z"
   },
   {
    "duration": 41,
    "start_time": "2022-11-19T19:30:29.819Z"
   },
   {
    "duration": 40,
    "start_time": "2022-11-19T19:30:30.537Z"
   },
   {
    "duration": 12,
    "start_time": "2022-11-19T19:30:31.931Z"
   },
   {
    "duration": 5,
    "start_time": "2022-11-19T19:30:32.661Z"
   },
   {
    "duration": 62,
    "start_time": "2022-11-19T19:30:34.245Z"
   },
   {
    "duration": 46,
    "start_time": "2022-11-19T19:31:19.689Z"
   },
   {
    "duration": 36,
    "start_time": "2022-11-19T19:31:20.420Z"
   },
   {
    "duration": 106,
    "start_time": "2022-11-19T19:32:05.056Z"
   },
   {
    "duration": 11,
    "start_time": "2022-11-19T19:33:42.292Z"
   },
   {
    "duration": 5,
    "start_time": "2022-11-19T19:33:48.758Z"
   },
   {
    "duration": 15,
    "start_time": "2022-11-19T19:34:52.406Z"
   },
   {
    "duration": 8,
    "start_time": "2022-11-19T19:34:58.855Z"
   },
   {
    "duration": 37,
    "start_time": "2022-11-19T19:35:06.616Z"
   },
   {
    "duration": 2,
    "start_time": "2022-11-19T19:37:24.343Z"
   },
   {
    "duration": 2,
    "start_time": "2022-11-19T19:37:25.255Z"
   },
   {
    "duration": 39,
    "start_time": "2022-11-19T19:37:25.869Z"
   },
   {
    "duration": 5,
    "start_time": "2022-11-19T19:37:26.402Z"
   },
   {
    "duration": 37,
    "start_time": "2022-11-19T19:37:27.105Z"
   },
   {
    "duration": 3,
    "start_time": "2022-11-19T19:39:37.791Z"
   },
   {
    "duration": 10,
    "start_time": "2022-11-19T19:39:37.796Z"
   },
   {
    "duration": 50,
    "start_time": "2022-11-19T19:39:37.808Z"
   },
   {
    "duration": 44,
    "start_time": "2022-11-19T19:39:37.859Z"
   },
   {
    "duration": 12,
    "start_time": "2022-11-19T19:39:37.905Z"
   },
   {
    "duration": 6,
    "start_time": "2022-11-19T19:39:37.919Z"
   },
   {
    "duration": 87,
    "start_time": "2022-11-19T19:39:37.927Z"
   },
   {
    "duration": 1098,
    "start_time": "2022-11-20T09:43:04.038Z"
   },
   {
    "duration": 3,
    "start_time": "2022-11-20T09:43:05.138Z"
   },
   {
    "duration": 172,
    "start_time": "2022-11-20T09:43:05.142Z"
   },
   {
    "duration": 20,
    "start_time": "2022-11-20T09:43:05.315Z"
   },
   {
    "duration": 17,
    "start_time": "2022-11-20T09:43:05.337Z"
   },
   {
    "duration": 5,
    "start_time": "2022-11-20T09:43:05.355Z"
   },
   {
    "duration": 66,
    "start_time": "2022-11-20T09:43:05.361Z"
   },
   {
    "duration": 3,
    "start_time": "2022-11-20T09:43:25.086Z"
   },
   {
    "duration": 37,
    "start_time": "2022-11-20T09:43:26.096Z"
   },
   {
    "duration": 12,
    "start_time": "2022-11-20T09:43:26.484Z"
   },
   {
    "duration": 3,
    "start_time": "2022-11-20T09:44:18.426Z"
   },
   {
    "duration": 2,
    "start_time": "2022-11-20T09:44:19.098Z"
   },
   {
    "duration": 39,
    "start_time": "2022-11-20T09:44:19.581Z"
   },
   {
    "duration": 56,
    "start_time": "2022-11-20T09:44:20.212Z"
   },
   {
    "duration": 3,
    "start_time": "2022-11-20T09:44:41.399Z"
   },
   {
    "duration": 2,
    "start_time": "2022-11-20T09:44:41.884Z"
   },
   {
    "duration": 45,
    "start_time": "2022-11-20T09:44:42.310Z"
   },
   {
    "duration": 48,
    "start_time": "2022-11-20T09:44:42.895Z"
   },
   {
    "duration": 3,
    "start_time": "2022-11-20T09:57:15.878Z"
   },
   {
    "duration": 2,
    "start_time": "2022-11-20T09:57:15.886Z"
   },
   {
    "duration": 39,
    "start_time": "2022-11-20T09:57:15.892Z"
   },
   {
    "duration": 36,
    "start_time": "2022-11-20T09:57:15.933Z"
   },
   {
    "duration": 11,
    "start_time": "2022-11-20T09:57:15.970Z"
   },
   {
    "duration": 4,
    "start_time": "2022-11-20T09:57:15.983Z"
   },
   {
    "duration": 71,
    "start_time": "2022-11-20T09:57:15.988Z"
   },
   {
    "duration": 22,
    "start_time": "2022-11-20T10:07:18.366Z"
   },
   {
    "duration": 3,
    "start_time": "2022-11-20T10:07:23.640Z"
   },
   {
    "duration": 125,
    "start_time": "2022-11-20T10:07:24.136Z"
   },
   {
    "duration": 78,
    "start_time": "2022-11-20T10:08:54.033Z"
   },
   {
    "duration": 26,
    "start_time": "2022-11-20T10:08:55.680Z"
   },
   {
    "duration": 34,
    "start_time": "2022-11-20T10:09:03.613Z"
   },
   {
    "duration": 4,
    "start_time": "2022-11-20T10:09:32.714Z"
   },
   {
    "duration": 22,
    "start_time": "2022-11-20T10:09:48.498Z"
   },
   {
    "duration": 11,
    "start_time": "2022-11-20T10:09:52.176Z"
   },
   {
    "duration": 36,
    "start_time": "2022-11-20T10:09:59.836Z"
   },
   {
    "duration": 42,
    "start_time": "2022-11-20T10:13:48.239Z"
   },
   {
    "duration": 12,
    "start_time": "2022-11-20T10:13:48.982Z"
   },
   {
    "duration": 6,
    "start_time": "2022-11-20T10:13:49.572Z"
   },
   {
    "duration": 39,
    "start_time": "2022-11-20T10:13:58.650Z"
   },
   {
    "duration": 11,
    "start_time": "2022-11-20T10:13:59.291Z"
   },
   {
    "duration": 34,
    "start_time": "2022-11-20T10:14:00.079Z"
   },
   {
    "duration": 59,
    "start_time": "2022-11-20T10:16:40.494Z"
   },
   {
    "duration": 2,
    "start_time": "2022-11-20T10:17:27.324Z"
   },
   {
    "duration": 38,
    "start_time": "2022-11-20T10:17:27.828Z"
   },
   {
    "duration": 11,
    "start_time": "2022-11-20T10:17:28.685Z"
   },
   {
    "duration": 53,
    "start_time": "2022-11-20T10:17:29.436Z"
   },
   {
    "duration": 3,
    "start_time": "2022-11-20T10:17:53.351Z"
   },
   {
    "duration": 40,
    "start_time": "2022-11-20T10:17:53.827Z"
   },
   {
    "duration": 11,
    "start_time": "2022-11-20T10:17:54.307Z"
   },
   {
    "duration": 59,
    "start_time": "2022-11-20T10:17:54.983Z"
   },
   {
    "duration": 39,
    "start_time": "2022-11-20T10:18:48.135Z"
   },
   {
    "duration": 11,
    "start_time": "2022-11-20T10:18:48.698Z"
   },
   {
    "duration": 55,
    "start_time": "2022-11-20T10:18:49.274Z"
   },
   {
    "duration": 386,
    "start_time": "2022-11-20T10:44:42.782Z"
   },
   {
    "duration": 40,
    "start_time": "2022-11-20T10:44:43.170Z"
   },
   {
    "duration": 15,
    "start_time": "2022-11-20T10:44:43.212Z"
   },
   {
    "duration": 20,
    "start_time": "2022-11-20T10:44:58.518Z"
   },
   {
    "duration": 97,
    "start_time": "2022-11-20T10:46:49.550Z"
   },
   {
    "duration": 51,
    "start_time": "2022-11-20T10:47:09.229Z"
   },
   {
    "duration": 18,
    "start_time": "2022-11-20T10:47:11.117Z"
   },
   {
    "duration": 12,
    "start_time": "2022-11-20T10:47:18.185Z"
   },
   {
    "duration": 3,
    "start_time": "2022-11-20T10:47:34.582Z"
   },
   {
    "duration": 43,
    "start_time": "2022-11-20T10:47:35.002Z"
   },
   {
    "duration": 18,
    "start_time": "2022-11-20T10:47:35.409Z"
   },
   {
    "duration": 10,
    "start_time": "2022-11-20T10:47:36.136Z"
   },
   {
    "duration": 39,
    "start_time": "2022-11-20T10:47:48.782Z"
   },
   {
    "duration": 38,
    "start_time": "2022-11-20T10:56:58.278Z"
   },
   {
    "duration": 11,
    "start_time": "2022-11-20T10:56:58.919Z"
   },
   {
    "duration": 11,
    "start_time": "2022-11-20T10:57:02.057Z"
   },
   {
    "duration": 38,
    "start_time": "2022-11-20T10:57:05.174Z"
   },
   {
    "duration": 3,
    "start_time": "2022-11-20T10:57:34.902Z"
   },
   {
    "duration": 4,
    "start_time": "2022-11-20T10:57:35.724Z"
   },
   {
    "duration": 11,
    "start_time": "2022-11-20T10:57:49.141Z"
   },
   {
    "duration": 2,
    "start_time": "2022-11-20T10:58:13.722Z"
   },
   {
    "duration": 38,
    "start_time": "2022-11-20T10:58:14.202Z"
   },
   {
    "duration": 13,
    "start_time": "2022-11-20T10:58:14.685Z"
   },
   {
    "duration": 16,
    "start_time": "2022-11-20T10:58:17.545Z"
   },
   {
    "duration": 12,
    "start_time": "2022-11-20T10:58:20.581Z"
   },
   {
    "duration": 3,
    "start_time": "2022-11-20T11:00:23.620Z"
   },
   {
    "duration": 12,
    "start_time": "2022-11-20T11:00:24.495Z"
   },
   {
    "duration": 12,
    "start_time": "2022-11-20T11:00:32.374Z"
   },
   {
    "duration": 6,
    "start_time": "2022-11-20T11:05:37.298Z"
   },
   {
    "duration": 2,
    "start_time": "2022-11-20T11:05:43.399Z"
   },
   {
    "duration": 38,
    "start_time": "2022-11-20T11:05:44.550Z"
   },
   {
    "duration": 12,
    "start_time": "2022-11-20T11:05:45.157Z"
   },
   {
    "duration": 4,
    "start_time": "2022-11-20T11:05:47.342Z"
   },
   {
    "duration": 12,
    "start_time": "2022-11-20T11:05:47.891Z"
   },
   {
    "duration": 463,
    "start_time": "2022-11-20T11:14:46.946Z"
   },
   {
    "duration": 105,
    "start_time": "2022-11-20T11:15:27.395Z"
   },
   {
    "duration": 96,
    "start_time": "2022-11-20T11:15:36.196Z"
   },
   {
    "duration": 110,
    "start_time": "2022-11-20T11:16:28.412Z"
   },
   {
    "duration": 2,
    "start_time": "2022-11-20T11:16:32.962Z"
   },
   {
    "duration": 154,
    "start_time": "2022-11-20T11:16:36.180Z"
   },
   {
    "duration": 190,
    "start_time": "2022-11-20T11:17:27.978Z"
   },
   {
    "duration": 104,
    "start_time": "2022-11-20T11:18:01.875Z"
   },
   {
    "duration": 112,
    "start_time": "2022-11-20T11:18:14.803Z"
   },
   {
    "duration": 4,
    "start_time": "2022-11-20T12:50:07.229Z"
   },
   {
    "duration": 6,
    "start_time": "2022-11-20T12:51:04.661Z"
   },
   {
    "duration": 10,
    "start_time": "2022-11-20T12:51:39.440Z"
   },
   {
    "duration": 10,
    "start_time": "2022-11-20T12:51:56.943Z"
   },
   {
    "duration": 8,
    "start_time": "2022-11-20T12:52:02.705Z"
   },
   {
    "duration": 21,
    "start_time": "2022-11-20T12:53:20.993Z"
   },
   {
    "duration": 4,
    "start_time": "2022-11-20T12:53:36.434Z"
   },
   {
    "duration": 7,
    "start_time": "2022-11-20T12:54:01.159Z"
   },
   {
    "duration": 8,
    "start_time": "2022-11-20T12:55:54.696Z"
   },
   {
    "duration": 6,
    "start_time": "2022-11-20T12:56:09.626Z"
   },
   {
    "duration": 4,
    "start_time": "2022-11-20T14:40:28.843Z"
   },
   {
    "duration": 5,
    "start_time": "2022-11-20T14:41:10.075Z"
   },
   {
    "duration": 10,
    "start_time": "2022-11-20T14:41:20.747Z"
   },
   {
    "duration": 6,
    "start_time": "2022-11-20T14:41:38.297Z"
   },
   {
    "duration": 15,
    "start_time": "2022-11-20T14:41:38.921Z"
   },
   {
    "duration": 9,
    "start_time": "2022-11-20T14:42:26.704Z"
   },
   {
    "duration": 6,
    "start_time": "2022-11-20T14:43:06.934Z"
   },
   {
    "duration": 6,
    "start_time": "2022-11-20T14:43:47.232Z"
   },
   {
    "duration": 11,
    "start_time": "2022-11-20T14:43:47.834Z"
   },
   {
    "duration": 6,
    "start_time": "2022-11-20T14:46:03.804Z"
   },
   {
    "duration": 5,
    "start_time": "2022-11-20T14:50:14.409Z"
   },
   {
    "duration": 12,
    "start_time": "2022-11-20T14:50:15.523Z"
   },
   {
    "duration": 2,
    "start_time": "2022-11-20T14:50:58.394Z"
   },
   {
    "duration": 6,
    "start_time": "2022-11-20T14:50:58.398Z"
   },
   {
    "duration": 42,
    "start_time": "2022-11-20T14:50:58.405Z"
   },
   {
    "duration": 11,
    "start_time": "2022-11-20T14:50:58.449Z"
   },
   {
    "duration": 3,
    "start_time": "2022-11-20T14:50:58.461Z"
   },
   {
    "duration": 14,
    "start_time": "2022-11-20T14:50:58.465Z"
   },
   {
    "duration": 5,
    "start_time": "2022-11-20T14:50:58.481Z"
   },
   {
    "duration": 8,
    "start_time": "2022-11-20T14:50:58.487Z"
   },
   {
    "duration": 6,
    "start_time": "2022-11-20T14:50:58.496Z"
   },
   {
    "duration": 13,
    "start_time": "2022-11-20T14:50:58.504Z"
   },
   {
    "duration": 8,
    "start_time": "2022-11-20T14:50:58.519Z"
   },
   {
    "duration": 18,
    "start_time": "2022-11-20T14:50:58.529Z"
   },
   {
    "duration": 7,
    "start_time": "2022-11-20T14:50:58.549Z"
   },
   {
    "duration": 11,
    "start_time": "2022-11-20T14:51:09.405Z"
   },
   {
    "duration": 1120,
    "start_time": "2022-11-20T14:52:10.520Z"
   },
   {
    "duration": 3,
    "start_time": "2022-11-20T14:52:26.222Z"
   },
   {
    "duration": 5,
    "start_time": "2022-11-20T14:52:26.232Z"
   },
   {
    "duration": 39,
    "start_time": "2022-11-20T14:52:26.241Z"
   },
   {
    "duration": 12,
    "start_time": "2022-11-20T14:52:26.282Z"
   },
   {
    "duration": 4,
    "start_time": "2022-11-20T14:52:26.297Z"
   },
   {
    "duration": 18,
    "start_time": "2022-11-20T14:52:26.303Z"
   },
   {
    "duration": 8,
    "start_time": "2022-11-20T14:52:26.323Z"
   },
   {
    "duration": 12,
    "start_time": "2022-11-20T14:52:26.333Z"
   },
   {
    "duration": 10,
    "start_time": "2022-11-20T14:52:26.348Z"
   },
   {
    "duration": 15,
    "start_time": "2022-11-20T14:52:26.360Z"
   },
   {
    "duration": 35,
    "start_time": "2022-11-20T14:52:26.377Z"
   },
   {
    "duration": 14,
    "start_time": "2022-11-20T15:01:31.141Z"
   },
   {
    "duration": 126,
    "start_time": "2022-11-20T15:02:09.364Z"
   },
   {
    "duration": 130,
    "start_time": "2022-11-20T15:02:29.003Z"
   },
   {
    "duration": 164,
    "start_time": "2022-11-20T15:04:33.732Z"
   },
   {
    "duration": 108,
    "start_time": "2022-11-20T15:04:50.955Z"
   },
   {
    "duration": 105,
    "start_time": "2022-11-20T15:05:15.178Z"
   },
   {
    "duration": 4,
    "start_time": "2022-11-20T15:12:29.041Z"
   },
   {
    "duration": 4,
    "start_time": "2022-11-20T15:12:43.250Z"
   },
   {
    "duration": 11,
    "start_time": "2022-11-20T15:12:49.767Z"
   },
   {
    "duration": 10,
    "start_time": "2022-11-20T15:14:20.044Z"
   },
   {
    "duration": 1128,
    "start_time": "2022-11-20T15:14:50.306Z"
   },
   {
    "duration": 46,
    "start_time": "2022-11-20T15:14:56.798Z"
   },
   {
    "duration": 74,
    "start_time": "2022-11-20T15:15:55.097Z"
   },
   {
    "duration": 16,
    "start_time": "2022-11-20T15:16:03.841Z"
   },
   {
    "duration": 5,
    "start_time": "2022-11-20T15:19:31.909Z"
   },
   {
    "duration": 7,
    "start_time": "2022-11-20T15:20:39.629Z"
   },
   {
    "duration": 8,
    "start_time": "2022-11-20T15:24:45.606Z"
   },
   {
    "duration": 9,
    "start_time": "2022-11-20T15:25:45.207Z"
   },
   {
    "duration": 6,
    "start_time": "2022-11-20T15:26:37.154Z"
   },
   {
    "duration": 4,
    "start_time": "2022-11-20T15:27:13.895Z"
   },
   {
    "duration": 5,
    "start_time": "2022-11-20T15:27:32.552Z"
   },
   {
    "duration": 5,
    "start_time": "2022-11-20T15:27:48.984Z"
   },
   {
    "duration": 5,
    "start_time": "2022-11-20T15:28:08.045Z"
   },
   {
    "duration": 4,
    "start_time": "2022-11-20T15:28:12.922Z"
   },
   {
    "duration": 4,
    "start_time": "2022-11-20T15:28:18.815Z"
   },
   {
    "duration": 9,
    "start_time": "2022-11-20T15:31:18.466Z"
   },
   {
    "duration": 3,
    "start_time": "2022-11-20T15:33:18.822Z"
   },
   {
    "duration": 8,
    "start_time": "2022-11-20T15:33:55.971Z"
   },
   {
    "duration": 3,
    "start_time": "2022-11-20T15:37:08.276Z"
   },
   {
    "duration": 14,
    "start_time": "2022-11-20T15:38:55.163Z"
   },
   {
    "duration": 14,
    "start_time": "2022-11-20T15:39:17.244Z"
   },
   {
    "duration": 3,
    "start_time": "2022-11-20T15:40:07.541Z"
   },
   {
    "duration": 13,
    "start_time": "2022-11-20T15:40:08.057Z"
   },
   {
    "duration": 3,
    "start_time": "2022-11-20T15:40:33.909Z"
   },
   {
    "duration": 9,
    "start_time": "2022-11-20T15:40:34.526Z"
   },
   {
    "duration": 10,
    "start_time": "2022-11-20T15:40:35.174Z"
   },
   {
    "duration": 18,
    "start_time": "2022-11-20T15:40:41.235Z"
   },
   {
    "duration": 7,
    "start_time": "2022-11-20T15:41:02.722Z"
   },
   {
    "duration": 26,
    "start_time": "2022-11-20T16:40:42.576Z"
   },
   {
    "duration": 52,
    "start_time": "2022-11-20T16:40:47.362Z"
   },
   {
    "duration": 2,
    "start_time": "2022-11-20T16:41:22.434Z"
   },
   {
    "duration": 34,
    "start_time": "2022-11-20T16:41:27.797Z"
   },
   {
    "duration": 31,
    "start_time": "2022-11-20T16:42:44.329Z"
   },
   {
    "duration": 28,
    "start_time": "2022-11-20T16:45:30.924Z"
   },
   {
    "duration": 26,
    "start_time": "2022-11-20T16:45:38.342Z"
   },
   {
    "duration": 13,
    "start_time": "2022-11-20T17:05:02.365Z"
   },
   {
    "duration": 6,
    "start_time": "2022-11-20T17:06:10.532Z"
   },
   {
    "duration": 10,
    "start_time": "2022-11-20T17:06:24.241Z"
   },
   {
    "duration": 3,
    "start_time": "2022-11-20T17:06:31.855Z"
   },
   {
    "duration": 92994,
    "start_time": "2022-11-20T17:06:35.688Z"
   },
   {
    "duration": 4,
    "start_time": "2022-11-20T17:08:08.684Z"
   },
   {
    "duration": 33,
    "start_time": "2022-11-20T17:14:20.821Z"
   },
   {
    "duration": 27,
    "start_time": "2022-11-20T17:14:35.019Z"
   },
   {
    "duration": 23,
    "start_time": "2022-11-20T17:15:33.242Z"
   },
   {
    "duration": 24,
    "start_time": "2022-11-20T17:15:38.974Z"
   },
   {
    "duration": 31,
    "start_time": "2022-11-20T17:16:49.694Z"
   },
   {
    "duration": 3,
    "start_time": "2022-11-20T17:17:07.467Z"
   },
   {
    "duration": 4,
    "start_time": "2022-11-20T17:17:07.475Z"
   },
   {
    "duration": 40,
    "start_time": "2022-11-20T17:17:07.484Z"
   },
   {
    "duration": 12,
    "start_time": "2022-11-20T17:17:07.525Z"
   },
   {
    "duration": 3,
    "start_time": "2022-11-20T17:17:07.538Z"
   },
   {
    "duration": 14,
    "start_time": "2022-11-20T17:17:07.542Z"
   },
   {
    "duration": 6,
    "start_time": "2022-11-20T17:17:07.558Z"
   },
   {
    "duration": 8,
    "start_time": "2022-11-20T17:17:07.565Z"
   },
   {
    "duration": 7,
    "start_time": "2022-11-20T17:17:07.574Z"
   },
   {
    "duration": 38,
    "start_time": "2022-11-20T17:17:07.583Z"
   },
   {
    "duration": 10,
    "start_time": "2022-11-20T17:17:07.623Z"
   },
   {
    "duration": 121,
    "start_time": "2022-11-20T17:17:07.635Z"
   },
   {
    "duration": 4,
    "start_time": "2022-11-20T17:17:07.758Z"
   },
   {
    "duration": 11,
    "start_time": "2022-11-20T17:17:07.764Z"
   },
   {
    "duration": 7,
    "start_time": "2022-11-20T17:17:07.776Z"
   },
   {
    "duration": 2,
    "start_time": "2022-11-20T17:17:07.784Z"
   },
   {
    "duration": 29,
    "start_time": "2022-11-20T17:17:07.788Z"
   },
   {
    "duration": 17,
    "start_time": "2022-11-20T17:17:07.818Z"
   },
   {
    "duration": 78,
    "start_time": "2022-11-20T17:17:07.837Z"
   },
   {
    "duration": 9,
    "start_time": "2022-11-20T17:17:07.916Z"
   },
   {
    "duration": 5,
    "start_time": "2022-11-20T17:17:08.014Z"
   },
   {
    "duration": 0,
    "start_time": "2022-11-20T17:17:08.021Z"
   },
   {
    "duration": 0,
    "start_time": "2022-11-20T17:17:08.022Z"
   },
   {
    "duration": 3,
    "start_time": "2022-11-20T17:17:15.302Z"
   },
   {
    "duration": 4,
    "start_time": "2022-11-20T17:17:15.309Z"
   },
   {
    "duration": 40,
    "start_time": "2022-11-20T17:17:15.318Z"
   },
   {
    "duration": 12,
    "start_time": "2022-11-20T17:17:15.360Z"
   },
   {
    "duration": 3,
    "start_time": "2022-11-20T17:17:15.374Z"
   },
   {
    "duration": 14,
    "start_time": "2022-11-20T17:17:15.379Z"
   },
   {
    "duration": 5,
    "start_time": "2022-11-20T17:17:15.395Z"
   },
   {
    "duration": 12,
    "start_time": "2022-11-20T17:17:15.401Z"
   },
   {
    "duration": 11,
    "start_time": "2022-11-20T17:17:15.415Z"
   },
   {
    "duration": 10,
    "start_time": "2022-11-20T17:17:15.428Z"
   },
   {
    "duration": 10,
    "start_time": "2022-11-20T17:17:15.439Z"
   },
   {
    "duration": 122,
    "start_time": "2022-11-20T17:17:15.451Z"
   },
   {
    "duration": 4,
    "start_time": "2022-11-20T17:17:15.574Z"
   },
   {
    "duration": 14,
    "start_time": "2022-11-20T17:17:15.580Z"
   },
   {
    "duration": 9,
    "start_time": "2022-11-20T17:17:15.596Z"
   },
   {
    "duration": 7,
    "start_time": "2022-11-20T17:17:15.606Z"
   },
   {
    "duration": 6,
    "start_time": "2022-11-20T17:17:15.615Z"
   },
   {
    "duration": 18,
    "start_time": "2022-11-20T17:17:15.622Z"
   },
   {
    "duration": 75,
    "start_time": "2022-11-20T17:17:15.641Z"
   },
   {
    "duration": 95,
    "start_time": "2022-11-20T17:17:15.718Z"
   },
   {
    "duration": 5,
    "start_time": "2022-11-20T17:17:26.033Z"
   },
   {
    "duration": 98149,
    "start_time": "2022-11-20T17:17:26.826Z"
   },
   {
    "duration": 4,
    "start_time": "2022-11-20T17:19:04.977Z"
   },
   {
    "duration": 38,
    "start_time": "2022-11-20T17:19:04.983Z"
   },
   {
    "duration": 112,
    "start_time": "2022-11-20T17:43:10.328Z"
   },
   {
    "duration": 1226,
    "start_time": "2022-11-20T17:43:20.181Z"
   },
   {
    "duration": 3,
    "start_time": "2022-11-20T17:43:40.510Z"
   },
   {
    "duration": 7,
    "start_time": "2022-11-20T17:43:40.514Z"
   },
   {
    "duration": 41,
    "start_time": "2022-11-20T17:43:40.522Z"
   },
   {
    "duration": 11,
    "start_time": "2022-11-20T17:43:40.565Z"
   },
   {
    "duration": 4,
    "start_time": "2022-11-20T17:43:40.577Z"
   },
   {
    "duration": 13,
    "start_time": "2022-11-20T17:43:40.582Z"
   },
   {
    "duration": 4,
    "start_time": "2022-11-20T17:43:40.597Z"
   },
   {
    "duration": 10,
    "start_time": "2022-11-20T17:43:40.603Z"
   },
   {
    "duration": 9,
    "start_time": "2022-11-20T17:43:40.616Z"
   },
   {
    "duration": 13,
    "start_time": "2022-11-20T17:43:40.626Z"
   },
   {
    "duration": 13,
    "start_time": "2022-11-20T17:43:40.641Z"
   },
   {
    "duration": 128,
    "start_time": "2022-11-20T17:43:40.656Z"
   },
   {
    "duration": 4,
    "start_time": "2022-11-20T17:43:40.786Z"
   },
   {
    "duration": 12,
    "start_time": "2022-11-20T17:43:40.791Z"
   },
   {
    "duration": 13,
    "start_time": "2022-11-20T17:43:40.804Z"
   },
   {
    "duration": 2,
    "start_time": "2022-11-20T17:43:40.819Z"
   },
   {
    "duration": 8,
    "start_time": "2022-11-20T17:43:40.822Z"
   },
   {
    "duration": 19,
    "start_time": "2022-11-20T17:43:40.831Z"
   },
   {
    "duration": 69,
    "start_time": "2022-11-20T17:43:40.851Z"
   },
   {
    "duration": 185,
    "start_time": "2022-11-20T17:43:40.931Z"
   },
   {
    "duration": 121,
    "start_time": "2022-11-20T17:45:06.297Z"
   },
   {
    "duration": 338,
    "start_time": "2022-11-20T17:45:55.004Z"
   },
   {
    "duration": 1528,
    "start_time": "2022-11-20T17:46:06.371Z"
   },
   {
    "duration": 3,
    "start_time": "2022-11-20T17:46:28.898Z"
   },
   {
    "duration": 2,
    "start_time": "2022-11-20T17:46:28.906Z"
   },
   {
    "duration": 40,
    "start_time": "2022-11-20T17:46:28.913Z"
   },
   {
    "duration": 11,
    "start_time": "2022-11-20T17:46:28.955Z"
   },
   {
    "duration": 3,
    "start_time": "2022-11-20T17:46:28.967Z"
   },
   {
    "duration": 14,
    "start_time": "2022-11-20T17:46:28.972Z"
   },
   {
    "duration": 6,
    "start_time": "2022-11-20T17:46:28.987Z"
   },
   {
    "duration": 20,
    "start_time": "2022-11-20T17:46:28.994Z"
   },
   {
    "duration": 7,
    "start_time": "2022-11-20T17:46:29.015Z"
   },
   {
    "duration": 13,
    "start_time": "2022-11-20T17:46:29.023Z"
   },
   {
    "duration": 10,
    "start_time": "2022-11-20T17:46:29.037Z"
   },
   {
    "duration": 136,
    "start_time": "2022-11-20T17:46:29.049Z"
   },
   {
    "duration": 7,
    "start_time": "2022-11-20T17:46:29.187Z"
   },
   {
    "duration": 23,
    "start_time": "2022-11-20T17:46:29.196Z"
   },
   {
    "duration": 8,
    "start_time": "2022-11-20T17:46:29.220Z"
   },
   {
    "duration": 4,
    "start_time": "2022-11-20T17:46:29.230Z"
   },
   {
    "duration": 11,
    "start_time": "2022-11-20T17:46:29.235Z"
   },
   {
    "duration": 18,
    "start_time": "2022-11-20T17:46:29.248Z"
   },
   {
    "duration": 47,
    "start_time": "2022-11-20T17:46:29.267Z"
   },
   {
    "duration": 1644,
    "start_time": "2022-11-20T17:46:29.316Z"
   },
   {
    "duration": 1673,
    "start_time": "2022-11-20T17:47:39.747Z"
   },
   {
    "duration": 1571,
    "start_time": "2022-11-20T18:03:24.641Z"
   },
   {
    "duration": 1523,
    "start_time": "2022-11-20T18:04:21.484Z"
   },
   {
    "duration": 1501,
    "start_time": "2022-11-20T18:04:37.666Z"
   },
   {
    "duration": 1529,
    "start_time": "2022-11-20T18:06:16.129Z"
   },
   {
    "duration": 3,
    "start_time": "2022-11-20T18:06:37.770Z"
   },
   {
    "duration": 5,
    "start_time": "2022-11-20T18:06:37.775Z"
   },
   {
    "duration": 41,
    "start_time": "2022-11-20T18:06:37.783Z"
   },
   {
    "duration": 13,
    "start_time": "2022-11-20T18:06:37.826Z"
   },
   {
    "duration": 3,
    "start_time": "2022-11-20T18:06:37.841Z"
   },
   {
    "duration": 16,
    "start_time": "2022-11-20T18:06:37.846Z"
   },
   {
    "duration": 6,
    "start_time": "2022-11-20T18:06:37.864Z"
   },
   {
    "duration": 9,
    "start_time": "2022-11-20T18:06:37.871Z"
   },
   {
    "duration": 32,
    "start_time": "2022-11-20T18:06:37.882Z"
   },
   {
    "duration": 10,
    "start_time": "2022-11-20T18:06:37.916Z"
   },
   {
    "duration": 12,
    "start_time": "2022-11-20T18:06:37.928Z"
   },
   {
    "duration": 128,
    "start_time": "2022-11-20T18:06:37.943Z"
   },
   {
    "duration": 4,
    "start_time": "2022-11-20T18:06:38.073Z"
   },
   {
    "duration": 10,
    "start_time": "2022-11-20T18:06:38.078Z"
   },
   {
    "duration": 7,
    "start_time": "2022-11-20T18:06:38.089Z"
   },
   {
    "duration": 15,
    "start_time": "2022-11-20T18:06:38.098Z"
   },
   {
    "duration": 9,
    "start_time": "2022-11-20T18:06:38.115Z"
   },
   {
    "duration": 20,
    "start_time": "2022-11-20T18:06:38.126Z"
   },
   {
    "duration": 71,
    "start_time": "2022-11-20T18:06:38.148Z"
   },
   {
    "duration": 1726,
    "start_time": "2022-11-20T18:06:38.221Z"
   },
   {
    "duration": 1547,
    "start_time": "2022-11-20T18:06:39.948Z"
   },
   {
    "duration": 2310,
    "start_time": "2022-11-20T18:09:35.618Z"
   },
   {
    "duration": 2635,
    "start_time": "2022-11-20T18:09:46.972Z"
   },
   {
    "duration": 2591,
    "start_time": "2022-11-20T18:10:06.739Z"
   },
   {
    "duration": 1523,
    "start_time": "2022-11-21T18:30:10.498Z"
   },
   {
    "duration": 3,
    "start_time": "2022-11-21T18:30:12.023Z"
   },
   {
    "duration": 108,
    "start_time": "2022-11-21T18:30:12.027Z"
   },
   {
    "duration": 14,
    "start_time": "2022-11-21T18:30:12.137Z"
   },
   {
    "duration": 36,
    "start_time": "2022-11-21T18:30:12.153Z"
   },
   {
    "duration": 42,
    "start_time": "2022-11-21T18:30:12.190Z"
   },
   {
    "duration": 5,
    "start_time": "2022-11-21T18:30:12.234Z"
   },
   {
    "duration": 41,
    "start_time": "2022-11-21T18:30:12.241Z"
   },
   {
    "duration": 46,
    "start_time": "2022-11-21T18:30:12.284Z"
   },
   {
    "duration": 26,
    "start_time": "2022-11-21T18:30:12.333Z"
   },
   {
    "duration": 28,
    "start_time": "2022-11-21T18:30:12.361Z"
   },
   {
    "duration": 150,
    "start_time": "2022-11-21T18:30:12.391Z"
   },
   {
    "duration": 4,
    "start_time": "2022-11-21T18:30:12.542Z"
   },
   {
    "duration": 28,
    "start_time": "2022-11-21T18:30:12.547Z"
   },
   {
    "duration": 26,
    "start_time": "2022-11-21T18:30:12.577Z"
   },
   {
    "duration": 16,
    "start_time": "2022-11-21T18:30:12.604Z"
   },
   {
    "duration": 14,
    "start_time": "2022-11-21T18:30:12.621Z"
   },
   {
    "duration": 39,
    "start_time": "2022-11-21T18:30:12.636Z"
   },
   {
    "duration": 32,
    "start_time": "2022-11-21T18:30:12.677Z"
   },
   {
    "duration": 2984,
    "start_time": "2022-11-21T18:30:12.714Z"
   },
   {
    "duration": 2946,
    "start_time": "2022-11-21T18:30:15.700Z"
   },
   {
    "duration": 10,
    "start_time": "2022-11-21T18:30:48.053Z"
   },
   {
    "duration": 26,
    "start_time": "2022-11-21T18:31:57.077Z"
   },
   {
    "duration": 112,
    "start_time": "2022-11-21T18:40:53.431Z"
   },
   {
    "duration": 4,
    "start_time": "2022-11-21T18:41:25.867Z"
   },
   {
    "duration": 54,
    "start_time": "2022-11-21T18:41:33.474Z"
   },
   {
    "duration": 495,
    "start_time": "2022-11-21T18:43:38.246Z"
   },
   {
    "duration": 49,
    "start_time": "2022-11-21T18:45:19.948Z"
   },
   {
    "duration": 134,
    "start_time": "2022-11-21T18:45:43.979Z"
   },
   {
    "duration": 12,
    "start_time": "2022-11-21T18:46:13.026Z"
   },
   {
    "duration": 13,
    "start_time": "2022-11-21T18:46:14.583Z"
   },
   {
    "duration": 183,
    "start_time": "2022-11-21T18:46:16.918Z"
   },
   {
    "duration": 578,
    "start_time": "2022-11-21T18:55:30.018Z"
   },
   {
    "duration": 13,
    "start_time": "2022-11-21T18:55:35.900Z"
   },
   {
    "duration": 13,
    "start_time": "2022-11-21T18:55:37.293Z"
   },
   {
    "duration": 143,
    "start_time": "2022-11-21T18:55:38.720Z"
   },
   {
    "duration": 3,
    "start_time": "2022-11-21T18:59:31.956Z"
   },
   {
    "duration": 29,
    "start_time": "2022-11-21T19:00:23.678Z"
   },
   {
    "duration": 3,
    "start_time": "2022-11-21T19:00:54.623Z"
   },
   {
    "duration": 206,
    "start_time": "2022-11-21T19:00:59.139Z"
   },
   {
    "duration": 218,
    "start_time": "2022-11-21T19:01:13.845Z"
   },
   {
    "duration": 416,
    "start_time": "2022-11-21T19:02:05.139Z"
   },
   {
    "duration": 3,
    "start_time": "2022-11-21T19:06:51.096Z"
   },
   {
    "duration": 149,
    "start_time": "2022-11-21T19:08:00.966Z"
   },
   {
    "duration": 162,
    "start_time": "2022-11-21T19:08:29.517Z"
   },
   {
    "duration": 3,
    "start_time": "2022-11-21T19:09:04.194Z"
   },
   {
    "duration": 146,
    "start_time": "2022-11-21T19:09:57.290Z"
   },
   {
    "duration": 142,
    "start_time": "2022-11-21T19:10:16.620Z"
   },
   {
    "duration": 4,
    "start_time": "2022-11-21T19:10:28.281Z"
   },
   {
    "duration": 10,
    "start_time": "2022-11-21T19:10:28.287Z"
   },
   {
    "duration": 42,
    "start_time": "2022-11-21T19:10:28.300Z"
   },
   {
    "duration": 12,
    "start_time": "2022-11-21T19:10:28.343Z"
   },
   {
    "duration": 6,
    "start_time": "2022-11-21T19:10:28.357Z"
   },
   {
    "duration": 14,
    "start_time": "2022-11-21T19:10:28.365Z"
   },
   {
    "duration": 20,
    "start_time": "2022-11-21T19:10:28.380Z"
   },
   {
    "duration": 13,
    "start_time": "2022-11-21T19:10:28.402Z"
   },
   {
    "duration": 8,
    "start_time": "2022-11-21T19:10:28.417Z"
   },
   {
    "duration": 8,
    "start_time": "2022-11-21T19:10:28.427Z"
   },
   {
    "duration": 102,
    "start_time": "2022-11-21T19:10:28.437Z"
   },
   {
    "duration": 12,
    "start_time": "2022-11-21T19:10:28.541Z"
   },
   {
    "duration": 168,
    "start_time": "2022-11-21T19:10:28.555Z"
   },
   {
    "duration": 4,
    "start_time": "2022-11-21T19:10:28.725Z"
   },
   {
    "duration": 20,
    "start_time": "2022-11-21T19:10:28.731Z"
   },
   {
    "duration": 8,
    "start_time": "2022-11-21T19:10:28.753Z"
   },
   {
    "duration": 11,
    "start_time": "2022-11-21T19:10:28.763Z"
   },
   {
    "duration": 10,
    "start_time": "2022-11-21T19:10:28.776Z"
   },
   {
    "duration": 27,
    "start_time": "2022-11-21T19:10:28.787Z"
   },
   {
    "duration": 23,
    "start_time": "2022-11-21T19:10:28.816Z"
   },
   {
    "duration": 112,
    "start_time": "2022-11-21T19:10:28.897Z"
   },
   {
    "duration": 3157,
    "start_time": "2022-11-21T19:10:29.011Z"
   },
   {
    "duration": 2957,
    "start_time": "2022-11-21T19:10:32.170Z"
   },
   {
    "duration": 16,
    "start_time": "2022-11-21T19:10:35.128Z"
   },
   {
    "duration": 67,
    "start_time": "2022-11-21T19:10:35.146Z"
   },
   {
    "duration": 754,
    "start_time": "2022-11-21T19:10:35.215Z"
   },
   {
    "duration": 15,
    "start_time": "2022-11-21T19:10:35.971Z"
   },
   {
    "duration": 18,
    "start_time": "2022-11-21T19:10:35.995Z"
   },
   {
    "duration": 324,
    "start_time": "2022-11-21T19:10:36.017Z"
   },
   {
    "duration": 229,
    "start_time": "2022-11-21T19:10:36.343Z"
   },
   {
    "duration": 309,
    "start_time": "2022-11-21T19:10:36.574Z"
   },
   {
    "duration": 403,
    "start_time": "2022-11-21T19:10:36.884Z"
   },
   {
    "duration": 156,
    "start_time": "2022-11-21T19:10:37.289Z"
   },
   {
    "duration": 252,
    "start_time": "2022-11-21T19:23:33.714Z"
   },
   {
    "duration": 236,
    "start_time": "2022-11-21T19:23:35.363Z"
   },
   {
    "duration": 384,
    "start_time": "2022-11-21T19:23:39.361Z"
   },
   {
    "duration": 144,
    "start_time": "2022-11-21T19:23:45.714Z"
   },
   {
    "duration": 388,
    "start_time": "2022-11-21T19:24:12.679Z"
   },
   {
    "duration": 140,
    "start_time": "2022-11-21T19:25:10.779Z"
   },
   {
    "duration": 137,
    "start_time": "2022-11-21T19:25:26.549Z"
   },
   {
    "duration": 5,
    "start_time": "2022-11-21T19:25:40.706Z"
   },
   {
    "duration": 8,
    "start_time": "2022-11-21T19:25:40.714Z"
   },
   {
    "duration": 46,
    "start_time": "2022-11-21T19:25:40.725Z"
   },
   {
    "duration": 15,
    "start_time": "2022-11-21T19:25:40.774Z"
   },
   {
    "duration": 5,
    "start_time": "2022-11-21T19:25:40.795Z"
   },
   {
    "duration": 25,
    "start_time": "2022-11-21T19:25:40.802Z"
   },
   {
    "duration": 19,
    "start_time": "2022-11-21T19:25:40.829Z"
   },
   {
    "duration": 13,
    "start_time": "2022-11-21T19:25:40.850Z"
   },
   {
    "duration": 11,
    "start_time": "2022-11-21T19:25:40.865Z"
   },
   {
    "duration": 18,
    "start_time": "2022-11-21T19:25:40.879Z"
   },
   {
    "duration": 13,
    "start_time": "2022-11-21T19:25:40.899Z"
   },
   {
    "duration": 22,
    "start_time": "2022-11-21T19:25:40.914Z"
   },
   {
    "duration": 130,
    "start_time": "2022-11-21T19:25:40.938Z"
   },
   {
    "duration": 5,
    "start_time": "2022-11-21T19:25:41.070Z"
   },
   {
    "duration": 25,
    "start_time": "2022-11-21T19:25:41.077Z"
   },
   {
    "duration": 9,
    "start_time": "2022-11-21T19:25:41.104Z"
   },
   {
    "duration": 3,
    "start_time": "2022-11-21T19:25:41.114Z"
   },
   {
    "duration": 9,
    "start_time": "2022-11-21T19:25:41.119Z"
   },
   {
    "duration": 19,
    "start_time": "2022-11-21T19:25:41.130Z"
   },
   {
    "duration": 51,
    "start_time": "2022-11-21T19:25:41.151Z"
   },
   {
    "duration": 197,
    "start_time": "2022-11-21T19:25:41.203Z"
   },
   {
    "duration": 2974,
    "start_time": "2022-11-21T19:25:41.402Z"
   },
   {
    "duration": 2891,
    "start_time": "2022-11-21T19:25:44.380Z"
   },
   {
    "duration": 24,
    "start_time": "2022-11-21T19:25:47.272Z"
   },
   {
    "duration": 43,
    "start_time": "2022-11-21T19:25:47.299Z"
   },
   {
    "duration": 692,
    "start_time": "2022-11-21T19:25:47.344Z"
   },
   {
    "duration": 11,
    "start_time": "2022-11-21T19:25:48.038Z"
   },
   {
    "duration": 46,
    "start_time": "2022-11-21T19:25:48.051Z"
   },
   {
    "duration": 233,
    "start_time": "2022-11-21T19:25:48.099Z"
   },
   {
    "duration": 229,
    "start_time": "2022-11-21T19:25:48.334Z"
   },
   {
    "duration": 247,
    "start_time": "2022-11-21T19:25:48.565Z"
   },
   {
    "duration": 411,
    "start_time": "2022-11-21T19:25:48.814Z"
   },
   {
    "duration": 147,
    "start_time": "2022-11-21T19:25:49.228Z"
   },
   {
    "duration": 50,
    "start_time": "2022-11-21T19:28:09.301Z"
   },
   {
    "duration": 277,
    "start_time": "2022-11-21T19:28:17.011Z"
   },
   {
    "duration": 4,
    "start_time": "2022-11-21T19:30:19.131Z"
   },
   {
    "duration": 8,
    "start_time": "2022-11-21T19:30:19.140Z"
   },
   {
    "duration": 56,
    "start_time": "2022-11-21T19:30:19.150Z"
   },
   {
    "duration": 18,
    "start_time": "2022-11-21T19:30:19.208Z"
   },
   {
    "duration": 5,
    "start_time": "2022-11-21T19:30:19.229Z"
   },
   {
    "duration": 23,
    "start_time": "2022-11-21T19:30:19.235Z"
   },
   {
    "duration": 37,
    "start_time": "2022-11-21T19:30:19.260Z"
   },
   {
    "duration": 5,
    "start_time": "2022-11-21T19:30:19.299Z"
   },
   {
    "duration": 14,
    "start_time": "2022-11-21T19:30:19.306Z"
   },
   {
    "duration": 15,
    "start_time": "2022-11-21T19:30:19.323Z"
   },
   {
    "duration": 14,
    "start_time": "2022-11-21T19:30:19.340Z"
   },
   {
    "duration": 12,
    "start_time": "2022-11-21T19:30:19.356Z"
   },
   {
    "duration": 159,
    "start_time": "2022-11-21T19:30:19.370Z"
   },
   {
    "duration": 4,
    "start_time": "2022-11-21T19:30:19.531Z"
   },
   {
    "duration": 13,
    "start_time": "2022-11-21T19:30:19.537Z"
   },
   {
    "duration": 7,
    "start_time": "2022-11-21T19:30:19.552Z"
   },
   {
    "duration": 6,
    "start_time": "2022-11-21T19:30:19.561Z"
   },
   {
    "duration": 30,
    "start_time": "2022-11-21T19:30:19.569Z"
   },
   {
    "duration": 23,
    "start_time": "2022-11-21T19:30:19.602Z"
   },
   {
    "duration": 21,
    "start_time": "2022-11-21T19:30:19.627Z"
   },
   {
    "duration": 154,
    "start_time": "2022-11-21T19:30:19.650Z"
   },
   {
    "duration": 3118,
    "start_time": "2022-11-21T19:30:19.807Z"
   },
   {
    "duration": 2880,
    "start_time": "2022-11-21T19:30:22.927Z"
   },
   {
    "duration": 14,
    "start_time": "2022-11-21T19:30:25.809Z"
   },
   {
    "duration": 79,
    "start_time": "2022-11-21T19:30:25.826Z"
   },
   {
    "duration": 746,
    "start_time": "2022-11-21T19:30:25.907Z"
   },
   {
    "duration": 9,
    "start_time": "2022-11-21T19:30:26.655Z"
   },
   {
    "duration": 31,
    "start_time": "2022-11-21T19:30:26.666Z"
   },
   {
    "duration": 309,
    "start_time": "2022-11-21T19:30:26.699Z"
   },
   {
    "duration": 254,
    "start_time": "2022-11-21T19:30:27.010Z"
   },
   {
    "duration": 301,
    "start_time": "2022-11-21T19:30:27.265Z"
   },
   {
    "duration": 404,
    "start_time": "2022-11-21T19:30:27.568Z"
   },
   {
    "duration": 238,
    "start_time": "2022-11-21T19:30:27.973Z"
   },
   {
    "duration": 292,
    "start_time": "2022-11-21T19:30:28.212Z"
   },
   {
    "duration": 340,
    "start_time": "2022-11-21T19:30:28.506Z"
   },
   {
    "duration": 0,
    "start_time": "2022-11-21T19:30:28.848Z"
   },
   {
    "duration": 411,
    "start_time": "2022-11-21T19:30:35.052Z"
   },
   {
    "duration": 143,
    "start_time": "2022-11-21T19:30:36.920Z"
   },
   {
    "duration": 546,
    "start_time": "2022-11-21T19:32:27.297Z"
   },
   {
    "duration": 135,
    "start_time": "2022-11-21T19:33:10.257Z"
   },
   {
    "duration": 502,
    "start_time": "2022-11-21T19:33:34.169Z"
   },
   {
    "duration": 394,
    "start_time": "2022-11-21T19:33:52.460Z"
   },
   {
    "duration": 119,
    "start_time": "2022-11-21T19:33:55.448Z"
   },
   {
    "duration": 121,
    "start_time": "2022-11-21T19:34:07.378Z"
   },
   {
    "duration": 118,
    "start_time": "2022-11-21T19:35:03.867Z"
   },
   {
    "duration": 128,
    "start_time": "2022-11-21T19:35:59.187Z"
   },
   {
    "duration": 412,
    "start_time": "2022-11-21T19:36:36.479Z"
   },
   {
    "duration": 465,
    "start_time": "2022-11-21T19:37:16.768Z"
   },
   {
    "duration": 423,
    "start_time": "2022-11-21T19:37:25.196Z"
   },
   {
    "duration": 396,
    "start_time": "2022-11-21T19:40:41.249Z"
   },
   {
    "duration": 416,
    "start_time": "2022-11-21T19:40:57.654Z"
   },
   {
    "duration": 677,
    "start_time": "2022-11-21T19:42:41.130Z"
   },
   {
    "duration": 662,
    "start_time": "2022-11-21T19:42:58.856Z"
   },
   {
    "duration": 150,
    "start_time": "2022-11-21T19:43:01.433Z"
   },
   {
    "duration": 4,
    "start_time": "2022-11-21T19:43:07.825Z"
   },
   {
    "duration": 4,
    "start_time": "2022-11-21T19:43:07.832Z"
   },
   {
    "duration": 42,
    "start_time": "2022-11-21T19:43:07.837Z"
   },
   {
    "duration": 13,
    "start_time": "2022-11-21T19:43:07.881Z"
   },
   {
    "duration": 4,
    "start_time": "2022-11-21T19:43:07.895Z"
   },
   {
    "duration": 16,
    "start_time": "2022-11-21T19:43:07.901Z"
   },
   {
    "duration": 16,
    "start_time": "2022-11-21T19:43:07.919Z"
   },
   {
    "duration": 7,
    "start_time": "2022-11-21T19:43:07.937Z"
   },
   {
    "duration": 8,
    "start_time": "2022-11-21T19:43:07.945Z"
   },
   {
    "duration": 8,
    "start_time": "2022-11-21T19:43:07.954Z"
   },
   {
    "duration": 11,
    "start_time": "2022-11-21T19:43:07.997Z"
   },
   {
    "duration": 17,
    "start_time": "2022-11-21T19:43:08.011Z"
   },
   {
    "duration": 125,
    "start_time": "2022-11-21T19:43:08.030Z"
   },
   {
    "duration": 4,
    "start_time": "2022-11-21T19:43:08.157Z"
   },
   {
    "duration": 10,
    "start_time": "2022-11-21T19:43:08.163Z"
   },
   {
    "duration": 21,
    "start_time": "2022-11-21T19:43:08.175Z"
   },
   {
    "duration": 3,
    "start_time": "2022-11-21T19:43:08.198Z"
   },
   {
    "duration": 10,
    "start_time": "2022-11-21T19:43:08.203Z"
   },
   {
    "duration": 23,
    "start_time": "2022-11-21T19:43:08.215Z"
   },
   {
    "duration": 66,
    "start_time": "2022-11-21T19:43:08.239Z"
   },
   {
    "duration": 22,
    "start_time": "2022-11-21T19:43:08.397Z"
   },
   {
    "duration": 3026,
    "start_time": "2022-11-21T19:43:08.421Z"
   },
   {
    "duration": 2884,
    "start_time": "2022-11-21T19:43:11.448Z"
   },
   {
    "duration": 14,
    "start_time": "2022-11-21T19:43:14.333Z"
   },
   {
    "duration": 54,
    "start_time": "2022-11-21T19:43:14.348Z"
   },
   {
    "duration": 766,
    "start_time": "2022-11-21T19:43:14.403Z"
   },
   {
    "duration": 12,
    "start_time": "2022-11-21T19:43:15.171Z"
   },
   {
    "duration": 37,
    "start_time": "2022-11-21T19:43:15.184Z"
   },
   {
    "duration": 318,
    "start_time": "2022-11-21T19:43:15.223Z"
   },
   {
    "duration": 218,
    "start_time": "2022-11-21T19:43:15.546Z"
   },
   {
    "duration": 146,
    "start_time": "2022-11-21T19:43:15.765Z"
   },
   {
    "duration": 445,
    "start_time": "2022-11-21T19:43:15.913Z"
   },
   {
    "duration": 144,
    "start_time": "2022-11-21T19:43:16.360Z"
   },
   {
    "duration": 664,
    "start_time": "2022-11-21T19:43:16.506Z"
   },
   {
    "duration": 158,
    "start_time": "2022-11-21T19:43:17.172Z"
   },
   {
    "duration": 1343,
    "start_time": "2022-11-21T19:43:59.385Z"
   },
   {
    "duration": 3,
    "start_time": "2022-11-21T19:44:00.730Z"
   },
   {
    "duration": 63,
    "start_time": "2022-11-21T19:44:00.734Z"
   },
   {
    "duration": 12,
    "start_time": "2022-11-21T19:44:00.800Z"
   },
   {
    "duration": 12,
    "start_time": "2022-11-21T19:44:00.813Z"
   },
   {
    "duration": 19,
    "start_time": "2022-11-21T19:44:00.826Z"
   },
   {
    "duration": 22,
    "start_time": "2022-11-21T19:44:00.847Z"
   },
   {
    "duration": 4,
    "start_time": "2022-11-21T19:44:00.870Z"
   },
   {
    "duration": 25,
    "start_time": "2022-11-21T19:44:00.876Z"
   },
   {
    "duration": 34,
    "start_time": "2022-11-21T19:44:00.903Z"
   },
   {
    "duration": 26,
    "start_time": "2022-11-21T19:44:00.938Z"
   },
   {
    "duration": 40,
    "start_time": "2022-11-21T19:44:00.966Z"
   },
   {
    "duration": 151,
    "start_time": "2022-11-21T19:44:01.008Z"
   },
   {
    "duration": 5,
    "start_time": "2022-11-21T19:44:01.160Z"
   },
   {
    "duration": 26,
    "start_time": "2022-11-21T19:44:01.166Z"
   },
   {
    "duration": 21,
    "start_time": "2022-11-21T19:44:01.194Z"
   },
   {
    "duration": 11,
    "start_time": "2022-11-21T19:44:01.217Z"
   },
   {
    "duration": 15,
    "start_time": "2022-11-21T19:44:01.230Z"
   },
   {
    "duration": 28,
    "start_time": "2022-11-21T19:44:01.247Z"
   },
   {
    "duration": 30,
    "start_time": "2022-11-21T19:44:01.276Z"
   },
   {
    "duration": 191,
    "start_time": "2022-11-21T19:44:01.311Z"
   },
   {
    "duration": 3007,
    "start_time": "2022-11-21T19:44:01.504Z"
   },
   {
    "duration": 2982,
    "start_time": "2022-11-21T19:44:04.513Z"
   },
   {
    "duration": 15,
    "start_time": "2022-11-21T19:44:07.496Z"
   },
   {
    "duration": 85,
    "start_time": "2022-11-21T19:44:07.512Z"
   },
   {
    "duration": 669,
    "start_time": "2022-11-21T19:44:07.599Z"
   },
   {
    "duration": 10,
    "start_time": "2022-11-21T19:44:08.270Z"
   },
   {
    "duration": 26,
    "start_time": "2022-11-21T19:44:08.283Z"
   },
   {
    "duration": 321,
    "start_time": "2022-11-21T19:44:08.311Z"
   },
   {
    "duration": 221,
    "start_time": "2022-11-21T19:44:08.634Z"
   },
   {
    "duration": 144,
    "start_time": "2022-11-21T19:44:08.857Z"
   },
   {
    "duration": 400,
    "start_time": "2022-11-21T19:44:09.003Z"
   },
   {
    "duration": 126,
    "start_time": "2022-11-21T19:44:09.405Z"
   },
   {
    "duration": 698,
    "start_time": "2022-11-21T19:44:09.532Z"
   },
   {
    "duration": 179,
    "start_time": "2022-11-21T19:44:10.234Z"
   },
   {
    "duration": 458,
    "start_time": "2022-11-21T19:44:52.211Z"
   },
   {
    "duration": 1346,
    "start_time": "2022-11-21T19:45:10.064Z"
   },
   {
    "duration": 3,
    "start_time": "2022-11-21T19:45:11.412Z"
   },
   {
    "duration": 54,
    "start_time": "2022-11-21T19:45:11.416Z"
   },
   {
    "duration": 13,
    "start_time": "2022-11-21T19:45:11.472Z"
   },
   {
    "duration": 9,
    "start_time": "2022-11-21T19:45:11.486Z"
   },
   {
    "duration": 24,
    "start_time": "2022-11-21T19:45:11.496Z"
   },
   {
    "duration": 16,
    "start_time": "2022-11-21T19:45:11.522Z"
   },
   {
    "duration": 10,
    "start_time": "2022-11-21T19:45:11.539Z"
   },
   {
    "duration": 12,
    "start_time": "2022-11-21T19:45:11.550Z"
   },
   {
    "duration": 9,
    "start_time": "2022-11-21T19:45:11.565Z"
   },
   {
    "duration": 15,
    "start_time": "2022-11-21T19:45:11.576Z"
   },
   {
    "duration": 13,
    "start_time": "2022-11-21T19:45:11.592Z"
   },
   {
    "duration": 140,
    "start_time": "2022-11-21T19:45:11.606Z"
   },
   {
    "duration": 3,
    "start_time": "2022-11-21T19:45:11.748Z"
   },
   {
    "duration": 11,
    "start_time": "2022-11-21T19:45:11.753Z"
   },
   {
    "duration": 6,
    "start_time": "2022-11-21T19:45:11.766Z"
   },
   {
    "duration": 4,
    "start_time": "2022-11-21T19:45:11.774Z"
   },
   {
    "duration": 8,
    "start_time": "2022-11-21T19:45:11.796Z"
   },
   {
    "duration": 21,
    "start_time": "2022-11-21T19:45:11.805Z"
   },
   {
    "duration": 71,
    "start_time": "2022-11-21T19:45:11.827Z"
   },
   {
    "duration": 111,
    "start_time": "2022-11-21T19:45:11.899Z"
   },
   {
    "duration": 2967,
    "start_time": "2022-11-21T19:45:12.012Z"
   },
   {
    "duration": 2887,
    "start_time": "2022-11-21T19:45:14.981Z"
   },
   {
    "duration": 13,
    "start_time": "2022-11-21T19:45:17.870Z"
   },
   {
    "duration": 62,
    "start_time": "2022-11-21T19:45:17.885Z"
   },
   {
    "duration": 679,
    "start_time": "2022-11-21T19:45:17.996Z"
   },
   {
    "duration": 19,
    "start_time": "2022-11-21T19:45:18.677Z"
   },
   {
    "duration": 15,
    "start_time": "2022-11-21T19:45:18.701Z"
   },
   {
    "duration": 316,
    "start_time": "2022-11-21T19:45:18.718Z"
   },
   {
    "duration": 290,
    "start_time": "2022-11-21T19:45:19.036Z"
   },
   {
    "duration": 133,
    "start_time": "2022-11-21T19:45:19.328Z"
   },
   {
    "duration": 414,
    "start_time": "2022-11-21T19:45:19.463Z"
   },
   {
    "duration": 132,
    "start_time": "2022-11-21T19:45:19.879Z"
   },
   {
    "duration": 451,
    "start_time": "2022-11-21T19:45:20.012Z"
   },
   {
    "duration": 155,
    "start_time": "2022-11-21T19:45:20.465Z"
   },
   {
    "duration": 110,
    "start_time": "2022-11-22T10:54:22.954Z"
   },
   {
    "duration": 6862,
    "start_time": "2022-11-22T10:55:35.429Z"
   },
   {
    "duration": 1261,
    "start_time": "2022-11-22T10:55:42.293Z"
   },
   {
    "duration": 27,
    "start_time": "2022-11-22T10:55:51.037Z"
   },
   {
    "duration": 3,
    "start_time": "2022-11-22T10:56:09.781Z"
   },
   {
    "duration": 1792,
    "start_time": "2022-11-22T10:57:47.384Z"
   },
   {
    "duration": 4,
    "start_time": "2022-11-22T10:57:49.178Z"
   },
   {
    "duration": 6,
    "start_time": "2022-11-22T10:57:49.184Z"
   },
   {
    "duration": 153,
    "start_time": "2022-11-22T10:57:49.192Z"
   },
   {
    "duration": 13,
    "start_time": "2022-11-22T10:57:49.347Z"
   },
   {
    "duration": 3,
    "start_time": "2022-11-22T10:57:49.361Z"
   },
   {
    "duration": 12,
    "start_time": "2022-11-22T10:57:49.366Z"
   },
   {
    "duration": 17,
    "start_time": "2022-11-22T10:57:49.380Z"
   },
   {
    "duration": 4,
    "start_time": "2022-11-22T10:57:49.399Z"
   },
   {
    "duration": 8,
    "start_time": "2022-11-22T10:57:49.405Z"
   },
   {
    "duration": 6,
    "start_time": "2022-11-22T10:57:49.415Z"
   },
   {
    "duration": 11,
    "start_time": "2022-11-22T10:57:49.423Z"
   },
   {
    "duration": 19,
    "start_time": "2022-11-22T10:57:49.436Z"
   },
   {
    "duration": 137,
    "start_time": "2022-11-22T10:57:49.457Z"
   },
   {
    "duration": 4,
    "start_time": "2022-11-22T10:57:49.596Z"
   },
   {
    "duration": 16,
    "start_time": "2022-11-22T10:57:49.601Z"
   },
   {
    "duration": 6,
    "start_time": "2022-11-22T10:57:49.619Z"
   },
   {
    "duration": 4,
    "start_time": "2022-11-22T10:57:49.626Z"
   },
   {
    "duration": 7,
    "start_time": "2022-11-22T10:57:49.632Z"
   },
   {
    "duration": 5,
    "start_time": "2022-11-22T10:57:49.640Z"
   },
   {
    "duration": 5,
    "start_time": "2022-11-22T10:57:49.646Z"
   },
   {
    "duration": 5,
    "start_time": "2022-11-22T10:58:36.139Z"
   },
   {
    "duration": 5,
    "start_time": "2022-11-22T10:59:07.532Z"
   },
   {
    "duration": 5,
    "start_time": "2022-11-22T10:59:09.150Z"
   },
   {
    "duration": 5,
    "start_time": "2022-11-22T10:59:11.611Z"
   },
   {
    "duration": 1930,
    "start_time": "2022-11-22T10:59:38.980Z"
   },
   {
    "duration": 4,
    "start_time": "2022-11-22T10:59:40.912Z"
   },
   {
    "duration": 9,
    "start_time": "2022-11-22T10:59:40.917Z"
   },
   {
    "duration": 45,
    "start_time": "2022-11-22T10:59:40.928Z"
   },
   {
    "duration": 11,
    "start_time": "2022-11-22T10:59:40.975Z"
   },
   {
    "duration": 3,
    "start_time": "2022-11-22T10:59:40.988Z"
   },
   {
    "duration": 14,
    "start_time": "2022-11-22T10:59:40.992Z"
   },
   {
    "duration": 13,
    "start_time": "2022-11-22T10:59:41.007Z"
   },
   {
    "duration": 5,
    "start_time": "2022-11-22T10:59:41.021Z"
   },
   {
    "duration": 10,
    "start_time": "2022-11-22T10:59:41.028Z"
   },
   {
    "duration": 7,
    "start_time": "2022-11-22T10:59:41.039Z"
   },
   {
    "duration": 14,
    "start_time": "2022-11-22T10:59:41.047Z"
   },
   {
    "duration": 9,
    "start_time": "2022-11-22T10:59:41.062Z"
   },
   {
    "duration": 113,
    "start_time": "2022-11-22T10:59:41.073Z"
   },
   {
    "duration": 3,
    "start_time": "2022-11-22T10:59:41.188Z"
   },
   {
    "duration": 10,
    "start_time": "2022-11-22T10:59:41.192Z"
   },
   {
    "duration": 6,
    "start_time": "2022-11-22T10:59:41.212Z"
   },
   {
    "duration": 4,
    "start_time": "2022-11-22T10:59:41.220Z"
   },
   {
    "duration": 5,
    "start_time": "2022-11-22T10:59:41.225Z"
   },
   {
    "duration": 6,
    "start_time": "2022-11-22T10:59:41.232Z"
   },
   {
    "duration": 4,
    "start_time": "2022-11-22T10:59:41.240Z"
   },
   {
    "duration": 10,
    "start_time": "2022-11-22T10:59:41.245Z"
   },
   {
    "duration": 18,
    "start_time": "2022-11-22T10:59:41.256Z"
   },
   {
    "duration": 55,
    "start_time": "2022-11-22T10:59:41.275Z"
   },
   {
    "duration": 186,
    "start_time": "2022-11-22T10:59:41.332Z"
   },
   {
    "duration": 2893,
    "start_time": "2022-11-22T10:59:41.519Z"
   },
   {
    "duration": 2746,
    "start_time": "2022-11-22T10:59:44.413Z"
   },
   {
    "duration": 58,
    "start_time": "2022-11-22T11:00:54.021Z"
   },
   {
    "duration": 25,
    "start_time": "2022-11-22T11:01:16.776Z"
   },
   {
    "duration": 56,
    "start_time": "2022-11-22T11:01:18.548Z"
   },
   {
    "duration": 56,
    "start_time": "2022-11-22T11:01:20.068Z"
   },
   {
    "duration": 12,
    "start_time": "2022-11-22T11:01:31.555Z"
   },
   {
    "duration": 43,
    "start_time": "2022-11-22T11:01:33.157Z"
   },
   {
    "duration": 528,
    "start_time": "2022-11-22T11:01:35.534Z"
   },
   {
    "duration": 12,
    "start_time": "2022-11-22T11:01:47.109Z"
   },
   {
    "duration": 15,
    "start_time": "2022-11-22T11:01:48.434Z"
   },
   {
    "duration": 34,
    "start_time": "2022-11-22T11:01:50.941Z"
   },
   {
    "duration": 2,
    "start_time": "2022-11-22T11:03:04.418Z"
   },
   {
    "duration": 3,
    "start_time": "2022-11-22T11:03:30.846Z"
   },
   {
    "duration": 1082,
    "start_time": "2022-11-22T11:03:30.851Z"
   },
   {
    "duration": 2,
    "start_time": "2022-11-22T11:03:31.935Z"
   },
   {
    "duration": 42,
    "start_time": "2022-11-22T11:03:31.939Z"
   },
   {
    "duration": 15,
    "start_time": "2022-11-22T11:03:31.983Z"
   },
   {
    "duration": 4,
    "start_time": "2022-11-22T11:03:32.000Z"
   },
   {
    "duration": 17,
    "start_time": "2022-11-22T11:03:32.005Z"
   },
   {
    "duration": 14,
    "start_time": "2022-11-22T11:03:32.024Z"
   },
   {
    "duration": 3,
    "start_time": "2022-11-22T11:03:32.040Z"
   },
   {
    "duration": 8,
    "start_time": "2022-11-22T11:03:32.044Z"
   },
   {
    "duration": 8,
    "start_time": "2022-11-22T11:03:32.053Z"
   },
   {
    "duration": 11,
    "start_time": "2022-11-22T11:03:32.063Z"
   },
   {
    "duration": 10,
    "start_time": "2022-11-22T11:03:32.075Z"
   },
   {
    "duration": 129,
    "start_time": "2022-11-22T11:03:32.113Z"
   },
   {
    "duration": 4,
    "start_time": "2022-11-22T11:03:32.245Z"
   },
   {
    "duration": 14,
    "start_time": "2022-11-22T11:03:32.251Z"
   },
   {
    "duration": 12,
    "start_time": "2022-11-22T11:03:32.266Z"
   },
   {
    "duration": 5,
    "start_time": "2022-11-22T11:03:32.280Z"
   },
   {
    "duration": 5,
    "start_time": "2022-11-22T11:03:32.287Z"
   },
   {
    "duration": 5,
    "start_time": "2022-11-22T11:03:32.313Z"
   },
   {
    "duration": 4,
    "start_time": "2022-11-22T11:03:32.320Z"
   },
   {
    "duration": 11,
    "start_time": "2022-11-22T11:03:32.325Z"
   },
   {
    "duration": 17,
    "start_time": "2022-11-22T11:03:32.337Z"
   },
   {
    "duration": 62,
    "start_time": "2022-11-22T11:03:32.355Z"
   },
   {
    "duration": 114,
    "start_time": "2022-11-22T11:03:32.419Z"
   },
   {
    "duration": 144,
    "start_time": "2022-11-22T11:03:32.612Z"
   },
   {
    "duration": 75,
    "start_time": "2022-11-22T11:03:32.758Z"
   },
   {
    "duration": 15,
    "start_time": "2022-11-22T11:03:32.835Z"
   },
   {
    "duration": 64,
    "start_time": "2022-11-22T11:03:32.852Z"
   },
   {
    "duration": 691,
    "start_time": "2022-11-22T11:03:32.918Z"
   },
   {
    "duration": 10,
    "start_time": "2022-11-22T11:03:33.612Z"
   },
   {
    "duration": 14,
    "start_time": "2022-11-22T11:03:33.623Z"
   },
   {
    "duration": 194,
    "start_time": "2022-11-22T11:03:33.640Z"
   },
   {
    "duration": 239,
    "start_time": "2022-11-22T11:03:33.836Z"
   },
   {
    "duration": 125,
    "start_time": "2022-11-22T11:03:34.077Z"
   },
   {
    "duration": 378,
    "start_time": "2022-11-22T11:03:34.204Z"
   },
   {
    "duration": 141,
    "start_time": "2022-11-22T11:03:34.584Z"
   },
   {
    "duration": 401,
    "start_time": "2022-11-22T11:03:34.727Z"
   },
   {
    "duration": 134,
    "start_time": "2022-11-22T11:03:35.130Z"
   },
   {
    "duration": 3,
    "start_time": "2022-11-22T11:06:02.829Z"
   },
   {
    "duration": 7,
    "start_time": "2022-11-22T11:06:02.834Z"
   },
   {
    "duration": 5,
    "start_time": "2022-11-22T11:06:02.843Z"
   },
   {
    "duration": 44,
    "start_time": "2022-11-22T11:06:02.849Z"
   },
   {
    "duration": 13,
    "start_time": "2022-11-22T11:06:02.895Z"
   },
   {
    "duration": 4,
    "start_time": "2022-11-22T11:06:02.916Z"
   },
   {
    "duration": 26,
    "start_time": "2022-11-22T11:06:02.922Z"
   },
   {
    "duration": 16,
    "start_time": "2022-11-22T11:06:02.950Z"
   },
   {
    "duration": 8,
    "start_time": "2022-11-22T11:06:02.968Z"
   },
   {
    "duration": 9,
    "start_time": "2022-11-22T11:06:02.978Z"
   },
   {
    "duration": 7,
    "start_time": "2022-11-22T11:06:02.989Z"
   },
   {
    "duration": 25,
    "start_time": "2022-11-22T11:06:02.997Z"
   },
   {
    "duration": 11,
    "start_time": "2022-11-22T11:06:03.023Z"
   },
   {
    "duration": 129,
    "start_time": "2022-11-22T11:06:03.035Z"
   },
   {
    "duration": 3,
    "start_time": "2022-11-22T11:06:03.166Z"
   },
   {
    "duration": 11,
    "start_time": "2022-11-22T11:06:03.171Z"
   },
   {
    "duration": 5,
    "start_time": "2022-11-22T11:06:03.184Z"
   },
   {
    "duration": 24,
    "start_time": "2022-11-22T11:06:03.190Z"
   },
   {
    "duration": 4,
    "start_time": "2022-11-22T11:06:03.216Z"
   },
   {
    "duration": 7,
    "start_time": "2022-11-22T11:06:03.222Z"
   },
   {
    "duration": 2,
    "start_time": "2022-11-22T11:06:20.577Z"
   },
   {
    "duration": 6,
    "start_time": "2022-11-22T11:06:20.581Z"
   },
   {
    "duration": 6,
    "start_time": "2022-11-22T11:06:20.589Z"
   },
   {
    "duration": 41,
    "start_time": "2022-11-22T11:06:20.597Z"
   },
   {
    "duration": 11,
    "start_time": "2022-11-22T11:06:20.640Z"
   },
   {
    "duration": 3,
    "start_time": "2022-11-22T11:06:20.653Z"
   },
   {
    "duration": 17,
    "start_time": "2022-11-22T11:06:20.657Z"
   },
   {
    "duration": 11,
    "start_time": "2022-11-22T11:06:20.675Z"
   },
   {
    "duration": 9,
    "start_time": "2022-11-22T11:06:20.688Z"
   },
   {
    "duration": 15,
    "start_time": "2022-11-22T11:06:20.698Z"
   },
   {
    "duration": 9,
    "start_time": "2022-11-22T11:06:20.716Z"
   },
   {
    "duration": 16,
    "start_time": "2022-11-22T11:06:20.726Z"
   },
   {
    "duration": 10,
    "start_time": "2022-11-22T11:06:20.743Z"
   },
   {
    "duration": 113,
    "start_time": "2022-11-22T11:06:20.754Z"
   },
   {
    "duration": 4,
    "start_time": "2022-11-22T11:06:20.869Z"
   },
   {
    "duration": 10,
    "start_time": "2022-11-22T11:06:20.874Z"
   },
   {
    "duration": 6,
    "start_time": "2022-11-22T11:06:20.886Z"
   },
   {
    "duration": 4,
    "start_time": "2022-11-22T11:06:20.893Z"
   },
   {
    "duration": 5,
    "start_time": "2022-11-22T11:06:20.920Z"
   },
   {
    "duration": 7,
    "start_time": "2022-11-22T11:06:20.927Z"
   },
   {
    "duration": 2,
    "start_time": "2022-11-22T12:09:02.850Z"
   },
   {
    "duration": 14,
    "start_time": "2022-11-22T12:09:02.854Z"
   },
   {
    "duration": 14,
    "start_time": "2022-11-22T12:09:02.870Z"
   },
   {
    "duration": 59,
    "start_time": "2022-11-22T12:09:02.886Z"
   },
   {
    "duration": 16,
    "start_time": "2022-11-22T12:09:02.948Z"
   },
   {
    "duration": 6,
    "start_time": "2022-11-22T12:09:02.966Z"
   },
   {
    "duration": 26,
    "start_time": "2022-11-22T12:09:02.974Z"
   },
   {
    "duration": 13,
    "start_time": "2022-11-22T12:09:03.001Z"
   },
   {
    "duration": 14,
    "start_time": "2022-11-22T12:09:03.015Z"
   },
   {
    "duration": 15,
    "start_time": "2022-11-22T12:09:03.031Z"
   },
   {
    "duration": 76,
    "start_time": "2022-11-22T12:09:03.048Z"
   },
   {
    "duration": 12,
    "start_time": "2022-11-22T12:09:03.126Z"
   },
   {
    "duration": 15,
    "start_time": "2022-11-22T12:09:03.139Z"
   },
   {
    "duration": 115,
    "start_time": "2022-11-22T12:09:03.155Z"
   },
   {
    "duration": 3,
    "start_time": "2022-11-22T12:09:03.272Z"
   },
   {
    "duration": 20,
    "start_time": "2022-11-22T12:09:03.277Z"
   },
   {
    "duration": 18,
    "start_time": "2022-11-22T12:09:03.298Z"
   },
   {
    "duration": 13,
    "start_time": "2022-11-22T12:09:03.317Z"
   },
   {
    "duration": 15,
    "start_time": "2022-11-22T12:09:03.332Z"
   },
   {
    "duration": 15,
    "start_time": "2022-11-22T12:09:03.348Z"
   },
   {
    "duration": 12,
    "start_time": "2022-11-22T12:09:03.364Z"
   },
   {
    "duration": 18,
    "start_time": "2022-11-22T12:09:03.378Z"
   },
   {
    "duration": 25,
    "start_time": "2022-11-22T12:09:03.398Z"
   },
   {
    "duration": 25,
    "start_time": "2022-11-22T12:09:03.424Z"
   },
   {
    "duration": 165,
    "start_time": "2022-11-22T12:09:03.451Z"
   },
   {
    "duration": 248,
    "start_time": "2022-11-22T12:09:03.618Z"
   },
   {
    "duration": 68,
    "start_time": "2022-11-22T12:09:03.868Z"
   },
   {
    "duration": 12,
    "start_time": "2022-11-22T12:09:03.938Z"
   },
   {
    "duration": 69,
    "start_time": "2022-11-22T12:09:03.953Z"
   },
   {
    "duration": 716,
    "start_time": "2022-11-22T12:09:04.024Z"
   },
   {
    "duration": 11,
    "start_time": "2022-11-22T12:09:04.742Z"
   },
   {
    "duration": 66,
    "start_time": "2022-11-22T12:09:04.754Z"
   },
   {
    "duration": 270,
    "start_time": "2022-11-22T12:09:04.821Z"
   },
   {
    "duration": 391,
    "start_time": "2022-11-22T12:10:59.634Z"
   },
   {
    "duration": 395,
    "start_time": "2022-11-22T12:15:50.611Z"
   },
   {
    "duration": 25,
    "start_time": "2022-11-22T12:18:49.321Z"
   },
   {
    "duration": 508,
    "start_time": "2022-11-22T12:20:43.334Z"
   },
   {
    "duration": 562,
    "start_time": "2022-11-22T12:21:35.927Z"
   },
   {
    "duration": 524,
    "start_time": "2022-11-22T12:22:00.469Z"
   },
   {
    "duration": 108,
    "start_time": "2022-11-22T12:22:57.879Z"
   },
   {
    "duration": 33,
    "start_time": "2022-11-22T12:24:24.589Z"
   },
   {
    "duration": 1611,
    "start_time": "2022-11-22T16:41:16.816Z"
   },
   {
    "duration": 4,
    "start_time": "2022-11-22T16:41:18.749Z"
   },
   {
    "duration": 7454,
    "start_time": "2022-11-22T16:41:33.536Z"
   },
   {
    "duration": 4,
    "start_time": "2022-11-22T16:41:54.815Z"
   },
   {
    "duration": 37,
    "start_time": "2022-11-22T16:41:56.240Z"
   },
   {
    "duration": 2200,
    "start_time": "2022-11-22T16:42:20.694Z"
   },
   {
    "duration": 1181,
    "start_time": "2022-11-22T16:42:22.896Z"
   },
   {
    "duration": 4,
    "start_time": "2022-11-22T16:42:24.078Z"
   },
   {
    "duration": 88,
    "start_time": "2022-11-22T16:42:24.084Z"
   },
   {
    "duration": 12,
    "start_time": "2022-11-22T16:42:24.174Z"
   },
   {
    "duration": 3,
    "start_time": "2022-11-22T16:42:24.187Z"
   },
   {
    "duration": 14,
    "start_time": "2022-11-22T16:42:24.191Z"
   },
   {
    "duration": 15,
    "start_time": "2022-11-22T16:42:24.207Z"
   },
   {
    "duration": 4,
    "start_time": "2022-11-22T16:42:24.224Z"
   },
   {
    "duration": 10,
    "start_time": "2022-11-22T16:42:24.229Z"
   },
   {
    "duration": 8,
    "start_time": "2022-11-22T16:42:24.240Z"
   },
   {
    "duration": 13,
    "start_time": "2022-11-22T16:42:24.249Z"
   },
   {
    "duration": 11,
    "start_time": "2022-11-22T16:42:24.263Z"
   },
   {
    "duration": 131,
    "start_time": "2022-11-22T16:42:24.277Z"
   },
   {
    "duration": 3,
    "start_time": "2022-11-22T16:42:24.415Z"
   },
   {
    "duration": 16,
    "start_time": "2022-11-22T16:42:24.420Z"
   },
   {
    "duration": 7,
    "start_time": "2022-11-22T16:42:24.437Z"
   },
   {
    "duration": 7,
    "start_time": "2022-11-22T16:42:24.446Z"
   },
   {
    "duration": 7,
    "start_time": "2022-11-22T16:42:24.455Z"
   },
   {
    "duration": 8,
    "start_time": "2022-11-22T16:42:24.464Z"
   },
   {
    "duration": 12,
    "start_time": "2022-11-22T16:42:24.473Z"
   },
   {
    "duration": 21,
    "start_time": "2022-11-22T16:42:24.487Z"
   },
   {
    "duration": 25,
    "start_time": "2022-11-22T16:42:24.510Z"
   },
   {
    "duration": 82,
    "start_time": "2022-11-22T16:42:24.536Z"
   },
   {
    "duration": 114,
    "start_time": "2022-11-22T16:42:24.620Z"
   },
   {
    "duration": 152,
    "start_time": "2022-11-22T16:42:24.817Z"
   },
   {
    "duration": 74,
    "start_time": "2022-11-22T16:42:24.970Z"
   },
   {
    "duration": 13,
    "start_time": "2022-11-22T16:42:25.046Z"
   },
   {
    "duration": 57,
    "start_time": "2022-11-22T16:42:25.060Z"
   },
   {
    "duration": 762,
    "start_time": "2022-11-22T16:42:25.120Z"
   },
   {
    "duration": 11,
    "start_time": "2022-11-22T16:42:25.884Z"
   },
   {
    "duration": 23,
    "start_time": "2022-11-22T16:42:25.896Z"
   },
   {
    "duration": 329,
    "start_time": "2022-11-22T16:42:25.922Z"
   },
   {
    "duration": 254,
    "start_time": "2022-11-22T16:42:26.253Z"
   },
   {
    "duration": 157,
    "start_time": "2022-11-22T16:42:26.516Z"
   },
   {
    "duration": 408,
    "start_time": "2022-11-22T16:42:26.675Z"
   },
   {
    "duration": 118,
    "start_time": "2022-11-22T16:42:27.085Z"
   },
   {
    "duration": 550,
    "start_time": "2022-11-22T16:42:27.205Z"
   },
   {
    "duration": 20,
    "start_time": "2022-11-22T16:43:13.197Z"
   },
   {
    "duration": 21,
    "start_time": "2022-11-22T16:43:30.748Z"
   },
   {
    "duration": 6,
    "start_time": "2022-11-22T16:48:26.689Z"
   },
   {
    "duration": 4,
    "start_time": "2022-11-22T16:49:47.125Z"
   },
   {
    "duration": 5,
    "start_time": "2022-11-22T16:50:20.930Z"
   },
   {
    "duration": 118,
    "start_time": "2022-11-22T16:53:28.585Z"
   },
   {
    "duration": 47,
    "start_time": "2022-11-22T16:53:31.369Z"
   },
   {
    "duration": 34,
    "start_time": "2022-11-22T16:53:56.783Z"
   },
   {
    "duration": 436,
    "start_time": "2022-11-22T17:04:32.415Z"
   },
   {
    "duration": 407,
    "start_time": "2022-11-22T17:04:59.144Z"
   },
   {
    "duration": 9,
    "start_time": "2022-11-22T17:38:08.381Z"
   },
   {
    "duration": 102,
    "start_time": "2022-11-22T17:39:08.296Z"
   },
   {
    "duration": 12,
    "start_time": "2022-11-22T17:39:10.952Z"
   },
   {
    "duration": 5,
    "start_time": "2022-11-22T17:39:15.250Z"
   },
   {
    "duration": 3,
    "start_time": "2022-11-22T17:39:54.806Z"
   },
   {
    "duration": 6,
    "start_time": "2022-11-22T17:39:54.810Z"
   },
   {
    "duration": 8,
    "start_time": "2022-11-22T17:39:54.818Z"
   },
   {
    "duration": 42,
    "start_time": "2022-11-22T17:39:54.828Z"
   },
   {
    "duration": 13,
    "start_time": "2022-11-22T17:39:54.872Z"
   },
   {
    "duration": 6,
    "start_time": "2022-11-22T17:39:54.887Z"
   },
   {
    "duration": 7,
    "start_time": "2022-11-22T17:39:54.895Z"
   },
   {
    "duration": 14,
    "start_time": "2022-11-22T17:39:54.903Z"
   },
   {
    "duration": 13,
    "start_time": "2022-11-22T17:39:54.919Z"
   },
   {
    "duration": 7,
    "start_time": "2022-11-22T17:39:54.933Z"
   },
   {
    "duration": 8,
    "start_time": "2022-11-22T17:39:54.942Z"
   },
   {
    "duration": 8,
    "start_time": "2022-11-22T17:39:54.952Z"
   },
   {
    "duration": 10,
    "start_time": "2022-11-22T17:39:54.962Z"
   },
   {
    "duration": 45,
    "start_time": "2022-11-22T17:39:54.973Z"
   },
   {
    "duration": 118,
    "start_time": "2022-11-22T17:39:55.019Z"
   },
   {
    "duration": 4,
    "start_time": "2022-11-22T17:39:55.139Z"
   },
   {
    "duration": 13,
    "start_time": "2022-11-22T17:39:55.144Z"
   },
   {
    "duration": 7,
    "start_time": "2022-11-22T17:39:55.159Z"
   },
   {
    "duration": 7,
    "start_time": "2022-11-22T17:39:55.167Z"
   },
   {
    "duration": 20,
    "start_time": "2022-11-22T17:39:55.175Z"
   },
   {
    "duration": 24,
    "start_time": "2022-11-22T17:39:55.197Z"
   },
   {
    "duration": 27,
    "start_time": "2022-11-22T17:39:55.222Z"
   },
   {
    "duration": 16,
    "start_time": "2022-11-22T17:39:55.251Z"
   },
   {
    "duration": 32,
    "start_time": "2022-11-22T17:39:55.269Z"
   },
   {
    "duration": 30,
    "start_time": "2022-11-22T17:39:55.302Z"
   },
   {
    "duration": 280,
    "start_time": "2022-11-22T17:39:55.337Z"
   },
   {
    "duration": 170,
    "start_time": "2022-11-22T17:39:55.619Z"
   },
   {
    "duration": 69,
    "start_time": "2022-11-22T17:39:55.791Z"
   },
   {
    "duration": 17,
    "start_time": "2022-11-22T17:39:55.861Z"
   },
   {
    "duration": 60,
    "start_time": "2022-11-22T17:39:55.880Z"
   },
   {
    "duration": 203,
    "start_time": "2022-11-22T17:39:56.015Z"
   },
   {
    "duration": 10,
    "start_time": "2022-11-22T17:39:56.220Z"
   },
   {
    "duration": 16,
    "start_time": "2022-11-22T17:39:56.232Z"
   },
   {
    "duration": 141,
    "start_time": "2022-11-22T17:39:56.317Z"
   },
   {
    "duration": 229,
    "start_time": "2022-11-22T17:39:56.460Z"
   },
   {
    "duration": 129,
    "start_time": "2022-11-22T17:39:56.691Z"
   },
   {
    "duration": 406,
    "start_time": "2022-11-22T17:39:56.822Z"
   },
   {
    "duration": 123,
    "start_time": "2022-11-22T17:39:57.230Z"
   },
   {
    "duration": 526,
    "start_time": "2022-11-22T17:39:57.355Z"
   },
   {
    "duration": 44,
    "start_time": "2022-11-22T17:40:36.416Z"
   },
   {
    "duration": 13,
    "start_time": "2022-11-22T17:40:37.334Z"
   },
   {
    "duration": 6,
    "start_time": "2022-11-22T17:40:41.707Z"
   },
   {
    "duration": 7,
    "start_time": "2022-11-22T17:40:48.216Z"
   },
   {
    "duration": 3,
    "start_time": "2022-11-22T17:41:02.317Z"
   },
   {
    "duration": 6,
    "start_time": "2022-11-22T17:41:02.321Z"
   },
   {
    "duration": 7,
    "start_time": "2022-11-22T17:41:02.329Z"
   },
   {
    "duration": 43,
    "start_time": "2022-11-22T17:41:02.337Z"
   },
   {
    "duration": 12,
    "start_time": "2022-11-22T17:41:02.382Z"
   },
   {
    "duration": 7,
    "start_time": "2022-11-22T17:41:02.395Z"
   },
   {
    "duration": 2,
    "start_time": "2022-11-22T17:41:08.582Z"
   },
   {
    "duration": 4,
    "start_time": "2022-11-22T17:41:08.590Z"
   },
   {
    "duration": 9,
    "start_time": "2022-11-22T17:41:08.595Z"
   },
   {
    "duration": 51,
    "start_time": "2022-11-22T17:41:08.605Z"
   },
   {
    "duration": 11,
    "start_time": "2022-11-22T17:41:08.657Z"
   },
   {
    "duration": 11,
    "start_time": "2022-11-22T17:41:08.670Z"
   },
   {
    "duration": 9,
    "start_time": "2022-11-22T17:47:36.325Z"
   },
   {
    "duration": 8,
    "start_time": "2022-11-22T17:47:43.908Z"
   },
   {
    "duration": 12,
    "start_time": "2022-11-22T17:47:44.626Z"
   },
   {
    "duration": 12,
    "start_time": "2022-11-22T17:47:48.898Z"
   },
   {
    "duration": 3,
    "start_time": "2022-11-22T17:53:52.520Z"
   },
   {
    "duration": 14,
    "start_time": "2022-11-22T17:53:52.526Z"
   },
   {
    "duration": 5,
    "start_time": "2022-11-22T17:53:52.542Z"
   },
   {
    "duration": 50,
    "start_time": "2022-11-22T17:53:52.548Z"
   },
   {
    "duration": 11,
    "start_time": "2022-11-22T17:53:52.600Z"
   },
   {
    "duration": 6,
    "start_time": "2022-11-22T17:53:52.613Z"
   },
   {
    "duration": 18,
    "start_time": "2022-11-22T17:53:52.620Z"
   },
   {
    "duration": 14,
    "start_time": "2022-11-22T17:53:52.640Z"
   },
   {
    "duration": 83,
    "start_time": "2022-11-22T17:53:52.655Z"
   },
   {
    "duration": 7,
    "start_time": "2022-11-22T17:53:52.740Z"
   },
   {
    "duration": 13,
    "start_time": "2022-11-22T17:53:52.749Z"
   },
   {
    "duration": 8,
    "start_time": "2022-11-22T17:53:52.764Z"
   },
   {
    "duration": 11,
    "start_time": "2022-11-22T17:53:52.773Z"
   },
   {
    "duration": 31,
    "start_time": "2022-11-22T17:53:52.785Z"
   },
   {
    "duration": 129,
    "start_time": "2022-11-22T17:53:52.818Z"
   },
   {
    "duration": 2,
    "start_time": "2022-11-22T17:56:05.930Z"
   },
   {
    "duration": 13,
    "start_time": "2022-11-22T17:56:05.936Z"
   },
   {
    "duration": 10,
    "start_time": "2022-11-22T17:56:05.951Z"
   },
   {
    "duration": 49,
    "start_time": "2022-11-22T17:56:05.963Z"
   },
   {
    "duration": 14,
    "start_time": "2022-11-22T17:56:06.015Z"
   },
   {
    "duration": 6,
    "start_time": "2022-11-22T17:56:06.030Z"
   },
   {
    "duration": 11,
    "start_time": "2022-11-22T17:56:06.038Z"
   },
   {
    "duration": 14,
    "start_time": "2022-11-22T17:56:06.050Z"
   },
   {
    "duration": 34,
    "start_time": "2022-11-22T17:56:06.065Z"
   },
   {
    "duration": 15,
    "start_time": "2022-11-22T17:56:06.101Z"
   },
   {
    "duration": 9,
    "start_time": "2022-11-22T17:56:06.118Z"
   },
   {
    "duration": 8,
    "start_time": "2022-11-22T17:56:06.128Z"
   },
   {
    "duration": 20,
    "start_time": "2022-11-22T17:56:06.138Z"
   },
   {
    "duration": 12,
    "start_time": "2022-11-22T17:56:06.160Z"
   },
   {
    "duration": 137,
    "start_time": "2022-11-22T17:56:06.174Z"
   },
   {
    "duration": 4,
    "start_time": "2022-11-22T17:56:06.321Z"
   },
   {
    "duration": 40,
    "start_time": "2022-11-22T17:56:06.327Z"
   },
   {
    "duration": 11,
    "start_time": "2022-11-22T17:56:06.369Z"
   },
   {
    "duration": 14,
    "start_time": "2022-11-22T17:56:06.382Z"
   },
   {
    "duration": 32,
    "start_time": "2022-11-22T17:56:06.398Z"
   },
   {
    "duration": 43,
    "start_time": "2022-11-22T17:56:06.432Z"
   },
   {
    "duration": 3,
    "start_time": "2022-11-22T18:00:29.983Z"
   },
   {
    "duration": 42,
    "start_time": "2022-11-22T18:00:29.992Z"
   },
   {
    "duration": 55,
    "start_time": "2022-11-22T18:00:30.036Z"
   },
   {
    "duration": 85,
    "start_time": "2022-11-22T18:00:30.093Z"
   },
   {
    "duration": 11,
    "start_time": "2022-11-22T18:00:30.180Z"
   },
   {
    "duration": 10,
    "start_time": "2022-11-22T18:00:30.193Z"
   },
   {
    "duration": 38,
    "start_time": "2022-11-22T18:00:30.204Z"
   },
   {
    "duration": 34,
    "start_time": "2022-11-22T18:00:30.243Z"
   },
   {
    "duration": 21,
    "start_time": "2022-11-22T18:00:30.279Z"
   },
   {
    "duration": 37,
    "start_time": "2022-11-22T18:00:30.301Z"
   },
   {
    "duration": 40,
    "start_time": "2022-11-22T18:00:30.341Z"
   },
   {
    "duration": 44,
    "start_time": "2022-11-22T18:00:30.382Z"
   },
   {
    "duration": 39,
    "start_time": "2022-11-22T18:00:30.428Z"
   },
   {
    "duration": 44,
    "start_time": "2022-11-22T18:00:30.469Z"
   },
   {
    "duration": 150,
    "start_time": "2022-11-22T18:00:30.515Z"
   },
   {
    "duration": 4,
    "start_time": "2022-11-22T18:00:30.667Z"
   },
   {
    "duration": 23,
    "start_time": "2022-11-22T18:00:30.672Z"
   },
   {
    "duration": 33,
    "start_time": "2022-11-22T18:00:30.696Z"
   },
   {
    "duration": 32,
    "start_time": "2022-11-22T18:00:30.732Z"
   },
   {
    "duration": 30,
    "start_time": "2022-11-22T18:00:30.765Z"
   },
   {
    "duration": 27,
    "start_time": "2022-11-22T18:00:30.797Z"
   },
   {
    "duration": 21,
    "start_time": "2022-11-22T18:00:30.826Z"
   },
   {
    "duration": 40,
    "start_time": "2022-11-22T18:00:30.849Z"
   },
   {
    "duration": 42,
    "start_time": "2022-11-22T18:00:30.891Z"
   },
   {
    "duration": 80,
    "start_time": "2022-11-22T18:00:30.935Z"
   },
   {
    "duration": 152,
    "start_time": "2022-11-22T18:00:31.018Z"
   },
   {
    "duration": 45,
    "start_time": "2022-11-22T18:00:31.172Z"
   },
   {
    "duration": 178,
    "start_time": "2022-11-22T18:00:31.219Z"
   },
   {
    "duration": 23,
    "start_time": "2022-11-22T18:01:33.789Z"
   },
   {
    "duration": 56,
    "start_time": "2022-11-22T18:01:34.349Z"
   },
   {
    "duration": 23,
    "start_time": "2022-11-22T18:01:41.197Z"
   },
   {
    "duration": 59,
    "start_time": "2022-11-22T18:01:42.595Z"
   },
   {
    "duration": 61,
    "start_time": "2022-11-22T18:02:59.795Z"
   },
   {
    "duration": 22,
    "start_time": "2022-11-22T18:03:05.570Z"
   },
   {
    "duration": 64,
    "start_time": "2022-11-22T18:03:06.720Z"
   },
   {
    "duration": 58,
    "start_time": "2022-11-22T18:03:11.543Z"
   },
   {
    "duration": 2,
    "start_time": "2022-11-22T18:10:20.415Z"
   },
   {
    "duration": 6,
    "start_time": "2022-11-22T18:10:20.421Z"
   },
   {
    "duration": 6,
    "start_time": "2022-11-22T18:10:20.429Z"
   },
   {
    "duration": 45,
    "start_time": "2022-11-22T18:10:20.436Z"
   },
   {
    "duration": 11,
    "start_time": "2022-11-22T18:10:20.484Z"
   },
   {
    "duration": 6,
    "start_time": "2022-11-22T18:10:20.497Z"
   },
   {
    "duration": 17,
    "start_time": "2022-11-22T18:10:20.504Z"
   },
   {
    "duration": 15,
    "start_time": "2022-11-22T18:10:20.522Z"
   },
   {
    "duration": 12,
    "start_time": "2022-11-22T18:10:20.538Z"
   },
   {
    "duration": 12,
    "start_time": "2022-11-22T18:10:20.552Z"
   },
   {
    "duration": 16,
    "start_time": "2022-11-22T18:10:20.566Z"
   },
   {
    "duration": 13,
    "start_time": "2022-11-22T18:10:20.584Z"
   },
   {
    "duration": 24,
    "start_time": "2022-11-22T18:10:20.599Z"
   },
   {
    "duration": 11,
    "start_time": "2022-11-22T18:10:20.625Z"
   },
   {
    "duration": 114,
    "start_time": "2022-11-22T18:10:20.638Z"
   },
   {
    "duration": 4,
    "start_time": "2022-11-22T18:10:20.754Z"
   },
   {
    "duration": 12,
    "start_time": "2022-11-22T18:10:20.759Z"
   },
   {
    "duration": 26,
    "start_time": "2022-11-22T18:10:20.772Z"
   },
   {
    "duration": 5,
    "start_time": "2022-11-22T18:10:20.800Z"
   },
   {
    "duration": 9,
    "start_time": "2022-11-22T18:10:20.807Z"
   },
   {
    "duration": 7,
    "start_time": "2022-11-22T18:10:20.817Z"
   },
   {
    "duration": 9,
    "start_time": "2022-11-22T18:10:20.825Z"
   },
   {
    "duration": 10,
    "start_time": "2022-11-22T18:10:20.835Z"
   },
   {
    "duration": 23,
    "start_time": "2022-11-22T18:10:20.847Z"
   },
   {
    "duration": 46,
    "start_time": "2022-11-22T18:10:20.872Z"
   },
   {
    "duration": 146,
    "start_time": "2022-11-22T18:10:20.919Z"
   },
   {
    "duration": 51,
    "start_time": "2022-11-22T18:10:21.066Z"
   },
   {
    "duration": 148,
    "start_time": "2022-11-22T18:10:21.119Z"
   },
   {
    "duration": 13,
    "start_time": "2022-11-22T18:10:21.270Z"
   },
   {
    "duration": 68,
    "start_time": "2022-11-22T18:10:21.285Z"
   },
   {
    "duration": 265,
    "start_time": "2022-11-22T18:10:21.355Z"
   },
   {
    "duration": 10,
    "start_time": "2022-11-22T18:10:21.622Z"
   },
   {
    "duration": 16,
    "start_time": "2022-11-22T18:10:21.635Z"
   },
   {
    "duration": 127,
    "start_time": "2022-11-22T18:10:21.720Z"
   },
   {
    "duration": 276,
    "start_time": "2022-11-22T18:15:48.479Z"
   },
   {
    "duration": 113,
    "start_time": "2022-11-22T18:16:02.584Z"
   },
   {
    "duration": 371,
    "start_time": "2022-11-22T18:16:04.046Z"
   },
   {
    "duration": 133,
    "start_time": "2022-11-22T18:16:20.197Z"
   },
   {
    "duration": 1392,
    "start_time": "2022-11-22T19:24:17.297Z"
   },
   {
    "duration": 6,
    "start_time": "2022-11-22T19:27:48.332Z"
   },
   {
    "duration": 1336,
    "start_time": "2022-11-22T19:27:48.340Z"
   },
   {
    "duration": 3,
    "start_time": "2022-11-22T19:27:49.678Z"
   },
   {
    "duration": 51,
    "start_time": "2022-11-22T19:27:49.682Z"
   },
   {
    "duration": 18,
    "start_time": "2022-11-22T19:27:49.735Z"
   },
   {
    "duration": 17,
    "start_time": "2022-11-22T19:27:49.755Z"
   },
   {
    "duration": 19,
    "start_time": "2022-11-22T19:27:49.774Z"
   },
   {
    "duration": 22,
    "start_time": "2022-11-22T19:27:49.795Z"
   },
   {
    "duration": 22,
    "start_time": "2022-11-22T19:27:49.819Z"
   },
   {
    "duration": 6,
    "start_time": "2022-11-22T19:27:49.843Z"
   },
   {
    "duration": 12,
    "start_time": "2022-11-22T19:27:49.851Z"
   },
   {
    "duration": 37,
    "start_time": "2022-11-22T19:27:49.864Z"
   },
   {
    "duration": 17,
    "start_time": "2022-11-22T19:27:49.902Z"
   },
   {
    "duration": 12,
    "start_time": "2022-11-22T19:27:49.923Z"
   },
   {
    "duration": 150,
    "start_time": "2022-11-22T19:27:49.936Z"
   },
   {
    "duration": 5,
    "start_time": "2022-11-22T19:27:50.090Z"
   },
   {
    "duration": 31,
    "start_time": "2022-11-22T19:27:50.097Z"
   },
   {
    "duration": 19,
    "start_time": "2022-11-22T19:27:50.129Z"
   },
   {
    "duration": 8,
    "start_time": "2022-11-22T19:27:50.150Z"
   },
   {
    "duration": 8,
    "start_time": "2022-11-22T19:27:50.160Z"
   },
   {
    "duration": 7,
    "start_time": "2022-11-22T19:27:50.170Z"
   },
   {
    "duration": 6,
    "start_time": "2022-11-22T19:27:50.180Z"
   },
   {
    "duration": 45,
    "start_time": "2022-11-22T19:27:50.188Z"
   },
   {
    "duration": 22,
    "start_time": "2022-11-22T19:27:50.235Z"
   },
   {
    "duration": 66,
    "start_time": "2022-11-22T19:27:50.259Z"
   },
   {
    "duration": 1660,
    "start_time": "2022-11-22T19:27:50.327Z"
   },
   {
    "duration": 41,
    "start_time": "2022-11-22T19:27:51.989Z"
   },
   {
    "duration": 218,
    "start_time": "2022-11-22T19:27:52.035Z"
   },
   {
    "duration": 19,
    "start_time": "2022-11-22T19:27:52.255Z"
   },
   {
    "duration": 79,
    "start_time": "2022-11-22T19:27:52.275Z"
   },
   {
    "duration": 200,
    "start_time": "2022-11-22T19:27:52.417Z"
   },
   {
    "duration": 16,
    "start_time": "2022-11-22T19:27:52.620Z"
   },
   {
    "duration": 77,
    "start_time": "2022-11-22T19:27:52.639Z"
   },
   {
    "duration": 131,
    "start_time": "2022-11-22T19:27:52.718Z"
   },
   {
    "duration": 282,
    "start_time": "2022-11-22T19:27:52.851Z"
   },
   {
    "duration": 157,
    "start_time": "2022-11-22T19:27:53.135Z"
   },
   {
    "duration": 185,
    "start_time": "2022-11-22T19:27:53.293Z"
   },
   {
    "duration": 159,
    "start_time": "2022-11-22T19:27:53.480Z"
   },
   {
    "duration": 588,
    "start_time": "2022-11-22T19:27:53.641Z"
   },
   {
    "duration": 1437,
    "start_time": "2022-11-22T19:30:58.384Z"
   },
   {
    "duration": 129,
    "start_time": "2022-11-22T19:32:24.604Z"
   },
   {
    "duration": 83,
    "start_time": "2022-11-22T19:32:27.442Z"
   },
   {
    "duration": 145,
    "start_time": "2022-11-22T19:32:28.326Z"
   },
   {
    "duration": 3,
    "start_time": "2022-11-22T19:32:59.721Z"
   },
   {
    "duration": 5,
    "start_time": "2022-11-22T19:32:59.730Z"
   },
   {
    "duration": 23,
    "start_time": "2022-11-22T19:32:59.739Z"
   },
   {
    "duration": 77,
    "start_time": "2022-11-22T19:32:59.765Z"
   },
   {
    "duration": 15,
    "start_time": "2022-11-22T19:32:59.844Z"
   },
   {
    "duration": 7,
    "start_time": "2022-11-22T19:32:59.863Z"
   },
   {
    "duration": 13,
    "start_time": "2022-11-22T19:32:59.872Z"
   },
   {
    "duration": 35,
    "start_time": "2022-11-22T19:32:59.886Z"
   },
   {
    "duration": 14,
    "start_time": "2022-11-22T19:32:59.924Z"
   },
   {
    "duration": 6,
    "start_time": "2022-11-22T19:32:59.940Z"
   },
   {
    "duration": 15,
    "start_time": "2022-11-22T19:32:59.948Z"
   },
   {
    "duration": 11,
    "start_time": "2022-11-22T19:32:59.967Z"
   },
   {
    "duration": 19,
    "start_time": "2022-11-22T19:33:00.017Z"
   },
   {
    "duration": 19,
    "start_time": "2022-11-22T19:33:00.039Z"
   },
   {
    "duration": 178,
    "start_time": "2022-11-22T19:33:00.060Z"
   },
   {
    "duration": 6,
    "start_time": "2022-11-22T19:33:00.241Z"
   },
   {
    "duration": 28,
    "start_time": "2022-11-22T19:33:00.249Z"
   },
   {
    "duration": 7,
    "start_time": "2022-11-22T19:33:00.280Z"
   },
   {
    "duration": 27,
    "start_time": "2022-11-22T19:33:00.289Z"
   },
   {
    "duration": 28,
    "start_time": "2022-11-22T19:33:00.318Z"
   },
   {
    "duration": 30,
    "start_time": "2022-11-22T19:33:00.351Z"
   },
   {
    "duration": 17,
    "start_time": "2022-11-22T19:33:00.384Z"
   },
   {
    "duration": 21,
    "start_time": "2022-11-22T19:33:00.403Z"
   },
   {
    "duration": 40,
    "start_time": "2022-11-22T19:33:00.426Z"
   },
   {
    "duration": 53,
    "start_time": "2022-11-22T19:33:00.468Z"
   },
   {
    "duration": 1923,
    "start_time": "2022-11-22T19:33:00.524Z"
   },
   {
    "duration": 69,
    "start_time": "2022-11-22T19:33:02.449Z"
   },
   {
    "duration": 216,
    "start_time": "2022-11-22T19:33:02.520Z"
   },
   {
    "duration": 15,
    "start_time": "2022-11-22T19:33:02.738Z"
   },
   {
    "duration": 171,
    "start_time": "2022-11-22T19:33:02.756Z"
   },
   {
    "duration": 223,
    "start_time": "2022-11-22T19:33:02.930Z"
   },
   {
    "duration": 10,
    "start_time": "2022-11-22T19:33:03.155Z"
   },
   {
    "duration": 55,
    "start_time": "2022-11-22T19:33:03.167Z"
   },
   {
    "duration": 139,
    "start_time": "2022-11-22T19:33:03.224Z"
   },
   {
    "duration": 336,
    "start_time": "2022-11-22T19:33:03.365Z"
   },
   {
    "duration": 174,
    "start_time": "2022-11-22T19:33:03.715Z"
   },
   {
    "duration": 181,
    "start_time": "2022-11-22T19:33:03.891Z"
   },
   {
    "duration": 154,
    "start_time": "2022-11-22T19:33:04.075Z"
   },
   {
    "duration": 552,
    "start_time": "2022-11-22T19:33:04.231Z"
   },
   {
    "duration": 226,
    "start_time": "2022-11-22T19:36:05.925Z"
   },
   {
    "duration": 63,
    "start_time": "2022-11-22T19:36:35.632Z"
   },
   {
    "duration": 2,
    "start_time": "2022-11-22T19:36:39.826Z"
   },
   {
    "duration": 9,
    "start_time": "2022-11-22T19:36:39.832Z"
   },
   {
    "duration": 13,
    "start_time": "2022-11-22T19:36:39.843Z"
   },
   {
    "duration": 47,
    "start_time": "2022-11-22T19:36:39.858Z"
   },
   {
    "duration": 11,
    "start_time": "2022-11-22T19:36:39.907Z"
   },
   {
    "duration": 5,
    "start_time": "2022-11-22T19:36:39.920Z"
   },
   {
    "duration": 11,
    "start_time": "2022-11-22T19:36:39.927Z"
   },
   {
    "duration": 12,
    "start_time": "2022-11-22T19:36:39.939Z"
   },
   {
    "duration": 94,
    "start_time": "2022-11-22T19:36:39.953Z"
   },
   {
    "duration": 8,
    "start_time": "2022-11-22T19:36:40.049Z"
   },
   {
    "duration": 9,
    "start_time": "2022-11-22T19:36:40.060Z"
   },
   {
    "duration": 9,
    "start_time": "2022-11-22T19:36:40.070Z"
   },
   {
    "duration": 13,
    "start_time": "2022-11-22T19:36:40.080Z"
   },
   {
    "duration": 11,
    "start_time": "2022-11-22T19:36:40.115Z"
   },
   {
    "duration": 126,
    "start_time": "2022-11-22T19:36:40.128Z"
   },
   {
    "duration": 4,
    "start_time": "2022-11-22T19:36:40.256Z"
   },
   {
    "duration": 21,
    "start_time": "2022-11-22T19:36:40.261Z"
   },
   {
    "duration": 8,
    "start_time": "2022-11-22T19:36:40.283Z"
   },
   {
    "duration": 14,
    "start_time": "2022-11-22T19:36:40.292Z"
   },
   {
    "duration": 16,
    "start_time": "2022-11-22T19:36:40.308Z"
   },
   {
    "duration": 21,
    "start_time": "2022-11-22T19:36:40.325Z"
   },
   {
    "duration": 10,
    "start_time": "2022-11-22T19:36:40.347Z"
   },
   {
    "duration": 21,
    "start_time": "2022-11-22T19:36:40.359Z"
   },
   {
    "duration": 26,
    "start_time": "2022-11-22T19:36:40.381Z"
   },
   {
    "duration": 21,
    "start_time": "2022-11-22T19:36:40.408Z"
   },
   {
    "duration": 1668,
    "start_time": "2022-11-22T19:36:40.432Z"
   },
   {
    "duration": 32,
    "start_time": "2022-11-22T19:36:42.101Z"
   },
   {
    "duration": 302,
    "start_time": "2022-11-22T19:36:42.135Z"
   },
   {
    "duration": 14,
    "start_time": "2022-11-22T19:36:42.440Z"
   },
   {
    "duration": 68,
    "start_time": "2022-11-22T19:36:42.456Z"
   },
   {
    "duration": 305,
    "start_time": "2022-11-22T19:36:42.617Z"
   },
   {
    "duration": 11,
    "start_time": "2022-11-22T19:36:42.924Z"
   },
   {
    "duration": 13,
    "start_time": "2022-11-22T19:36:42.937Z"
   },
   {
    "duration": 223,
    "start_time": "2022-11-22T19:36:42.952Z"
   },
   {
    "duration": 2,
    "start_time": "2022-11-22T19:39:03.535Z"
   },
   {
    "duration": 6,
    "start_time": "2022-11-22T19:39:03.543Z"
   },
   {
    "duration": 9,
    "start_time": "2022-11-22T19:39:03.550Z"
   },
   {
    "duration": 44,
    "start_time": "2022-11-22T19:39:03.560Z"
   },
   {
    "duration": 11,
    "start_time": "2022-11-22T19:39:03.607Z"
   },
   {
    "duration": 5,
    "start_time": "2022-11-22T19:39:03.620Z"
   },
   {
    "duration": 8,
    "start_time": "2022-11-22T19:39:03.626Z"
   },
   {
    "duration": 11,
    "start_time": "2022-11-22T19:39:03.636Z"
   },
   {
    "duration": 11,
    "start_time": "2022-11-22T19:39:03.649Z"
   },
   {
    "duration": 5,
    "start_time": "2022-11-22T19:39:03.663Z"
   },
   {
    "duration": 8,
    "start_time": "2022-11-22T19:39:03.669Z"
   },
   {
    "duration": 8,
    "start_time": "2022-11-22T19:39:03.678Z"
   },
   {
    "duration": 35,
    "start_time": "2022-11-22T19:39:03.688Z"
   },
   {
    "duration": 11,
    "start_time": "2022-11-22T19:39:03.724Z"
   },
   {
    "duration": 126,
    "start_time": "2022-11-22T19:39:03.736Z"
   },
   {
    "duration": 3,
    "start_time": "2022-11-22T19:39:03.864Z"
   },
   {
    "duration": 10,
    "start_time": "2022-11-22T19:39:03.869Z"
   },
   {
    "duration": 6,
    "start_time": "2022-11-22T19:39:03.881Z"
   },
   {
    "duration": 5,
    "start_time": "2022-11-22T19:39:03.889Z"
   },
   {
    "duration": 24,
    "start_time": "2022-11-22T19:39:03.895Z"
   },
   {
    "duration": 7,
    "start_time": "2022-11-22T19:39:03.920Z"
   },
   {
    "duration": 13,
    "start_time": "2022-11-22T19:39:03.928Z"
   },
   {
    "duration": 12,
    "start_time": "2022-11-22T19:39:03.943Z"
   },
   {
    "duration": 18,
    "start_time": "2022-11-22T19:39:03.957Z"
   },
   {
    "duration": 40,
    "start_time": "2022-11-22T19:39:03.978Z"
   },
   {
    "duration": 1535,
    "start_time": "2022-11-22T19:39:04.020Z"
   },
   {
    "duration": 60,
    "start_time": "2022-11-22T19:39:05.557Z"
   },
   {
    "duration": 222,
    "start_time": "2022-11-22T19:39:05.624Z"
   },
   {
    "duration": 12,
    "start_time": "2022-11-22T19:39:05.848Z"
   },
   {
    "duration": 56,
    "start_time": "2022-11-22T19:39:05.861Z"
   },
   {
    "duration": 409,
    "start_time": "2022-11-22T19:39:05.919Z"
   },
   {
    "duration": 11,
    "start_time": "2022-11-22T19:39:06.330Z"
   },
   {
    "duration": 15,
    "start_time": "2022-11-22T19:39:06.343Z"
   },
   {
    "duration": 155,
    "start_time": "2022-11-22T19:39:06.422Z"
   },
   {
    "duration": 304,
    "start_time": "2022-11-22T19:39:06.578Z"
   },
   {
    "duration": 132,
    "start_time": "2022-11-22T19:39:06.884Z"
   },
   {
    "duration": 143,
    "start_time": "2022-11-22T19:39:07.018Z"
   },
   {
    "duration": 124,
    "start_time": "2022-11-22T19:39:07.162Z"
   },
   {
    "duration": 204,
    "start_time": "2022-11-22T19:39:21.676Z"
   },
   {
    "duration": 3,
    "start_time": "2022-11-22T19:41:57.853Z"
   },
   {
    "duration": 7,
    "start_time": "2022-11-22T19:41:57.860Z"
   },
   {
    "duration": 8,
    "start_time": "2022-11-22T19:41:57.869Z"
   },
   {
    "duration": 45,
    "start_time": "2022-11-22T19:41:57.879Z"
   },
   {
    "duration": 13,
    "start_time": "2022-11-22T19:41:57.926Z"
   },
   {
    "duration": 6,
    "start_time": "2022-11-22T19:41:57.942Z"
   },
   {
    "duration": 12,
    "start_time": "2022-11-22T19:41:57.950Z"
   },
   {
    "duration": 15,
    "start_time": "2022-11-22T19:41:57.963Z"
   },
   {
    "duration": 12,
    "start_time": "2022-11-22T19:41:57.980Z"
   },
   {
    "duration": 4,
    "start_time": "2022-11-22T19:41:58.016Z"
   },
   {
    "duration": 8,
    "start_time": "2022-11-22T19:41:58.023Z"
   },
   {
    "duration": 12,
    "start_time": "2022-11-22T19:41:58.032Z"
   },
   {
    "duration": 20,
    "start_time": "2022-11-22T19:41:58.046Z"
   },
   {
    "duration": 32,
    "start_time": "2022-11-22T19:41:58.068Z"
   },
   {
    "duration": 128,
    "start_time": "2022-11-22T19:41:58.101Z"
   },
   {
    "duration": 4,
    "start_time": "2022-11-22T19:41:58.231Z"
   },
   {
    "duration": 11,
    "start_time": "2022-11-22T19:41:58.236Z"
   },
   {
    "duration": 7,
    "start_time": "2022-11-22T19:41:58.249Z"
   },
   {
    "duration": 6,
    "start_time": "2022-11-22T19:41:58.257Z"
   },
   {
    "duration": 8,
    "start_time": "2022-11-22T19:41:58.264Z"
   },
   {
    "duration": 43,
    "start_time": "2022-11-22T19:41:58.274Z"
   },
   {
    "duration": 8,
    "start_time": "2022-11-22T19:41:58.319Z"
   },
   {
    "duration": 15,
    "start_time": "2022-11-22T19:41:58.329Z"
   },
   {
    "duration": 33,
    "start_time": "2022-11-22T19:41:58.346Z"
   },
   {
    "duration": 38,
    "start_time": "2022-11-22T19:41:58.382Z"
   },
   {
    "duration": 4041,
    "start_time": "2022-11-22T19:42:02.481Z"
   },
   {
    "duration": 2,
    "start_time": "2022-11-22T19:42:30.949Z"
   },
   {
    "duration": 29,
    "start_time": "2022-11-22T19:42:30.958Z"
   },
   {
    "duration": 34,
    "start_time": "2022-11-22T19:42:30.989Z"
   },
   {
    "duration": 70,
    "start_time": "2022-11-22T19:42:31.025Z"
   },
   {
    "duration": 13,
    "start_time": "2022-11-22T19:42:31.098Z"
   },
   {
    "duration": 27,
    "start_time": "2022-11-22T19:42:31.113Z"
   },
   {
    "duration": 26,
    "start_time": "2022-11-22T19:42:31.142Z"
   },
   {
    "duration": 55,
    "start_time": "2022-11-22T19:42:31.170Z"
   },
   {
    "duration": 25,
    "start_time": "2022-11-22T19:42:31.227Z"
   },
   {
    "duration": 40,
    "start_time": "2022-11-22T19:42:31.254Z"
   },
   {
    "duration": 29,
    "start_time": "2022-11-22T19:42:31.297Z"
   },
   {
    "duration": 16,
    "start_time": "2022-11-22T19:42:31.327Z"
   },
   {
    "duration": 47,
    "start_time": "2022-11-22T19:42:31.344Z"
   },
   {
    "duration": 34,
    "start_time": "2022-11-22T19:42:31.392Z"
   },
   {
    "duration": 138,
    "start_time": "2022-11-22T19:42:31.428Z"
   },
   {
    "duration": 4,
    "start_time": "2022-11-22T19:42:31.567Z"
   },
   {
    "duration": 37,
    "start_time": "2022-11-22T19:42:31.573Z"
   },
   {
    "duration": 38,
    "start_time": "2022-11-22T19:42:31.612Z"
   },
   {
    "duration": 37,
    "start_time": "2022-11-22T19:42:31.651Z"
   },
   {
    "duration": 36,
    "start_time": "2022-11-22T19:42:31.690Z"
   },
   {
    "duration": 36,
    "start_time": "2022-11-22T19:42:31.727Z"
   },
   {
    "duration": 25,
    "start_time": "2022-11-22T19:42:31.764Z"
   },
   {
    "duration": 33,
    "start_time": "2022-11-22T19:42:31.790Z"
   },
   {
    "duration": 35,
    "start_time": "2022-11-22T19:42:31.825Z"
   },
   {
    "duration": 54,
    "start_time": "2022-11-22T19:42:31.861Z"
   },
   {
    "duration": 4137,
    "start_time": "2022-11-22T19:42:31.916Z"
   },
   {
    "duration": 62,
    "start_time": "2022-11-22T19:42:36.055Z"
   },
   {
    "duration": 470,
    "start_time": "2022-11-22T19:42:36.121Z"
   },
   {
    "duration": 20,
    "start_time": "2022-11-22T19:42:36.596Z"
   },
   {
    "duration": 106,
    "start_time": "2022-11-22T19:42:36.618Z"
   },
   {
    "duration": 800,
    "start_time": "2022-11-22T19:42:36.727Z"
   },
   {
    "duration": 10,
    "start_time": "2022-11-22T19:42:37.529Z"
   },
   {
    "duration": 29,
    "start_time": "2022-11-22T19:42:37.540Z"
   },
   {
    "duration": 291,
    "start_time": "2022-11-22T19:42:37.617Z"
   },
   {
    "duration": 280,
    "start_time": "2022-11-22T19:42:37.910Z"
   },
   {
    "duration": 134,
    "start_time": "2022-11-22T19:42:38.192Z"
   },
   {
    "duration": 446,
    "start_time": "2022-11-22T19:42:38.327Z"
   },
   {
    "duration": 121,
    "start_time": "2022-11-22T19:42:38.774Z"
   },
   {
    "duration": 593,
    "start_time": "2022-11-22T19:42:38.897Z"
   },
   {
    "duration": 461,
    "start_time": "2022-11-22T19:45:23.216Z"
   },
   {
    "duration": 357,
    "start_time": "2022-11-22T19:46:36.057Z"
   },
   {
    "duration": 363,
    "start_time": "2022-11-22T19:48:04.498Z"
   },
   {
    "duration": 375,
    "start_time": "2022-11-22T20:00:53.626Z"
   },
   {
    "duration": 354,
    "start_time": "2022-11-22T20:01:24.297Z"
   },
   {
    "duration": 131,
    "start_time": "2022-11-22T20:03:23.496Z"
   },
   {
    "duration": 51,
    "start_time": "2022-11-23T06:17:44.160Z"
   },
   {
    "duration": 2,
    "start_time": "2022-11-23T06:17:53.958Z"
   },
   {
    "duration": 1588,
    "start_time": "2022-11-23T06:17:53.963Z"
   },
   {
    "duration": 0,
    "start_time": "2022-11-23T06:17:55.554Z"
   },
   {
    "duration": 0,
    "start_time": "2022-11-23T06:17:55.556Z"
   },
   {
    "duration": 0,
    "start_time": "2022-11-23T06:17:55.557Z"
   },
   {
    "duration": 0,
    "start_time": "2022-11-23T06:17:55.558Z"
   },
   {
    "duration": 0,
    "start_time": "2022-11-23T06:17:55.559Z"
   },
   {
    "duration": 0,
    "start_time": "2022-11-23T06:17:55.560Z"
   },
   {
    "duration": 0,
    "start_time": "2022-11-23T06:17:55.562Z"
   },
   {
    "duration": 0,
    "start_time": "2022-11-23T06:17:55.563Z"
   },
   {
    "duration": 0,
    "start_time": "2022-11-23T06:17:55.564Z"
   },
   {
    "duration": 0,
    "start_time": "2022-11-23T06:17:55.566Z"
   },
   {
    "duration": 0,
    "start_time": "2022-11-23T06:17:55.567Z"
   },
   {
    "duration": 0,
    "start_time": "2022-11-23T06:17:55.568Z"
   },
   {
    "duration": 0,
    "start_time": "2022-11-23T06:17:55.570Z"
   },
   {
    "duration": 0,
    "start_time": "2022-11-23T06:17:55.571Z"
   },
   {
    "duration": 0,
    "start_time": "2022-11-23T06:17:55.572Z"
   },
   {
    "duration": 0,
    "start_time": "2022-11-23T06:17:55.573Z"
   },
   {
    "duration": 0,
    "start_time": "2022-11-23T06:17:55.574Z"
   },
   {
    "duration": 0,
    "start_time": "2022-11-23T06:17:55.575Z"
   },
   {
    "duration": 0,
    "start_time": "2022-11-23T06:17:55.576Z"
   },
   {
    "duration": 0,
    "start_time": "2022-11-23T06:17:55.577Z"
   },
   {
    "duration": 1,
    "start_time": "2022-11-23T06:17:55.578Z"
   },
   {
    "duration": 0,
    "start_time": "2022-11-23T06:17:55.590Z"
   },
   {
    "duration": 0,
    "start_time": "2022-11-23T06:17:55.591Z"
   },
   {
    "duration": 0,
    "start_time": "2022-11-23T06:17:55.592Z"
   },
   {
    "duration": 0,
    "start_time": "2022-11-23T06:17:55.594Z"
   },
   {
    "duration": 0,
    "start_time": "2022-11-23T06:17:55.595Z"
   },
   {
    "duration": 0,
    "start_time": "2022-11-23T06:17:55.597Z"
   },
   {
    "duration": 0,
    "start_time": "2022-11-23T06:17:55.653Z"
   },
   {
    "duration": 0,
    "start_time": "2022-11-23T06:17:55.654Z"
   },
   {
    "duration": 0,
    "start_time": "2022-11-23T06:17:55.655Z"
   },
   {
    "duration": 0,
    "start_time": "2022-11-23T06:17:55.656Z"
   },
   {
    "duration": 0,
    "start_time": "2022-11-23T06:17:55.657Z"
   },
   {
    "duration": 0,
    "start_time": "2022-11-23T06:17:55.660Z"
   },
   {
    "duration": 0,
    "start_time": "2022-11-23T06:17:55.661Z"
   },
   {
    "duration": 0,
    "start_time": "2022-11-23T06:17:55.662Z"
   },
   {
    "duration": 0,
    "start_time": "2022-11-23T06:17:55.664Z"
   },
   {
    "duration": 6763,
    "start_time": "2022-11-23T06:18:16.990Z"
   },
   {
    "duration": 30,
    "start_time": "2022-11-23T06:18:23.755Z"
   },
   {
    "duration": 0,
    "start_time": "2022-11-23T06:18:23.788Z"
   },
   {
    "duration": 0,
    "start_time": "2022-11-23T06:18:23.789Z"
   },
   {
    "duration": 0,
    "start_time": "2022-11-23T06:18:23.790Z"
   },
   {
    "duration": 0,
    "start_time": "2022-11-23T06:18:23.791Z"
   },
   {
    "duration": 0,
    "start_time": "2022-11-23T06:18:23.792Z"
   },
   {
    "duration": 0,
    "start_time": "2022-11-23T06:18:23.793Z"
   },
   {
    "duration": 0,
    "start_time": "2022-11-23T06:18:23.794Z"
   },
   {
    "duration": 0,
    "start_time": "2022-11-23T06:18:23.795Z"
   },
   {
    "duration": 0,
    "start_time": "2022-11-23T06:18:23.797Z"
   },
   {
    "duration": 0,
    "start_time": "2022-11-23T06:18:23.798Z"
   },
   {
    "duration": 0,
    "start_time": "2022-11-23T06:18:23.799Z"
   },
   {
    "duration": 0,
    "start_time": "2022-11-23T06:18:23.800Z"
   },
   {
    "duration": 0,
    "start_time": "2022-11-23T06:18:23.801Z"
   },
   {
    "duration": 0,
    "start_time": "2022-11-23T06:18:23.803Z"
   },
   {
    "duration": 0,
    "start_time": "2022-11-23T06:18:23.805Z"
   },
   {
    "duration": 0,
    "start_time": "2022-11-23T06:18:23.806Z"
   },
   {
    "duration": 0,
    "start_time": "2022-11-23T06:18:23.806Z"
   },
   {
    "duration": 0,
    "start_time": "2022-11-23T06:18:23.807Z"
   },
   {
    "duration": 0,
    "start_time": "2022-11-23T06:18:23.808Z"
   },
   {
    "duration": 0,
    "start_time": "2022-11-23T06:18:23.810Z"
   },
   {
    "duration": 0,
    "start_time": "2022-11-23T06:18:23.811Z"
   },
   {
    "duration": 0,
    "start_time": "2022-11-23T06:18:23.812Z"
   },
   {
    "duration": 0,
    "start_time": "2022-11-23T06:18:23.852Z"
   },
   {
    "duration": 0,
    "start_time": "2022-11-23T06:18:23.853Z"
   },
   {
    "duration": 0,
    "start_time": "2022-11-23T06:18:23.855Z"
   },
   {
    "duration": 0,
    "start_time": "2022-11-23T06:18:23.855Z"
   },
   {
    "duration": 0,
    "start_time": "2022-11-23T06:18:23.857Z"
   },
   {
    "duration": 0,
    "start_time": "2022-11-23T06:18:23.858Z"
   },
   {
    "duration": 0,
    "start_time": "2022-11-23T06:18:23.859Z"
   },
   {
    "duration": 0,
    "start_time": "2022-11-23T06:18:23.860Z"
   },
   {
    "duration": 0,
    "start_time": "2022-11-23T06:18:23.861Z"
   },
   {
    "duration": 0,
    "start_time": "2022-11-23T06:18:23.862Z"
   },
   {
    "duration": 0,
    "start_time": "2022-11-23T06:18:23.863Z"
   },
   {
    "duration": 0,
    "start_time": "2022-11-23T06:18:23.864Z"
   },
   {
    "duration": 0,
    "start_time": "2022-11-23T06:18:23.865Z"
   },
   {
    "duration": 0,
    "start_time": "2022-11-23T06:18:23.866Z"
   },
   {
    "duration": 1887,
    "start_time": "2022-11-23T06:18:39.300Z"
   },
   {
    "duration": 24,
    "start_time": "2022-11-23T06:18:41.190Z"
   },
   {
    "duration": 2,
    "start_time": "2022-11-23T06:18:43.077Z"
   },
   {
    "duration": 2090,
    "start_time": "2022-11-23T06:18:58.643Z"
   },
   {
    "duration": 1159,
    "start_time": "2022-11-23T06:19:00.736Z"
   },
   {
    "duration": 3,
    "start_time": "2022-11-23T06:19:01.897Z"
   },
   {
    "duration": 184,
    "start_time": "2022-11-23T06:19:01.901Z"
   },
   {
    "duration": 12,
    "start_time": "2022-11-23T06:19:02.088Z"
   },
   {
    "duration": 11,
    "start_time": "2022-11-23T06:19:02.102Z"
   },
   {
    "duration": 14,
    "start_time": "2022-11-23T06:19:02.115Z"
   },
   {
    "duration": 14,
    "start_time": "2022-11-23T06:19:02.131Z"
   },
   {
    "duration": 14,
    "start_time": "2022-11-23T06:19:02.147Z"
   },
   {
    "duration": 5,
    "start_time": "2022-11-23T06:19:02.163Z"
   },
   {
    "duration": 14,
    "start_time": "2022-11-23T06:19:02.169Z"
   },
   {
    "duration": 12,
    "start_time": "2022-11-23T06:19:02.185Z"
   },
   {
    "duration": 15,
    "start_time": "2022-11-23T06:19:02.198Z"
   },
   {
    "duration": 11,
    "start_time": "2022-11-23T06:19:02.216Z"
   },
   {
    "duration": 134,
    "start_time": "2022-11-23T06:19:02.228Z"
   },
   {
    "duration": 4,
    "start_time": "2022-11-23T06:19:02.364Z"
   },
   {
    "duration": 10,
    "start_time": "2022-11-23T06:19:02.369Z"
   },
   {
    "duration": 10,
    "start_time": "2022-11-23T06:19:02.381Z"
   },
   {
    "duration": 11,
    "start_time": "2022-11-23T06:19:02.393Z"
   },
   {
    "duration": 13,
    "start_time": "2022-11-23T06:19:02.406Z"
   },
   {
    "duration": 32,
    "start_time": "2022-11-23T06:19:02.420Z"
   },
   {
    "duration": 3,
    "start_time": "2022-11-23T06:19:02.454Z"
   },
   {
    "duration": 34,
    "start_time": "2022-11-23T06:19:02.459Z"
   },
   {
    "duration": 58,
    "start_time": "2022-11-23T06:19:02.495Z"
   },
   {
    "duration": 4107,
    "start_time": "2022-11-23T06:19:02.555Z"
   },
   {
    "duration": 35,
    "start_time": "2022-11-23T06:19:06.664Z"
   },
   {
    "duration": 526,
    "start_time": "2022-11-23T06:19:06.702Z"
   },
   {
    "duration": 22,
    "start_time": "2022-11-23T06:19:07.230Z"
   },
   {
    "duration": 47,
    "start_time": "2022-11-23T06:19:07.254Z"
   },
   {
    "duration": 695,
    "start_time": "2022-11-23T06:19:07.351Z"
   },
   {
    "duration": 13,
    "start_time": "2022-11-23T06:19:08.047Z"
   },
   {
    "duration": 21,
    "start_time": "2022-11-23T06:19:08.061Z"
   },
   {
    "duration": 310,
    "start_time": "2022-11-23T06:19:08.084Z"
   },
   {
    "duration": 217,
    "start_time": "2022-11-23T06:19:08.396Z"
   },
   {
    "duration": 469,
    "start_time": "2022-11-23T06:19:08.615Z"
   },
   {
    "duration": 571,
    "start_time": "2022-11-23T06:19:09.085Z"
   },
   {
    "duration": 343,
    "start_time": "2022-11-23T06:19:09.657Z"
   },
   {
    "duration": 179,
    "start_time": "2022-11-23T06:19:10.002Z"
   },
   {
    "duration": 146,
    "start_time": "2022-11-23T06:20:41.627Z"
   },
   {
    "duration": 12,
    "start_time": "2022-11-23T06:20:42.635Z"
   },
   {
    "duration": 6,
    "start_time": "2022-11-23T06:20:44.674Z"
   },
   {
    "duration": 3,
    "start_time": "2022-11-23T08:43:36.489Z"
   },
   {
    "duration": 353,
    "start_time": "2022-11-23T08:43:58.293Z"
   },
   {
    "duration": 571,
    "start_time": "2022-11-23T08:45:18.640Z"
   },
   {
    "duration": 380,
    "start_time": "2022-11-23T08:47:07.754Z"
   },
   {
    "duration": 468,
    "start_time": "2022-11-23T08:48:46.103Z"
   },
   {
    "duration": 648,
    "start_time": "2022-11-23T08:50:25.843Z"
   },
   {
    "duration": 607,
    "start_time": "2022-11-23T08:51:02.352Z"
   },
   {
    "duration": 12,
    "start_time": "2022-11-23T09:16:14.045Z"
   },
   {
    "duration": 3,
    "start_time": "2022-11-23T09:24:52.103Z"
   },
   {
    "duration": 9,
    "start_time": "2022-11-23T09:24:52.108Z"
   },
   {
    "duration": 12,
    "start_time": "2022-11-23T09:24:52.119Z"
   },
   {
    "duration": 52,
    "start_time": "2022-11-23T09:24:52.133Z"
   },
   {
    "duration": 14,
    "start_time": "2022-11-23T09:24:52.187Z"
   },
   {
    "duration": 20,
    "start_time": "2022-11-23T09:24:52.203Z"
   },
   {
    "duration": 29,
    "start_time": "2022-11-23T09:24:52.224Z"
   },
   {
    "duration": 14,
    "start_time": "2022-11-23T09:24:52.255Z"
   },
   {
    "duration": 14,
    "start_time": "2022-11-23T09:24:52.271Z"
   },
   {
    "duration": 26,
    "start_time": "2022-11-23T09:24:52.287Z"
   },
   {
    "duration": 11,
    "start_time": "2022-11-23T09:24:52.317Z"
   },
   {
    "duration": 15,
    "start_time": "2022-11-23T09:24:52.330Z"
   },
   {
    "duration": 17,
    "start_time": "2022-11-23T09:24:52.347Z"
   },
   {
    "duration": 14,
    "start_time": "2022-11-23T09:24:52.366Z"
   },
   {
    "duration": 171,
    "start_time": "2022-11-23T09:24:52.382Z"
   },
   {
    "duration": 6,
    "start_time": "2022-11-23T09:24:52.555Z"
   },
   {
    "duration": 20,
    "start_time": "2022-11-23T09:24:52.563Z"
   },
   {
    "duration": 17,
    "start_time": "2022-11-23T09:24:52.586Z"
   },
   {
    "duration": 19,
    "start_time": "2022-11-23T09:24:52.606Z"
   },
   {
    "duration": 28,
    "start_time": "2022-11-23T09:24:52.627Z"
   },
   {
    "duration": 23,
    "start_time": "2022-11-23T09:24:52.657Z"
   },
   {
    "duration": 9,
    "start_time": "2022-11-23T09:24:52.682Z"
   },
   {
    "duration": 53,
    "start_time": "2022-11-23T09:24:52.693Z"
   },
   {
    "duration": 12,
    "start_time": "2022-11-23T09:24:52.747Z"
   },
   {
    "duration": 191,
    "start_time": "2022-11-23T09:24:52.761Z"
   },
   {
    "duration": 3889,
    "start_time": "2022-11-23T09:24:52.954Z"
   },
   {
    "duration": 109,
    "start_time": "2022-11-23T09:24:56.845Z"
   },
   {
    "duration": 33,
    "start_time": "2022-11-23T09:24:59.468Z"
   },
   {
    "duration": 15,
    "start_time": "2022-11-23T09:25:16.748Z"
   },
   {
    "duration": 43,
    "start_time": "2022-11-23T09:25:17.568Z"
   },
   {
    "duration": 619,
    "start_time": "2022-11-23T09:25:24.969Z"
   },
   {
    "duration": 17,
    "start_time": "2022-11-23T09:25:51.420Z"
   },
   {
    "duration": 114,
    "start_time": "2022-11-23T09:25:53.241Z"
   },
   {
    "duration": 698,
    "start_time": "2022-11-23T09:25:54.075Z"
   },
   {
    "duration": 4523,
    "start_time": "2022-11-23T09:26:44.865Z"
   },
   {
    "duration": 410,
    "start_time": "2022-11-23T09:27:20.984Z"
   },
   {
    "duration": 186,
    "start_time": "2022-11-23T09:27:24.275Z"
   },
   {
    "duration": 73,
    "start_time": "2022-11-23T09:27:42.921Z"
   },
   {
    "duration": 839,
    "start_time": "2022-11-23T09:27:44.437Z"
   },
   {
    "duration": 11,
    "start_time": "2022-11-23T09:27:56.528Z"
   },
   {
    "duration": 111,
    "start_time": "2022-11-23T09:27:58.165Z"
   },
   {
    "duration": 210,
    "start_time": "2022-11-23T09:27:59.220Z"
   },
   {
    "duration": 640,
    "start_time": "2022-11-23T09:28:33.645Z"
   },
   {
    "duration": 568,
    "start_time": "2022-11-23T09:29:04.867Z"
   },
   {
    "duration": 21,
    "start_time": "2022-11-23T09:34:52.909Z"
   },
   {
    "duration": 21,
    "start_time": "2022-11-23T09:35:00.809Z"
   },
   {
    "duration": 21,
    "start_time": "2022-11-23T09:35:04.542Z"
   },
   {
    "duration": 10,
    "start_time": "2022-11-23T09:35:57.470Z"
   },
   {
    "duration": 435,
    "start_time": "2022-11-23T09:46:38.318Z"
   },
   {
    "duration": 4,
    "start_time": "2022-11-23T09:47:25.468Z"
   },
   {
    "duration": 346,
    "start_time": "2022-11-23T09:47:35.038Z"
   },
   {
    "duration": 5,
    "start_time": "2022-11-23T09:48:25.066Z"
   },
   {
    "duration": 392,
    "start_time": "2022-11-23T09:48:34.219Z"
   },
   {
    "duration": 405,
    "start_time": "2022-11-23T09:48:46.075Z"
   },
   {
    "duration": 9,
    "start_time": "2022-11-23T10:46:20.872Z"
   },
   {
    "duration": 3,
    "start_time": "2022-11-23T10:46:56.246Z"
   },
   {
    "duration": 42,
    "start_time": "2022-11-23T10:47:19.559Z"
   },
   {
    "duration": 25,
    "start_time": "2022-11-23T10:47:36.419Z"
   },
   {
    "duration": 6,
    "start_time": "2022-11-23T10:47:47.266Z"
   },
   {
    "duration": 28,
    "start_time": "2022-11-23T10:48:01.000Z"
   },
   {
    "duration": 604,
    "start_time": "2022-11-23T10:49:32.513Z"
   },
   {
    "duration": 550,
    "start_time": "2022-11-23T10:49:47.967Z"
   },
   {
    "duration": 67,
    "start_time": "2022-11-23T10:51:13.080Z"
   },
   {
    "duration": 638,
    "start_time": "2022-11-23T10:51:44.175Z"
   },
   {
    "duration": 3,
    "start_time": "2022-11-23T10:54:37.023Z"
   },
   {
    "duration": 19,
    "start_time": "2022-11-23T10:54:37.027Z"
   },
   {
    "duration": 35,
    "start_time": "2022-11-23T10:54:37.049Z"
   },
   {
    "duration": 64,
    "start_time": "2022-11-23T10:54:37.087Z"
   },
   {
    "duration": 13,
    "start_time": "2022-11-23T10:54:37.153Z"
   },
   {
    "duration": 5,
    "start_time": "2022-11-23T10:54:37.168Z"
   },
   {
    "duration": 9,
    "start_time": "2022-11-23T10:54:37.175Z"
   },
   {
    "duration": 12,
    "start_time": "2022-11-23T10:54:37.186Z"
   },
   {
    "duration": 11,
    "start_time": "2022-11-23T10:54:37.201Z"
   },
   {
    "duration": 39,
    "start_time": "2022-11-23T10:54:37.214Z"
   },
   {
    "duration": 7,
    "start_time": "2022-11-23T10:54:37.255Z"
   },
   {
    "duration": 8,
    "start_time": "2022-11-23T10:54:37.264Z"
   },
   {
    "duration": 11,
    "start_time": "2022-11-23T10:54:37.274Z"
   },
   {
    "duration": 12,
    "start_time": "2022-11-23T10:54:37.287Z"
   },
   {
    "duration": 13,
    "start_time": "2022-11-23T10:54:37.301Z"
   },
   {
    "duration": 140,
    "start_time": "2022-11-23T10:54:37.353Z"
   },
   {
    "duration": 5,
    "start_time": "2022-11-23T10:54:37.495Z"
   },
   {
    "duration": 22,
    "start_time": "2022-11-23T10:54:37.501Z"
   },
   {
    "duration": 37,
    "start_time": "2022-11-23T10:54:37.525Z"
   },
   {
    "duration": 43,
    "start_time": "2022-11-23T10:54:37.564Z"
   },
   {
    "duration": 37,
    "start_time": "2022-11-23T10:54:37.610Z"
   },
   {
    "duration": 52,
    "start_time": "2022-11-23T10:54:37.649Z"
   },
   {
    "duration": 15,
    "start_time": "2022-11-23T10:54:37.703Z"
   },
   {
    "duration": 75,
    "start_time": "2022-11-23T10:54:37.720Z"
   },
   {
    "duration": 41,
    "start_time": "2022-11-23T10:54:37.798Z"
   },
   {
    "duration": 48,
    "start_time": "2022-11-23T10:54:37.842Z"
   },
   {
    "duration": 3874,
    "start_time": "2022-11-23T10:54:37.891Z"
   },
   {
    "duration": 20,
    "start_time": "2022-11-23T10:54:41.766Z"
   },
   {
    "duration": 459,
    "start_time": "2022-11-23T10:54:41.852Z"
   },
   {
    "duration": 14,
    "start_time": "2022-11-23T10:54:42.312Z"
   },
   {
    "duration": 72,
    "start_time": "2022-11-23T10:54:42.328Z"
   },
   {
    "duration": 762,
    "start_time": "2022-11-23T10:54:42.402Z"
   },
   {
    "duration": 10,
    "start_time": "2022-11-23T10:54:43.166Z"
   },
   {
    "duration": 28,
    "start_time": "2022-11-23T10:54:43.178Z"
   },
   {
    "duration": 316,
    "start_time": "2022-11-23T10:54:43.213Z"
   },
   {
    "duration": 570,
    "start_time": "2022-11-23T10:54:43.531Z"
   },
   {
    "duration": 676,
    "start_time": "2022-11-23T10:54:44.104Z"
   },
   {
    "duration": 431,
    "start_time": "2022-11-23T10:54:44.782Z"
   },
   {
    "duration": 38,
    "start_time": "2022-11-23T10:54:45.215Z"
   },
   {
    "duration": 644,
    "start_time": "2022-11-23T10:54:45.255Z"
   },
   {
    "duration": 82,
    "start_time": "2022-11-23T10:54:45.900Z"
   },
   {
    "duration": 642,
    "start_time": "2022-11-23T10:54:45.985Z"
   },
   {
    "duration": 35,
    "start_time": "2022-11-23T10:56:45.536Z"
   },
   {
    "duration": 9,
    "start_time": "2022-11-23T10:57:13.327Z"
   },
   {
    "duration": 19,
    "start_time": "2022-11-23T10:57:32.528Z"
   },
   {
    "duration": 11,
    "start_time": "2022-11-23T10:57:37.242Z"
   },
   {
    "duration": 18,
    "start_time": "2022-11-23T10:57:56.043Z"
   },
   {
    "duration": 3,
    "start_time": "2022-11-23T10:59:03.520Z"
   },
   {
    "duration": 1206,
    "start_time": "2022-11-23T10:59:03.525Z"
   },
   {
    "duration": 3,
    "start_time": "2022-11-23T10:59:04.733Z"
   },
   {
    "duration": 47,
    "start_time": "2022-11-23T10:59:04.737Z"
   },
   {
    "duration": 12,
    "start_time": "2022-11-23T10:59:04.786Z"
   },
   {
    "duration": 9,
    "start_time": "2022-11-23T10:59:04.800Z"
   },
   {
    "duration": 9,
    "start_time": "2022-11-23T10:59:04.810Z"
   },
   {
    "duration": 11,
    "start_time": "2022-11-23T10:59:04.821Z"
   },
   {
    "duration": 26,
    "start_time": "2022-11-23T10:59:04.834Z"
   },
   {
    "duration": 5,
    "start_time": "2022-11-23T10:59:04.862Z"
   },
   {
    "duration": 10,
    "start_time": "2022-11-23T10:59:04.869Z"
   },
   {
    "duration": 9,
    "start_time": "2022-11-23T10:59:04.881Z"
   },
   {
    "duration": 12,
    "start_time": "2022-11-23T10:59:04.892Z"
   },
   {
    "duration": 11,
    "start_time": "2022-11-23T10:59:04.905Z"
   },
   {
    "duration": 13,
    "start_time": "2022-11-23T10:59:04.918Z"
   },
   {
    "duration": 161,
    "start_time": "2022-11-23T10:59:04.932Z"
   },
   {
    "duration": 4,
    "start_time": "2022-11-23T10:59:05.095Z"
   },
   {
    "duration": 18,
    "start_time": "2022-11-23T10:59:05.100Z"
   },
   {
    "duration": 20,
    "start_time": "2022-11-23T10:59:05.120Z"
   },
   {
    "duration": 5,
    "start_time": "2022-11-23T10:59:05.141Z"
   },
   {
    "duration": 19,
    "start_time": "2022-11-23T10:59:05.148Z"
   },
   {
    "duration": 7,
    "start_time": "2022-11-23T10:59:05.169Z"
   },
   {
    "duration": 6,
    "start_time": "2022-11-23T10:59:05.178Z"
   },
   {
    "duration": 22,
    "start_time": "2022-11-23T10:59:05.186Z"
   },
   {
    "duration": 11,
    "start_time": "2022-11-23T10:59:05.210Z"
   },
   {
    "duration": 44,
    "start_time": "2022-11-23T10:59:05.223Z"
   },
   {
    "duration": 4040,
    "start_time": "2022-11-23T10:59:05.269Z"
   },
   {
    "duration": 51,
    "start_time": "2022-11-23T10:59:09.311Z"
   },
   {
    "duration": 499,
    "start_time": "2022-11-23T10:59:09.364Z"
   },
   {
    "duration": 14,
    "start_time": "2022-11-23T10:59:09.865Z"
   },
   {
    "duration": 72,
    "start_time": "2022-11-23T10:59:09.881Z"
   },
   {
    "duration": 725,
    "start_time": "2022-11-23T10:59:09.956Z"
   },
   {
    "duration": 11,
    "start_time": "2022-11-23T10:59:10.683Z"
   },
   {
    "duration": 13,
    "start_time": "2022-11-23T10:59:10.696Z"
   },
   {
    "duration": 275,
    "start_time": "2022-11-23T10:59:10.752Z"
   },
   {
    "duration": 533,
    "start_time": "2022-11-23T10:59:11.029Z"
   },
   {
    "duration": 579,
    "start_time": "2022-11-23T10:59:11.564Z"
   },
   {
    "duration": 417,
    "start_time": "2022-11-23T10:59:12.145Z"
   },
   {
    "duration": 34,
    "start_time": "2022-11-23T10:59:12.563Z"
   },
   {
    "duration": 583,
    "start_time": "2022-11-23T10:59:12.599Z"
   },
   {
    "duration": 73,
    "start_time": "2022-11-23T10:59:13.183Z"
   },
   {
    "duration": 578,
    "start_time": "2022-11-23T10:59:13.260Z"
   },
   {
    "duration": 352,
    "start_time": "2022-11-23T10:59:13.840Z"
   },
   {
    "duration": 26,
    "start_time": "2022-11-23T10:59:14.194Z"
   },
   {
    "duration": 146,
    "start_time": "2022-11-23T10:59:14.221Z"
   },
   {
    "duration": 15,
    "start_time": "2022-11-23T10:59:14.369Z"
   },
   {
    "duration": 156,
    "start_time": "2022-11-23T11:02:14.701Z"
   },
   {
    "duration": 171,
    "start_time": "2022-11-23T11:02:44.590Z"
   },
   {
    "duration": 186,
    "start_time": "2022-11-23T11:03:05.472Z"
   },
   {
    "duration": 2,
    "start_time": "2022-11-23T11:03:16.521Z"
   },
   {
    "duration": 22,
    "start_time": "2022-11-23T11:03:16.525Z"
   },
   {
    "duration": 15,
    "start_time": "2022-11-23T11:03:16.549Z"
   },
   {
    "duration": 62,
    "start_time": "2022-11-23T11:03:16.566Z"
   },
   {
    "duration": 10,
    "start_time": "2022-11-23T11:03:16.630Z"
   },
   {
    "duration": 29,
    "start_time": "2022-11-23T11:03:16.641Z"
   },
   {
    "duration": 19,
    "start_time": "2022-11-23T11:03:16.672Z"
   },
   {
    "duration": 45,
    "start_time": "2022-11-23T11:03:16.693Z"
   },
   {
    "duration": 26,
    "start_time": "2022-11-23T11:03:16.740Z"
   },
   {
    "duration": 25,
    "start_time": "2022-11-23T11:03:16.767Z"
   },
   {
    "duration": 19,
    "start_time": "2022-11-23T11:03:16.794Z"
   },
   {
    "duration": 36,
    "start_time": "2022-11-23T11:03:16.815Z"
   },
   {
    "duration": 21,
    "start_time": "2022-11-23T11:03:16.853Z"
   },
   {
    "duration": 31,
    "start_time": "2022-11-23T11:03:16.875Z"
   },
   {
    "duration": 40,
    "start_time": "2022-11-23T11:03:16.907Z"
   },
   {
    "duration": 148,
    "start_time": "2022-11-23T11:03:16.949Z"
   },
   {
    "duration": 4,
    "start_time": "2022-11-23T11:03:17.098Z"
   },
   {
    "duration": 38,
    "start_time": "2022-11-23T11:03:17.104Z"
   },
   {
    "duration": 21,
    "start_time": "2022-11-23T11:03:17.143Z"
   },
   {
    "duration": 22,
    "start_time": "2022-11-23T11:03:17.166Z"
   },
   {
    "duration": 38,
    "start_time": "2022-11-23T11:03:17.190Z"
   },
   {
    "duration": 25,
    "start_time": "2022-11-23T11:03:17.230Z"
   },
   {
    "duration": 30,
    "start_time": "2022-11-23T11:03:17.257Z"
   },
   {
    "duration": 29,
    "start_time": "2022-11-23T11:03:17.289Z"
   },
   {
    "duration": 37,
    "start_time": "2022-11-23T11:03:17.320Z"
   },
   {
    "duration": 109,
    "start_time": "2022-11-23T11:03:17.359Z"
   },
   {
    "duration": 83,
    "start_time": "2022-11-23T11:03:19.485Z"
   },
   {
    "duration": 3991,
    "start_time": "2022-11-23T11:04:00.907Z"
   },
   {
    "duration": 121,
    "start_time": "2022-11-23T11:04:58.439Z"
   },
   {
    "duration": 5,
    "start_time": "2022-11-23T11:06:40.641Z"
   },
   {
    "duration": 237,
    "start_time": "2022-11-23T11:06:42.724Z"
   },
   {
    "duration": 4051,
    "start_time": "2022-11-23T11:06:48.933Z"
   },
   {
    "duration": 192,
    "start_time": "2022-11-23T11:07:09.464Z"
   },
   {
    "duration": 365,
    "start_time": "2022-11-23T11:07:13.683Z"
   },
   {
    "duration": 189,
    "start_time": "2022-11-23T11:08:33.664Z"
   },
   {
    "duration": 657,
    "start_time": "2022-11-23T11:09:11.309Z"
   },
   {
    "duration": 126,
    "start_time": "2022-11-23T11:09:58.428Z"
   },
   {
    "duration": 188,
    "start_time": "2022-11-23T11:10:42.874Z"
   },
   {
    "duration": 5,
    "start_time": "2022-11-23T11:11:50.864Z"
   },
   {
    "duration": 1171,
    "start_time": "2022-11-23T11:11:50.871Z"
   },
   {
    "duration": 9,
    "start_time": "2022-11-23T11:11:52.044Z"
   },
   {
    "duration": 56,
    "start_time": "2022-11-23T11:11:52.055Z"
   },
   {
    "duration": 13,
    "start_time": "2022-11-23T11:11:52.113Z"
   },
   {
    "duration": 8,
    "start_time": "2022-11-23T11:11:52.128Z"
   },
   {
    "duration": 13,
    "start_time": "2022-11-23T11:11:52.138Z"
   },
   {
    "duration": 19,
    "start_time": "2022-11-23T11:11:52.154Z"
   },
   {
    "duration": 18,
    "start_time": "2022-11-23T11:11:52.174Z"
   },
   {
    "duration": 4,
    "start_time": "2022-11-23T11:11:52.194Z"
   },
   {
    "duration": 23,
    "start_time": "2022-11-23T11:11:52.199Z"
   },
   {
    "duration": 15,
    "start_time": "2022-11-23T11:11:52.224Z"
   },
   {
    "duration": 17,
    "start_time": "2022-11-23T11:11:52.244Z"
   },
   {
    "duration": 13,
    "start_time": "2022-11-23T11:11:52.263Z"
   },
   {
    "duration": 12,
    "start_time": "2022-11-23T11:11:52.278Z"
   },
   {
    "duration": 174,
    "start_time": "2022-11-23T11:11:52.292Z"
   },
   {
    "duration": 4,
    "start_time": "2022-11-23T11:11:52.469Z"
   },
   {
    "duration": 22,
    "start_time": "2022-11-23T11:11:52.475Z"
   },
   {
    "duration": 21,
    "start_time": "2022-11-23T11:11:52.498Z"
   },
   {
    "duration": 12,
    "start_time": "2022-11-23T11:11:52.521Z"
   },
   {
    "duration": 22,
    "start_time": "2022-11-23T11:11:52.535Z"
   },
   {
    "duration": 24,
    "start_time": "2022-11-23T11:11:52.558Z"
   },
   {
    "duration": 5,
    "start_time": "2022-11-23T11:11:52.585Z"
   },
   {
    "duration": 37,
    "start_time": "2022-11-23T11:11:52.592Z"
   },
   {
    "duration": 14,
    "start_time": "2022-11-23T11:11:52.632Z"
   },
   {
    "duration": 17,
    "start_time": "2022-11-23T11:11:52.653Z"
   },
   {
    "duration": 191,
    "start_time": "2022-11-23T11:11:52.672Z"
   },
   {
    "duration": 4081,
    "start_time": "2022-11-23T11:11:52.865Z"
   },
   {
    "duration": 120,
    "start_time": "2022-11-23T11:11:56.951Z"
   },
   {
    "duration": 376,
    "start_time": "2022-11-23T11:11:57.162Z"
   },
   {
    "duration": 21,
    "start_time": "2022-11-23T11:11:57.540Z"
   },
   {
    "duration": 191,
    "start_time": "2022-11-23T11:11:57.563Z"
   },
   {
    "duration": 669,
    "start_time": "2022-11-23T11:11:57.755Z"
   },
   {
    "duration": 9,
    "start_time": "2022-11-23T11:11:58.426Z"
   },
   {
    "duration": 214,
    "start_time": "2022-11-23T11:11:58.437Z"
   },
   {
    "duration": 187,
    "start_time": "2022-11-23T11:11:58.654Z"
   },
   {
    "duration": 508,
    "start_time": "2022-11-23T11:11:58.852Z"
   },
   {
    "duration": 596,
    "start_time": "2022-11-23T11:11:59.362Z"
   },
   {
    "duration": 396,
    "start_time": "2022-11-23T11:11:59.960Z"
   },
   {
    "duration": 31,
    "start_time": "2022-11-23T11:12:00.358Z"
   },
   {
    "duration": 630,
    "start_time": "2022-11-23T11:12:00.391Z"
   },
   {
    "duration": 356,
    "start_time": "2022-11-23T11:12:01.022Z"
   },
   {
    "duration": 23,
    "start_time": "2022-11-23T11:12:01.380Z"
   },
   {
    "duration": 136,
    "start_time": "2022-11-23T11:12:01.405Z"
   },
   {
    "duration": 19,
    "start_time": "2022-11-23T11:12:01.543Z"
   },
   {
    "duration": 700,
    "start_time": "2022-11-23T11:13:26.518Z"
   },
   {
    "duration": 214,
    "start_time": "2022-11-23T11:13:41.649Z"
   },
   {
    "duration": 729,
    "start_time": "2022-11-23T11:13:45.464Z"
   },
   {
    "duration": 10,
    "start_time": "2022-11-23T11:13:55.581Z"
   },
   {
    "duration": 43,
    "start_time": "2022-11-23T11:13:56.322Z"
   },
   {
    "duration": 190,
    "start_time": "2022-11-23T11:14:01.648Z"
   },
   {
    "duration": 4,
    "start_time": "2022-11-23T11:15:06.023Z"
   },
   {
    "duration": 1192,
    "start_time": "2022-11-23T11:15:06.028Z"
   },
   {
    "duration": 2,
    "start_time": "2022-11-23T11:15:07.222Z"
   },
   {
    "duration": 65,
    "start_time": "2022-11-23T11:15:07.226Z"
   },
   {
    "duration": 12,
    "start_time": "2022-11-23T11:15:07.292Z"
   },
   {
    "duration": 23,
    "start_time": "2022-11-23T11:15:07.306Z"
   },
   {
    "duration": 22,
    "start_time": "2022-11-23T11:15:07.331Z"
   },
   {
    "duration": 30,
    "start_time": "2022-11-23T11:15:07.355Z"
   },
   {
    "duration": 21,
    "start_time": "2022-11-23T11:15:07.387Z"
   },
   {
    "duration": 18,
    "start_time": "2022-11-23T11:15:07.410Z"
   },
   {
    "duration": 20,
    "start_time": "2022-11-23T11:15:07.429Z"
   },
   {
    "duration": 32,
    "start_time": "2022-11-23T11:15:07.450Z"
   },
   {
    "duration": 27,
    "start_time": "2022-11-23T11:15:07.484Z"
   },
   {
    "duration": 24,
    "start_time": "2022-11-23T11:15:07.513Z"
   },
   {
    "duration": 37,
    "start_time": "2022-11-23T11:15:07.539Z"
   },
   {
    "duration": 124,
    "start_time": "2022-11-23T11:15:07.578Z"
   },
   {
    "duration": 4,
    "start_time": "2022-11-23T11:15:07.704Z"
   },
   {
    "duration": 24,
    "start_time": "2022-11-23T11:15:07.710Z"
   },
   {
    "duration": 16,
    "start_time": "2022-11-23T11:15:07.736Z"
   },
   {
    "duration": 18,
    "start_time": "2022-11-23T11:15:07.754Z"
   },
   {
    "duration": 23,
    "start_time": "2022-11-23T11:15:07.773Z"
   },
   {
    "duration": 20,
    "start_time": "2022-11-23T11:15:07.797Z"
   },
   {
    "duration": 18,
    "start_time": "2022-11-23T11:15:07.819Z"
   },
   {
    "duration": 39,
    "start_time": "2022-11-23T11:15:07.840Z"
   },
   {
    "duration": 24,
    "start_time": "2022-11-23T11:15:07.881Z"
   },
   {
    "duration": 9,
    "start_time": "2022-11-23T11:15:07.907Z"
   },
   {
    "duration": 241,
    "start_time": "2022-11-23T11:15:07.917Z"
   },
   {
    "duration": 3893,
    "start_time": "2022-11-23T11:15:08.160Z"
   },
   {
    "duration": 199,
    "start_time": "2022-11-23T11:15:12.055Z"
   },
   {
    "duration": 448,
    "start_time": "2022-11-23T11:15:12.256Z"
   },
   {
    "duration": 15,
    "start_time": "2022-11-23T11:15:12.705Z"
   },
   {
    "duration": 240,
    "start_time": "2022-11-23T11:15:12.722Z"
   },
   {
    "duration": 668,
    "start_time": "2022-11-23T11:15:12.964Z"
   },
   {
    "duration": 18,
    "start_time": "2022-11-23T11:15:13.634Z"
   },
   {
    "duration": 200,
    "start_time": "2022-11-23T11:15:13.655Z"
   },
   {
    "duration": 192,
    "start_time": "2022-11-23T11:15:13.857Z"
   },
   {
    "duration": 501,
    "start_time": "2022-11-23T11:15:14.053Z"
   },
   {
    "duration": 615,
    "start_time": "2022-11-23T11:15:14.556Z"
   },
   {
    "duration": 371,
    "start_time": "2022-11-23T11:15:15.172Z"
   },
   {
    "duration": 34,
    "start_time": "2022-11-23T11:15:15.544Z"
   },
   {
    "duration": 576,
    "start_time": "2022-11-23T11:15:15.580Z"
   },
   {
    "duration": 354,
    "start_time": "2022-11-23T11:15:16.158Z"
   },
   {
    "duration": 26,
    "start_time": "2022-11-23T11:15:16.514Z"
   },
   {
    "duration": 126,
    "start_time": "2022-11-23T11:15:16.552Z"
   },
   {
    "duration": 17,
    "start_time": "2022-11-23T11:15:16.680Z"
   },
   {
    "duration": 623,
    "start_time": "2022-11-23T11:17:28.632Z"
   },
   {
    "duration": 226,
    "start_time": "2022-11-23T11:18:05.928Z"
   },
   {
    "duration": 614,
    "start_time": "2022-11-23T11:18:23.223Z"
   },
   {
    "duration": 179,
    "start_time": "2022-11-23T11:18:50.678Z"
   },
   {
    "duration": 625,
    "start_time": "2022-11-23T11:18:55.070Z"
   },
   {
    "duration": 10,
    "start_time": "2022-11-23T11:19:04.897Z"
   },
   {
    "duration": 153,
    "start_time": "2022-11-23T11:19:06.900Z"
   },
   {
    "duration": 181,
    "start_time": "2022-11-23T11:19:08.709Z"
   },
   {
    "duration": 503,
    "start_time": "2022-11-23T11:19:12.571Z"
   },
   {
    "duration": 661,
    "start_time": "2022-11-23T11:19:15.379Z"
   },
   {
    "duration": 382,
    "start_time": "2022-11-23T11:19:19.830Z"
   },
   {
    "duration": 28,
    "start_time": "2022-11-23T11:19:22.129Z"
   },
   {
    "duration": 572,
    "start_time": "2022-11-23T11:19:23.922Z"
   },
   {
    "duration": 357,
    "start_time": "2022-11-23T11:19:29.250Z"
   },
   {
    "duration": 33,
    "start_time": "2022-11-23T11:19:31.744Z"
   },
   {
    "duration": 117,
    "start_time": "2022-11-23T11:19:34.661Z"
   },
   {
    "duration": 772,
    "start_time": "2022-11-23T11:20:20.325Z"
   },
   {
    "duration": 650,
    "start_time": "2022-11-23T11:20:31.200Z"
   },
   {
    "duration": 643,
    "start_time": "2022-11-23T11:21:10.848Z"
   },
   {
    "duration": 661,
    "start_time": "2022-11-23T11:21:41.806Z"
   },
   {
    "duration": 236,
    "start_time": "2022-11-23T11:22:26.734Z"
   },
   {
    "duration": 3,
    "start_time": "2022-11-23T11:27:05.474Z"
   },
   {
    "duration": 1129,
    "start_time": "2022-11-23T11:27:05.479Z"
   },
   {
    "duration": 2,
    "start_time": "2022-11-23T11:27:06.610Z"
   },
   {
    "duration": 49,
    "start_time": "2022-11-23T11:27:06.613Z"
   },
   {
    "duration": 13,
    "start_time": "2022-11-23T11:27:06.664Z"
   },
   {
    "duration": 7,
    "start_time": "2022-11-23T11:27:06.678Z"
   },
   {
    "duration": 12,
    "start_time": "2022-11-23T11:27:06.687Z"
   },
   {
    "duration": 11,
    "start_time": "2022-11-23T11:27:06.701Z"
   },
   {
    "duration": 14,
    "start_time": "2022-11-23T11:27:06.714Z"
   },
   {
    "duration": 25,
    "start_time": "2022-11-23T11:27:06.730Z"
   },
   {
    "duration": 14,
    "start_time": "2022-11-23T11:27:06.757Z"
   },
   {
    "duration": 8,
    "start_time": "2022-11-23T11:27:06.773Z"
   },
   {
    "duration": 11,
    "start_time": "2022-11-23T11:27:06.783Z"
   },
   {
    "duration": 14,
    "start_time": "2022-11-23T11:27:06.797Z"
   },
   {
    "duration": 11,
    "start_time": "2022-11-23T11:27:06.813Z"
   },
   {
    "duration": 157,
    "start_time": "2022-11-23T11:27:06.826Z"
   },
   {
    "duration": 4,
    "start_time": "2022-11-23T11:27:06.985Z"
   },
   {
    "duration": 11,
    "start_time": "2022-11-23T11:27:06.990Z"
   },
   {
    "duration": 7,
    "start_time": "2022-11-23T11:27:07.002Z"
   },
   {
    "duration": 5,
    "start_time": "2022-11-23T11:27:07.011Z"
   },
   {
    "duration": 8,
    "start_time": "2022-11-23T11:27:07.018Z"
   },
   {
    "duration": 6,
    "start_time": "2022-11-23T11:27:07.053Z"
   },
   {
    "duration": 8,
    "start_time": "2022-11-23T11:27:07.060Z"
   },
   {
    "duration": 24,
    "start_time": "2022-11-23T11:27:07.070Z"
   },
   {
    "duration": 11,
    "start_time": "2022-11-23T11:27:07.096Z"
   },
   {
    "duration": 11,
    "start_time": "2022-11-23T11:27:07.109Z"
   },
   {
    "duration": 231,
    "start_time": "2022-11-23T11:27:07.121Z"
   },
   {
    "duration": 3710,
    "start_time": "2022-11-23T11:27:07.354Z"
   },
   {
    "duration": 190,
    "start_time": "2022-11-23T11:27:11.066Z"
   },
   {
    "duration": 360,
    "start_time": "2022-11-23T11:27:11.257Z"
   },
   {
    "duration": 12,
    "start_time": "2022-11-23T11:27:11.619Z"
   },
   {
    "duration": 223,
    "start_time": "2022-11-23T11:27:11.633Z"
   },
   {
    "duration": 662,
    "start_time": "2022-11-23T11:27:11.858Z"
   },
   {
    "duration": 14,
    "start_time": "2022-11-23T11:27:12.522Z"
   },
   {
    "duration": 218,
    "start_time": "2022-11-23T11:27:12.551Z"
   },
   {
    "duration": 202,
    "start_time": "2022-11-23T11:27:12.771Z"
   },
   {
    "duration": 479,
    "start_time": "2022-11-23T11:27:12.975Z"
   },
   {
    "duration": 559,
    "start_time": "2022-11-23T11:27:13.456Z"
   },
   {
    "duration": 361,
    "start_time": "2022-11-23T11:27:14.017Z"
   },
   {
    "duration": 27,
    "start_time": "2022-11-23T11:27:14.380Z"
   },
   {
    "duration": 572,
    "start_time": "2022-11-23T11:27:14.411Z"
   },
   {
    "duration": 338,
    "start_time": "2022-11-23T11:27:14.985Z"
   },
   {
    "duration": 34,
    "start_time": "2022-11-23T11:27:15.325Z"
   },
   {
    "duration": 160,
    "start_time": "2022-11-23T11:27:15.360Z"
   },
   {
    "duration": 16,
    "start_time": "2022-11-23T11:27:15.521Z"
   },
   {
    "duration": 378,
    "start_time": "2022-11-23T11:30:14.512Z"
   },
   {
    "duration": 3981,
    "start_time": "2022-11-23T11:30:18.898Z"
   },
   {
    "duration": 3,
    "start_time": "2022-11-23T11:30:42.675Z"
   },
   {
    "duration": 7,
    "start_time": "2022-11-23T11:30:42.680Z"
   },
   {
    "duration": 8,
    "start_time": "2022-11-23T11:30:42.689Z"
   },
   {
    "duration": 46,
    "start_time": "2022-11-23T11:30:42.699Z"
   },
   {
    "duration": 19,
    "start_time": "2022-11-23T11:30:42.747Z"
   },
   {
    "duration": 7,
    "start_time": "2022-11-23T11:30:42.768Z"
   },
   {
    "duration": 8,
    "start_time": "2022-11-23T11:30:42.776Z"
   },
   {
    "duration": 11,
    "start_time": "2022-11-23T11:30:42.785Z"
   },
   {
    "duration": 11,
    "start_time": "2022-11-23T11:30:42.798Z"
   },
   {
    "duration": 6,
    "start_time": "2022-11-23T11:30:42.810Z"
   },
   {
    "duration": 7,
    "start_time": "2022-11-23T11:30:42.818Z"
   },
   {
    "duration": 36,
    "start_time": "2022-11-23T11:30:42.827Z"
   },
   {
    "duration": 21,
    "start_time": "2022-11-23T11:30:42.865Z"
   },
   {
    "duration": 11,
    "start_time": "2022-11-23T11:30:42.888Z"
   },
   {
    "duration": 18,
    "start_time": "2022-11-23T11:30:42.900Z"
   },
   {
    "duration": 135,
    "start_time": "2022-11-23T11:30:42.920Z"
   },
   {
    "duration": 5,
    "start_time": "2022-11-23T11:30:43.056Z"
   },
   {
    "duration": 17,
    "start_time": "2022-11-23T11:30:43.063Z"
   },
   {
    "duration": 6,
    "start_time": "2022-11-23T11:30:43.082Z"
   },
   {
    "duration": 8,
    "start_time": "2022-11-23T11:30:43.090Z"
   },
   {
    "duration": 6,
    "start_time": "2022-11-23T11:30:43.100Z"
   },
   {
    "duration": 6,
    "start_time": "2022-11-23T11:30:43.107Z"
   },
   {
    "duration": 2,
    "start_time": "2022-11-23T11:30:43.115Z"
   },
   {
    "duration": 53,
    "start_time": "2022-11-23T11:30:43.119Z"
   },
   {
    "duration": 10,
    "start_time": "2022-11-23T11:30:43.174Z"
   },
   {
    "duration": 9,
    "start_time": "2022-11-23T11:30:43.185Z"
   },
   {
    "duration": 239,
    "start_time": "2022-11-23T11:30:43.196Z"
   },
   {
    "duration": 3978,
    "start_time": "2022-11-23T11:30:43.437Z"
   },
   {
    "duration": 417,
    "start_time": "2022-11-23T11:31:32.604Z"
   },
   {
    "duration": 169,
    "start_time": "2022-11-23T11:31:48.089Z"
   },
   {
    "duration": 393,
    "start_time": "2022-11-23T11:31:50.142Z"
   },
   {
    "duration": 12,
    "start_time": "2022-11-23T11:32:01.816Z"
   },
   {
    "duration": 251,
    "start_time": "2022-11-23T11:32:02.426Z"
   },
   {
    "duration": 660,
    "start_time": "2022-11-23T11:32:03.243Z"
   },
   {
    "duration": 2,
    "start_time": "2022-11-23T11:32:25.414Z"
   },
   {
    "duration": 24,
    "start_time": "2022-11-23T11:32:25.418Z"
   },
   {
    "duration": 67,
    "start_time": "2022-11-23T11:32:25.444Z"
   },
   {
    "duration": 75,
    "start_time": "2022-11-23T11:32:25.513Z"
   },
   {
    "duration": 13,
    "start_time": "2022-11-23T11:32:25.590Z"
   },
   {
    "duration": 34,
    "start_time": "2022-11-23T11:32:25.605Z"
   },
   {
    "duration": 38,
    "start_time": "2022-11-23T11:32:25.641Z"
   },
   {
    "duration": 25,
    "start_time": "2022-11-23T11:32:25.681Z"
   },
   {
    "duration": 29,
    "start_time": "2022-11-23T11:32:25.707Z"
   },
   {
    "duration": 44,
    "start_time": "2022-11-23T11:32:25.738Z"
   },
   {
    "duration": 30,
    "start_time": "2022-11-23T11:32:25.785Z"
   },
   {
    "duration": 24,
    "start_time": "2022-11-23T11:32:25.817Z"
   },
   {
    "duration": 46,
    "start_time": "2022-11-23T11:32:25.843Z"
   },
   {
    "duration": 34,
    "start_time": "2022-11-23T11:32:25.891Z"
   },
   {
    "duration": 52,
    "start_time": "2022-11-23T11:32:25.927Z"
   },
   {
    "duration": 130,
    "start_time": "2022-11-23T11:32:25.981Z"
   },
   {
    "duration": 4,
    "start_time": "2022-11-23T11:32:26.113Z"
   },
   {
    "duration": 26,
    "start_time": "2022-11-23T11:32:26.118Z"
   },
   {
    "duration": 29,
    "start_time": "2022-11-23T11:32:26.146Z"
   },
   {
    "duration": 30,
    "start_time": "2022-11-23T11:32:26.177Z"
   },
   {
    "duration": 26,
    "start_time": "2022-11-23T11:32:26.209Z"
   },
   {
    "duration": 18,
    "start_time": "2022-11-23T11:32:26.237Z"
   },
   {
    "duration": 39,
    "start_time": "2022-11-23T11:32:26.257Z"
   },
   {
    "duration": 47,
    "start_time": "2022-11-23T11:32:26.297Z"
   },
   {
    "duration": 24,
    "start_time": "2022-11-23T11:32:26.346Z"
   },
   {
    "duration": 24,
    "start_time": "2022-11-23T11:32:26.372Z"
   },
   {
    "duration": 168,
    "start_time": "2022-11-23T11:32:26.397Z"
   },
   {
    "duration": 3969,
    "start_time": "2022-11-23T11:32:26.567Z"
   },
   {
    "duration": 397,
    "start_time": "2022-11-23T11:32:30.539Z"
   },
   {
    "duration": 229,
    "start_time": "2022-11-23T11:32:30.938Z"
   },
   {
    "duration": 380,
    "start_time": "2022-11-23T11:32:31.168Z"
   },
   {
    "duration": 14,
    "start_time": "2022-11-23T11:32:31.552Z"
   },
   {
    "duration": 199,
    "start_time": "2022-11-23T11:32:31.568Z"
   },
   {
    "duration": 690,
    "start_time": "2022-11-23T11:32:31.769Z"
   },
   {
    "duration": 14,
    "start_time": "2022-11-23T11:32:32.460Z"
   },
   {
    "duration": 188,
    "start_time": "2022-11-23T11:32:32.476Z"
   },
   {
    "duration": 218,
    "start_time": "2022-11-23T11:32:32.666Z"
   },
   {
    "duration": 473,
    "start_time": "2022-11-23T11:32:32.886Z"
   },
   {
    "duration": 597,
    "start_time": "2022-11-23T11:32:33.361Z"
   },
   {
    "duration": 403,
    "start_time": "2022-11-23T11:32:33.960Z"
   },
   {
    "duration": 28,
    "start_time": "2022-11-23T11:32:34.366Z"
   },
   {
    "duration": 590,
    "start_time": "2022-11-23T11:32:34.395Z"
   },
   {
    "duration": 355,
    "start_time": "2022-11-23T11:32:34.987Z"
   },
   {
    "duration": 34,
    "start_time": "2022-11-23T11:32:35.344Z"
   },
   {
    "duration": 142,
    "start_time": "2022-11-23T11:32:35.379Z"
   },
   {
    "duration": 15,
    "start_time": "2022-11-23T11:32:35.523Z"
   },
   {
    "duration": 29,
    "start_time": "2022-11-23T11:33:40.464Z"
   },
   {
    "duration": 2,
    "start_time": "2022-11-23T11:33:48.830Z"
   },
   {
    "duration": 5,
    "start_time": "2022-11-23T11:33:48.836Z"
   },
   {
    "duration": 4,
    "start_time": "2022-11-23T11:33:48.844Z"
   },
   {
    "duration": 55,
    "start_time": "2022-11-23T11:33:48.850Z"
   },
   {
    "duration": 12,
    "start_time": "2022-11-23T11:33:48.906Z"
   },
   {
    "duration": 7,
    "start_time": "2022-11-23T11:33:48.920Z"
   },
   {
    "duration": 25,
    "start_time": "2022-11-23T11:33:48.929Z"
   },
   {
    "duration": 40,
    "start_time": "2022-11-23T11:33:48.956Z"
   },
   {
    "duration": 15,
    "start_time": "2022-11-23T11:33:48.998Z"
   },
   {
    "duration": 17,
    "start_time": "2022-11-23T11:33:49.015Z"
   },
   {
    "duration": 15,
    "start_time": "2022-11-23T11:33:49.034Z"
   },
   {
    "duration": 22,
    "start_time": "2022-11-23T11:33:49.051Z"
   },
   {
    "duration": 14,
    "start_time": "2022-11-23T11:33:49.075Z"
   },
   {
    "duration": 15,
    "start_time": "2022-11-23T11:33:49.091Z"
   },
   {
    "duration": 14,
    "start_time": "2022-11-23T11:33:49.109Z"
   },
   {
    "duration": 141,
    "start_time": "2022-11-23T11:33:49.125Z"
   },
   {
    "duration": 4,
    "start_time": "2022-11-23T11:33:49.268Z"
   },
   {
    "duration": 10,
    "start_time": "2022-11-23T11:33:49.274Z"
   },
   {
    "duration": 7,
    "start_time": "2022-11-23T11:33:49.286Z"
   },
   {
    "duration": 5,
    "start_time": "2022-11-23T11:33:49.294Z"
   },
   {
    "duration": 7,
    "start_time": "2022-11-23T11:33:49.301Z"
   },
   {
    "duration": 7,
    "start_time": "2022-11-23T11:33:49.310Z"
   },
   {
    "duration": 35,
    "start_time": "2022-11-23T11:33:49.318Z"
   },
   {
    "duration": 34,
    "start_time": "2022-11-23T11:33:49.354Z"
   },
   {
    "duration": 11,
    "start_time": "2022-11-23T11:33:49.389Z"
   },
   {
    "duration": 10,
    "start_time": "2022-11-23T11:33:49.402Z"
   },
   {
    "duration": 150,
    "start_time": "2022-11-23T11:33:49.413Z"
   },
   {
    "duration": 4191,
    "start_time": "2022-11-23T11:33:49.565Z"
   },
   {
    "duration": 394,
    "start_time": "2022-11-23T11:33:53.759Z"
   },
   {
    "duration": 205,
    "start_time": "2022-11-23T11:33:54.159Z"
   },
   {
    "duration": 413,
    "start_time": "2022-11-23T11:33:54.367Z"
   },
   {
    "duration": 13,
    "start_time": "2022-11-23T11:33:54.781Z"
   },
   {
    "duration": 259,
    "start_time": "2022-11-23T11:33:54.796Z"
   },
   {
    "duration": 701,
    "start_time": "2022-11-23T11:33:55.057Z"
   },
   {
    "duration": 16,
    "start_time": "2022-11-23T11:33:55.760Z"
   },
   {
    "duration": 95,
    "start_time": "2022-11-23T11:33:55.778Z"
   },
   {
    "duration": 185,
    "start_time": "2022-11-23T11:33:55.960Z"
   },
   {
    "duration": 514,
    "start_time": "2022-11-23T11:33:56.153Z"
   },
   {
    "duration": 597,
    "start_time": "2022-11-23T11:33:56.669Z"
   },
   {
    "duration": 379,
    "start_time": "2022-11-23T11:33:57.268Z"
   },
   {
    "duration": 34,
    "start_time": "2022-11-23T11:33:57.649Z"
   },
   {
    "duration": 590,
    "start_time": "2022-11-23T11:33:57.686Z"
   },
   {
    "duration": 402,
    "start_time": "2022-11-23T11:33:58.277Z"
   },
   {
    "duration": 35,
    "start_time": "2022-11-23T11:33:58.681Z"
   },
   {
    "duration": 148,
    "start_time": "2022-11-23T11:33:58.718Z"
   },
   {
    "duration": 15,
    "start_time": "2022-11-23T11:33:58.868Z"
   },
   {
    "duration": 30,
    "start_time": "2022-11-23T11:34:44.326Z"
   },
   {
    "duration": 652,
    "start_time": "2022-11-23T11:34:45.938Z"
   },
   {
    "duration": 2,
    "start_time": "2022-11-23T11:34:54.081Z"
   },
   {
    "duration": 33,
    "start_time": "2022-11-23T11:34:54.087Z"
   },
   {
    "duration": 28,
    "start_time": "2022-11-23T11:34:54.122Z"
   },
   {
    "duration": 72,
    "start_time": "2022-11-23T11:34:54.153Z"
   },
   {
    "duration": 15,
    "start_time": "2022-11-23T11:34:54.227Z"
   },
   {
    "duration": 29,
    "start_time": "2022-11-23T11:34:54.245Z"
   },
   {
    "duration": 24,
    "start_time": "2022-11-23T11:34:54.276Z"
   },
   {
    "duration": 28,
    "start_time": "2022-11-23T11:34:54.301Z"
   },
   {
    "duration": 29,
    "start_time": "2022-11-23T11:34:54.331Z"
   },
   {
    "duration": 15,
    "start_time": "2022-11-23T11:34:54.361Z"
   },
   {
    "duration": 22,
    "start_time": "2022-11-23T11:34:54.378Z"
   },
   {
    "duration": 21,
    "start_time": "2022-11-23T11:34:54.402Z"
   },
   {
    "duration": 35,
    "start_time": "2022-11-23T11:34:54.425Z"
   },
   {
    "duration": 34,
    "start_time": "2022-11-23T11:34:54.462Z"
   },
   {
    "duration": 39,
    "start_time": "2022-11-23T11:34:54.499Z"
   },
   {
    "duration": 137,
    "start_time": "2022-11-23T11:34:54.539Z"
   },
   {
    "duration": 5,
    "start_time": "2022-11-23T11:34:54.677Z"
   },
   {
    "duration": 36,
    "start_time": "2022-11-23T11:34:54.683Z"
   },
   {
    "duration": 21,
    "start_time": "2022-11-23T11:34:54.721Z"
   },
   {
    "duration": 23,
    "start_time": "2022-11-23T11:34:54.744Z"
   },
   {
    "duration": 29,
    "start_time": "2022-11-23T11:34:54.769Z"
   },
   {
    "duration": 32,
    "start_time": "2022-11-23T11:34:54.800Z"
   },
   {
    "duration": 28,
    "start_time": "2022-11-23T11:34:54.834Z"
   },
   {
    "duration": 37,
    "start_time": "2022-11-23T11:34:54.865Z"
   },
   {
    "duration": 40,
    "start_time": "2022-11-23T11:34:54.904Z"
   },
   {
    "duration": 50,
    "start_time": "2022-11-23T11:34:54.946Z"
   },
   {
    "duration": 255,
    "start_time": "2022-11-23T11:34:54.998Z"
   },
   {
    "duration": 3917,
    "start_time": "2022-11-23T11:34:55.255Z"
   },
   {
    "duration": 416,
    "start_time": "2022-11-23T11:34:59.174Z"
   },
   {
    "duration": 175,
    "start_time": "2022-11-23T11:34:59.592Z"
   },
   {
    "duration": 399,
    "start_time": "2022-11-23T11:34:59.769Z"
   },
   {
    "duration": 12,
    "start_time": "2022-11-23T11:35:00.170Z"
   },
   {
    "duration": 176,
    "start_time": "2022-11-23T11:35:00.184Z"
   },
   {
    "duration": 792,
    "start_time": "2022-11-23T11:35:00.361Z"
   },
   {
    "duration": 15,
    "start_time": "2022-11-23T11:35:01.155Z"
   },
   {
    "duration": 199,
    "start_time": "2022-11-23T11:35:01.171Z"
   },
   {
    "duration": 197,
    "start_time": "2022-11-23T11:35:01.372Z"
   },
   {
    "duration": 486,
    "start_time": "2022-11-23T11:35:01.571Z"
   },
   {
    "duration": 648,
    "start_time": "2022-11-23T11:35:02.059Z"
   },
   {
    "duration": 26,
    "start_time": "2022-11-23T11:35:02.709Z"
   },
   {
    "duration": 563,
    "start_time": "2022-11-23T11:35:02.737Z"
   },
   {
    "duration": 370,
    "start_time": "2022-11-23T11:35:03.305Z"
   },
   {
    "duration": 30,
    "start_time": "2022-11-23T11:35:03.677Z"
   },
   {
    "duration": 223,
    "start_time": "2022-11-23T11:35:03.708Z"
   },
   {
    "duration": 26,
    "start_time": "2022-11-23T11:35:03.934Z"
   },
   {
    "duration": 2,
    "start_time": "2022-11-23T11:37:11.492Z"
   },
   {
    "duration": 6,
    "start_time": "2022-11-23T11:37:11.495Z"
   },
   {
    "duration": 6,
    "start_time": "2022-11-23T11:37:11.503Z"
   },
   {
    "duration": 51,
    "start_time": "2022-11-23T11:37:11.511Z"
   },
   {
    "duration": 14,
    "start_time": "2022-11-23T11:37:11.565Z"
   },
   {
    "duration": 6,
    "start_time": "2022-11-23T11:37:11.582Z"
   },
   {
    "duration": 8,
    "start_time": "2022-11-23T11:37:11.590Z"
   },
   {
    "duration": 13,
    "start_time": "2022-11-23T11:37:11.601Z"
   },
   {
    "duration": 47,
    "start_time": "2022-11-23T11:37:11.617Z"
   },
   {
    "duration": 12,
    "start_time": "2022-11-23T11:37:11.665Z"
   },
   {
    "duration": 8,
    "start_time": "2022-11-23T11:37:11.678Z"
   },
   {
    "duration": 7,
    "start_time": "2022-11-23T11:37:11.688Z"
   },
   {
    "duration": 10,
    "start_time": "2022-11-23T11:37:11.697Z"
   },
   {
    "duration": 10,
    "start_time": "2022-11-23T11:37:11.709Z"
   },
   {
    "duration": 36,
    "start_time": "2022-11-23T11:37:11.721Z"
   },
   {
    "duration": 125,
    "start_time": "2022-11-23T11:37:11.759Z"
   },
   {
    "duration": 4,
    "start_time": "2022-11-23T11:37:11.886Z"
   },
   {
    "duration": 9,
    "start_time": "2022-11-23T11:37:11.891Z"
   },
   {
    "duration": 6,
    "start_time": "2022-11-23T11:37:11.902Z"
   },
   {
    "duration": 7,
    "start_time": "2022-11-23T11:37:11.910Z"
   },
   {
    "duration": 13,
    "start_time": "2022-11-23T11:37:11.919Z"
   },
   {
    "duration": 8,
    "start_time": "2022-11-23T11:37:11.951Z"
   },
   {
    "duration": 12,
    "start_time": "2022-11-23T11:37:11.963Z"
   },
   {
    "duration": 20,
    "start_time": "2022-11-23T11:37:11.978Z"
   },
   {
    "duration": 11,
    "start_time": "2022-11-23T11:37:12.000Z"
   },
   {
    "duration": 7,
    "start_time": "2022-11-23T11:37:12.012Z"
   },
   {
    "duration": 234,
    "start_time": "2022-11-23T11:37:12.020Z"
   },
   {
    "duration": 3988,
    "start_time": "2022-11-23T11:37:12.256Z"
   },
   {
    "duration": 387,
    "start_time": "2022-11-23T11:37:16.246Z"
   },
   {
    "duration": 217,
    "start_time": "2022-11-23T11:37:16.635Z"
   },
   {
    "duration": 395,
    "start_time": "2022-11-23T11:37:16.854Z"
   },
   {
    "duration": 17,
    "start_time": "2022-11-23T11:37:17.252Z"
   },
   {
    "duration": 285,
    "start_time": "2022-11-23T11:37:17.271Z"
   },
   {
    "duration": 667,
    "start_time": "2022-11-23T11:37:17.560Z"
   },
   {
    "duration": 10,
    "start_time": "2022-11-23T11:37:18.228Z"
   },
   {
    "duration": 223,
    "start_time": "2022-11-23T11:37:18.240Z"
   },
   {
    "duration": 222,
    "start_time": "2022-11-23T11:37:18.466Z"
   },
   {
    "duration": 547,
    "start_time": "2022-11-23T11:37:18.690Z"
   },
   {
    "duration": 613,
    "start_time": "2022-11-23T11:37:19.239Z"
   },
   {
    "duration": 32,
    "start_time": "2022-11-23T11:37:19.853Z"
   },
   {
    "duration": 582,
    "start_time": "2022-11-23T11:37:19.887Z"
   },
   {
    "duration": 354,
    "start_time": "2022-11-23T11:37:20.471Z"
   },
   {
    "duration": 37,
    "start_time": "2022-11-23T11:37:20.827Z"
   },
   {
    "duration": 155,
    "start_time": "2022-11-23T11:37:20.866Z"
   },
   {
    "duration": 14,
    "start_time": "2022-11-23T11:37:21.023Z"
   },
   {
    "duration": 2,
    "start_time": "2022-11-23T11:49:57.629Z"
   },
   {
    "duration": 42,
    "start_time": "2022-11-23T11:49:57.635Z"
   },
   {
    "duration": 33,
    "start_time": "2022-11-23T11:49:57.679Z"
   },
   {
    "duration": 77,
    "start_time": "2022-11-23T11:49:57.714Z"
   },
   {
    "duration": 17,
    "start_time": "2022-11-23T11:49:57.792Z"
   },
   {
    "duration": 33,
    "start_time": "2022-11-23T11:49:57.812Z"
   },
   {
    "duration": 39,
    "start_time": "2022-11-23T11:49:57.847Z"
   },
   {
    "duration": 45,
    "start_time": "2022-11-23T11:49:57.888Z"
   },
   {
    "duration": 51,
    "start_time": "2022-11-23T11:49:57.935Z"
   },
   {
    "duration": 46,
    "start_time": "2022-11-23T11:49:57.987Z"
   },
   {
    "duration": 53,
    "start_time": "2022-11-23T11:49:58.035Z"
   },
   {
    "duration": 31,
    "start_time": "2022-11-23T11:49:58.090Z"
   },
   {
    "duration": 74,
    "start_time": "2022-11-23T11:49:58.122Z"
   },
   {
    "duration": 35,
    "start_time": "2022-11-23T11:49:58.198Z"
   },
   {
    "duration": 48,
    "start_time": "2022-11-23T11:49:58.237Z"
   },
   {
    "duration": 158,
    "start_time": "2022-11-23T11:49:58.287Z"
   },
   {
    "duration": 5,
    "start_time": "2022-11-23T11:49:58.447Z"
   },
   {
    "duration": 52,
    "start_time": "2022-11-23T11:49:58.454Z"
   },
   {
    "duration": 33,
    "start_time": "2022-11-23T11:49:58.508Z"
   },
   {
    "duration": 48,
    "start_time": "2022-11-23T11:49:58.543Z"
   },
   {
    "duration": 48,
    "start_time": "2022-11-23T11:49:58.593Z"
   },
   {
    "duration": 38,
    "start_time": "2022-11-23T11:49:58.643Z"
   },
   {
    "duration": 82,
    "start_time": "2022-11-23T11:49:58.683Z"
   },
   {
    "duration": 49,
    "start_time": "2022-11-23T11:49:58.766Z"
   },
   {
    "duration": 19,
    "start_time": "2022-11-23T11:49:58.817Z"
   },
   {
    "duration": 49,
    "start_time": "2022-11-23T11:49:58.838Z"
   },
   {
    "duration": 164,
    "start_time": "2022-11-23T11:49:58.890Z"
   },
   {
    "duration": 4385,
    "start_time": "2022-11-23T11:49:59.057Z"
   },
   {
    "duration": 428,
    "start_time": "2022-11-23T11:50:03.444Z"
   },
   {
    "duration": 178,
    "start_time": "2022-11-23T11:50:03.875Z"
   },
   {
    "duration": 471,
    "start_time": "2022-11-23T11:50:04.055Z"
   },
   {
    "duration": 15,
    "start_time": "2022-11-23T11:50:04.527Z"
   },
   {
    "duration": 114,
    "start_time": "2022-11-23T11:50:04.544Z"
   },
   {
    "duration": 847,
    "start_time": "2022-11-23T11:50:04.660Z"
   },
   {
    "duration": 11,
    "start_time": "2022-11-23T11:50:05.508Z"
   },
   {
    "duration": 133,
    "start_time": "2022-11-23T11:50:05.521Z"
   },
   {
    "duration": 302,
    "start_time": "2022-11-23T11:50:05.656Z"
   },
   {
    "duration": 535,
    "start_time": "2022-11-23T11:50:05.960Z"
   },
   {
    "duration": 635,
    "start_time": "2022-11-23T11:50:06.497Z"
   },
   {
    "duration": 45,
    "start_time": "2022-11-23T11:50:07.134Z"
   },
   {
    "duration": 640,
    "start_time": "2022-11-23T11:50:07.180Z"
   },
   {
    "duration": 385,
    "start_time": "2022-11-23T11:50:07.824Z"
   },
   {
    "duration": 29,
    "start_time": "2022-11-23T11:50:08.211Z"
   },
   {
    "duration": 188,
    "start_time": "2022-11-23T11:50:08.253Z"
   },
   {
    "duration": 32,
    "start_time": "2022-11-23T11:50:08.443Z"
   },
   {
    "duration": 197,
    "start_time": "2022-11-23T12:39:12.681Z"
   },
   {
    "duration": 2022,
    "start_time": "2022-11-23T12:39:35.732Z"
   },
   {
    "duration": 5,
    "start_time": "2022-11-23T12:39:37.757Z"
   },
   {
    "duration": 31,
    "start_time": "2022-11-23T12:39:37.764Z"
   },
   {
    "duration": 77,
    "start_time": "2022-11-23T12:39:37.798Z"
   },
   {
    "duration": 16,
    "start_time": "2022-11-23T12:39:37.877Z"
   },
   {
    "duration": 28,
    "start_time": "2022-11-23T12:39:37.895Z"
   },
   {
    "duration": 22,
    "start_time": "2022-11-23T12:39:37.925Z"
   },
   {
    "duration": 44,
    "start_time": "2022-11-23T12:39:37.949Z"
   },
   {
    "duration": 40,
    "start_time": "2022-11-23T12:39:37.995Z"
   },
   {
    "duration": 52,
    "start_time": "2022-11-23T12:39:38.038Z"
   },
   {
    "duration": 36,
    "start_time": "2022-11-23T12:39:38.094Z"
   },
   {
    "duration": 48,
    "start_time": "2022-11-23T12:39:38.132Z"
   },
   {
    "duration": 45,
    "start_time": "2022-11-23T12:39:38.182Z"
   },
   {
    "duration": 59,
    "start_time": "2022-11-23T12:39:38.230Z"
   },
   {
    "duration": 41,
    "start_time": "2022-11-23T12:39:38.291Z"
   },
   {
    "duration": 149,
    "start_time": "2022-11-23T12:39:38.334Z"
   },
   {
    "duration": 4,
    "start_time": "2022-11-23T12:39:38.485Z"
   },
   {
    "duration": 31,
    "start_time": "2022-11-23T12:39:38.490Z"
   },
   {
    "duration": 55,
    "start_time": "2022-11-23T12:39:38.523Z"
   },
   {
    "duration": 22,
    "start_time": "2022-11-23T12:39:38.581Z"
   },
   {
    "duration": 28,
    "start_time": "2022-11-23T12:39:38.605Z"
   },
   {
    "duration": 61,
    "start_time": "2022-11-23T12:39:38.635Z"
   },
   {
    "duration": 29,
    "start_time": "2022-11-23T12:39:38.698Z"
   },
   {
    "duration": 88,
    "start_time": "2022-11-23T12:39:38.729Z"
   },
   {
    "duration": 25,
    "start_time": "2022-11-23T12:39:38.819Z"
   },
   {
    "duration": 39,
    "start_time": "2022-11-23T12:39:38.846Z"
   },
   {
    "duration": 5,
    "start_time": "2022-11-23T12:39:41.300Z"
   },
   {
    "duration": 138,
    "start_time": "2022-11-23T12:39:42.135Z"
   },
   {
    "duration": 5,
    "start_time": "2022-11-23T12:39:53.123Z"
   },
   {
    "duration": 117,
    "start_time": "2022-11-23T12:39:53.751Z"
   },
   {
    "duration": 405,
    "start_time": "2022-11-23T12:40:10.472Z"
   },
   {
    "duration": 121,
    "start_time": "2022-11-23T12:42:09.218Z"
   },
   {
    "duration": 2028,
    "start_time": "2022-11-23T12:42:35.792Z"
   },
   {
    "duration": 1189,
    "start_time": "2022-11-23T12:42:37.822Z"
   },
   {
    "duration": 2,
    "start_time": "2022-11-23T12:42:39.013Z"
   },
   {
    "duration": 46,
    "start_time": "2022-11-23T12:42:39.018Z"
   },
   {
    "duration": 14,
    "start_time": "2022-11-23T12:42:39.066Z"
   },
   {
    "duration": 8,
    "start_time": "2022-11-23T12:42:39.081Z"
   },
   {
    "duration": 9,
    "start_time": "2022-11-23T12:42:39.091Z"
   },
   {
    "duration": 20,
    "start_time": "2022-11-23T12:42:39.101Z"
   },
   {
    "duration": 14,
    "start_time": "2022-11-23T12:42:39.122Z"
   },
   {
    "duration": 5,
    "start_time": "2022-11-23T12:42:39.154Z"
   },
   {
    "duration": 37,
    "start_time": "2022-11-23T12:42:39.161Z"
   },
   {
    "duration": 30,
    "start_time": "2022-11-23T12:42:39.200Z"
   },
   {
    "duration": 26,
    "start_time": "2022-11-23T12:42:39.231Z"
   },
   {
    "duration": 26,
    "start_time": "2022-11-23T12:42:39.260Z"
   },
   {
    "duration": 29,
    "start_time": "2022-11-23T12:42:39.288Z"
   },
   {
    "duration": 152,
    "start_time": "2022-11-23T12:42:39.319Z"
   },
   {
    "duration": 4,
    "start_time": "2022-11-23T12:42:39.472Z"
   },
   {
    "duration": 39,
    "start_time": "2022-11-23T12:42:39.477Z"
   },
   {
    "duration": 26,
    "start_time": "2022-11-23T12:42:39.518Z"
   },
   {
    "duration": 32,
    "start_time": "2022-11-23T12:42:39.546Z"
   },
   {
    "duration": 24,
    "start_time": "2022-11-23T12:42:39.580Z"
   },
   {
    "duration": 27,
    "start_time": "2022-11-23T12:42:39.606Z"
   },
   {
    "duration": 18,
    "start_time": "2022-11-23T12:42:39.635Z"
   },
   {
    "duration": 63,
    "start_time": "2022-11-23T12:42:39.654Z"
   },
   {
    "duration": 12,
    "start_time": "2022-11-23T12:42:39.719Z"
   },
   {
    "duration": 44,
    "start_time": "2022-11-23T12:42:39.732Z"
   },
   {
    "duration": 93,
    "start_time": "2022-11-23T12:42:39.777Z"
   },
   {
    "duration": 4018,
    "start_time": "2022-11-23T12:42:39.953Z"
   },
   {
    "duration": 401,
    "start_time": "2022-11-23T12:42:43.973Z"
   },
   {
    "duration": 187,
    "start_time": "2022-11-23T12:42:44.376Z"
   },
   {
    "duration": 480,
    "start_time": "2022-11-23T12:42:44.565Z"
   },
   {
    "duration": 18,
    "start_time": "2022-11-23T12:42:45.052Z"
   },
   {
    "duration": 97,
    "start_time": "2022-11-23T12:42:45.073Z"
   },
   {
    "duration": 848,
    "start_time": "2022-11-23T12:42:45.173Z"
   },
   {
    "duration": 12,
    "start_time": "2022-11-23T12:42:46.022Z"
   },
   {
    "duration": 27,
    "start_time": "2022-11-23T12:42:46.035Z"
   },
   {
    "duration": 380,
    "start_time": "2022-11-23T12:42:46.064Z"
   },
   {
    "duration": 563,
    "start_time": "2022-11-23T12:42:46.446Z"
   },
   {
    "duration": 673,
    "start_time": "2022-11-23T12:42:47.011Z"
   },
   {
    "duration": 28,
    "start_time": "2022-11-23T12:42:47.686Z"
   },
   {
    "duration": 599,
    "start_time": "2022-11-23T12:42:47.716Z"
   },
   {
    "duration": 355,
    "start_time": "2022-11-23T12:42:48.317Z"
   },
   {
    "duration": 23,
    "start_time": "2022-11-23T12:42:48.673Z"
   },
   {
    "duration": 128,
    "start_time": "2022-11-23T12:42:48.698Z"
   },
   {
    "duration": 30,
    "start_time": "2022-11-23T12:42:48.827Z"
   },
   {
    "duration": 578,
    "start_time": "2022-11-23T13:14:39.946Z"
   },
   {
    "duration": 646,
    "start_time": "2022-11-23T13:14:53.070Z"
   },
   {
    "duration": 12,
    "start_time": "2022-11-23T13:16:06.343Z"
   },
   {
    "duration": 52,
    "start_time": "2022-11-23T13:16:07.800Z"
   },
   {
    "duration": 504,
    "start_time": "2022-11-23T13:16:10.345Z"
   },
   {
    "duration": 11,
    "start_time": "2022-11-23T13:16:19.413Z"
   },
   {
    "duration": 19,
    "start_time": "2022-11-23T13:16:20.171Z"
   },
   {
    "duration": 204,
    "start_time": "2022-11-23T13:16:21.985Z"
   },
   {
    "duration": 11,
    "start_time": "2022-11-23T13:17:16.609Z"
   },
   {
    "duration": 29,
    "start_time": "2022-11-23T13:17:17.345Z"
   },
   {
    "duration": 510,
    "start_time": "2022-11-23T13:17:18.574Z"
   },
   {
    "duration": 11,
    "start_time": "2022-11-23T13:18:50.427Z"
   },
   {
    "duration": 26,
    "start_time": "2022-11-23T13:18:51.971Z"
   },
   {
    "duration": 499,
    "start_time": "2022-11-23T13:18:54.387Z"
   },
   {
    "duration": 12,
    "start_time": "2022-11-23T13:24:24.622Z"
   },
   {
    "duration": 26,
    "start_time": "2022-11-23T13:24:26.291Z"
   },
   {
    "duration": 498,
    "start_time": "2022-11-23T13:24:30.097Z"
   },
   {
    "duration": 12,
    "start_time": "2022-11-23T13:25:17.373Z"
   },
   {
    "duration": 15,
    "start_time": "2022-11-23T13:25:18.848Z"
   },
   {
    "duration": 207,
    "start_time": "2022-11-23T13:25:21.262Z"
   },
   {
    "duration": 10,
    "start_time": "2022-11-23T13:28:04.114Z"
   },
   {
    "duration": 16,
    "start_time": "2022-11-23T13:28:06.534Z"
   },
   {
    "duration": 211,
    "start_time": "2022-11-23T13:28:09.703Z"
   },
   {
    "duration": 6,
    "start_time": "2022-11-23T13:30:03.391Z"
   },
   {
    "duration": 5,
    "start_time": "2022-11-23T13:30:33.486Z"
   },
   {
    "duration": 102,
    "start_time": "2022-11-23T13:54:17.668Z"
   },
   {
    "duration": 116,
    "start_time": "2022-11-23T13:55:19.395Z"
   },
   {
    "duration": 4,
    "start_time": "2022-11-23T13:55:26.187Z"
   },
   {
    "duration": 7,
    "start_time": "2022-11-23T13:55:38.075Z"
   },
   {
    "duration": 7,
    "start_time": "2022-11-23T13:56:07.977Z"
   },
   {
    "duration": 7225,
    "start_time": "2022-11-23T16:11:55.090Z"
   },
   {
    "duration": 1451,
    "start_time": "2022-11-23T16:12:02.318Z"
   },
   {
    "duration": 4,
    "start_time": "2022-11-23T16:12:03.771Z"
   },
   {
    "duration": 105,
    "start_time": "2022-11-23T16:12:03.777Z"
   },
   {
    "duration": 16,
    "start_time": "2022-11-23T16:12:03.884Z"
   },
   {
    "duration": 9,
    "start_time": "2022-11-23T16:12:03.903Z"
   },
   {
    "duration": 26,
    "start_time": "2022-11-23T16:12:03.914Z"
   },
   {
    "duration": 24,
    "start_time": "2022-11-23T16:12:03.942Z"
   },
   {
    "duration": 17,
    "start_time": "2022-11-23T16:12:03.968Z"
   },
   {
    "duration": 4,
    "start_time": "2022-11-23T16:12:03.997Z"
   },
   {
    "duration": 21,
    "start_time": "2022-11-23T16:12:04.003Z"
   },
   {
    "duration": 10,
    "start_time": "2022-11-23T16:12:04.025Z"
   },
   {
    "duration": 14,
    "start_time": "2022-11-23T16:12:04.037Z"
   },
   {
    "duration": 12,
    "start_time": "2022-11-23T16:12:04.052Z"
   },
   {
    "duration": 35,
    "start_time": "2022-11-23T16:12:04.065Z"
   },
   {
    "duration": 161,
    "start_time": "2022-11-23T16:12:04.102Z"
   },
   {
    "duration": 4,
    "start_time": "2022-11-23T16:12:04.265Z"
   },
   {
    "duration": 26,
    "start_time": "2022-11-23T16:12:04.270Z"
   },
   {
    "duration": 7,
    "start_time": "2022-11-23T16:12:04.299Z"
   },
   {
    "duration": 6,
    "start_time": "2022-11-23T16:12:04.308Z"
   },
   {
    "duration": 7,
    "start_time": "2022-11-23T16:12:04.315Z"
   },
   {
    "duration": 9,
    "start_time": "2022-11-23T16:12:04.324Z"
   },
   {
    "duration": 7,
    "start_time": "2022-11-23T16:12:04.334Z"
   },
   {
    "duration": 67,
    "start_time": "2022-11-23T16:12:04.342Z"
   },
   {
    "duration": 12,
    "start_time": "2022-11-23T16:12:04.411Z"
   },
   {
    "duration": 7,
    "start_time": "2022-11-23T16:12:04.425Z"
   },
   {
    "duration": 170,
    "start_time": "2022-11-23T16:12:04.434Z"
   },
   {
    "duration": 4058,
    "start_time": "2022-11-23T16:12:04.609Z"
   },
   {
    "duration": 388,
    "start_time": "2022-11-23T16:12:08.669Z"
   },
   {
    "duration": 150,
    "start_time": "2022-11-23T16:12:09.059Z"
   },
   {
    "duration": 461,
    "start_time": "2022-11-23T16:12:09.211Z"
   },
   {
    "duration": 12,
    "start_time": "2022-11-23T16:12:09.674Z"
   },
   {
    "duration": 6,
    "start_time": "2022-11-23T16:12:09.697Z"
   },
   {
    "duration": 90,
    "start_time": "2022-11-23T16:12:09.705Z"
   },
   {
    "duration": 621,
    "start_time": "2022-11-23T16:12:09.798Z"
   },
   {
    "duration": 18,
    "start_time": "2022-11-23T16:12:10.421Z"
   },
   {
    "duration": 7,
    "start_time": "2022-11-23T16:12:10.442Z"
   },
   {
    "duration": 47,
    "start_time": "2022-11-23T16:12:10.450Z"
   },
   {
    "duration": 333,
    "start_time": "2022-11-23T16:12:10.499Z"
   },
   {
    "duration": 479,
    "start_time": "2022-11-23T16:12:10.833Z"
   },
   {
    "duration": 607,
    "start_time": "2022-11-23T16:12:11.313Z"
   },
   {
    "duration": 31,
    "start_time": "2022-11-23T16:12:11.923Z"
   },
   {
    "duration": 600,
    "start_time": "2022-11-23T16:12:11.956Z"
   },
   {
    "duration": 367,
    "start_time": "2022-11-23T16:12:12.558Z"
   },
   {
    "duration": 24,
    "start_time": "2022-11-23T16:12:12.927Z"
   },
   {
    "duration": 143,
    "start_time": "2022-11-23T16:12:12.953Z"
   },
   {
    "duration": 16,
    "start_time": "2022-11-23T16:12:13.098Z"
   },
   {
    "duration": 7,
    "start_time": "2022-11-23T16:12:13.115Z"
   },
   {
    "duration": 123,
    "start_time": "2022-11-23T16:12:47.597Z"
   },
   {
    "duration": 16,
    "start_time": "2022-11-23T16:13:05.621Z"
   },
   {
    "duration": 20,
    "start_time": "2022-11-23T16:13:36.030Z"
   },
   {
    "duration": 19,
    "start_time": "2022-11-23T16:13:43.823Z"
   },
   {
    "duration": 23,
    "start_time": "2022-11-23T16:13:49.493Z"
   },
   {
    "duration": 359,
    "start_time": "2022-11-23T16:15:09.093Z"
   },
   {
    "duration": 26,
    "start_time": "2022-11-23T16:15:10.726Z"
   },
   {
    "duration": 24,
    "start_time": "2022-11-23T16:15:29.262Z"
   },
   {
    "duration": 159,
    "start_time": "2022-11-23T16:15:30.234Z"
   },
   {
    "duration": 34,
    "start_time": "2022-11-23T16:15:48.125Z"
   },
   {
    "duration": 203,
    "start_time": "2022-11-23T16:15:48.879Z"
   },
   {
    "duration": 373,
    "start_time": "2022-11-23T16:16:02.811Z"
   },
   {
    "duration": 28,
    "start_time": "2022-11-23T16:16:03.838Z"
   },
   {
    "duration": 379,
    "start_time": "2022-11-23T16:16:30.878Z"
   },
   {
    "duration": 27,
    "start_time": "2022-11-23T16:16:31.652Z"
   },
   {
    "duration": 16,
    "start_time": "2022-11-23T16:17:48.740Z"
   },
   {
    "duration": 11,
    "start_time": "2022-11-23T16:18:00.206Z"
   },
   {
    "duration": 8,
    "start_time": "2022-11-23T16:18:01.555Z"
   },
   {
    "duration": 116,
    "start_time": "2022-11-23T16:18:05.079Z"
   },
   {
    "duration": 531,
    "start_time": "2022-11-23T16:18:15.626Z"
   },
   {
    "duration": 11,
    "start_time": "2022-11-23T16:19:06.837Z"
   },
   {
    "duration": 5,
    "start_time": "2022-11-23T16:19:07.455Z"
   },
   {
    "duration": 17,
    "start_time": "2022-11-23T16:19:09.117Z"
   },
   {
    "duration": 223,
    "start_time": "2022-11-23T16:19:11.968Z"
   },
   {
    "duration": 12,
    "start_time": "2022-11-23T16:19:52.492Z"
   },
   {
    "duration": 6,
    "start_time": "2022-11-23T16:19:53.310Z"
   },
   {
    "duration": 20,
    "start_time": "2022-11-23T16:19:54.402Z"
   },
   {
    "duration": 288,
    "start_time": "2022-11-23T16:19:55.829Z"
   },
   {
    "duration": 13,
    "start_time": "2022-11-23T16:24:54.996Z"
   },
   {
    "duration": 7,
    "start_time": "2022-11-23T16:24:56.219Z"
   },
   {
    "duration": 17,
    "start_time": "2022-11-23T16:24:57.371Z"
   },
   {
    "duration": 246,
    "start_time": "2022-11-23T16:25:00.009Z"
   },
   {
    "duration": 366,
    "start_time": "2022-11-23T16:37:19.861Z"
   },
   {
    "duration": 32,
    "start_time": "2022-11-23T16:37:21.298Z"
   },
   {
    "duration": 381,
    "start_time": "2022-11-23T16:38:01.742Z"
   },
   {
    "duration": 32,
    "start_time": "2022-11-23T16:38:07.378Z"
   },
   {
    "duration": 28,
    "start_time": "2022-11-23T16:38:16.321Z"
   },
   {
    "duration": 2009,
    "start_time": "2022-11-23T16:39:49.062Z"
   },
   {
    "duration": 1238,
    "start_time": "2022-11-23T16:39:51.073Z"
   },
   {
    "duration": 4,
    "start_time": "2022-11-23T16:39:52.312Z"
   },
   {
    "duration": 44,
    "start_time": "2022-11-23T16:39:52.318Z"
   },
   {
    "duration": 12,
    "start_time": "2022-11-23T16:39:52.364Z"
   },
   {
    "duration": 15,
    "start_time": "2022-11-23T16:39:52.377Z"
   },
   {
    "duration": 21,
    "start_time": "2022-11-23T16:39:52.394Z"
   },
   {
    "duration": 18,
    "start_time": "2022-11-23T16:39:52.417Z"
   },
   {
    "duration": 19,
    "start_time": "2022-11-23T16:39:52.437Z"
   },
   {
    "duration": 4,
    "start_time": "2022-11-23T16:39:52.459Z"
   },
   {
    "duration": 21,
    "start_time": "2022-11-23T16:39:52.464Z"
   },
   {
    "duration": 10,
    "start_time": "2022-11-23T16:39:52.487Z"
   },
   {
    "duration": 31,
    "start_time": "2022-11-23T16:39:52.499Z"
   },
   {
    "duration": 25,
    "start_time": "2022-11-23T16:39:52.532Z"
   },
   {
    "duration": 18,
    "start_time": "2022-11-23T16:39:52.558Z"
   },
   {
    "duration": 120,
    "start_time": "2022-11-23T16:39:52.578Z"
   },
   {
    "duration": 4,
    "start_time": "2022-11-23T16:39:52.700Z"
   },
   {
    "duration": 14,
    "start_time": "2022-11-23T16:39:52.705Z"
   },
   {
    "duration": 6,
    "start_time": "2022-11-23T16:39:52.721Z"
   },
   {
    "duration": 6,
    "start_time": "2022-11-23T16:39:52.728Z"
   },
   {
    "duration": 7,
    "start_time": "2022-11-23T16:39:52.735Z"
   },
   {
    "duration": 13,
    "start_time": "2022-11-23T16:39:52.743Z"
   },
   {
    "duration": 5,
    "start_time": "2022-11-23T16:39:52.758Z"
   },
   {
    "duration": 67,
    "start_time": "2022-11-23T16:39:52.765Z"
   },
   {
    "duration": 13,
    "start_time": "2022-11-23T16:39:52.834Z"
   },
   {
    "duration": 7,
    "start_time": "2022-11-23T16:39:52.849Z"
   },
   {
    "duration": 144,
    "start_time": "2022-11-23T16:39:52.858Z"
   },
   {
    "duration": 4046,
    "start_time": "2022-11-23T16:39:53.006Z"
   },
   {
    "duration": 361,
    "start_time": "2022-11-23T16:39:57.053Z"
   },
   {
    "duration": 192,
    "start_time": "2022-11-23T16:39:57.416Z"
   },
   {
    "duration": 394,
    "start_time": "2022-11-23T16:39:57.610Z"
   },
   {
    "duration": 11,
    "start_time": "2022-11-23T16:39:58.006Z"
   },
   {
    "duration": 8,
    "start_time": "2022-11-23T16:39:58.020Z"
   },
   {
    "duration": 67,
    "start_time": "2022-11-23T16:39:58.031Z"
   },
   {
    "duration": 580,
    "start_time": "2022-11-23T16:39:58.100Z"
   },
   {
    "duration": 21,
    "start_time": "2022-11-23T16:39:58.682Z"
   },
   {
    "duration": 7,
    "start_time": "2022-11-23T16:39:58.705Z"
   },
   {
    "duration": 19,
    "start_time": "2022-11-23T16:39:58.714Z"
   },
   {
    "duration": 326,
    "start_time": "2022-11-23T16:39:58.797Z"
   },
   {
    "duration": 484,
    "start_time": "2022-11-23T16:39:59.125Z"
   },
   {
    "duration": 608,
    "start_time": "2022-11-23T16:39:59.611Z"
   },
   {
    "duration": 28,
    "start_time": "2022-11-23T16:40:00.221Z"
   },
   {
    "duration": 622,
    "start_time": "2022-11-23T16:40:00.251Z"
   },
   {
    "duration": 361,
    "start_time": "2022-11-23T16:40:00.875Z"
   },
   {
    "duration": 33,
    "start_time": "2022-11-23T16:40:01.237Z"
   },
   {
    "duration": 41,
    "start_time": "2022-11-23T16:40:01.273Z"
   },
   {
    "duration": 128,
    "start_time": "2022-11-23T16:40:01.316Z"
   },
   {
    "duration": 16,
    "start_time": "2022-11-23T16:40:01.446Z"
   },
   {
    "duration": 32,
    "start_time": "2022-11-23T17:13:30.917Z"
   },
   {
    "duration": 2033,
    "start_time": "2022-11-23T17:13:51.754Z"
   },
   {
    "duration": 4,
    "start_time": "2022-11-23T17:13:53.790Z"
   },
   {
    "duration": 6,
    "start_time": "2022-11-23T17:13:53.795Z"
   },
   {
    "duration": 43,
    "start_time": "2022-11-23T17:13:53.803Z"
   },
   {
    "duration": 13,
    "start_time": "2022-11-23T17:13:53.848Z"
   },
   {
    "duration": 7,
    "start_time": "2022-11-23T17:13:53.862Z"
   },
   {
    "duration": 8,
    "start_time": "2022-11-23T17:13:53.870Z"
   },
   {
    "duration": 26,
    "start_time": "2022-11-23T17:13:53.880Z"
   },
   {
    "duration": 21,
    "start_time": "2022-11-23T17:13:53.909Z"
   },
   {
    "duration": 7,
    "start_time": "2022-11-23T17:13:53.934Z"
   },
   {
    "duration": 10,
    "start_time": "2022-11-23T17:13:53.942Z"
   },
   {
    "duration": 14,
    "start_time": "2022-11-23T17:13:53.954Z"
   },
   {
    "duration": 32,
    "start_time": "2022-11-23T17:13:53.969Z"
   },
   {
    "duration": 12,
    "start_time": "2022-11-23T17:13:54.002Z"
   },
   {
    "duration": 13,
    "start_time": "2022-11-23T17:13:54.015Z"
   },
   {
    "duration": 140,
    "start_time": "2022-11-23T17:13:54.030Z"
   },
   {
    "duration": 5,
    "start_time": "2022-11-23T17:13:54.172Z"
   },
   {
    "duration": 24,
    "start_time": "2022-11-23T17:13:54.178Z"
   },
   {
    "duration": 7,
    "start_time": "2022-11-23T17:13:54.203Z"
   },
   {
    "duration": 9,
    "start_time": "2022-11-23T17:13:54.212Z"
   },
   {
    "duration": 6,
    "start_time": "2022-11-23T17:13:54.222Z"
   },
   {
    "duration": 9,
    "start_time": "2022-11-23T17:13:54.230Z"
   },
   {
    "duration": 5,
    "start_time": "2022-11-23T17:13:54.241Z"
   },
   {
    "duration": 56,
    "start_time": "2022-11-23T17:13:54.248Z"
   },
   {
    "duration": 11,
    "start_time": "2022-11-23T17:13:54.306Z"
   },
   {
    "duration": 6,
    "start_time": "2022-11-23T17:13:54.319Z"
   },
   {
    "duration": 278,
    "start_time": "2022-11-23T17:13:54.326Z"
   },
   {
    "duration": 4057,
    "start_time": "2022-11-23T17:13:54.607Z"
   },
   {
    "duration": 377,
    "start_time": "2022-11-23T17:13:58.666Z"
   },
   {
    "duration": 161,
    "start_time": "2022-11-23T17:13:59.045Z"
   },
   {
    "duration": 391,
    "start_time": "2022-11-23T17:13:59.208Z"
   },
   {
    "duration": 10,
    "start_time": "2022-11-23T17:13:59.601Z"
   },
   {
    "duration": 7,
    "start_time": "2022-11-23T17:13:59.613Z"
   },
   {
    "duration": 76,
    "start_time": "2022-11-23T17:13:59.622Z"
   },
   {
    "duration": 569,
    "start_time": "2022-11-23T17:13:59.700Z"
   },
   {
    "duration": 25,
    "start_time": "2022-11-23T17:14:00.271Z"
   },
   {
    "duration": 8,
    "start_time": "2022-11-23T17:14:00.299Z"
   },
   {
    "duration": 25,
    "start_time": "2022-11-23T17:14:00.310Z"
   },
   {
    "duration": 404,
    "start_time": "2022-11-23T17:14:00.338Z"
   },
   {
    "duration": 572,
    "start_time": "2022-11-23T17:14:00.744Z"
   },
   {
    "duration": 659,
    "start_time": "2022-11-23T17:14:01.318Z"
   },
   {
    "duration": 40,
    "start_time": "2022-11-23T17:14:01.978Z"
   },
   {
    "duration": 618,
    "start_time": "2022-11-23T17:14:02.020Z"
   },
   {
    "duration": 381,
    "start_time": "2022-11-23T17:14:02.639Z"
   },
   {
    "duration": 27,
    "start_time": "2022-11-23T17:14:03.022Z"
   },
   {
    "duration": 51,
    "start_time": "2022-11-23T17:14:03.050Z"
   },
   {
    "duration": 26,
    "start_time": "2022-11-23T17:14:03.103Z"
   },
   {
    "duration": 146,
    "start_time": "2022-11-23T17:14:03.131Z"
   },
   {
    "duration": 24,
    "start_time": "2022-11-23T17:14:03.279Z"
   },
   {
    "duration": 2179,
    "start_time": "2022-11-23T17:21:04.602Z"
   },
   {
    "duration": 4,
    "start_time": "2022-11-23T17:21:06.784Z"
   },
   {
    "duration": 36,
    "start_time": "2022-11-23T17:21:06.790Z"
   },
   {
    "duration": 52,
    "start_time": "2022-11-23T17:21:06.829Z"
   },
   {
    "duration": 14,
    "start_time": "2022-11-23T17:21:06.883Z"
   },
   {
    "duration": 15,
    "start_time": "2022-11-23T17:21:06.899Z"
   },
   {
    "duration": 21,
    "start_time": "2022-11-23T17:21:06.916Z"
   },
   {
    "duration": 19,
    "start_time": "2022-11-23T17:21:06.939Z"
   },
   {
    "duration": 15,
    "start_time": "2022-11-23T17:21:06.960Z"
   },
   {
    "duration": 14,
    "start_time": "2022-11-23T17:21:06.979Z"
   },
   {
    "duration": 16,
    "start_time": "2022-11-23T17:21:06.995Z"
   },
   {
    "duration": 32,
    "start_time": "2022-11-23T17:21:07.013Z"
   },
   {
    "duration": 22,
    "start_time": "2022-11-23T17:21:07.046Z"
   },
   {
    "duration": 18,
    "start_time": "2022-11-23T17:21:07.070Z"
   },
   {
    "duration": 24,
    "start_time": "2022-11-23T17:21:07.090Z"
   },
   {
    "duration": 120,
    "start_time": "2022-11-23T17:21:07.116Z"
   },
   {
    "duration": 4,
    "start_time": "2022-11-23T17:21:07.238Z"
   },
   {
    "duration": 10,
    "start_time": "2022-11-23T17:21:07.244Z"
   },
   {
    "duration": 19,
    "start_time": "2022-11-23T17:21:07.255Z"
   },
   {
    "duration": 18,
    "start_time": "2022-11-23T17:21:07.275Z"
   },
   {
    "duration": 5,
    "start_time": "2022-11-23T17:21:07.297Z"
   },
   {
    "duration": 12,
    "start_time": "2022-11-23T17:21:07.304Z"
   },
   {
    "duration": 5,
    "start_time": "2022-11-23T17:21:07.317Z"
   },
   {
    "duration": 40,
    "start_time": "2022-11-23T17:21:07.324Z"
   },
   {
    "duration": 32,
    "start_time": "2022-11-23T17:21:07.365Z"
   },
   {
    "duration": 6,
    "start_time": "2022-11-23T17:21:07.398Z"
   },
   {
    "duration": 204,
    "start_time": "2022-11-23T17:21:07.407Z"
   },
   {
    "duration": 4107,
    "start_time": "2022-11-23T17:21:07.616Z"
   },
   {
    "duration": 395,
    "start_time": "2022-11-23T17:21:11.725Z"
   },
   {
    "duration": 183,
    "start_time": "2022-11-23T17:21:12.121Z"
   },
   {
    "duration": 403,
    "start_time": "2022-11-23T17:21:12.306Z"
   },
   {
    "duration": 11,
    "start_time": "2022-11-23T17:21:12.711Z"
   },
   {
    "duration": 5,
    "start_time": "2022-11-23T17:21:12.724Z"
   },
   {
    "duration": 68,
    "start_time": "2022-11-23T17:21:12.731Z"
   },
   {
    "duration": 583,
    "start_time": "2022-11-23T17:21:12.801Z"
   },
   {
    "duration": 19,
    "start_time": "2022-11-23T17:21:13.385Z"
   },
   {
    "duration": 5,
    "start_time": "2022-11-23T17:21:13.405Z"
   },
   {
    "duration": 86,
    "start_time": "2022-11-23T17:21:13.412Z"
   },
   {
    "duration": 347,
    "start_time": "2022-11-23T17:21:13.501Z"
   },
   {
    "duration": 521,
    "start_time": "2022-11-23T17:21:13.849Z"
   },
   {
    "duration": 644,
    "start_time": "2022-11-23T17:21:14.373Z"
   },
   {
    "duration": 30,
    "start_time": "2022-11-23T17:21:15.018Z"
   },
   {
    "duration": 648,
    "start_time": "2022-11-23T17:21:15.050Z"
   },
   {
    "duration": 432,
    "start_time": "2022-11-23T17:21:15.700Z"
   },
   {
    "duration": 34,
    "start_time": "2022-11-23T17:21:16.134Z"
   },
   {
    "duration": 59,
    "start_time": "2022-11-23T17:21:16.170Z"
   },
   {
    "duration": 27,
    "start_time": "2022-11-23T17:21:16.231Z"
   },
   {
    "duration": 144,
    "start_time": "2022-11-23T17:21:16.260Z"
   },
   {
    "duration": 17,
    "start_time": "2022-11-23T17:21:16.406Z"
   },
   {
    "duration": 2059,
    "start_time": "2022-11-23T17:25:19.010Z"
   },
   {
    "duration": 5,
    "start_time": "2022-11-23T17:25:21.071Z"
   },
   {
    "duration": 9,
    "start_time": "2022-11-23T17:25:21.078Z"
   },
   {
    "duration": 47,
    "start_time": "2022-11-23T17:25:21.089Z"
   },
   {
    "duration": 14,
    "start_time": "2022-11-23T17:25:21.138Z"
   },
   {
    "duration": 7,
    "start_time": "2022-11-23T17:25:21.153Z"
   },
   {
    "duration": 9,
    "start_time": "2022-11-23T17:25:21.161Z"
   },
   {
    "duration": 12,
    "start_time": "2022-11-23T17:25:21.171Z"
   },
   {
    "duration": 13,
    "start_time": "2022-11-23T17:25:21.185Z"
   },
   {
    "duration": 5,
    "start_time": "2022-11-23T17:25:21.201Z"
   },
   {
    "duration": 16,
    "start_time": "2022-11-23T17:25:21.208Z"
   },
   {
    "duration": 18,
    "start_time": "2022-11-23T17:25:21.225Z"
   },
   {
    "duration": 11,
    "start_time": "2022-11-23T17:25:21.245Z"
   },
   {
    "duration": 10,
    "start_time": "2022-11-23T17:25:21.258Z"
   },
   {
    "duration": 12,
    "start_time": "2022-11-23T17:25:21.270Z"
   },
   {
    "duration": 128,
    "start_time": "2022-11-23T17:25:21.296Z"
   },
   {
    "duration": 5,
    "start_time": "2022-11-23T17:25:21.425Z"
   },
   {
    "duration": 11,
    "start_time": "2022-11-23T17:25:21.431Z"
   },
   {
    "duration": 8,
    "start_time": "2022-11-23T17:25:21.443Z"
   },
   {
    "duration": 7,
    "start_time": "2022-11-23T17:25:21.452Z"
   },
   {
    "duration": 6,
    "start_time": "2022-11-23T17:25:21.461Z"
   },
   {
    "duration": 31,
    "start_time": "2022-11-23T17:25:21.469Z"
   },
   {
    "duration": 6,
    "start_time": "2022-11-23T17:25:21.502Z"
   },
   {
    "duration": 24,
    "start_time": "2022-11-23T17:25:21.509Z"
   },
   {
    "duration": 12,
    "start_time": "2022-11-23T17:25:21.534Z"
   },
   {
    "duration": 11,
    "start_time": "2022-11-23T17:25:21.547Z"
   },
   {
    "duration": 239,
    "start_time": "2022-11-23T17:25:21.559Z"
   },
   {
    "duration": 4028,
    "start_time": "2022-11-23T17:25:21.801Z"
   },
   {
    "duration": 444,
    "start_time": "2022-11-23T17:25:25.831Z"
   },
   {
    "duration": 230,
    "start_time": "2022-11-23T17:25:26.277Z"
   },
   {
    "duration": 396,
    "start_time": "2022-11-23T17:25:26.509Z"
   },
   {
    "duration": 10,
    "start_time": "2022-11-23T17:25:26.907Z"
   },
   {
    "duration": 17,
    "start_time": "2022-11-23T17:25:26.919Z"
   },
   {
    "duration": 65,
    "start_time": "2022-11-23T17:25:26.937Z"
   },
   {
    "duration": 587,
    "start_time": "2022-11-23T17:25:27.004Z"
   },
   {
    "duration": 14,
    "start_time": "2022-11-23T17:25:27.592Z"
   },
   {
    "duration": 5,
    "start_time": "2022-11-23T17:25:27.609Z"
   },
   {
    "duration": 21,
    "start_time": "2022-11-23T17:25:27.616Z"
   },
   {
    "duration": 341,
    "start_time": "2022-11-23T17:25:27.700Z"
   },
   {
    "duration": 462,
    "start_time": "2022-11-23T17:25:28.043Z"
   },
   {
    "duration": 619,
    "start_time": "2022-11-23T17:25:28.507Z"
   },
   {
    "duration": 30,
    "start_time": "2022-11-23T17:25:29.127Z"
   },
   {
    "duration": 592,
    "start_time": "2022-11-23T17:25:29.159Z"
   },
   {
    "duration": 376,
    "start_time": "2022-11-23T17:25:29.753Z"
   },
   {
    "duration": 27,
    "start_time": "2022-11-23T17:25:30.131Z"
   },
   {
    "duration": 78,
    "start_time": "2022-11-23T17:25:30.160Z"
   },
   {
    "duration": 29,
    "start_time": "2022-11-23T17:25:30.241Z"
   },
   {
    "duration": 226,
    "start_time": "2022-11-23T17:25:30.273Z"
   },
   {
    "duration": 20,
    "start_time": "2022-11-23T17:25:30.501Z"
   },
   {
    "duration": 28,
    "start_time": "2022-11-23T17:37:04.397Z"
   },
   {
    "duration": 33,
    "start_time": "2022-11-23T17:37:39.145Z"
   },
   {
    "duration": 26,
    "start_time": "2022-11-23T17:37:41.220Z"
   },
   {
    "duration": 2030,
    "start_time": "2022-11-23T18:15:23.690Z"
   },
   {
    "duration": 1233,
    "start_time": "2022-11-23T18:15:25.723Z"
   },
   {
    "duration": 4,
    "start_time": "2022-11-23T18:15:26.958Z"
   },
   {
    "duration": 48,
    "start_time": "2022-11-23T18:15:26.965Z"
   },
   {
    "duration": 16,
    "start_time": "2022-11-23T18:15:27.015Z"
   },
   {
    "duration": 8,
    "start_time": "2022-11-23T18:15:27.032Z"
   },
   {
    "duration": 15,
    "start_time": "2022-11-23T18:15:27.042Z"
   },
   {
    "duration": 15,
    "start_time": "2022-11-23T18:15:27.059Z"
   },
   {
    "duration": 20,
    "start_time": "2022-11-23T18:15:27.097Z"
   },
   {
    "duration": 5,
    "start_time": "2022-11-23T18:15:27.120Z"
   },
   {
    "duration": 13,
    "start_time": "2022-11-23T18:15:27.127Z"
   },
   {
    "duration": 9,
    "start_time": "2022-11-23T18:15:27.141Z"
   },
   {
    "duration": 13,
    "start_time": "2022-11-23T18:15:27.152Z"
   },
   {
    "duration": 31,
    "start_time": "2022-11-23T18:15:27.167Z"
   },
   {
    "duration": 13,
    "start_time": "2022-11-23T18:15:27.200Z"
   },
   {
    "duration": 156,
    "start_time": "2022-11-23T18:15:27.215Z"
   },
   {
    "duration": 4,
    "start_time": "2022-11-23T18:15:27.373Z"
   },
   {
    "duration": 22,
    "start_time": "2022-11-23T18:15:27.379Z"
   },
   {
    "duration": 8,
    "start_time": "2022-11-23T18:15:27.403Z"
   },
   {
    "duration": 8,
    "start_time": "2022-11-23T18:15:27.413Z"
   },
   {
    "duration": 6,
    "start_time": "2022-11-23T18:15:27.423Z"
   },
   {
    "duration": 7,
    "start_time": "2022-11-23T18:15:27.431Z"
   },
   {
    "duration": 12,
    "start_time": "2022-11-23T18:15:27.440Z"
   },
   {
    "duration": 48,
    "start_time": "2022-11-23T18:15:27.453Z"
   },
   {
    "duration": 12,
    "start_time": "2022-11-23T18:15:27.503Z"
   },
   {
    "duration": 7,
    "start_time": "2022-11-23T18:15:27.517Z"
   },
   {
    "duration": 173,
    "start_time": "2022-11-23T18:15:27.526Z"
   },
   {
    "duration": 4248,
    "start_time": "2022-11-23T18:15:27.706Z"
   },
   {
    "duration": 396,
    "start_time": "2022-11-23T18:15:31.957Z"
   },
   {
    "duration": 241,
    "start_time": "2022-11-23T18:15:32.355Z"
   },
   {
    "duration": 421,
    "start_time": "2022-11-23T18:15:32.599Z"
   },
   {
    "duration": 11,
    "start_time": "2022-11-23T18:15:33.021Z"
   },
   {
    "duration": 27,
    "start_time": "2022-11-23T18:15:33.034Z"
   },
   {
    "duration": 39,
    "start_time": "2022-11-23T18:15:33.062Z"
   },
   {
    "duration": 648,
    "start_time": "2022-11-23T18:15:33.103Z"
   },
   {
    "duration": 11,
    "start_time": "2022-11-23T18:15:33.753Z"
   },
   {
    "duration": 15,
    "start_time": "2022-11-23T18:15:33.767Z"
   },
   {
    "duration": 114,
    "start_time": "2022-11-23T18:15:33.785Z"
   },
   {
    "duration": 336,
    "start_time": "2022-11-23T18:15:33.901Z"
   },
   {
    "duration": 470,
    "start_time": "2022-11-23T18:15:34.239Z"
   },
   {
    "duration": 645,
    "start_time": "2022-11-23T18:15:34.711Z"
   },
   {
    "duration": 40,
    "start_time": "2022-11-23T18:15:35.358Z"
   },
   {
    "duration": 630,
    "start_time": "2022-11-23T18:15:35.400Z"
   },
   {
    "duration": 441,
    "start_time": "2022-11-23T18:15:36.032Z"
   },
   {
    "duration": 34,
    "start_time": "2022-11-23T18:15:36.475Z"
   },
   {
    "duration": 52,
    "start_time": "2022-11-23T18:15:36.512Z"
   },
   {
    "duration": 61,
    "start_time": "2022-11-23T18:15:36.567Z"
   },
   {
    "duration": 126,
    "start_time": "2022-11-23T18:15:36.630Z"
   },
   {
    "duration": 18,
    "start_time": "2022-11-23T18:15:36.757Z"
   },
   {
    "duration": 49,
    "start_time": "2022-11-26T17:26:58.177Z"
   },
   {
    "duration": 9147,
    "start_time": "2022-11-26T17:27:02.738Z"
   },
   {
    "duration": 1399,
    "start_time": "2022-11-26T17:27:11.893Z"
   },
   {
    "duration": 3,
    "start_time": "2022-11-26T17:27:13.295Z"
   },
   {
    "duration": 202,
    "start_time": "2022-11-26T17:27:13.300Z"
   },
   {
    "duration": 13,
    "start_time": "2022-11-26T17:27:13.504Z"
   },
   {
    "duration": 8,
    "start_time": "2022-11-26T17:27:13.518Z"
   },
   {
    "duration": 7,
    "start_time": "2022-11-26T17:27:13.527Z"
   },
   {
    "duration": 15,
    "start_time": "2022-11-26T17:27:13.535Z"
   },
   {
    "duration": 13,
    "start_time": "2022-11-26T17:27:13.551Z"
   },
   {
    "duration": 17,
    "start_time": "2022-11-26T17:27:13.566Z"
   },
   {
    "duration": 16,
    "start_time": "2022-11-26T17:27:13.586Z"
   },
   {
    "duration": 7,
    "start_time": "2022-11-26T17:27:13.604Z"
   },
   {
    "duration": 11,
    "start_time": "2022-11-26T17:27:13.612Z"
   },
   {
    "duration": 11,
    "start_time": "2022-11-26T17:27:13.624Z"
   },
   {
    "duration": 11,
    "start_time": "2022-11-26T17:27:13.636Z"
   },
   {
    "duration": 159,
    "start_time": "2022-11-26T17:27:13.649Z"
   },
   {
    "duration": 3,
    "start_time": "2022-11-26T17:27:13.810Z"
   },
   {
    "duration": 11,
    "start_time": "2022-11-26T17:27:13.815Z"
   },
   {
    "duration": 7,
    "start_time": "2022-11-26T17:27:13.827Z"
   },
   {
    "duration": 7,
    "start_time": "2022-11-26T17:27:13.835Z"
   },
   {
    "duration": 6,
    "start_time": "2022-11-26T17:27:13.843Z"
   },
   {
    "duration": 29,
    "start_time": "2022-11-26T17:27:13.851Z"
   },
   {
    "duration": 15,
    "start_time": "2022-11-26T17:27:13.883Z"
   },
   {
    "duration": 22,
    "start_time": "2022-11-26T17:27:13.899Z"
   },
   {
    "duration": 10,
    "start_time": "2022-11-26T17:27:13.922Z"
   },
   {
    "duration": 9,
    "start_time": "2022-11-26T17:27:13.933Z"
   },
   {
    "duration": 236,
    "start_time": "2022-11-26T17:27:13.944Z"
   },
   {
    "duration": 4132,
    "start_time": "2022-11-26T17:27:14.186Z"
   },
   {
    "duration": 403,
    "start_time": "2022-11-26T17:27:18.320Z"
   },
   {
    "duration": 159,
    "start_time": "2022-11-26T17:27:18.725Z"
   },
   {
    "duration": 451,
    "start_time": "2022-11-26T17:27:18.886Z"
   },
   {
    "duration": 9,
    "start_time": "2022-11-26T17:27:19.339Z"
   },
   {
    "duration": 4,
    "start_time": "2022-11-26T17:27:19.350Z"
   },
   {
    "duration": 124,
    "start_time": "2022-11-26T17:27:19.355Z"
   },
   {
    "duration": 658,
    "start_time": "2022-11-26T17:27:19.483Z"
   },
   {
    "duration": 10,
    "start_time": "2022-11-26T17:27:20.143Z"
   },
   {
    "duration": 5,
    "start_time": "2022-11-26T17:27:20.155Z"
   },
   {
    "duration": 29,
    "start_time": "2022-11-26T17:27:20.161Z"
   },
   {
    "duration": 452,
    "start_time": "2022-11-26T17:27:20.193Z"
   },
   {
    "duration": 541,
    "start_time": "2022-11-26T17:27:20.647Z"
   },
   {
    "duration": 634,
    "start_time": "2022-11-26T17:27:21.190Z"
   },
   {
    "duration": 28,
    "start_time": "2022-11-26T17:27:21.826Z"
   },
   {
    "duration": 619,
    "start_time": "2022-11-26T17:27:21.855Z"
   },
   {
    "duration": 381,
    "start_time": "2022-11-26T17:27:22.477Z"
   },
   {
    "duration": 34,
    "start_time": "2022-11-26T17:27:22.860Z"
   },
   {
    "duration": 39,
    "start_time": "2022-11-26T17:27:22.896Z"
   },
   {
    "duration": 45,
    "start_time": "2022-11-26T17:27:22.937Z"
   },
   {
    "duration": 148,
    "start_time": "2022-11-26T17:27:22.984Z"
   },
   {
    "duration": 16,
    "start_time": "2022-11-26T17:27:23.133Z"
   },
   {
    "duration": 7,
    "start_time": "2022-11-26T17:28:06.400Z"
   },
   {
    "duration": 5,
    "start_time": "2022-11-26T17:29:49.384Z"
   },
   {
    "duration": 149,
    "start_time": "2022-11-26T17:29:53.482Z"
   },
   {
    "duration": 220,
    "start_time": "2022-11-26T17:31:06.514Z"
   },
   {
    "duration": 2307,
    "start_time": "2022-11-26T17:31:19.095Z"
   },
   {
    "duration": 4,
    "start_time": "2022-11-26T17:31:21.405Z"
   },
   {
    "duration": 9,
    "start_time": "2022-11-26T17:31:21.411Z"
   },
   {
    "duration": 45,
    "start_time": "2022-11-26T17:31:21.421Z"
   },
   {
    "duration": 18,
    "start_time": "2022-11-26T17:31:21.468Z"
   },
   {
    "duration": 17,
    "start_time": "2022-11-26T17:31:21.488Z"
   },
   {
    "duration": 7,
    "start_time": "2022-11-26T17:31:21.507Z"
   },
   {
    "duration": 12,
    "start_time": "2022-11-26T17:31:21.515Z"
   },
   {
    "duration": 7,
    "start_time": "2022-11-26T17:31:21.529Z"
   },
   {
    "duration": 171,
    "start_time": "2022-11-26T17:31:21.538Z"
   },
   {
    "duration": 133,
    "start_time": "2022-11-26T17:31:21.711Z"
   },
   {
    "duration": 12,
    "start_time": "2022-11-26T17:31:21.846Z"
   },
   {
    "duration": 22,
    "start_time": "2022-11-26T17:31:21.860Z"
   },
   {
    "duration": 9,
    "start_time": "2022-11-26T17:31:21.889Z"
   },
   {
    "duration": 8,
    "start_time": "2022-11-26T17:31:21.900Z"
   },
   {
    "duration": 15,
    "start_time": "2022-11-26T17:31:21.909Z"
   },
   {
    "duration": 10,
    "start_time": "2022-11-26T17:31:21.926Z"
   },
   {
    "duration": 18,
    "start_time": "2022-11-26T17:31:21.937Z"
   },
   {
    "duration": 164,
    "start_time": "2022-11-26T17:31:21.957Z"
   },
   {
    "duration": 5,
    "start_time": "2022-11-26T17:31:22.122Z"
   },
   {
    "duration": 12,
    "start_time": "2022-11-26T17:31:22.129Z"
   },
   {
    "duration": 6,
    "start_time": "2022-11-26T17:31:22.142Z"
   },
   {
    "duration": 9,
    "start_time": "2022-11-26T17:31:22.150Z"
   },
   {
    "duration": 18,
    "start_time": "2022-11-26T17:31:22.161Z"
   },
   {
    "duration": 20,
    "start_time": "2022-11-26T17:31:22.181Z"
   },
   {
    "duration": 6,
    "start_time": "2022-11-26T17:31:22.202Z"
   },
   {
    "duration": 23,
    "start_time": "2022-11-26T17:31:22.209Z"
   },
   {
    "duration": 12,
    "start_time": "2022-11-26T17:31:22.233Z"
   },
   {
    "duration": 6,
    "start_time": "2022-11-26T17:31:22.246Z"
   },
   {
    "duration": 230,
    "start_time": "2022-11-26T17:31:22.253Z"
   },
   {
    "duration": 4515,
    "start_time": "2022-11-26T17:31:22.491Z"
   },
   {
    "duration": 438,
    "start_time": "2022-11-26T17:31:27.008Z"
   },
   {
    "duration": 152,
    "start_time": "2022-11-26T17:31:27.448Z"
   },
   {
    "duration": 493,
    "start_time": "2022-11-26T17:31:27.602Z"
   },
   {
    "duration": 10,
    "start_time": "2022-11-26T17:31:28.097Z"
   },
   {
    "duration": 5,
    "start_time": "2022-11-26T17:31:28.108Z"
   },
   {
    "duration": 70,
    "start_time": "2022-11-26T17:31:28.114Z"
   },
   {
    "duration": 614,
    "start_time": "2022-11-26T17:31:28.186Z"
   },
   {
    "duration": 11,
    "start_time": "2022-11-26T17:31:28.801Z"
   },
   {
    "duration": 5,
    "start_time": "2022-11-26T17:31:28.813Z"
   },
   {
    "duration": 77,
    "start_time": "2022-11-26T17:31:28.822Z"
   },
   {
    "duration": 352,
    "start_time": "2022-11-26T17:31:28.903Z"
   },
   {
    "duration": 563,
    "start_time": "2022-11-26T17:31:29.257Z"
   },
   {
    "duration": 684,
    "start_time": "2022-11-26T17:31:29.821Z"
   },
   {
    "duration": 30,
    "start_time": "2022-11-26T17:31:30.506Z"
   },
   {
    "duration": 687,
    "start_time": "2022-11-26T17:31:30.537Z"
   },
   {
    "duration": 388,
    "start_time": "2022-11-26T17:31:31.225Z"
   },
   {
    "duration": 26,
    "start_time": "2022-11-26T17:31:31.615Z"
   },
   {
    "duration": 61,
    "start_time": "2022-11-26T17:31:31.642Z"
   },
   {
    "duration": 28,
    "start_time": "2022-11-26T17:31:31.705Z"
   },
   {
    "duration": 145,
    "start_time": "2022-11-26T17:31:31.735Z"
   },
   {
    "duration": 17,
    "start_time": "2022-11-26T17:31:31.882Z"
   },
   {
    "duration": 134,
    "start_time": "2022-11-26T17:43:06.159Z"
   },
   {
    "duration": 2045,
    "start_time": "2022-11-26T17:43:10.096Z"
   },
   {
    "duration": 4,
    "start_time": "2022-11-26T17:43:12.144Z"
   },
   {
    "duration": 8,
    "start_time": "2022-11-26T17:43:12.150Z"
   },
   {
    "duration": 53,
    "start_time": "2022-11-26T17:43:12.160Z"
   },
   {
    "duration": 17,
    "start_time": "2022-11-26T17:43:12.215Z"
   },
   {
    "duration": 7,
    "start_time": "2022-11-26T17:43:12.234Z"
   },
   {
    "duration": 18,
    "start_time": "2022-11-26T17:43:12.243Z"
   },
   {
    "duration": 30,
    "start_time": "2022-11-26T17:43:12.263Z"
   },
   {
    "duration": 32,
    "start_time": "2022-11-26T17:43:12.296Z"
   },
   {
    "duration": 8,
    "start_time": "2022-11-26T17:43:12.331Z"
   },
   {
    "duration": 27,
    "start_time": "2022-11-26T17:43:12.340Z"
   },
   {
    "duration": 19,
    "start_time": "2022-11-26T17:43:12.368Z"
   },
   {
    "duration": 22,
    "start_time": "2022-11-26T17:43:12.388Z"
   },
   {
    "duration": 17,
    "start_time": "2022-11-26T17:43:12.412Z"
   },
   {
    "duration": 12,
    "start_time": "2022-11-26T17:43:12.430Z"
   },
   {
    "duration": 126,
    "start_time": "2022-11-26T17:43:12.443Z"
   },
   {
    "duration": 9,
    "start_time": "2022-11-26T17:43:12.570Z"
   },
   {
    "duration": 35,
    "start_time": "2022-11-26T17:43:12.581Z"
   },
   {
    "duration": 25,
    "start_time": "2022-11-26T17:43:12.618Z"
   },
   {
    "duration": 26,
    "start_time": "2022-11-26T17:43:12.644Z"
   },
   {
    "duration": 41,
    "start_time": "2022-11-26T17:43:12.672Z"
   },
   {
    "duration": 17,
    "start_time": "2022-11-26T17:43:12.715Z"
   },
   {
    "duration": 19,
    "start_time": "2022-11-26T17:43:12.733Z"
   },
   {
    "duration": 26,
    "start_time": "2022-11-26T17:43:12.753Z"
   },
   {
    "duration": 17,
    "start_time": "2022-11-26T17:43:12.780Z"
   },
   {
    "duration": 10,
    "start_time": "2022-11-26T17:43:12.799Z"
   },
   {
    "duration": 175,
    "start_time": "2022-11-26T17:43:12.810Z"
   },
   {
    "duration": 4152,
    "start_time": "2022-11-26T17:43:12.990Z"
   },
   {
    "duration": 392,
    "start_time": "2022-11-26T17:43:17.143Z"
   },
   {
    "duration": 170,
    "start_time": "2022-11-26T17:43:17.536Z"
   },
   {
    "duration": 452,
    "start_time": "2022-11-26T17:43:17.708Z"
   },
   {
    "duration": 20,
    "start_time": "2022-11-26T17:43:18.162Z"
   },
   {
    "duration": 4,
    "start_time": "2022-11-26T17:43:18.184Z"
   },
   {
    "duration": 95,
    "start_time": "2022-11-26T17:43:18.189Z"
   },
   {
    "duration": 633,
    "start_time": "2022-11-26T17:43:18.286Z"
   },
   {
    "duration": 11,
    "start_time": "2022-11-26T17:43:18.921Z"
   },
   {
    "duration": 5,
    "start_time": "2022-11-26T17:43:18.933Z"
   },
   {
    "duration": 50,
    "start_time": "2022-11-26T17:43:18.939Z"
   },
   {
    "duration": 291,
    "start_time": "2022-11-26T17:43:19.077Z"
   },
   {
    "duration": 586,
    "start_time": "2022-11-26T17:43:19.378Z"
   },
   {
    "duration": 661,
    "start_time": "2022-11-26T17:43:19.966Z"
   },
   {
    "duration": 29,
    "start_time": "2022-11-26T17:43:20.629Z"
   },
   {
    "duration": 671,
    "start_time": "2022-11-26T17:43:20.661Z"
   },
   {
    "duration": 403,
    "start_time": "2022-11-26T17:43:21.333Z"
   },
   {
    "duration": 28,
    "start_time": "2022-11-26T17:43:21.739Z"
   },
   {
    "duration": 44,
    "start_time": "2022-11-26T17:43:21.768Z"
   },
   {
    "duration": 25,
    "start_time": "2022-11-26T17:43:21.814Z"
   },
   {
    "duration": 141,
    "start_time": "2022-11-26T17:43:21.841Z"
   },
   {
    "duration": 16,
    "start_time": "2022-11-26T17:43:21.983Z"
   },
   {
    "duration": 41,
    "start_time": "2022-11-26T17:44:15.534Z"
   },
   {
    "duration": 11,
    "start_time": "2022-11-26T17:44:17.107Z"
   },
   {
    "duration": 8,
    "start_time": "2022-11-26T18:03:36.018Z"
   },
   {
    "duration": 226,
    "start_time": "2022-11-26T18:07:39.703Z"
   },
   {
    "duration": 140,
    "start_time": "2022-11-26T18:07:57.070Z"
   },
   {
    "duration": 148,
    "start_time": "2022-11-26T18:08:03.018Z"
   },
   {
    "duration": 149,
    "start_time": "2022-11-26T18:08:16.655Z"
   },
   {
    "duration": 179,
    "start_time": "2022-11-26T18:08:32.069Z"
   },
   {
    "duration": 177,
    "start_time": "2022-11-26T18:08:38.472Z"
   },
   {
    "duration": 169,
    "start_time": "2022-11-26T18:08:53.257Z"
   },
   {
    "duration": 183,
    "start_time": "2022-11-26T18:08:59.103Z"
   },
   {
    "duration": 175,
    "start_time": "2022-11-26T18:09:11.808Z"
   },
   {
    "duration": 303,
    "start_time": "2022-11-26T18:09:15.291Z"
   },
   {
    "duration": 219,
    "start_time": "2022-11-26T18:09:23.593Z"
   },
   {
    "duration": 11,
    "start_time": "2022-11-26T18:13:09.176Z"
   },
   {
    "duration": 12,
    "start_time": "2022-11-26T18:13:10.002Z"
   },
   {
    "duration": 5,
    "start_time": "2022-11-26T18:15:25.491Z"
   },
   {
    "duration": 8,
    "start_time": "2022-11-26T18:43:44.242Z"
   },
   {
    "duration": 8,
    "start_time": "2022-11-26T18:44:36.470Z"
   },
   {
    "duration": 7,
    "start_time": "2022-11-26T18:45:18.829Z"
   },
   {
    "duration": 201,
    "start_time": "2022-11-26T18:46:16.371Z"
   },
   {
    "duration": 6,
    "start_time": "2022-11-26T18:48:57.112Z"
   },
   {
    "duration": 8,
    "start_time": "2022-11-26T18:50:40.019Z"
   },
   {
    "duration": 12,
    "start_time": "2022-11-26T18:50:51.023Z"
   },
   {
    "duration": 9,
    "start_time": "2022-11-26T18:51:06.103Z"
   },
   {
    "duration": 73,
    "start_time": "2022-11-26T18:53:26.212Z"
   },
   {
    "duration": 9,
    "start_time": "2022-11-26T18:55:29.837Z"
   },
   {
    "duration": 9,
    "start_time": "2022-11-26T18:56:19.712Z"
   },
   {
    "duration": 12,
    "start_time": "2022-11-26T18:56:29.307Z"
   },
   {
    "duration": 7,
    "start_time": "2022-11-26T18:56:53.040Z"
   },
   {
    "duration": 4,
    "start_time": "2022-11-26T18:57:41.489Z"
   },
   {
    "duration": 10,
    "start_time": "2022-11-26T18:57:54.802Z"
   },
   {
    "duration": 5,
    "start_time": "2022-11-26T18:58:21.631Z"
   },
   {
    "duration": 53,
    "start_time": "2022-11-26T18:58:47.792Z"
   },
   {
    "duration": 4,
    "start_time": "2022-11-26T18:58:55.373Z"
   },
   {
    "duration": 18,
    "start_time": "2022-11-26T18:59:00.106Z"
   },
   {
    "duration": 11,
    "start_time": "2022-11-26T18:59:20.674Z"
   },
   {
    "duration": 4,
    "start_time": "2022-11-26T18:59:31.985Z"
   },
   {
    "duration": 10,
    "start_time": "2022-11-26T18:59:33.183Z"
   },
   {
    "duration": 3,
    "start_time": "2022-11-26T19:05:43.315Z"
   },
   {
    "duration": 15,
    "start_time": "2022-11-26T19:05:44.583Z"
   },
   {
    "duration": 10,
    "start_time": "2022-11-26T19:05:51.571Z"
   },
   {
    "duration": 9,
    "start_time": "2022-11-26T19:05:53.029Z"
   },
   {
    "duration": 5,
    "start_time": "2022-11-26T19:05:56.171Z"
   },
   {
    "duration": 10,
    "start_time": "2022-11-26T19:05:57.056Z"
   },
   {
    "duration": 46,
    "start_time": "2022-11-26T19:06:12.202Z"
   },
   {
    "duration": 18,
    "start_time": "2022-11-26T19:06:12.866Z"
   },
   {
    "duration": 8,
    "start_time": "2022-11-26T19:06:14.111Z"
   },
   {
    "duration": 4,
    "start_time": "2022-11-26T19:06:16.153Z"
   },
   {
    "duration": 10,
    "start_time": "2022-11-26T19:06:16.916Z"
   },
   {
    "duration": 4,
    "start_time": "2022-11-26T19:06:25.470Z"
   },
   {
    "duration": 11,
    "start_time": "2022-11-26T19:06:26.284Z"
   },
   {
    "duration": 8,
    "start_time": "2022-11-26T19:07:23.426Z"
   },
   {
    "duration": 7,
    "start_time": "2022-11-26T19:07:46.214Z"
   },
   {
    "duration": 73,
    "start_time": "2022-11-26T19:13:57.979Z"
   },
   {
    "duration": 9,
    "start_time": "2022-11-26T19:14:02.656Z"
   },
   {
    "duration": 4,
    "start_time": "2022-11-26T19:14:08.180Z"
   },
   {
    "duration": 11,
    "start_time": "2022-11-26T19:14:10.319Z"
   },
   {
    "duration": 12,
    "start_time": "2022-11-26T19:14:21.409Z"
   },
   {
    "duration": 5,
    "start_time": "2022-11-26T19:14:26.722Z"
   },
   {
    "duration": 7,
    "start_time": "2022-11-26T19:14:27.666Z"
   },
   {
    "duration": 6,
    "start_time": "2022-11-26T19:14:28.320Z"
   },
   {
    "duration": 10,
    "start_time": "2022-11-26T19:14:29.707Z"
   },
   {
    "duration": 14,
    "start_time": "2022-11-26T19:14:33.003Z"
   },
   {
    "duration": 11,
    "start_time": "2022-11-26T19:16:26.662Z"
   },
   {
    "duration": 2894,
    "start_time": "2022-11-26T19:17:12.907Z"
   },
   {
    "duration": 15,
    "start_time": "2022-11-26T19:17:22.848Z"
   },
   {
    "duration": 470,
    "start_time": "2022-11-26T19:18:49.934Z"
   },
   {
    "duration": 427,
    "start_time": "2022-11-26T19:19:22.388Z"
   },
   {
    "duration": 19,
    "start_time": "2022-11-26T19:19:53.725Z"
   },
   {
    "duration": 444,
    "start_time": "2022-11-26T19:20:07.414Z"
   },
   {
    "duration": 487,
    "start_time": "2022-11-26T19:20:53.894Z"
   },
   {
    "duration": 7,
    "start_time": "2022-11-26T19:28:35.611Z"
   },
   {
    "duration": 196,
    "start_time": "2022-11-26T19:28:36.585Z"
   },
   {
    "duration": 421,
    "start_time": "2022-11-26T19:30:30.692Z"
   },
   {
    "duration": 213,
    "start_time": "2022-11-26T19:30:43.782Z"
   },
   {
    "duration": 391,
    "start_time": "2022-11-26T19:30:57.231Z"
   },
   {
    "duration": 5,
    "start_time": "2022-11-26T19:36:21.262Z"
   },
   {
    "duration": 156,
    "start_time": "2022-11-26T19:36:40.935Z"
   },
   {
    "duration": 2160,
    "start_time": "2022-11-26T19:40:38.709Z"
   },
   {
    "duration": 2167,
    "start_time": "2022-11-26T19:40:40.872Z"
   },
   {
    "duration": 5,
    "start_time": "2022-11-26T19:40:43.041Z"
   },
   {
    "duration": 6,
    "start_time": "2022-11-26T19:40:43.049Z"
   },
   {
    "duration": 48,
    "start_time": "2022-11-26T19:40:43.057Z"
   },
   {
    "duration": 13,
    "start_time": "2022-11-26T19:40:43.107Z"
   },
   {
    "duration": 13,
    "start_time": "2022-11-26T19:40:43.122Z"
   },
   {
    "duration": 15,
    "start_time": "2022-11-26T19:40:43.137Z"
   },
   {
    "duration": 19,
    "start_time": "2022-11-26T19:40:43.153Z"
   },
   {
    "duration": 14,
    "start_time": "2022-11-26T19:40:43.175Z"
   },
   {
    "duration": 5,
    "start_time": "2022-11-26T19:40:43.190Z"
   },
   {
    "duration": 10,
    "start_time": "2022-11-26T19:40:43.197Z"
   },
   {
    "duration": 8,
    "start_time": "2022-11-26T19:40:43.209Z"
   },
   {
    "duration": 13,
    "start_time": "2022-11-26T19:40:43.218Z"
   },
   {
    "duration": 10,
    "start_time": "2022-11-26T19:40:43.232Z"
   },
   {
    "duration": 474,
    "start_time": "2022-11-26T19:40:43.244Z"
   },
   {
    "duration": 126,
    "start_time": "2022-11-26T19:40:43.720Z"
   },
   {
    "duration": 5,
    "start_time": "2022-11-26T19:40:43.847Z"
   },
   {
    "duration": 24,
    "start_time": "2022-11-26T19:40:43.853Z"
   },
   {
    "duration": 8,
    "start_time": "2022-11-26T19:40:43.879Z"
   },
   {
    "duration": 5,
    "start_time": "2022-11-26T19:40:43.888Z"
   },
   {
    "duration": 7,
    "start_time": "2022-11-26T19:40:43.895Z"
   },
   {
    "duration": 7,
    "start_time": "2022-11-26T19:40:43.903Z"
   },
   {
    "duration": 2092,
    "start_time": "2022-11-26T20:05:27.055Z"
   },
   {
    "duration": 2217,
    "start_time": "2022-11-26T20:05:29.150Z"
   },
   {
    "duration": 5,
    "start_time": "2022-11-26T20:05:31.369Z"
   },
   {
    "duration": 19,
    "start_time": "2022-11-26T20:05:31.377Z"
   },
   {
    "duration": 47,
    "start_time": "2022-11-26T20:05:31.397Z"
   },
   {
    "duration": 14,
    "start_time": "2022-11-26T20:05:31.446Z"
   },
   {
    "duration": 5,
    "start_time": "2022-11-26T20:05:31.462Z"
   },
   {
    "duration": 5,
    "start_time": "2022-11-26T20:05:31.468Z"
   },
   {
    "duration": 30,
    "start_time": "2022-11-26T20:05:31.474Z"
   },
   {
    "duration": 15,
    "start_time": "2022-11-26T20:05:31.506Z"
   },
   {
    "duration": 10,
    "start_time": "2022-11-26T20:05:31.522Z"
   },
   {
    "duration": 16,
    "start_time": "2022-11-26T20:05:31.533Z"
   },
   {
    "duration": 13,
    "start_time": "2022-11-26T20:05:31.550Z"
   },
   {
    "duration": 23,
    "start_time": "2022-11-26T20:05:31.565Z"
   },
   {
    "duration": 12,
    "start_time": "2022-11-26T20:05:31.591Z"
   },
   {
    "duration": 437,
    "start_time": "2022-11-26T20:05:31.604Z"
   },
   {
    "duration": 113,
    "start_time": "2022-11-26T20:05:32.042Z"
   },
   {
    "duration": 4,
    "start_time": "2022-11-26T20:05:32.157Z"
   },
   {
    "duration": 28,
    "start_time": "2022-11-26T20:05:32.162Z"
   },
   {
    "duration": 7,
    "start_time": "2022-11-26T20:05:32.193Z"
   },
   {
    "duration": 5,
    "start_time": "2022-11-26T20:05:32.201Z"
   },
   {
    "duration": 10,
    "start_time": "2022-11-26T20:05:32.207Z"
   },
   {
    "duration": 10,
    "start_time": "2022-11-26T20:05:32.218Z"
   },
   {
    "duration": 4,
    "start_time": "2022-11-26T20:05:32.229Z"
   },
   {
    "duration": 21,
    "start_time": "2022-11-26T20:05:32.234Z"
   },
   {
    "duration": 31,
    "start_time": "2022-11-26T20:05:32.257Z"
   },
   {
    "duration": 10,
    "start_time": "2022-11-26T20:05:32.289Z"
   },
   {
    "duration": 4,
    "start_time": "2022-11-26T20:05:32.302Z"
   },
   {
    "duration": 6153,
    "start_time": "2022-11-26T21:00:50.934Z"
   },
   {
    "duration": 6850,
    "start_time": "2022-11-26T21:01:20.029Z"
   },
   {
    "duration": 6852,
    "start_time": "2022-11-26T21:01:33.134Z"
   },
   {
    "duration": 6154,
    "start_time": "2022-11-26T21:01:47.225Z"
   },
   {
    "duration": 247,
    "start_time": "2022-11-26T21:02:29.342Z"
   },
   {
    "duration": 2199,
    "start_time": "2022-11-26T21:02:43.255Z"
   },
   {
    "duration": 2106,
    "start_time": "2022-11-26T21:02:45.457Z"
   },
   {
    "duration": 5,
    "start_time": "2022-11-26T21:02:47.565Z"
   },
   {
    "duration": 39,
    "start_time": "2022-11-26T21:02:47.574Z"
   },
   {
    "duration": 49,
    "start_time": "2022-11-26T21:02:47.615Z"
   },
   {
    "duration": 16,
    "start_time": "2022-11-26T21:02:47.666Z"
   },
   {
    "duration": 7,
    "start_time": "2022-11-26T21:02:47.683Z"
   },
   {
    "duration": 6,
    "start_time": "2022-11-26T21:02:47.692Z"
   },
   {
    "duration": 18,
    "start_time": "2022-11-26T21:02:47.700Z"
   },
   {
    "duration": 17,
    "start_time": "2022-11-26T21:02:47.721Z"
   },
   {
    "duration": 9,
    "start_time": "2022-11-26T21:02:47.741Z"
   },
   {
    "duration": 24,
    "start_time": "2022-11-26T21:02:47.778Z"
   },
   {
    "duration": 9,
    "start_time": "2022-11-26T21:02:47.804Z"
   },
   {
    "duration": 16,
    "start_time": "2022-11-26T21:02:47.814Z"
   },
   {
    "duration": 11,
    "start_time": "2022-11-26T21:02:47.832Z"
   },
   {
    "duration": 424,
    "start_time": "2022-11-26T21:02:47.845Z"
   },
   {
    "duration": 122,
    "start_time": "2022-11-26T21:02:48.271Z"
   },
   {
    "duration": 4,
    "start_time": "2022-11-26T21:02:48.394Z"
   },
   {
    "duration": 15,
    "start_time": "2022-11-26T21:02:48.400Z"
   },
   {
    "duration": 9,
    "start_time": "2022-11-26T21:02:48.416Z"
   },
   {
    "duration": 7,
    "start_time": "2022-11-26T21:02:48.427Z"
   },
   {
    "duration": 13,
    "start_time": "2022-11-26T21:02:48.435Z"
   },
   {
    "duration": 31,
    "start_time": "2022-11-26T21:02:48.450Z"
   },
   {
    "duration": 3,
    "start_time": "2022-11-26T21:02:48.482Z"
   },
   {
    "duration": 27,
    "start_time": "2022-11-26T21:02:48.486Z"
   },
   {
    "duration": 11,
    "start_time": "2022-11-26T21:02:48.515Z"
   },
   {
    "duration": 9,
    "start_time": "2022-11-26T21:02:48.528Z"
   },
   {
    "duration": 5,
    "start_time": "2022-11-26T21:02:48.540Z"
   },
   {
    "duration": 5041,
    "start_time": "2022-11-26T21:02:48.547Z"
   },
   {
    "duration": 5046,
    "start_time": "2022-11-26T21:02:55.536Z"
   },
   {
    "duration": 199,
    "start_time": "2022-11-26T21:03:06.389Z"
   },
   {
    "duration": 2084,
    "start_time": "2022-11-26T21:04:27.510Z"
   },
   {
    "duration": 2110,
    "start_time": "2022-11-26T21:04:29.597Z"
   },
   {
    "duration": 4,
    "start_time": "2022-11-26T21:04:31.710Z"
   },
   {
    "duration": 8,
    "start_time": "2022-11-26T21:04:31.717Z"
   },
   {
    "duration": 56,
    "start_time": "2022-11-26T21:04:31.727Z"
   },
   {
    "duration": 14,
    "start_time": "2022-11-26T21:04:31.784Z"
   },
   {
    "duration": 6,
    "start_time": "2022-11-26T21:04:31.800Z"
   },
   {
    "duration": 5,
    "start_time": "2022-11-26T21:04:31.808Z"
   },
   {
    "duration": 13,
    "start_time": "2022-11-26T21:04:31.814Z"
   },
   {
    "duration": 12,
    "start_time": "2022-11-26T21:04:31.830Z"
   },
   {
    "duration": 38,
    "start_time": "2022-11-26T21:04:31.843Z"
   },
   {
    "duration": 9,
    "start_time": "2022-11-26T21:04:31.882Z"
   },
   {
    "duration": 8,
    "start_time": "2022-11-26T21:04:31.892Z"
   },
   {
    "duration": 12,
    "start_time": "2022-11-26T21:04:31.901Z"
   },
   {
    "duration": 9,
    "start_time": "2022-11-26T21:04:31.914Z"
   },
   {
    "duration": 454,
    "start_time": "2022-11-26T21:04:31.925Z"
   },
   {
    "duration": 115,
    "start_time": "2022-11-26T21:04:32.381Z"
   },
   {
    "duration": 4,
    "start_time": "2022-11-26T21:04:32.498Z"
   },
   {
    "duration": 12,
    "start_time": "2022-11-26T21:04:32.503Z"
   },
   {
    "duration": 6,
    "start_time": "2022-11-26T21:04:32.517Z"
   },
   {
    "duration": 6,
    "start_time": "2022-11-26T21:04:32.525Z"
   },
   {
    "duration": 11,
    "start_time": "2022-11-26T21:04:32.532Z"
   },
   {
    "duration": 35,
    "start_time": "2022-11-26T21:04:32.544Z"
   },
   {
    "duration": 3,
    "start_time": "2022-11-26T21:04:32.581Z"
   },
   {
    "duration": 27,
    "start_time": "2022-11-26T21:04:32.586Z"
   },
   {
    "duration": 11,
    "start_time": "2022-11-26T21:04:32.614Z"
   },
   {
    "duration": 9,
    "start_time": "2022-11-26T21:04:32.626Z"
   },
   {
    "duration": 5,
    "start_time": "2022-11-26T21:04:32.639Z"
   },
   {
    "duration": 5232,
    "start_time": "2022-11-26T21:04:32.646Z"
   },
   {
    "duration": 207,
    "start_time": "2022-11-26T21:04:37.881Z"
   },
   {
    "duration": 0,
    "start_time": "2022-11-26T21:04:38.090Z"
   },
   {
    "duration": 0,
    "start_time": "2022-11-26T21:04:38.092Z"
   },
   {
    "duration": 205,
    "start_time": "2022-11-26T21:07:01.496Z"
   },
   {
    "duration": 6,
    "start_time": "2022-11-26T21:07:50.096Z"
   },
   {
    "duration": 5163,
    "start_time": "2022-11-26T21:07:51.824Z"
   },
   {
    "duration": 94,
    "start_time": "2022-11-26T21:08:15.798Z"
   },
   {
    "duration": 53,
    "start_time": "2022-11-26T21:08:35.740Z"
   },
   {
    "duration": 7,
    "start_time": "2022-11-26T21:08:46.302Z"
   },
   {
    "duration": 7,
    "start_time": "2022-11-26T21:08:47.197Z"
   },
   {
    "duration": 5165,
    "start_time": "2022-11-26T21:08:50.930Z"
   },
   {
    "duration": 201,
    "start_time": "2022-11-26T21:08:56.180Z"
   },
   {
    "duration": 7,
    "start_time": "2022-11-26T21:09:50.637Z"
   },
   {
    "duration": 7735,
    "start_time": "2022-11-26T21:09:51.450Z"
   },
   {
    "duration": 199,
    "start_time": "2022-11-26T21:09:59.191Z"
   },
   {
    "duration": 163,
    "start_time": "2022-11-26T21:10:39.835Z"
   },
   {
    "duration": 170,
    "start_time": "2022-11-26T21:10:51.122Z"
   },
   {
    "duration": 7355,
    "start_time": "2022-11-26T21:11:56.224Z"
   },
   {
    "duration": 8712,
    "start_time": "2022-11-26T21:12:15.868Z"
   },
   {
    "duration": 5490,
    "start_time": "2022-11-26T21:12:36.590Z"
   },
   {
    "duration": 4791,
    "start_time": "2022-11-26T21:25:50.101Z"
   },
   {
    "duration": 20610,
    "start_time": "2022-11-26T21:26:35.680Z"
   },
   {
    "duration": 28582,
    "start_time": "2022-11-26T21:27:06.897Z"
   },
   {
    "duration": 73,
    "start_time": "2022-11-26T21:28:10.700Z"
   },
   {
    "duration": 26444,
    "start_time": "2022-11-26T21:28:16.041Z"
   },
   {
    "duration": 163,
    "start_time": "2022-11-26T21:28:49.120Z"
   },
   {
    "duration": 138,
    "start_time": "2022-11-26T21:28:56.652Z"
   },
   {
    "duration": 18312,
    "start_time": "2022-11-26T21:29:19.372Z"
   },
   {
    "duration": 11184,
    "start_time": "2022-11-26T21:38:14.272Z"
   },
   {
    "duration": 11136,
    "start_time": "2022-11-26T21:38:48.838Z"
   },
   {
    "duration": 4139,
    "start_time": "2022-11-26T21:39:46.373Z"
   },
   {
    "duration": 721701,
    "start_time": "2022-11-26T21:43:56.349Z"
   },
   {
    "duration": 304,
    "start_time": "2022-11-26T21:59:28.536Z"
   },
   {
    "duration": 2245987,
    "start_time": "2022-11-26T22:00:09.124Z"
   },
   {
    "duration": 6678,
    "start_time": "2022-11-27T11:47:00.361Z"
   },
   {
    "duration": 2545,
    "start_time": "2022-11-27T11:47:07.041Z"
   },
   {
    "duration": 1367,
    "start_time": "2022-11-27T11:47:09.588Z"
   },
   {
    "duration": 2,
    "start_time": "2022-11-27T11:47:10.957Z"
   },
   {
    "duration": 85,
    "start_time": "2022-11-27T11:47:10.961Z"
   },
   {
    "duration": 12,
    "start_time": "2022-11-27T11:47:11.048Z"
   },
   {
    "duration": 7,
    "start_time": "2022-11-27T11:47:11.062Z"
   },
   {
    "duration": 5,
    "start_time": "2022-11-27T11:47:11.070Z"
   },
   {
    "duration": 15,
    "start_time": "2022-11-27T11:47:11.076Z"
   },
   {
    "duration": 12,
    "start_time": "2022-11-27T11:47:11.093Z"
   },
   {
    "duration": 4,
    "start_time": "2022-11-27T11:47:11.106Z"
   },
   {
    "duration": 9,
    "start_time": "2022-11-27T11:47:11.111Z"
   },
   {
    "duration": 12,
    "start_time": "2022-11-27T11:47:11.121Z"
   },
   {
    "duration": 15,
    "start_time": "2022-11-27T11:47:11.134Z"
   },
   {
    "duration": 10,
    "start_time": "2022-11-27T11:47:11.150Z"
   },
   {
    "duration": 435,
    "start_time": "2022-11-27T11:47:11.162Z"
   },
   {
    "duration": 115,
    "start_time": "2022-11-27T11:47:11.598Z"
   },
   {
    "duration": 3,
    "start_time": "2022-11-27T11:47:11.715Z"
   },
   {
    "duration": 11,
    "start_time": "2022-11-27T11:47:11.720Z"
   },
   {
    "duration": 11,
    "start_time": "2022-11-27T11:47:11.732Z"
   },
   {
    "duration": 10,
    "start_time": "2022-11-27T11:47:11.745Z"
   },
   {
    "duration": 5,
    "start_time": "2022-11-27T11:47:11.757Z"
   },
   {
    "duration": 7,
    "start_time": "2022-11-27T11:47:11.764Z"
   },
   {
    "duration": 3,
    "start_time": "2022-11-27T11:47:11.772Z"
   },
   {
    "duration": 39,
    "start_time": "2022-11-27T11:47:11.776Z"
   },
   {
    "duration": 10,
    "start_time": "2022-11-27T11:47:11.817Z"
   },
   {
    "duration": 6,
    "start_time": "2022-11-27T11:47:11.828Z"
   },
   {
    "duration": 5,
    "start_time": "2022-11-27T11:47:11.837Z"
   },
   {
    "duration": 18165,
    "start_time": "2022-11-27T11:47:11.844Z"
   },
   {
    "duration": 201,
    "start_time": "2022-11-27T11:47:30.098Z"
   },
   {
    "duration": 2221468,
    "start_time": "2022-11-27T11:47:30.301Z"
   },
   {
    "duration": 319,
    "start_time": "2022-11-27T12:46:24.827Z"
   },
   {
    "duration": 317,
    "start_time": "2022-11-27T12:46:58.908Z"
   },
   {
    "duration": 305,
    "start_time": "2022-11-27T12:47:42.371Z"
   },
   {
    "duration": 294,
    "start_time": "2022-11-27T12:47:47.010Z"
   },
   {
    "duration": 340,
    "start_time": "2022-11-27T12:47:51.387Z"
   },
   {
    "duration": 321,
    "start_time": "2022-11-27T12:50:08.394Z"
   },
   {
    "duration": 333,
    "start_time": "2022-11-27T12:50:32.879Z"
   },
   {
    "duration": 52,
    "start_time": "2022-11-27T12:51:49.971Z"
   },
   {
    "duration": 262,
    "start_time": "2022-11-27T12:54:42.654Z"
   },
   {
    "duration": 45,
    "start_time": "2022-11-27T12:55:10.239Z"
   },
   {
    "duration": 183,
    "start_time": "2022-11-27T12:55:17.515Z"
   },
   {
    "duration": 190,
    "start_time": "2022-11-27T12:55:23.217Z"
   },
   {
    "duration": 329,
    "start_time": "2022-11-27T12:55:55.459Z"
   },
   {
    "duration": 313,
    "start_time": "2022-11-27T12:56:02.074Z"
   },
   {
    "duration": 291,
    "start_time": "2022-11-27T12:56:05.980Z"
   },
   {
    "duration": 293,
    "start_time": "2022-11-27T12:56:10.054Z"
   },
   {
    "duration": 325,
    "start_time": "2022-11-27T12:56:14.085Z"
   },
   {
    "duration": 278,
    "start_time": "2022-11-27T12:57:27.207Z"
   },
   {
    "duration": 289,
    "start_time": "2022-11-27T12:57:32.951Z"
   },
   {
    "duration": 12,
    "start_time": "2022-11-27T12:59:16.779Z"
   },
   {
    "duration": 9,
    "start_time": "2022-11-27T12:59:22.841Z"
   },
   {
    "duration": 4,
    "start_time": "2022-11-27T12:59:24.282Z"
   },
   {
    "duration": 195,
    "start_time": "2022-11-27T12:59:24.905Z"
   },
   {
    "duration": 237,
    "start_time": "2022-11-27T12:59:29.862Z"
   },
   {
    "duration": 382,
    "start_time": "2022-11-27T13:00:31.638Z"
   },
   {
    "duration": 11,
    "start_time": "2022-11-27T13:01:17.544Z"
   },
   {
    "duration": 5,
    "start_time": "2022-11-27T13:01:18.797Z"
   },
   {
    "duration": 226,
    "start_time": "2022-11-27T13:02:08.072Z"
   },
   {
    "duration": 193,
    "start_time": "2022-11-27T13:02:51.322Z"
   },
   {
    "duration": 483,
    "start_time": "2022-11-27T13:03:20.202Z"
   },
   {
    "duration": 473,
    "start_time": "2022-11-27T13:04:06.730Z"
   },
   {
    "duration": 9,
    "start_time": "2022-11-27T13:04:44.921Z"
   },
   {
    "duration": 29,
    "start_time": "2022-11-27T13:04:48.199Z"
   },
   {
    "duration": 445,
    "start_time": "2022-11-27T13:04:49.230Z"
   },
   {
    "duration": 466,
    "start_time": "2022-11-27T13:05:09.294Z"
   },
   {
    "duration": 484,
    "start_time": "2022-11-27T13:05:13.673Z"
   },
   {
    "duration": 182,
    "start_time": "2022-11-27T13:06:11.339Z"
   },
   {
    "duration": 262,
    "start_time": "2022-11-27T13:08:01.328Z"
   },
   {
    "duration": 9,
    "start_time": "2022-11-27T13:08:04.387Z"
   },
   {
    "duration": 28,
    "start_time": "2022-11-27T13:08:39.904Z"
   },
   {
    "duration": 25,
    "start_time": "2022-11-27T13:09:16.173Z"
   },
   {
    "duration": 9,
    "start_time": "2022-11-27T13:09:17.342Z"
   },
   {
    "duration": 27,
    "start_time": "2022-11-27T13:09:41.591Z"
   },
   {
    "duration": 106,
    "start_time": "2022-11-27T13:09:57.547Z"
   },
   {
    "duration": 15,
    "start_time": "2022-11-27T13:10:02.369Z"
   },
   {
    "duration": 1995,
    "start_time": "2022-11-27T13:10:35.691Z"
   },
   {
    "duration": 2048,
    "start_time": "2022-11-27T13:10:37.688Z"
   },
   {
    "duration": 1131,
    "start_time": "2022-11-27T13:10:39.738Z"
   },
   {
    "duration": 4,
    "start_time": "2022-11-27T13:10:40.871Z"
   },
   {
    "duration": 51,
    "start_time": "2022-11-27T13:10:40.876Z"
   },
   {
    "duration": 12,
    "start_time": "2022-11-27T13:10:40.928Z"
   },
   {
    "duration": 6,
    "start_time": "2022-11-27T13:10:40.942Z"
   },
   {
    "duration": 6,
    "start_time": "2022-11-27T13:10:40.949Z"
   },
   {
    "duration": 15,
    "start_time": "2022-11-27T13:10:40.957Z"
   },
   {
    "duration": 13,
    "start_time": "2022-11-27T13:10:40.974Z"
   },
   {
    "duration": 10,
    "start_time": "2022-11-27T13:10:40.988Z"
   },
   {
    "duration": 9,
    "start_time": "2022-11-27T13:10:41.000Z"
   },
   {
    "duration": 8,
    "start_time": "2022-11-27T13:10:41.011Z"
   },
   {
    "duration": 14,
    "start_time": "2022-11-27T13:10:41.020Z"
   },
   {
    "duration": 11,
    "start_time": "2022-11-27T13:10:41.036Z"
   },
   {
    "duration": 471,
    "start_time": "2022-11-27T13:10:41.049Z"
   },
   {
    "duration": 124,
    "start_time": "2022-11-27T13:10:41.521Z"
   },
   {
    "duration": 3,
    "start_time": "2022-11-27T13:10:41.647Z"
   },
   {
    "duration": 15,
    "start_time": "2022-11-27T13:10:41.652Z"
   },
   {
    "duration": 12,
    "start_time": "2022-11-27T13:10:41.668Z"
   },
   {
    "duration": 15,
    "start_time": "2022-11-27T13:10:41.682Z"
   },
   {
    "duration": 4,
    "start_time": "2022-11-27T13:10:41.699Z"
   },
   {
    "duration": 7,
    "start_time": "2022-11-27T13:10:41.704Z"
   },
   {
    "duration": 5,
    "start_time": "2022-11-27T13:10:41.712Z"
   },
   {
    "duration": 32,
    "start_time": "2022-11-27T13:10:41.718Z"
   },
   {
    "duration": 10,
    "start_time": "2022-11-27T13:10:41.752Z"
   },
   {
    "duration": 6,
    "start_time": "2022-11-27T13:10:41.763Z"
   },
   {
    "duration": 4,
    "start_time": "2022-11-27T13:10:41.797Z"
   },
   {
    "duration": 17501,
    "start_time": "2022-11-27T13:10:41.802Z"
   },
   {
    "duration": 199,
    "start_time": "2022-11-27T13:10:59.305Z"
   },
   {
    "duration": 1101119,
    "start_time": "2022-11-27T13:10:59.506Z"
   },
   {
    "duration": 303,
    "start_time": "2022-11-27T13:29:20.627Z"
   },
   {
    "duration": 174,
    "start_time": "2022-11-27T13:29:20.931Z"
   },
   {
    "duration": 313,
    "start_time": "2022-11-27T13:29:21.107Z"
   },
   {
    "duration": 12,
    "start_time": "2022-11-27T13:29:21.422Z"
   },
   {
    "duration": 20,
    "start_time": "2022-11-27T13:29:21.436Z"
   },
   {
    "duration": 241,
    "start_time": "2022-11-27T13:29:21.458Z"
   },
   {
    "duration": 384,
    "start_time": "2022-11-27T13:29:21.701Z"
   },
   {
    "duration": 17,
    "start_time": "2022-11-27T13:29:22.087Z"
   },
   {
    "duration": 20,
    "start_time": "2022-11-27T13:29:22.105Z"
   },
   {
    "duration": 172,
    "start_time": "2022-11-27T13:29:22.127Z"
   },
   {
    "duration": 191,
    "start_time": "2022-11-27T13:29:22.301Z"
   },
   {
    "duration": 515,
    "start_time": "2022-11-27T13:29:22.497Z"
   },
   {
    "duration": 507,
    "start_time": "2022-11-27T13:29:23.013Z"
   },
   {
    "duration": 28,
    "start_time": "2022-11-27T13:29:23.522Z"
   },
   {
    "duration": 156,
    "start_time": "2022-11-27T13:29:23.552Z"
   },
   {
    "duration": 503,
    "start_time": "2022-11-27T13:29:23.710Z"
   },
   {
    "duration": 275,
    "start_time": "2022-11-27T13:29:24.215Z"
   },
   {
    "duration": 26,
    "start_time": "2022-11-27T13:29:24.492Z"
   },
   {
    "duration": 23,
    "start_time": "2022-11-27T13:29:24.520Z"
   },
   {
    "duration": 24,
    "start_time": "2022-11-27T13:29:24.545Z"
   },
   {
    "duration": 159,
    "start_time": "2022-11-27T13:29:24.570Z"
   },
   {
    "duration": 17,
    "start_time": "2022-11-27T13:29:24.731Z"
   },
   {
    "duration": 26,
    "start_time": "2022-11-27T13:30:19.387Z"
   },
   {
    "duration": 24,
    "start_time": "2022-11-27T13:30:22.891Z"
   },
   {
    "duration": 28,
    "start_time": "2022-11-27T13:31:00.832Z"
   },
   {
    "duration": 26,
    "start_time": "2022-11-27T13:31:05.393Z"
   },
   {
    "duration": 30,
    "start_time": "2022-11-27T13:31:12.119Z"
   },
   {
    "duration": 390,
    "start_time": "2022-11-27T13:37:10.790Z"
   },
   {
    "duration": 434,
    "start_time": "2022-11-27T13:39:24.625Z"
   },
   {
    "duration": 407,
    "start_time": "2022-11-27T13:39:31.525Z"
   },
   {
    "duration": 398,
    "start_time": "2022-11-27T13:45:00.052Z"
   },
   {
    "duration": 108,
    "start_time": "2022-11-27T13:46:29.801Z"
   },
   {
    "duration": 5,
    "start_time": "2022-11-27T13:46:48.265Z"
   },
   {
    "duration": 2012,
    "start_time": "2022-11-27T13:47:07.026Z"
   },
   {
    "duration": 2062,
    "start_time": "2022-11-27T13:47:09.040Z"
   },
   {
    "duration": 1197,
    "start_time": "2022-11-27T13:47:11.104Z"
   },
   {
    "duration": 2,
    "start_time": "2022-11-27T13:47:12.303Z"
   },
   {
    "duration": 47,
    "start_time": "2022-11-27T13:47:12.307Z"
   },
   {
    "duration": 14,
    "start_time": "2022-11-27T13:47:12.355Z"
   },
   {
    "duration": 7,
    "start_time": "2022-11-27T13:47:12.371Z"
   },
   {
    "duration": 5,
    "start_time": "2022-11-27T13:47:12.379Z"
   },
   {
    "duration": 12,
    "start_time": "2022-11-27T13:47:12.386Z"
   },
   {
    "duration": 13,
    "start_time": "2022-11-27T13:47:12.400Z"
   },
   {
    "duration": 3,
    "start_time": "2022-11-27T13:47:12.414Z"
   },
   {
    "duration": 10,
    "start_time": "2022-11-27T13:47:12.418Z"
   },
   {
    "duration": 8,
    "start_time": "2022-11-27T13:47:12.429Z"
   },
   {
    "duration": 11,
    "start_time": "2022-11-27T13:47:12.438Z"
   },
   {
    "duration": 10,
    "start_time": "2022-11-27T13:47:12.450Z"
   },
   {
    "duration": 426,
    "start_time": "2022-11-27T13:47:12.461Z"
   },
   {
    "duration": 123,
    "start_time": "2022-11-27T13:47:12.889Z"
   },
   {
    "duration": 4,
    "start_time": "2022-11-27T13:47:13.014Z"
   },
   {
    "duration": 16,
    "start_time": "2022-11-27T13:47:13.019Z"
   },
   {
    "duration": 8,
    "start_time": "2022-11-27T13:47:13.036Z"
   },
   {
    "duration": 8,
    "start_time": "2022-11-27T13:47:13.045Z"
   },
   {
    "duration": 12,
    "start_time": "2022-11-27T13:47:13.054Z"
   },
   {
    "duration": 10,
    "start_time": "2022-11-27T13:47:13.067Z"
   },
   {
    "duration": 9,
    "start_time": "2022-11-27T13:47:13.078Z"
   },
   {
    "duration": 22,
    "start_time": "2022-11-27T13:47:13.097Z"
   },
   {
    "duration": 11,
    "start_time": "2022-11-27T13:47:13.120Z"
   },
   {
    "duration": 5,
    "start_time": "2022-11-27T13:47:13.132Z"
   },
   {
    "duration": 7,
    "start_time": "2022-11-27T13:47:13.140Z"
   },
   {
    "duration": 18555,
    "start_time": "2022-11-27T13:47:13.148Z"
   },
   {
    "duration": 199,
    "start_time": "2022-11-27T13:47:31.705Z"
   },
   {
    "duration": 427862,
    "start_time": "2022-11-27T13:47:31.906Z"
   },
   {
    "duration": 3,
    "start_time": "2022-11-27T13:54:39.770Z"
   },
   {
    "duration": 425,
    "start_time": "2022-11-27T13:54:39.775Z"
   },
   {
    "duration": 203,
    "start_time": "2022-11-27T13:54:40.201Z"
   },
   {
    "duration": 294,
    "start_time": "2022-11-27T13:54:40.406Z"
   },
   {
    "duration": 10,
    "start_time": "2022-11-27T13:54:40.702Z"
   },
   {
    "duration": 4,
    "start_time": "2022-11-27T13:54:40.714Z"
   },
   {
    "duration": 185,
    "start_time": "2022-11-27T13:54:40.720Z"
   },
   {
    "duration": 383,
    "start_time": "2022-11-27T13:54:40.906Z"
   },
   {
    "duration": 13,
    "start_time": "2022-11-27T13:54:41.290Z"
   },
   {
    "duration": 9,
    "start_time": "2022-11-27T13:54:41.305Z"
   },
   {
    "duration": 195,
    "start_time": "2022-11-27T13:54:41.316Z"
   },
   {
    "duration": 185,
    "start_time": "2022-11-27T13:54:41.513Z"
   },
   {
    "duration": 514,
    "start_time": "2022-11-27T13:54:41.700Z"
   },
   {
    "duration": 492,
    "start_time": "2022-11-27T13:54:42.216Z"
   },
   {
    "duration": 28,
    "start_time": "2022-11-27T13:54:42.710Z"
   },
   {
    "duration": 164,
    "start_time": "2022-11-27T13:54:42.739Z"
   },
   {
    "duration": 450,
    "start_time": "2022-11-27T13:54:42.905Z"
   },
   {
    "duration": 268,
    "start_time": "2022-11-27T13:54:43.357Z"
   },
   {
    "duration": 24,
    "start_time": "2022-11-27T13:54:43.627Z"
   },
   {
    "duration": 24,
    "start_time": "2022-11-27T13:54:43.652Z"
   },
   {
    "duration": 41,
    "start_time": "2022-11-27T13:54:43.678Z"
   },
   {
    "duration": 122,
    "start_time": "2022-11-27T13:54:43.720Z"
   },
   {
    "duration": 12,
    "start_time": "2022-11-27T13:54:43.844Z"
   },
   {
    "duration": 404,
    "start_time": "2022-11-27T13:55:05.877Z"
   },
   {
    "duration": 459,
    "start_time": "2022-11-27T13:55:16.595Z"
   },
   {
    "duration": 2041,
    "start_time": "2022-11-27T13:57:58.814Z"
   },
   {
    "duration": 1985,
    "start_time": "2022-11-27T13:58:00.857Z"
   },
   {
    "duration": 1096,
    "start_time": "2022-11-27T13:58:02.844Z"
   },
   {
    "duration": 3,
    "start_time": "2022-11-27T13:58:03.942Z"
   },
   {
    "duration": 49,
    "start_time": "2022-11-27T13:58:03.947Z"
   },
   {
    "duration": 13,
    "start_time": "2022-11-27T13:58:03.998Z"
   },
   {
    "duration": 8,
    "start_time": "2022-11-27T13:58:04.012Z"
   },
   {
    "duration": 3,
    "start_time": "2022-11-27T13:58:04.021Z"
   },
   {
    "duration": 13,
    "start_time": "2022-11-27T13:58:04.026Z"
   },
   {
    "duration": 17,
    "start_time": "2022-11-27T13:58:04.041Z"
   },
   {
    "duration": 8,
    "start_time": "2022-11-27T13:58:04.059Z"
   },
   {
    "duration": 13,
    "start_time": "2022-11-27T13:58:04.068Z"
   },
   {
    "duration": 6,
    "start_time": "2022-11-27T13:58:04.097Z"
   },
   {
    "duration": 12,
    "start_time": "2022-11-27T13:58:04.104Z"
   },
   {
    "duration": 10,
    "start_time": "2022-11-27T13:58:04.117Z"
   },
   {
    "duration": 414,
    "start_time": "2022-11-27T13:58:04.129Z"
   },
   {
    "duration": 125,
    "start_time": "2022-11-27T13:58:04.545Z"
   },
   {
    "duration": 4,
    "start_time": "2022-11-27T13:58:04.671Z"
   },
   {
    "duration": 11,
    "start_time": "2022-11-27T13:58:04.676Z"
   },
   {
    "duration": 12,
    "start_time": "2022-11-27T13:58:04.688Z"
   },
   {
    "duration": 7,
    "start_time": "2022-11-27T13:58:04.701Z"
   },
   {
    "duration": 7,
    "start_time": "2022-11-27T13:58:04.709Z"
   },
   {
    "duration": 7,
    "start_time": "2022-11-27T13:58:04.717Z"
   },
   {
    "duration": 4,
    "start_time": "2022-11-27T13:58:04.725Z"
   },
   {
    "duration": 21,
    "start_time": "2022-11-27T13:58:04.731Z"
   },
   {
    "duration": 12,
    "start_time": "2022-11-27T13:58:04.754Z"
   },
   {
    "duration": 34,
    "start_time": "2022-11-27T13:58:04.767Z"
   },
   {
    "duration": 7,
    "start_time": "2022-11-27T13:58:04.805Z"
   },
   {
    "duration": 18084,
    "start_time": "2022-11-27T13:58:04.814Z"
   },
   {
    "duration": 203,
    "start_time": "2022-11-27T13:58:22.899Z"
   },
   {
    "duration": 426367,
    "start_time": "2022-11-27T13:58:23.103Z"
   },
   {
    "duration": 3,
    "start_time": "2022-11-27T14:05:29.471Z"
   },
   {
    "duration": 414,
    "start_time": "2022-11-27T14:05:29.476Z"
   },
   {
    "duration": 214,
    "start_time": "2022-11-27T14:05:29.891Z"
   },
   {
    "duration": 293,
    "start_time": "2022-11-27T14:05:30.107Z"
   },
   {
    "duration": 11,
    "start_time": "2022-11-27T14:05:30.402Z"
   },
   {
    "duration": 9,
    "start_time": "2022-11-27T14:05:30.414Z"
   },
   {
    "duration": 185,
    "start_time": "2022-11-27T14:05:30.424Z"
   },
   {
    "duration": 382,
    "start_time": "2022-11-27T14:05:30.611Z"
   },
   {
    "duration": 12,
    "start_time": "2022-11-27T14:05:30.997Z"
   },
   {
    "duration": 19,
    "start_time": "2022-11-27T14:05:31.010Z"
   },
   {
    "duration": 173,
    "start_time": "2022-11-27T14:05:31.031Z"
   },
   {
    "duration": 185,
    "start_time": "2022-11-27T14:05:31.206Z"
   },
   {
    "duration": 492,
    "start_time": "2022-11-27T14:05:31.393Z"
   },
   {
    "duration": 508,
    "start_time": "2022-11-27T14:05:31.886Z"
   },
   {
    "duration": 28,
    "start_time": "2022-11-27T14:05:32.398Z"
   },
   {
    "duration": 184,
    "start_time": "2022-11-27T14:05:32.428Z"
   },
   {
    "duration": 486,
    "start_time": "2022-11-27T14:05:32.614Z"
   },
   {
    "duration": 273,
    "start_time": "2022-11-27T14:05:33.102Z"
   },
   {
    "duration": 32,
    "start_time": "2022-11-27T14:05:33.376Z"
   },
   {
    "duration": 24,
    "start_time": "2022-11-27T14:05:33.410Z"
   },
   {
    "duration": 24,
    "start_time": "2022-11-27T14:05:33.435Z"
   },
   {
    "duration": 123,
    "start_time": "2022-11-27T14:05:33.460Z"
   },
   {
    "duration": 20,
    "start_time": "2022-11-27T14:05:33.585Z"
   },
   {
    "duration": 402,
    "start_time": "2022-11-27T14:14:41.571Z"
   },
   {
    "duration": 397,
    "start_time": "2022-11-27T14:14:45.865Z"
   },
   {
    "duration": 358,
    "start_time": "2022-11-27T14:14:54.128Z"
   },
   {
    "duration": 381,
    "start_time": "2022-11-27T14:14:58.104Z"
   },
   {
    "duration": 385,
    "start_time": "2022-11-27T14:15:08.496Z"
   },
   {
    "duration": 436,
    "start_time": "2022-11-27T14:15:12.004Z"
   },
   {
    "duration": 398,
    "start_time": "2022-11-27T14:15:16.746Z"
   },
   {
    "duration": 369,
    "start_time": "2022-11-27T14:15:21.641Z"
   },
   {
    "duration": 350,
    "start_time": "2022-11-27T14:15:27.400Z"
   },
   {
    "duration": 412,
    "start_time": "2022-11-27T14:15:31.688Z"
   },
   {
    "duration": 377,
    "start_time": "2022-11-27T14:15:38.322Z"
   },
   {
    "duration": 394,
    "start_time": "2022-11-27T14:15:43.799Z"
   },
   {
    "duration": 399,
    "start_time": "2022-11-27T14:15:47.685Z"
   },
   {
    "duration": 389,
    "start_time": "2022-11-27T14:15:51.058Z"
   },
   {
    "duration": 369,
    "start_time": "2022-11-27T14:15:56.785Z"
   },
   {
    "duration": 381,
    "start_time": "2022-11-27T14:16:00.367Z"
   },
   {
    "duration": 397,
    "start_time": "2022-11-27T14:16:03.907Z"
   },
   {
    "duration": 364,
    "start_time": "2022-11-27T14:17:58.112Z"
   },
   {
    "duration": 482,
    "start_time": "2022-11-27T14:18:10.758Z"
   },
   {
    "duration": 267,
    "start_time": "2022-11-27T14:18:19.852Z"
   },
   {
    "duration": 568,
    "start_time": "2022-11-27T14:18:33.097Z"
   },
   {
    "duration": 582,
    "start_time": "2022-11-27T14:18:59.234Z"
   },
   {
    "duration": 218,
    "start_time": "2022-11-27T14:19:51.906Z"
   },
   {
    "duration": 597,
    "start_time": "2022-11-27T14:20:07.707Z"
   },
   {
    "duration": 390,
    "start_time": "2022-11-27T14:20:54.249Z"
   },
   {
    "duration": 30,
    "start_time": "2022-11-27T14:21:00.736Z"
   },
   {
    "duration": 33,
    "start_time": "2022-11-27T14:21:09.171Z"
   },
   {
    "duration": 31,
    "start_time": "2022-11-27T14:21:10.248Z"
   },
   {
    "duration": 102,
    "start_time": "2022-11-27T14:21:29.623Z"
   },
   {
    "duration": 2122,
    "start_time": "2022-11-27T14:21:57.852Z"
   },
   {
    "duration": 1984,
    "start_time": "2022-11-27T14:21:59.977Z"
   },
   {
    "duration": 1074,
    "start_time": "2022-11-27T14:22:01.963Z"
   },
   {
    "duration": 2,
    "start_time": "2022-11-27T14:22:03.039Z"
   },
   {
    "duration": 46,
    "start_time": "2022-11-27T14:22:03.043Z"
   },
   {
    "duration": 13,
    "start_time": "2022-11-27T14:22:03.090Z"
   },
   {
    "duration": 9,
    "start_time": "2022-11-27T14:22:03.104Z"
   },
   {
    "duration": 5,
    "start_time": "2022-11-27T14:22:03.114Z"
   },
   {
    "duration": 13,
    "start_time": "2022-11-27T14:22:03.120Z"
   },
   {
    "duration": 13,
    "start_time": "2022-11-27T14:22:03.137Z"
   },
   {
    "duration": 4,
    "start_time": "2022-11-27T14:22:03.152Z"
   },
   {
    "duration": 10,
    "start_time": "2022-11-27T14:22:03.157Z"
   },
   {
    "duration": 7,
    "start_time": "2022-11-27T14:22:03.198Z"
   },
   {
    "duration": 11,
    "start_time": "2022-11-27T14:22:03.206Z"
   },
   {
    "duration": 10,
    "start_time": "2022-11-27T14:22:03.218Z"
   },
   {
    "duration": 418,
    "start_time": "2022-11-27T14:22:03.229Z"
   },
   {
    "duration": 119,
    "start_time": "2022-11-27T14:22:03.649Z"
   },
   {
    "duration": 4,
    "start_time": "2022-11-27T14:22:03.769Z"
   },
   {
    "duration": 23,
    "start_time": "2022-11-27T14:22:03.774Z"
   },
   {
    "duration": 10,
    "start_time": "2022-11-27T14:22:03.798Z"
   },
   {
    "duration": 13,
    "start_time": "2022-11-27T14:22:03.809Z"
   },
   {
    "duration": 9,
    "start_time": "2022-11-27T14:22:03.824Z"
   },
   {
    "duration": 17,
    "start_time": "2022-11-27T14:22:03.834Z"
   },
   {
    "duration": 8,
    "start_time": "2022-11-27T14:22:03.852Z"
   },
   {
    "duration": 26,
    "start_time": "2022-11-27T14:22:03.861Z"
   },
   {
    "duration": 10,
    "start_time": "2022-11-27T14:22:03.888Z"
   },
   {
    "duration": 8,
    "start_time": "2022-11-27T14:22:03.901Z"
   },
   {
    "duration": 6,
    "start_time": "2022-11-27T14:22:03.911Z"
   },
   {
    "duration": 17788,
    "start_time": "2022-11-27T14:22:03.918Z"
   },
   {
    "duration": 204,
    "start_time": "2022-11-27T14:22:21.798Z"
   },
   {
    "duration": 427186,
    "start_time": "2022-11-27T14:22:22.004Z"
   },
   {
    "duration": 8,
    "start_time": "2022-11-27T14:29:29.192Z"
   },
   {
    "duration": 384,
    "start_time": "2022-11-27T14:29:29.201Z"
   },
   {
    "duration": 213,
    "start_time": "2022-11-27T14:29:29.586Z"
   },
   {
    "duration": 408,
    "start_time": "2022-11-27T14:29:29.800Z"
   },
   {
    "duration": 11,
    "start_time": "2022-11-27T14:29:30.209Z"
   },
   {
    "duration": 9,
    "start_time": "2022-11-27T14:29:30.221Z"
   },
   {
    "duration": 178,
    "start_time": "2022-11-27T14:29:30.232Z"
   },
   {
    "duration": 508,
    "start_time": "2022-11-27T14:29:30.411Z"
   },
   {
    "duration": 11,
    "start_time": "2022-11-27T14:29:30.920Z"
   },
   {
    "duration": 41,
    "start_time": "2022-11-27T14:29:30.933Z"
   },
   {
    "duration": 225,
    "start_time": "2022-11-27T14:29:30.976Z"
   },
   {
    "duration": 251,
    "start_time": "2022-11-27T14:29:31.202Z"
   },
   {
    "duration": 554,
    "start_time": "2022-11-27T14:29:31.454Z"
   },
   {
    "duration": 621,
    "start_time": "2022-11-27T14:29:32.009Z"
   },
   {
    "duration": 28,
    "start_time": "2022-11-27T14:29:32.631Z"
   },
   {
    "duration": 244,
    "start_time": "2022-11-27T14:29:32.661Z"
   },
   {
    "duration": 618,
    "start_time": "2022-11-27T14:29:32.907Z"
   },
   {
    "duration": 365,
    "start_time": "2022-11-27T14:29:33.526Z"
   },
   {
    "duration": 24,
    "start_time": "2022-11-27T14:29:33.896Z"
   },
   {
    "duration": 33,
    "start_time": "2022-11-27T14:29:33.921Z"
   },
   {
    "duration": 43,
    "start_time": "2022-11-27T14:29:33.956Z"
   },
   {
    "duration": 121,
    "start_time": "2022-11-27T14:29:34.001Z"
   },
   {
    "duration": 15,
    "start_time": "2022-11-27T14:29:34.124Z"
   },
   {
    "duration": 177,
    "start_time": "2022-11-27T14:51:15.346Z"
   },
   {
    "duration": 136,
    "start_time": "2022-11-27T14:52:23.452Z"
   },
   {
    "duration": 5,
    "start_time": "2022-11-27T15:16:09.876Z"
   },
   {
    "duration": 17379,
    "start_time": "2022-11-27T15:16:12.223Z"
   },
   {
    "duration": 412,
    "start_time": "2022-11-27T15:16:29.604Z"
   },
   {
    "duration": 281,
    "start_time": "2022-11-27T15:16:30.018Z"
   },
   {
    "duration": 5,
    "start_time": "2022-11-27T15:17:08.800Z"
   },
   {
    "duration": 18481,
    "start_time": "2022-11-27T15:17:09.823Z"
   },
   {
    "duration": 303,
    "start_time": "2022-11-27T15:17:28.306Z"
   },
   {
    "duration": 302,
    "start_time": "2022-11-27T15:17:28.697Z"
   },
   {
    "duration": 18222,
    "start_time": "2022-11-27T15:26:24.378Z"
   },
   {
    "duration": 5,
    "start_time": "2022-11-27T16:43:49.267Z"
   },
   {
    "duration": 5,
    "start_time": "2022-11-27T16:43:49.765Z"
   },
   {
    "duration": 18570,
    "start_time": "2022-11-27T16:43:51.337Z"
   },
   {
    "duration": 296,
    "start_time": "2022-11-27T16:44:09.910Z"
   },
   {
    "duration": 240,
    "start_time": "2022-11-27T16:44:27.641Z"
   },
   {
    "duration": 30,
    "start_time": "2022-11-27T16:51:42.369Z"
   },
   {
    "duration": 34,
    "start_time": "2022-11-27T16:51:50.044Z"
   },
   {
    "duration": 163,
    "start_time": "2022-11-27T16:51:57.808Z"
   },
   {
    "duration": 7241,
    "start_time": "2022-11-27T16:52:04.867Z"
   },
   {
    "duration": 7627,
    "start_time": "2022-11-27T16:52:40.678Z"
   },
   {
    "duration": 46,
    "start_time": "2022-11-27T16:55:28.711Z"
   },
   {
    "duration": 7433,
    "start_time": "2022-11-27T16:55:39.170Z"
   },
   {
    "duration": 7520,
    "start_time": "2022-11-27T16:56:03.479Z"
   },
   {
    "duration": 7754,
    "start_time": "2022-11-27T16:56:20.254Z"
   },
   {
    "duration": 7758,
    "start_time": "2022-11-27T16:58:07.146Z"
   },
   {
    "duration": 7901,
    "start_time": "2022-11-27T16:58:28.200Z"
   },
   {
    "duration": 7832,
    "start_time": "2022-11-27T16:59:49.473Z"
   },
   {
    "duration": 7246,
    "start_time": "2022-11-27T17:04:29.963Z"
   },
   {
    "duration": 10205,
    "start_time": "2022-11-27T17:04:49.691Z"
   },
   {
    "duration": 10097,
    "start_time": "2022-11-27T17:06:02.314Z"
   },
   {
    "duration": 2077,
    "start_time": "2022-11-27T17:06:30.180Z"
   },
   {
    "duration": 2071,
    "start_time": "2022-11-27T17:06:32.259Z"
   },
   {
    "duration": 5,
    "start_time": "2022-11-27T17:06:34.331Z"
   },
   {
    "duration": 5,
    "start_time": "2022-11-27T17:06:34.338Z"
   },
   {
    "duration": 44,
    "start_time": "2022-11-27T17:06:34.345Z"
   },
   {
    "duration": 13,
    "start_time": "2022-11-27T17:06:34.391Z"
   },
   {
    "duration": 6,
    "start_time": "2022-11-27T17:06:34.406Z"
   },
   {
    "duration": 5,
    "start_time": "2022-11-27T17:06:34.414Z"
   },
   {
    "duration": 18,
    "start_time": "2022-11-27T17:06:34.420Z"
   },
   {
    "duration": 12,
    "start_time": "2022-11-27T17:06:34.441Z"
   },
   {
    "duration": 6,
    "start_time": "2022-11-27T17:06:34.455Z"
   },
   {
    "duration": 8,
    "start_time": "2022-11-27T17:06:34.462Z"
   },
   {
    "duration": 34,
    "start_time": "2022-11-27T17:06:34.472Z"
   },
   {
    "duration": 12,
    "start_time": "2022-11-27T17:06:34.507Z"
   },
   {
    "duration": 10,
    "start_time": "2022-11-27T17:06:34.520Z"
   },
   {
    "duration": 475,
    "start_time": "2022-11-27T17:06:34.531Z"
   },
   {
    "duration": 127,
    "start_time": "2022-11-27T17:06:35.008Z"
   },
   {
    "duration": 4,
    "start_time": "2022-11-27T17:06:35.137Z"
   },
   {
    "duration": 10,
    "start_time": "2022-11-27T17:06:35.142Z"
   },
   {
    "duration": 7,
    "start_time": "2022-11-27T17:06:35.153Z"
   },
   {
    "duration": 8,
    "start_time": "2022-11-27T17:06:35.162Z"
   },
   {
    "duration": 29,
    "start_time": "2022-11-27T17:06:35.171Z"
   },
   {
    "duration": 9,
    "start_time": "2022-11-27T17:06:35.201Z"
   },
   {
    "duration": 6,
    "start_time": "2022-11-27T17:06:35.211Z"
   },
   {
    "duration": 25,
    "start_time": "2022-11-27T17:06:35.218Z"
   },
   {
    "duration": 10,
    "start_time": "2022-11-27T17:06:35.244Z"
   },
   {
    "duration": 6,
    "start_time": "2022-11-27T17:06:35.256Z"
   },
   {
    "duration": 5,
    "start_time": "2022-11-27T17:06:35.264Z"
   },
   {
    "duration": 18529,
    "start_time": "2022-11-27T17:06:35.270Z"
   },
   {
    "duration": 10598,
    "start_time": "2022-11-27T17:06:53.801Z"
   },
   {
    "duration": 12,
    "start_time": "2022-11-27T17:07:27.559Z"
   },
   {
    "duration": 3,
    "start_time": "2022-11-27T17:07:40.129Z"
   },
   {
    "duration": 10850,
    "start_time": "2022-11-27T17:07:55.260Z"
   },
   {
    "duration": 2320,
    "start_time": "2022-11-27T17:25:03.806Z"
   },
   {
    "duration": 2085,
    "start_time": "2022-11-27T17:25:06.128Z"
   },
   {
    "duration": 5,
    "start_time": "2022-11-27T17:25:08.215Z"
   },
   {
    "duration": 8,
    "start_time": "2022-11-27T17:25:08.224Z"
   },
   {
    "duration": 51,
    "start_time": "2022-11-27T17:25:08.234Z"
   },
   {
    "duration": 17,
    "start_time": "2022-11-27T17:25:08.287Z"
   },
   {
    "duration": 8,
    "start_time": "2022-11-27T17:25:08.306Z"
   },
   {
    "duration": 5,
    "start_time": "2022-11-27T17:25:08.316Z"
   },
   {
    "duration": 18,
    "start_time": "2022-11-27T17:25:08.322Z"
   },
   {
    "duration": 12,
    "start_time": "2022-11-27T17:25:08.343Z"
   },
   {
    "duration": 8,
    "start_time": "2022-11-27T17:25:08.357Z"
   },
   {
    "duration": 10,
    "start_time": "2022-11-27T17:25:08.367Z"
   },
   {
    "duration": 6,
    "start_time": "2022-11-27T17:25:08.398Z"
   },
   {
    "duration": 16,
    "start_time": "2022-11-27T17:25:08.406Z"
   },
   {
    "duration": 11,
    "start_time": "2022-11-27T17:25:08.424Z"
   },
   {
    "duration": 455,
    "start_time": "2022-11-27T17:25:08.437Z"
   },
   {
    "duration": 119,
    "start_time": "2022-11-27T17:25:08.893Z"
   },
   {
    "duration": 4,
    "start_time": "2022-11-27T17:25:09.013Z"
   },
   {
    "duration": 13,
    "start_time": "2022-11-27T17:25:09.019Z"
   },
   {
    "duration": 6,
    "start_time": "2022-11-27T17:25:09.034Z"
   },
   {
    "duration": 5,
    "start_time": "2022-11-27T17:25:09.042Z"
   },
   {
    "duration": 9,
    "start_time": "2022-11-27T17:25:09.048Z"
   },
   {
    "duration": 7,
    "start_time": "2022-11-27T17:25:09.058Z"
   },
   {
    "duration": 32,
    "start_time": "2022-11-27T17:25:09.067Z"
   },
   {
    "duration": 26,
    "start_time": "2022-11-27T17:25:09.101Z"
   },
   {
    "duration": 11,
    "start_time": "2022-11-27T17:25:09.129Z"
   },
   {
    "duration": 8,
    "start_time": "2022-11-27T17:25:09.142Z"
   },
   {
    "duration": 5,
    "start_time": "2022-11-27T17:25:09.153Z"
   },
   {
    "duration": 19738,
    "start_time": "2022-11-27T17:25:09.160Z"
   },
   {
    "duration": 4,
    "start_time": "2022-11-27T17:25:28.900Z"
   },
   {
    "duration": 10799,
    "start_time": "2022-11-27T17:25:28.905Z"
   },
   {
    "duration": 594,
    "start_time": "2022-11-27T17:30:21.110Z"
   },
   {
    "duration": 725,
    "start_time": "2022-11-27T17:30:46.081Z"
   },
   {
    "duration": 734,
    "start_time": "2022-11-27T17:31:14.674Z"
   },
   {
    "duration": 1349,
    "start_time": "2022-11-27T17:31:25.850Z"
   },
   {
    "duration": 1548,
    "start_time": "2022-11-27T17:31:46.456Z"
   },
   {
    "duration": 1459,
    "start_time": "2022-11-27T17:32:36.445Z"
   },
   {
    "duration": 1402,
    "start_time": "2022-11-27T17:33:15.411Z"
   },
   {
    "duration": 63,
    "start_time": "2022-11-27T17:36:26.700Z"
   },
   {
    "duration": 7541,
    "start_time": "2022-11-27T17:36:36.257Z"
   },
   {
    "duration": 289,
    "start_time": "2022-11-27T17:38:18.110Z"
   },
   {
    "duration": 273,
    "start_time": "2022-11-27T17:38:24.438Z"
   },
   {
    "duration": 29,
    "start_time": "2022-11-27T17:47:54.388Z"
   },
   {
    "duration": 86333,
    "start_time": "2022-11-27T17:48:07.945Z"
   },
   {
    "duration": 199,
    "start_time": "2022-11-27T17:50:11.661Z"
   },
   {
    "duration": 87617,
    "start_time": "2022-11-27T17:50:33.071Z"
   },
   {
    "duration": 401,
    "start_time": "2022-11-27T17:55:09.513Z"
   },
   {
    "duration": 451,
    "start_time": "2022-11-27T17:55:27.139Z"
   },
   {
    "duration": 401,
    "start_time": "2022-11-27T17:55:36.899Z"
   },
   {
    "duration": 477,
    "start_time": "2022-11-27T17:55:57.465Z"
   },
   {
    "duration": 467,
    "start_time": "2022-11-27T17:56:02.155Z"
   },
   {
    "duration": 478,
    "start_time": "2022-11-27T17:56:05.554Z"
   },
   {
    "duration": 53,
    "start_time": "2022-11-27T17:56:09.467Z"
   },
   {
    "duration": 458,
    "start_time": "2022-11-27T17:56:19.287Z"
   },
   {
    "duration": 540,
    "start_time": "2022-11-27T17:56:24.557Z"
   },
   {
    "duration": 496,
    "start_time": "2022-11-27T17:56:32.146Z"
   },
   {
    "duration": 481,
    "start_time": "2022-11-27T17:56:37.890Z"
   },
   {
    "duration": 478,
    "start_time": "2022-11-27T17:56:41.855Z"
   },
   {
    "duration": 478,
    "start_time": "2022-11-27T17:56:47.731Z"
   },
   {
    "duration": 25535,
    "start_time": "2022-11-27T17:58:01.738Z"
   },
   {
    "duration": 25319,
    "start_time": "2022-11-27T17:58:37.872Z"
   },
   {
    "duration": 38498,
    "start_time": "2022-11-27T17:59:21.388Z"
   },
   {
    "duration": 71331,
    "start_time": "2022-11-27T18:00:26.984Z"
   },
   {
    "duration": 596,
    "start_time": "2022-11-27T18:01:53.820Z"
   },
   {
    "duration": 2190,
    "start_time": "2022-11-27T18:02:14.382Z"
   },
   {
    "duration": 2069,
    "start_time": "2022-11-27T18:02:16.574Z"
   },
   {
    "duration": 1125,
    "start_time": "2022-11-27T18:02:18.645Z"
   },
   {
    "duration": 2,
    "start_time": "2022-11-27T18:02:19.772Z"
   },
   {
    "duration": 43,
    "start_time": "2022-11-27T18:02:19.776Z"
   },
   {
    "duration": 13,
    "start_time": "2022-11-27T18:02:19.821Z"
   },
   {
    "duration": 20,
    "start_time": "2022-11-27T18:02:19.835Z"
   },
   {
    "duration": 14,
    "start_time": "2022-11-27T18:02:19.856Z"
   },
   {
    "duration": 19,
    "start_time": "2022-11-27T18:02:19.872Z"
   },
   {
    "duration": 14,
    "start_time": "2022-11-27T18:02:19.892Z"
   },
   {
    "duration": 3,
    "start_time": "2022-11-27T18:02:19.908Z"
   },
   {
    "duration": 14,
    "start_time": "2022-11-27T18:02:19.913Z"
   },
   {
    "duration": 12,
    "start_time": "2022-11-27T18:02:19.928Z"
   },
   {
    "duration": 15,
    "start_time": "2022-11-27T18:02:19.943Z"
   },
   {
    "duration": 11,
    "start_time": "2022-11-27T18:02:19.960Z"
   },
   {
    "duration": 516,
    "start_time": "2022-11-27T18:02:19.973Z"
   },
   {
    "duration": 122,
    "start_time": "2022-11-27T18:02:20.498Z"
   },
   {
    "duration": 4,
    "start_time": "2022-11-27T18:02:20.621Z"
   },
   {
    "duration": 25,
    "start_time": "2022-11-27T18:02:20.627Z"
   },
   {
    "duration": 7,
    "start_time": "2022-11-27T18:02:20.654Z"
   },
   {
    "duration": 6,
    "start_time": "2022-11-27T18:02:20.663Z"
   },
   {
    "duration": 7,
    "start_time": "2022-11-27T18:02:20.670Z"
   },
   {
    "duration": 23,
    "start_time": "2022-11-27T18:02:20.678Z"
   },
   {
    "duration": 6,
    "start_time": "2022-11-27T18:02:20.703Z"
   },
   {
    "duration": 27,
    "start_time": "2022-11-27T18:02:20.711Z"
   },
   {
    "duration": 17,
    "start_time": "2022-11-27T18:02:20.739Z"
   },
   {
    "duration": 7,
    "start_time": "2022-11-27T18:02:20.758Z"
   },
   {
    "duration": 31,
    "start_time": "2022-11-27T18:02:20.767Z"
   },
   {
    "duration": 7299,
    "start_time": "2022-11-27T18:02:20.800Z"
   },
   {
    "duration": 10397,
    "start_time": "2022-11-27T18:02:28.101Z"
   },
   {
    "duration": 508,
    "start_time": "2022-11-27T18:02:38.500Z"
   },
   {
    "duration": 279,
    "start_time": "2022-11-27T18:02:39.010Z"
   },
   {
    "duration": 69767,
    "start_time": "2022-11-27T18:02:39.290Z"
   },
   {
    "duration": 645,
    "start_time": "2022-11-27T18:03:49.060Z"
   },
   {
    "duration": 394,
    "start_time": "2022-11-27T18:03:49.707Z"
   },
   {
    "duration": 412,
    "start_time": "2022-11-27T18:03:50.105Z"
   },
   {
    "duration": 11,
    "start_time": "2022-11-27T18:03:50.519Z"
   },
   {
    "duration": 8,
    "start_time": "2022-11-27T18:03:50.531Z"
   },
   {
    "duration": 264,
    "start_time": "2022-11-27T18:03:50.540Z"
   },
   {
    "duration": 540,
    "start_time": "2022-11-27T18:03:50.806Z"
   },
   {
    "duration": 13,
    "start_time": "2022-11-27T18:03:51.349Z"
   },
   {
    "duration": 7,
    "start_time": "2022-11-27T18:03:51.364Z"
   },
   {
    "duration": 260,
    "start_time": "2022-11-27T18:03:51.373Z"
   },
   {
    "duration": 301,
    "start_time": "2022-11-27T18:03:51.635Z"
   },
   {
    "duration": 575,
    "start_time": "2022-11-27T18:03:51.938Z"
   },
   {
    "duration": 696,
    "start_time": "2022-11-27T18:03:52.515Z"
   },
   {
    "duration": 29,
    "start_time": "2022-11-27T18:03:53.212Z"
   },
   {
    "duration": 355,
    "start_time": "2022-11-27T18:03:53.243Z"
   },
   {
    "duration": 639,
    "start_time": "2022-11-27T18:03:53.600Z"
   },
   {
    "duration": 377,
    "start_time": "2022-11-27T18:03:54.240Z"
   },
   {
    "duration": 51,
    "start_time": "2022-11-27T18:03:54.619Z"
   },
   {
    "duration": 48,
    "start_time": "2022-11-27T18:03:54.672Z"
   },
   {
    "duration": 50,
    "start_time": "2022-11-27T18:03:54.722Z"
   },
   {
    "duration": 138,
    "start_time": "2022-11-27T18:03:54.774Z"
   },
   {
    "duration": 25,
    "start_time": "2022-11-27T18:03:54.914Z"
   },
   {
    "duration": 5,
    "start_time": "2022-11-27T18:10:12.289Z"
   },
   {
    "duration": 7240,
    "start_time": "2022-11-27T18:10:27.560Z"
   },
   {
    "duration": 2006,
    "start_time": "2022-11-27T18:12:07.198Z"
   },
   {
    "duration": 2057,
    "start_time": "2022-11-27T18:12:09.207Z"
   },
   {
    "duration": 4,
    "start_time": "2022-11-27T18:12:11.266Z"
   },
   {
    "duration": 10,
    "start_time": "2022-11-27T18:12:11.272Z"
   },
   {
    "duration": 52,
    "start_time": "2022-11-27T18:12:11.283Z"
   },
   {
    "duration": 13,
    "start_time": "2022-11-27T18:12:11.337Z"
   },
   {
    "duration": 18,
    "start_time": "2022-11-27T18:12:11.352Z"
   },
   {
    "duration": 5,
    "start_time": "2022-11-27T18:12:11.371Z"
   },
   {
    "duration": 16,
    "start_time": "2022-11-27T18:12:11.378Z"
   },
   {
    "duration": 12,
    "start_time": "2022-11-27T18:12:11.396Z"
   },
   {
    "duration": 6,
    "start_time": "2022-11-27T18:12:11.410Z"
   },
   {
    "duration": 10,
    "start_time": "2022-11-27T18:12:11.417Z"
   },
   {
    "duration": 8,
    "start_time": "2022-11-27T18:12:11.428Z"
   },
   {
    "duration": 12,
    "start_time": "2022-11-27T18:12:11.437Z"
   },
   {
    "duration": 10,
    "start_time": "2022-11-27T18:12:11.450Z"
   },
   {
    "duration": 412,
    "start_time": "2022-11-27T18:12:11.461Z"
   },
   {
    "duration": 123,
    "start_time": "2022-11-27T18:12:11.874Z"
   },
   {
    "duration": 5,
    "start_time": "2022-11-27T18:12:11.999Z"
   },
   {
    "duration": 13,
    "start_time": "2022-11-27T18:12:12.006Z"
   },
   {
    "duration": 8,
    "start_time": "2022-11-27T18:12:12.020Z"
   },
   {
    "duration": 6,
    "start_time": "2022-11-27T18:12:12.029Z"
   },
   {
    "duration": 11,
    "start_time": "2022-11-27T18:12:12.036Z"
   },
   {
    "duration": 8,
    "start_time": "2022-11-27T18:12:12.048Z"
   },
   {
    "duration": 9,
    "start_time": "2022-11-27T18:12:12.057Z"
   },
   {
    "duration": 20,
    "start_time": "2022-11-27T18:12:12.097Z"
   },
   {
    "duration": 10,
    "start_time": "2022-11-27T18:12:12.119Z"
   },
   {
    "duration": 8,
    "start_time": "2022-11-27T18:12:12.130Z"
   },
   {
    "duration": 7,
    "start_time": "2022-11-27T18:12:12.140Z"
   },
   {
    "duration": 7263,
    "start_time": "2022-11-27T18:12:12.148Z"
   },
   {
    "duration": 475,
    "start_time": "2022-11-27T18:12:19.412Z"
   },
   {
    "duration": 0,
    "start_time": "2022-11-27T18:12:19.888Z"
   },
   {
    "duration": 0,
    "start_time": "2022-11-27T18:12:19.898Z"
   },
   {
    "duration": 0,
    "start_time": "2022-11-27T18:12:19.900Z"
   },
   {
    "duration": 0,
    "start_time": "2022-11-27T18:12:19.901Z"
   },
   {
    "duration": 242,
    "start_time": "2022-11-27T18:13:15.668Z"
   },
   {
    "duration": 306,
    "start_time": "2022-11-27T18:13:24.711Z"
   },
   {
    "duration": 72297,
    "start_time": "2022-11-27T18:13:54.568Z"
   },
   {
    "duration": 555,
    "start_time": "2022-11-27T18:15:06.866Z"
   },
   {
    "duration": 0,
    "start_time": "2022-11-27T18:15:07.423Z"
   },
   {
    "duration": 594,
    "start_time": "2022-11-27T18:15:28.560Z"
   },
   {
    "duration": 158,
    "start_time": "2022-11-27T18:15:34.290Z"
   },
   {
    "duration": 2072,
    "start_time": "2022-11-27T18:18:15.942Z"
   },
   {
    "duration": 2483,
    "start_time": "2022-11-27T18:18:18.016Z"
   },
   {
    "duration": 1196,
    "start_time": "2022-11-27T18:18:20.501Z"
   },
   {
    "duration": 3,
    "start_time": "2022-11-27T18:18:21.699Z"
   },
   {
    "duration": 46,
    "start_time": "2022-11-27T18:18:21.703Z"
   },
   {
    "duration": 13,
    "start_time": "2022-11-27T18:18:21.750Z"
   },
   {
    "duration": 8,
    "start_time": "2022-11-27T18:18:21.764Z"
   },
   {
    "duration": 7,
    "start_time": "2022-11-27T18:18:21.773Z"
   },
   {
    "duration": 14,
    "start_time": "2022-11-27T18:18:21.781Z"
   },
   {
    "duration": 14,
    "start_time": "2022-11-27T18:18:21.798Z"
   },
   {
    "duration": 4,
    "start_time": "2022-11-27T18:18:21.813Z"
   },
   {
    "duration": 9,
    "start_time": "2022-11-27T18:18:21.819Z"
   },
   {
    "duration": 9,
    "start_time": "2022-11-27T18:18:21.830Z"
   },
   {
    "duration": 12,
    "start_time": "2022-11-27T18:18:21.841Z"
   },
   {
    "duration": 10,
    "start_time": "2022-11-27T18:18:21.854Z"
   },
   {
    "duration": 463,
    "start_time": "2022-11-27T18:18:21.866Z"
   },
   {
    "duration": 138,
    "start_time": "2022-11-27T18:18:22.330Z"
   },
   {
    "duration": 5,
    "start_time": "2022-11-27T18:18:22.469Z"
   },
   {
    "duration": 11,
    "start_time": "2022-11-27T18:18:22.475Z"
   },
   {
    "duration": 7,
    "start_time": "2022-11-27T18:18:22.498Z"
   },
   {
    "duration": 5,
    "start_time": "2022-11-27T18:18:22.507Z"
   },
   {
    "duration": 8,
    "start_time": "2022-11-27T18:18:22.513Z"
   },
   {
    "duration": 6,
    "start_time": "2022-11-27T18:18:22.522Z"
   },
   {
    "duration": 3,
    "start_time": "2022-11-27T18:18:22.529Z"
   },
   {
    "duration": 22,
    "start_time": "2022-11-27T18:18:22.534Z"
   },
   {
    "duration": 48,
    "start_time": "2022-11-27T18:18:22.558Z"
   },
   {
    "duration": 4,
    "start_time": "2022-11-27T18:18:22.608Z"
   },
   {
    "duration": 6,
    "start_time": "2022-11-27T18:18:22.615Z"
   },
   {
    "duration": 7477,
    "start_time": "2022-11-27T18:18:22.622Z"
   },
   {
    "duration": 404,
    "start_time": "2022-11-27T18:18:30.102Z"
   },
   {
    "duration": 320,
    "start_time": "2022-11-27T18:18:30.509Z"
   },
   {
    "duration": 69956,
    "start_time": "2022-11-27T18:18:30.831Z"
   },
   {
    "duration": 572,
    "start_time": "2022-11-27T18:19:40.788Z"
   },
   {
    "duration": 151,
    "start_time": "2022-11-27T18:19:41.361Z"
   },
   {
    "duration": 272,
    "start_time": "2022-11-27T18:19:41.514Z"
   },
   {
    "duration": 0,
    "start_time": "2022-11-27T18:19:41.788Z"
   },
   {
    "duration": 0,
    "start_time": "2022-11-27T18:19:41.798Z"
   },
   {
    "duration": 0,
    "start_time": "2022-11-27T18:19:41.799Z"
   },
   {
    "duration": 0,
    "start_time": "2022-11-27T18:19:41.800Z"
   },
   {
    "duration": 0,
    "start_time": "2022-11-27T18:19:41.801Z"
   },
   {
    "duration": 0,
    "start_time": "2022-11-27T18:19:41.802Z"
   },
   {
    "duration": 0,
    "start_time": "2022-11-27T18:19:41.803Z"
   },
   {
    "duration": 0,
    "start_time": "2022-11-27T18:19:41.804Z"
   },
   {
    "duration": 0,
    "start_time": "2022-11-27T18:19:41.805Z"
   },
   {
    "duration": 0,
    "start_time": "2022-11-27T18:19:41.806Z"
   },
   {
    "duration": 0,
    "start_time": "2022-11-27T18:19:41.807Z"
   },
   {
    "duration": 0,
    "start_time": "2022-11-27T18:19:41.809Z"
   },
   {
    "duration": 0,
    "start_time": "2022-11-27T18:19:41.809Z"
   },
   {
    "duration": 0,
    "start_time": "2022-11-27T18:19:41.810Z"
   },
   {
    "duration": 1,
    "start_time": "2022-11-27T18:19:41.811Z"
   },
   {
    "duration": 0,
    "start_time": "2022-11-27T18:19:41.813Z"
   },
   {
    "duration": 0,
    "start_time": "2022-11-27T18:19:41.814Z"
   },
   {
    "duration": 0,
    "start_time": "2022-11-27T18:19:41.815Z"
   },
   {
    "duration": 0,
    "start_time": "2022-11-27T18:19:41.816Z"
   },
   {
    "duration": 0,
    "start_time": "2022-11-27T18:19:41.817Z"
   },
   {
    "duration": 164,
    "start_time": "2022-11-27T18:20:55.342Z"
   },
   {
    "duration": 428,
    "start_time": "2022-11-27T18:21:12.772Z"
   },
   {
    "duration": 11,
    "start_time": "2022-11-27T18:22:39.820Z"
   },
   {
    "duration": 2042,
    "start_time": "2022-11-27T18:22:46.895Z"
   },
   {
    "duration": 2137,
    "start_time": "2022-11-27T18:22:48.939Z"
   },
   {
    "duration": 5,
    "start_time": "2022-11-27T18:22:51.078Z"
   },
   {
    "duration": 8,
    "start_time": "2022-11-27T18:22:51.086Z"
   },
   {
    "duration": 53,
    "start_time": "2022-11-27T18:22:51.096Z"
   },
   {
    "duration": 15,
    "start_time": "2022-11-27T18:22:51.152Z"
   },
   {
    "duration": 84,
    "start_time": "2022-11-27T18:22:51.168Z"
   },
   {
    "duration": 5,
    "start_time": "2022-11-27T18:22:51.254Z"
   },
   {
    "duration": 17,
    "start_time": "2022-11-27T18:22:51.260Z"
   },
   {
    "duration": 23,
    "start_time": "2022-11-27T18:22:51.279Z"
   },
   {
    "duration": 8,
    "start_time": "2022-11-27T18:22:51.303Z"
   },
   {
    "duration": 9,
    "start_time": "2022-11-27T18:22:51.312Z"
   },
   {
    "duration": 9,
    "start_time": "2022-11-27T18:22:51.323Z"
   },
   {
    "duration": 11,
    "start_time": "2022-11-27T18:22:51.333Z"
   },
   {
    "duration": 10,
    "start_time": "2022-11-27T18:22:51.345Z"
   },
   {
    "duration": 477,
    "start_time": "2022-11-27T18:22:51.357Z"
   },
   {
    "duration": 125,
    "start_time": "2022-11-27T18:22:51.836Z"
   },
   {
    "duration": 4,
    "start_time": "2022-11-27T18:22:51.963Z"
   },
   {
    "duration": 24,
    "start_time": "2022-11-27T18:22:51.969Z"
   },
   {
    "duration": 8,
    "start_time": "2022-11-27T18:22:51.996Z"
   },
   {
    "duration": 7,
    "start_time": "2022-11-27T18:22:52.006Z"
   },
   {
    "duration": 8,
    "start_time": "2022-11-27T18:22:52.015Z"
   },
   {
    "duration": 10,
    "start_time": "2022-11-27T18:22:52.025Z"
   },
   {
    "duration": 4,
    "start_time": "2022-11-27T18:22:52.037Z"
   },
   {
    "duration": 28,
    "start_time": "2022-11-27T18:22:52.042Z"
   },
   {
    "duration": 36,
    "start_time": "2022-11-27T18:22:52.071Z"
   },
   {
    "duration": 8,
    "start_time": "2022-11-27T18:22:52.109Z"
   },
   {
    "duration": 8,
    "start_time": "2022-11-27T18:22:52.120Z"
   },
   {
    "duration": 7469,
    "start_time": "2022-11-27T18:22:52.130Z"
   },
   {
    "duration": 303,
    "start_time": "2022-11-27T18:22:59.601Z"
   },
   {
    "duration": 335,
    "start_time": "2022-11-27T18:22:59.906Z"
   },
   {
    "duration": 70091,
    "start_time": "2022-11-27T18:23:00.242Z"
   },
   {
    "duration": 567,
    "start_time": "2022-11-27T18:24:10.334Z"
   },
   {
    "duration": 151,
    "start_time": "2022-11-27T18:24:10.903Z"
   },
   {
    "duration": 248,
    "start_time": "2022-11-27T18:24:11.055Z"
   },
   {
    "duration": 419,
    "start_time": "2022-11-27T18:24:11.305Z"
   },
   {
    "duration": 14,
    "start_time": "2022-11-27T18:24:11.726Z"
   },
   {
    "duration": 14,
    "start_time": "2022-11-27T18:24:11.743Z"
   },
   {
    "duration": 240,
    "start_time": "2022-11-27T18:24:11.759Z"
   },
   {
    "duration": 492,
    "start_time": "2022-11-27T18:24:36.222Z"
   },
   {
    "duration": 11,
    "start_time": "2022-11-27T18:25:08.733Z"
   },
   {
    "duration": 6,
    "start_time": "2022-11-27T18:25:09.898Z"
   },
   {
    "duration": 171,
    "start_time": "2022-11-27T18:25:10.840Z"
   },
   {
    "duration": 502,
    "start_time": "2022-11-27T18:25:12.344Z"
   },
   {
    "duration": 11,
    "start_time": "2022-11-27T18:25:25.847Z"
   },
   {
    "duration": 5,
    "start_time": "2022-11-27T18:25:27.179Z"
   },
   {
    "duration": 97,
    "start_time": "2022-11-27T18:25:28.203Z"
   },
   {
    "duration": 204,
    "start_time": "2022-11-27T18:25:40.628Z"
   },
   {
    "duration": 289,
    "start_time": "2022-11-27T18:25:52.558Z"
   },
   {
    "duration": 12,
    "start_time": "2022-11-27T18:26:42.158Z"
   },
   {
    "duration": 6,
    "start_time": "2022-11-27T18:26:42.953Z"
   },
   {
    "duration": 174,
    "start_time": "2022-11-27T18:26:43.451Z"
   },
   {
    "duration": 251,
    "start_time": "2022-11-27T18:26:45.862Z"
   },
   {
    "duration": 2073,
    "start_time": "2022-11-27T18:30:06.211Z"
   },
   {
    "duration": 2153,
    "start_time": "2022-11-27T18:30:08.286Z"
   },
   {
    "duration": 1177,
    "start_time": "2022-11-27T18:30:10.441Z"
   },
   {
    "duration": 3,
    "start_time": "2022-11-27T18:30:11.620Z"
   },
   {
    "duration": 47,
    "start_time": "2022-11-27T18:30:11.624Z"
   },
   {
    "duration": 12,
    "start_time": "2022-11-27T18:30:11.672Z"
   },
   {
    "duration": 7,
    "start_time": "2022-11-27T18:30:11.686Z"
   },
   {
    "duration": 12,
    "start_time": "2022-11-27T18:30:11.695Z"
   },
   {
    "duration": 31,
    "start_time": "2022-11-27T18:30:11.709Z"
   },
   {
    "duration": 15,
    "start_time": "2022-11-27T18:30:11.742Z"
   },
   {
    "duration": 5,
    "start_time": "2022-11-27T18:30:11.759Z"
   },
   {
    "duration": 21,
    "start_time": "2022-11-27T18:30:11.766Z"
   },
   {
    "duration": 19,
    "start_time": "2022-11-27T18:30:11.789Z"
   },
   {
    "duration": 22,
    "start_time": "2022-11-27T18:30:11.810Z"
   },
   {
    "duration": 15,
    "start_time": "2022-11-27T18:30:11.834Z"
   },
   {
    "duration": 460,
    "start_time": "2022-11-27T18:30:11.851Z"
   },
   {
    "duration": 148,
    "start_time": "2022-11-27T18:30:12.313Z"
   },
   {
    "duration": 5,
    "start_time": "2022-11-27T18:30:12.463Z"
   },
   {
    "duration": 18,
    "start_time": "2022-11-27T18:30:12.469Z"
   },
   {
    "duration": 13,
    "start_time": "2022-11-27T18:30:12.489Z"
   },
   {
    "duration": 7,
    "start_time": "2022-11-27T18:30:12.503Z"
   },
   {
    "duration": 8,
    "start_time": "2022-11-27T18:30:12.512Z"
   },
   {
    "duration": 15,
    "start_time": "2022-11-27T18:30:12.521Z"
   },
   {
    "duration": 5,
    "start_time": "2022-11-27T18:30:12.537Z"
   },
   {
    "duration": 24,
    "start_time": "2022-11-27T18:30:12.543Z"
   },
   {
    "duration": 10,
    "start_time": "2022-11-27T18:30:12.569Z"
   },
   {
    "duration": 5,
    "start_time": "2022-11-27T18:30:12.597Z"
   },
   {
    "duration": 5,
    "start_time": "2022-11-27T18:30:12.605Z"
   },
   {
    "duration": 7197,
    "start_time": "2022-11-27T18:30:12.612Z"
   },
   {
    "duration": 400,
    "start_time": "2022-11-27T18:30:19.814Z"
   },
   {
    "duration": 379,
    "start_time": "2022-11-27T18:30:20.218Z"
   },
   {
    "duration": 71782,
    "start_time": "2022-11-27T18:30:20.599Z"
   },
   {
    "duration": 593,
    "start_time": "2022-11-27T18:31:32.383Z"
   },
   {
    "duration": 176,
    "start_time": "2022-11-27T18:31:32.978Z"
   },
   {
    "duration": 261,
    "start_time": "2022-11-27T18:31:33.155Z"
   },
   {
    "duration": 674,
    "start_time": "2022-11-27T18:31:33.418Z"
   },
   {
    "duration": 81,
    "start_time": "2022-11-27T18:31:34.097Z"
   },
   {
    "duration": 20,
    "start_time": "2022-11-27T18:31:34.180Z"
   },
   {
    "duration": 311,
    "start_time": "2022-11-27T18:31:34.202Z"
   },
   {
    "duration": 1050,
    "start_time": "2022-11-27T18:31:34.515Z"
   },
   {
    "duration": 10,
    "start_time": "2022-11-27T18:31:35.567Z"
   },
   {
    "duration": 19,
    "start_time": "2022-11-27T18:31:35.579Z"
   },
   {
    "duration": 241,
    "start_time": "2022-11-27T18:31:35.600Z"
   },
   {
    "duration": 420,
    "start_time": "2022-11-27T18:31:35.843Z"
   },
   {
    "duration": 541,
    "start_time": "2022-11-27T18:31:36.266Z"
   },
   {
    "duration": 774,
    "start_time": "2022-11-27T18:31:36.809Z"
   },
   {
    "duration": 36,
    "start_time": "2022-11-27T18:31:37.585Z"
   },
   {
    "duration": 264,
    "start_time": "2022-11-27T18:31:37.623Z"
   },
   {
    "duration": 0,
    "start_time": "2022-11-27T18:31:37.897Z"
   },
   {
    "duration": 0,
    "start_time": "2022-11-27T18:31:37.899Z"
   },
   {
    "duration": 0,
    "start_time": "2022-11-27T18:31:37.900Z"
   },
   {
    "duration": 0,
    "start_time": "2022-11-27T18:31:37.901Z"
   },
   {
    "duration": 0,
    "start_time": "2022-11-27T18:31:37.902Z"
   },
   {
    "duration": 0,
    "start_time": "2022-11-27T18:31:37.903Z"
   },
   {
    "duration": 0,
    "start_time": "2022-11-27T18:31:37.904Z"
   },
   {
    "duration": 2131,
    "start_time": "2022-11-27T18:38:02.568Z"
   },
   {
    "duration": 2126,
    "start_time": "2022-11-27T18:38:04.703Z"
   },
   {
    "duration": 1130,
    "start_time": "2022-11-27T18:38:06.832Z"
   },
   {
    "duration": 3,
    "start_time": "2022-11-27T18:38:07.964Z"
   },
   {
    "duration": 65,
    "start_time": "2022-11-27T18:38:07.969Z"
   },
   {
    "duration": 14,
    "start_time": "2022-11-27T18:38:08.035Z"
   },
   {
    "duration": 8,
    "start_time": "2022-11-27T18:38:08.050Z"
   },
   {
    "duration": 8,
    "start_time": "2022-11-27T18:38:08.060Z"
   },
   {
    "duration": 21,
    "start_time": "2022-11-27T18:38:08.070Z"
   },
   {
    "duration": 19,
    "start_time": "2022-11-27T18:38:08.097Z"
   },
   {
    "duration": 5,
    "start_time": "2022-11-27T18:38:08.117Z"
   },
   {
    "duration": 12,
    "start_time": "2022-11-27T18:38:08.124Z"
   },
   {
    "duration": 10,
    "start_time": "2022-11-27T18:38:08.138Z"
   },
   {
    "duration": 18,
    "start_time": "2022-11-27T18:38:08.150Z"
   },
   {
    "duration": 35,
    "start_time": "2022-11-27T18:38:08.170Z"
   },
   {
    "duration": 419,
    "start_time": "2022-11-27T18:38:08.207Z"
   },
   {
    "duration": 127,
    "start_time": "2022-11-27T18:38:08.628Z"
   },
   {
    "duration": 4,
    "start_time": "2022-11-27T18:38:08.757Z"
   },
   {
    "duration": 11,
    "start_time": "2022-11-27T18:38:08.762Z"
   },
   {
    "duration": 7,
    "start_time": "2022-11-27T18:38:08.774Z"
   },
   {
    "duration": 4,
    "start_time": "2022-11-27T18:38:08.798Z"
   },
   {
    "duration": 9,
    "start_time": "2022-11-27T18:38:08.804Z"
   },
   {
    "duration": 7,
    "start_time": "2022-11-27T18:38:08.814Z"
   },
   {
    "duration": 4,
    "start_time": "2022-11-27T18:38:08.822Z"
   },
   {
    "duration": 22,
    "start_time": "2022-11-27T18:38:08.827Z"
   },
   {
    "duration": 11,
    "start_time": "2022-11-27T18:38:08.850Z"
   },
   {
    "duration": 35,
    "start_time": "2022-11-27T18:38:08.863Z"
   },
   {
    "duration": 5,
    "start_time": "2022-11-27T18:38:08.901Z"
   },
   {
    "duration": 6905,
    "start_time": "2022-11-27T18:38:08.907Z"
   },
   {
    "duration": 307,
    "start_time": "2022-11-27T18:38:15.899Z"
   },
   {
    "duration": 393,
    "start_time": "2022-11-27T18:38:16.209Z"
   },
   {
    "duration": 69435,
    "start_time": "2022-11-27T18:38:16.604Z"
   },
   {
    "duration": 575,
    "start_time": "2022-11-27T18:39:26.041Z"
   },
   {
    "duration": 149,
    "start_time": "2022-11-27T18:39:26.618Z"
   },
   {
    "duration": 330,
    "start_time": "2022-11-27T18:39:26.769Z"
   },
   {
    "duration": 580,
    "start_time": "2022-11-27T18:39:27.101Z"
   },
   {
    "duration": 84,
    "start_time": "2022-11-27T18:39:27.682Z"
   },
   {
    "duration": 5,
    "start_time": "2022-11-27T18:39:27.768Z"
   },
   {
    "duration": 233,
    "start_time": "2022-11-27T18:39:27.774Z"
   },
   {
    "duration": 780,
    "start_time": "2022-11-27T18:39:28.009Z"
   },
   {
    "duration": 13,
    "start_time": "2022-11-27T18:39:28.790Z"
   },
   {
    "duration": 5,
    "start_time": "2022-11-27T18:39:28.804Z"
   },
   {
    "duration": 238,
    "start_time": "2022-11-27T18:39:28.810Z"
   },
   {
    "duration": 384,
    "start_time": "2022-11-27T18:39:29.050Z"
   },
   {
    "duration": 479,
    "start_time": "2022-11-27T18:39:29.435Z"
   },
   {
    "duration": 821,
    "start_time": "2022-11-27T18:39:29.916Z"
   },
   {
    "duration": 41,
    "start_time": "2022-11-27T18:39:30.738Z"
   },
   {
    "duration": 416,
    "start_time": "2022-11-27T18:39:30.782Z"
   },
   {
    "duration": 903,
    "start_time": "2022-11-27T18:39:31.200Z"
   },
   {
    "duration": 547,
    "start_time": "2022-11-27T18:39:32.104Z"
   },
   {
    "duration": 66,
    "start_time": "2022-11-27T18:39:32.653Z"
   },
   {
    "duration": 41,
    "start_time": "2022-11-27T18:39:32.721Z"
   },
   {
    "duration": 76,
    "start_time": "2022-11-27T18:39:32.763Z"
   },
   {
    "duration": 129,
    "start_time": "2022-11-27T18:39:32.840Z"
   },
   {
    "duration": 28,
    "start_time": "2022-11-27T18:39:32.970Z"
   },
   {
    "duration": 71934,
    "start_time": "2022-11-27T19:08:18.488Z"
   },
   {
    "duration": 503,
    "start_time": "2022-11-27T19:14:38.324Z"
   },
   {
    "duration": 58,
    "start_time": "2022-11-27T19:14:39.728Z"
   },
   {
    "duration": 2172,
    "start_time": "2022-11-27T19:21:45.975Z"
   },
   {
    "duration": 2225,
    "start_time": "2022-11-27T19:21:48.149Z"
   },
   {
    "duration": 1186,
    "start_time": "2022-11-27T19:21:50.376Z"
   },
   {
    "duration": 3,
    "start_time": "2022-11-27T19:21:51.565Z"
   },
   {
    "duration": 53,
    "start_time": "2022-11-27T19:21:51.570Z"
   },
   {
    "duration": 14,
    "start_time": "2022-11-27T19:21:51.625Z"
   },
   {
    "duration": 12,
    "start_time": "2022-11-27T19:21:51.641Z"
   },
   {
    "duration": 5,
    "start_time": "2022-11-27T19:21:51.655Z"
   },
   {
    "duration": 17,
    "start_time": "2022-11-27T19:21:51.661Z"
   },
   {
    "duration": 17,
    "start_time": "2022-11-27T19:21:51.699Z"
   },
   {
    "duration": 5,
    "start_time": "2022-11-27T19:21:51.718Z"
   },
   {
    "duration": 24,
    "start_time": "2022-11-27T19:21:51.725Z"
   },
   {
    "duration": 23,
    "start_time": "2022-11-27T19:21:51.751Z"
   },
   {
    "duration": 26,
    "start_time": "2022-11-27T19:21:51.776Z"
   },
   {
    "duration": 16,
    "start_time": "2022-11-27T19:21:51.804Z"
   },
   {
    "duration": 592,
    "start_time": "2022-11-27T19:21:51.822Z"
   },
   {
    "duration": 149,
    "start_time": "2022-11-27T19:21:52.416Z"
   },
   {
    "duration": 4,
    "start_time": "2022-11-27T19:21:52.567Z"
   },
   {
    "duration": 24,
    "start_time": "2022-11-27T19:21:52.574Z"
   },
   {
    "duration": 10,
    "start_time": "2022-11-27T19:21:52.600Z"
   },
   {
    "duration": 6,
    "start_time": "2022-11-27T19:21:52.612Z"
   },
   {
    "duration": 9,
    "start_time": "2022-11-27T19:21:52.620Z"
   },
   {
    "duration": 9,
    "start_time": "2022-11-27T19:21:52.631Z"
   },
   {
    "duration": 14,
    "start_time": "2022-11-27T19:21:52.642Z"
   },
   {
    "duration": 77,
    "start_time": "2022-11-27T19:21:52.658Z"
   },
   {
    "duration": 12,
    "start_time": "2022-11-27T19:21:52.737Z"
   },
   {
    "duration": 8,
    "start_time": "2022-11-27T19:21:52.751Z"
   },
   {
    "duration": 7,
    "start_time": "2022-11-27T19:21:52.763Z"
   },
   {
    "duration": 7229,
    "start_time": "2022-11-27T19:21:52.771Z"
   },
   {
    "duration": 397,
    "start_time": "2022-11-27T19:22:00.002Z"
   },
   {
    "duration": 299,
    "start_time": "2022-11-27T19:22:00.401Z"
   },
   {
    "duration": 69626,
    "start_time": "2022-11-27T19:22:00.702Z"
   },
   {
    "duration": 568,
    "start_time": "2022-11-27T19:23:10.330Z"
   },
   {
    "duration": 159,
    "start_time": "2022-11-27T19:23:10.900Z"
   },
   {
    "duration": 242,
    "start_time": "2022-11-27T19:23:11.061Z"
   },
   {
    "duration": 571,
    "start_time": "2022-11-27T19:23:11.305Z"
   },
   {
    "duration": 86,
    "start_time": "2022-11-27T19:23:11.878Z"
   },
   {
    "duration": 6,
    "start_time": "2022-11-27T19:23:11.966Z"
   },
   {
    "duration": 227,
    "start_time": "2022-11-27T19:23:11.974Z"
   },
   {
    "duration": 721,
    "start_time": "2022-11-27T19:23:12.202Z"
   },
   {
    "duration": 11,
    "start_time": "2022-11-27T19:23:12.924Z"
   },
   {
    "duration": 5,
    "start_time": "2022-11-27T19:23:12.936Z"
   },
   {
    "duration": 210,
    "start_time": "2022-11-27T19:23:12.943Z"
   },
   {
    "duration": 372,
    "start_time": "2022-11-27T19:23:13.154Z"
   },
   {
    "duration": 520,
    "start_time": "2022-11-27T19:23:13.527Z"
   },
   {
    "duration": 845,
    "start_time": "2022-11-27T19:23:14.048Z"
   },
   {
    "duration": 32,
    "start_time": "2022-11-27T19:23:14.898Z"
   },
   {
    "duration": 367,
    "start_time": "2022-11-27T19:23:14.932Z"
   },
   {
    "duration": 897,
    "start_time": "2022-11-27T19:23:15.301Z"
   },
   {
    "duration": 499,
    "start_time": "2022-11-27T19:23:16.200Z"
   },
   {
    "duration": 56,
    "start_time": "2022-11-27T19:23:16.701Z"
   },
   {
    "duration": 57,
    "start_time": "2022-11-27T19:23:16.758Z"
   },
   {
    "duration": 66,
    "start_time": "2022-11-27T19:23:16.817Z"
   },
   {
    "duration": 128,
    "start_time": "2022-11-27T19:23:16.885Z"
   },
   {
    "duration": 17,
    "start_time": "2022-11-27T19:23:17.015Z"
   },
   {
    "duration": 2090,
    "start_time": "2022-11-27T19:43:25.966Z"
   },
   {
    "duration": 2040,
    "start_time": "2022-11-27T19:43:28.059Z"
   },
   {
    "duration": 1192,
    "start_time": "2022-11-27T19:43:30.102Z"
   },
   {
    "duration": 2,
    "start_time": "2022-11-27T19:43:31.298Z"
   },
   {
    "duration": 59,
    "start_time": "2022-11-27T19:43:31.302Z"
   },
   {
    "duration": 24,
    "start_time": "2022-11-27T19:43:31.362Z"
   },
   {
    "duration": 8,
    "start_time": "2022-11-27T19:43:31.388Z"
   },
   {
    "duration": 110,
    "start_time": "2022-11-27T19:43:31.398Z"
   },
   {
    "duration": 12,
    "start_time": "2022-11-27T19:43:31.511Z"
   },
   {
    "duration": 14,
    "start_time": "2022-11-27T19:43:31.526Z"
   },
   {
    "duration": 5,
    "start_time": "2022-11-27T19:43:31.541Z"
   },
   {
    "duration": 10,
    "start_time": "2022-11-27T19:43:31.547Z"
   },
   {
    "duration": 9,
    "start_time": "2022-11-27T19:43:31.559Z"
   },
   {
    "duration": 33,
    "start_time": "2022-11-27T19:43:31.570Z"
   },
   {
    "duration": 10,
    "start_time": "2022-11-27T19:43:31.605Z"
   },
   {
    "duration": 436,
    "start_time": "2022-11-27T19:43:31.618Z"
   },
   {
    "duration": 134,
    "start_time": "2022-11-27T19:43:32.056Z"
   },
   {
    "duration": 4,
    "start_time": "2022-11-27T19:43:32.196Z"
   },
   {
    "duration": 24,
    "start_time": "2022-11-27T19:43:32.202Z"
   },
   {
    "duration": 13,
    "start_time": "2022-11-27T19:43:32.227Z"
   },
   {
    "duration": 28,
    "start_time": "2022-11-27T19:43:32.242Z"
   },
   {
    "duration": 23,
    "start_time": "2022-11-27T19:43:32.272Z"
   },
   {
    "duration": 25,
    "start_time": "2022-11-27T19:43:32.298Z"
   },
   {
    "duration": 24,
    "start_time": "2022-11-27T19:43:32.325Z"
   },
   {
    "duration": 42,
    "start_time": "2022-11-27T19:43:32.350Z"
   },
   {
    "duration": 26,
    "start_time": "2022-11-27T19:43:32.393Z"
   },
   {
    "duration": 12,
    "start_time": "2022-11-27T19:43:32.421Z"
   },
   {
    "duration": 28,
    "start_time": "2022-11-27T19:43:32.437Z"
   },
   {
    "duration": 7240,
    "start_time": "2022-11-27T19:43:32.467Z"
   },
   {
    "duration": 307,
    "start_time": "2022-11-27T19:43:39.799Z"
   },
   {
    "duration": 294,
    "start_time": "2022-11-27T19:43:40.108Z"
   },
   {
    "duration": 71765,
    "start_time": "2022-11-27T19:43:40.403Z"
   },
   {
    "duration": 613,
    "start_time": "2022-11-27T19:44:52.169Z"
   },
   {
    "duration": 161,
    "start_time": "2022-11-27T19:44:52.784Z"
   },
   {
    "duration": 263,
    "start_time": "2022-11-27T19:44:52.946Z"
   },
   {
    "duration": 671,
    "start_time": "2022-11-27T19:44:53.211Z"
   },
   {
    "duration": 89,
    "start_time": "2022-11-27T19:44:53.884Z"
   },
   {
    "duration": 5,
    "start_time": "2022-11-27T19:44:53.984Z"
   },
   {
    "duration": 309,
    "start_time": "2022-11-27T19:44:53.990Z"
   },
   {
    "duration": 820,
    "start_time": "2022-11-27T19:44:54.301Z"
   },
   {
    "duration": 11,
    "start_time": "2022-11-27T19:44:55.123Z"
   },
   {
    "duration": 5,
    "start_time": "2022-11-27T19:44:55.135Z"
   },
   {
    "duration": 208,
    "start_time": "2022-11-27T19:44:55.142Z"
   },
   {
    "duration": 451,
    "start_time": "2022-11-27T19:44:55.351Z"
   },
   {
    "duration": 505,
    "start_time": "2022-11-27T19:44:55.803Z"
   },
   {
    "duration": 826,
    "start_time": "2022-11-27T19:44:56.309Z"
   },
   {
    "duration": 30,
    "start_time": "2022-11-27T19:44:57.137Z"
   },
   {
    "duration": 247,
    "start_time": "2022-11-27T19:44:57.168Z"
   },
   {
    "duration": 1023,
    "start_time": "2022-11-27T19:44:57.418Z"
   },
   {
    "duration": 565,
    "start_time": "2022-11-27T19:44:58.443Z"
   },
   {
    "duration": 87,
    "start_time": "2022-11-27T19:44:59.011Z"
   },
   {
    "duration": 54,
    "start_time": "2022-11-27T19:44:59.101Z"
   },
   {
    "duration": 80,
    "start_time": "2022-11-27T19:44:59.156Z"
   },
   {
    "duration": 130,
    "start_time": "2022-11-27T19:44:59.237Z"
   },
   {
    "duration": 16,
    "start_time": "2022-11-27T19:44:59.369Z"
   },
   {
    "duration": 2322,
    "start_time": "2022-11-27T19:51:27.881Z"
   },
   {
    "duration": 2220,
    "start_time": "2022-11-27T19:51:30.206Z"
   },
   {
    "duration": 1153,
    "start_time": "2022-11-27T19:51:32.428Z"
   },
   {
    "duration": 3,
    "start_time": "2022-11-27T19:51:33.583Z"
   },
   {
    "duration": 44,
    "start_time": "2022-11-27T19:51:33.588Z"
   },
   {
    "duration": 15,
    "start_time": "2022-11-27T19:51:33.633Z"
   },
   {
    "duration": 10,
    "start_time": "2022-11-27T19:51:33.649Z"
   },
   {
    "duration": 6,
    "start_time": "2022-11-27T19:51:33.660Z"
   },
   {
    "duration": 16,
    "start_time": "2022-11-27T19:51:33.667Z"
   },
   {
    "duration": 15,
    "start_time": "2022-11-27T19:51:33.696Z"
   },
   {
    "duration": 4,
    "start_time": "2022-11-27T19:51:33.712Z"
   },
   {
    "duration": 9,
    "start_time": "2022-11-27T19:51:33.718Z"
   },
   {
    "duration": 12,
    "start_time": "2022-11-27T19:51:33.729Z"
   },
   {
    "duration": 11,
    "start_time": "2022-11-27T19:51:33.744Z"
   },
   {
    "duration": 44,
    "start_time": "2022-11-27T19:51:33.756Z"
   },
   {
    "duration": 796,
    "start_time": "2022-11-27T19:51:33.802Z"
   },
   {
    "duration": 203,
    "start_time": "2022-11-27T19:51:34.601Z"
   },
   {
    "duration": 5,
    "start_time": "2022-11-27T19:51:34.806Z"
   },
   {
    "duration": 25,
    "start_time": "2022-11-27T19:51:34.813Z"
   },
   {
    "duration": 10,
    "start_time": "2022-11-27T19:51:34.841Z"
   },
   {
    "duration": 8,
    "start_time": "2022-11-27T19:51:34.853Z"
   },
   {
    "duration": 10,
    "start_time": "2022-11-27T19:51:34.863Z"
   },
   {
    "duration": 29,
    "start_time": "2022-11-27T19:51:34.875Z"
   },
   {
    "duration": 8,
    "start_time": "2022-11-27T19:51:34.906Z"
   },
   {
    "duration": 39,
    "start_time": "2022-11-27T19:51:34.915Z"
   },
   {
    "duration": 12,
    "start_time": "2022-11-27T19:51:34.955Z"
   },
   {
    "duration": 7,
    "start_time": "2022-11-27T19:51:34.969Z"
   },
   {
    "duration": 5,
    "start_time": "2022-11-27T19:51:34.979Z"
   },
   {
    "duration": 6318,
    "start_time": "2022-11-27T19:51:34.996Z"
   },
   {
    "duration": 386,
    "start_time": "2022-11-27T19:51:41.316Z"
   },
   {
    "duration": 308,
    "start_time": "2022-11-27T19:51:41.704Z"
   },
   {
    "duration": 73667,
    "start_time": "2022-11-27T19:51:42.013Z"
   },
   {
    "duration": 622,
    "start_time": "2022-11-27T19:52:55.682Z"
   },
   {
    "duration": 166,
    "start_time": "2022-11-27T19:52:56.306Z"
   },
   {
    "duration": 329,
    "start_time": "2022-11-27T19:52:56.474Z"
   },
   {
    "duration": 608,
    "start_time": "2022-11-27T19:52:56.804Z"
   },
   {
    "duration": 87,
    "start_time": "2022-11-27T19:52:57.414Z"
   },
   {
    "duration": 6,
    "start_time": "2022-11-27T19:52:57.502Z"
   },
   {
    "duration": 396,
    "start_time": "2022-11-27T19:52:57.510Z"
   },
   {
    "duration": 760,
    "start_time": "2022-11-27T19:52:57.908Z"
   },
   {
    "duration": 11,
    "start_time": "2022-11-27T19:52:58.670Z"
   },
   {
    "duration": 26,
    "start_time": "2022-11-27T19:52:58.683Z"
   },
   {
    "duration": 233,
    "start_time": "2022-11-27T19:52:58.711Z"
   },
   {
    "duration": 401,
    "start_time": "2022-11-27T19:52:58.946Z"
   },
   {
    "duration": 550,
    "start_time": "2022-11-27T19:52:59.349Z"
   },
   {
    "duration": 844,
    "start_time": "2022-11-27T19:52:59.901Z"
   },
   {
    "duration": 30,
    "start_time": "2022-11-27T19:53:00.746Z"
   },
   {
    "duration": 233,
    "start_time": "2022-11-27T19:53:00.777Z"
   },
   {
    "duration": 1012,
    "start_time": "2022-11-27T19:53:01.012Z"
   },
   {
    "duration": 543,
    "start_time": "2022-11-27T19:53:02.026Z"
   },
   {
    "duration": 74,
    "start_time": "2022-11-27T19:53:02.570Z"
   },
   {
    "duration": 42,
    "start_time": "2022-11-27T19:53:02.646Z"
   },
   {
    "duration": 63,
    "start_time": "2022-11-27T19:53:02.698Z"
   },
   {
    "duration": 159,
    "start_time": "2022-11-27T19:53:02.764Z"
   },
   {
    "duration": 25,
    "start_time": "2022-11-27T19:53:02.925Z"
   },
   {
    "duration": 2472,
    "start_time": "2022-11-28T11:36:21.313Z"
   },
   {
    "duration": 2000,
    "start_time": "2022-11-28T11:36:23.787Z"
   },
   {
    "duration": 1249,
    "start_time": "2022-11-28T11:36:25.789Z"
   },
   {
    "duration": 2,
    "start_time": "2022-11-28T11:36:27.041Z"
   },
   {
    "duration": 41,
    "start_time": "2022-11-28T11:36:27.045Z"
   },
   {
    "duration": 12,
    "start_time": "2022-11-28T11:36:27.087Z"
   },
   {
    "duration": 7,
    "start_time": "2022-11-28T11:36:27.100Z"
   },
   {
    "duration": 5,
    "start_time": "2022-11-28T11:36:27.108Z"
   },
   {
    "duration": 13,
    "start_time": "2022-11-28T11:36:27.114Z"
   },
   {
    "duration": 12,
    "start_time": "2022-11-28T11:36:27.129Z"
   },
   {
    "duration": 4,
    "start_time": "2022-11-28T11:36:27.142Z"
   },
   {
    "duration": 9,
    "start_time": "2022-11-28T11:36:27.147Z"
   },
   {
    "duration": 8,
    "start_time": "2022-11-28T11:36:27.157Z"
   },
   {
    "duration": 13,
    "start_time": "2022-11-28T11:36:27.166Z"
   },
   {
    "duration": 10,
    "start_time": "2022-11-28T11:36:27.181Z"
   },
   {
    "duration": 413,
    "start_time": "2022-11-28T11:36:27.193Z"
   },
   {
    "duration": 126,
    "start_time": "2022-11-28T11:36:27.607Z"
   },
   {
    "duration": 4,
    "start_time": "2022-11-28T11:36:27.735Z"
   },
   {
    "duration": 13,
    "start_time": "2022-11-28T11:36:27.740Z"
   },
   {
    "duration": 8,
    "start_time": "2022-11-28T11:36:27.755Z"
   },
   {
    "duration": 12,
    "start_time": "2022-11-28T11:36:27.767Z"
   },
   {
    "duration": 10,
    "start_time": "2022-11-28T11:36:27.781Z"
   },
   {
    "duration": 10,
    "start_time": "2022-11-28T11:36:27.794Z"
   },
   {
    "duration": 16,
    "start_time": "2022-11-28T11:36:27.806Z"
   },
   {
    "duration": 22,
    "start_time": "2022-11-28T11:36:27.824Z"
   },
   {
    "duration": 10,
    "start_time": "2022-11-28T11:36:27.848Z"
   },
   {
    "duration": 8,
    "start_time": "2022-11-28T11:36:27.860Z"
   },
   {
    "duration": 5,
    "start_time": "2022-11-28T11:36:27.871Z"
   },
   {
    "duration": 9426,
    "start_time": "2022-11-28T11:37:26.302Z"
   }
  ],
  "kernelspec": {
   "display_name": "Python 3 (ipykernel)",
   "language": "python",
   "name": "python3"
  },
  "language_info": {
   "codemirror_mode": {
    "name": "ipython",
    "version": 3
   },
   "file_extension": ".py",
   "mimetype": "text/x-python",
   "name": "python",
   "nbconvert_exporter": "python",
   "pygments_lexer": "ipython3",
   "version": "3.9.13"
  },
  "toc": {
   "base_numbering": 1,
   "nav_menu": {},
   "number_sections": true,
   "sideBar": true,
   "skip_h1_title": true,
   "title_cell": "Содержание",
   "title_sidebar": "Contents",
   "toc_cell": true,
   "toc_position": {},
   "toc_section_display": true,
   "toc_window_display": false
  }
 },
 "nbformat": 4,
 "nbformat_minor": 2
}
